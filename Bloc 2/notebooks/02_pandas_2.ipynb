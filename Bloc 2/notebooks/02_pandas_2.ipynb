{
 "cells": [
  {
   "cell_type": "markdown",
   "metadata": {},
   "source": [
    "# Notebook 2 : Pandas avancé"
   ]
  },
  {
   "cell_type": "code",
   "execution_count": 130,
   "metadata": {},
   "outputs": [],
   "source": [
    "import pandas as pd"
   ]
  },
  {
   "cell_type": "markdown",
   "metadata": {},
   "source": [
    "## Tennis"
   ]
  },
  {
   "cell_type": "markdown",
   "metadata": {},
   "source": [
    "Nous considérons les données des résultats des matchs de tennis masculin des tournois de Roland Garros et Wimbledon en 2013. La liste des variables et leur signification se trouvent sur [cette page](https://archive.ics.uci.edu/dataset/300/tennis+major+tournament+match+statistics) dans la section *Additional Variable Information*."
   ]
  },
  {
   "cell_type": "markdown",
   "metadata": {},
   "source": [
    "1. Commencer par charger le jeu de données relatif au tournoi de Roland Garros dans un dataframe `rg` à partir du fichier `rolandgarros2013.csv`."
   ]
  },
  {
   "cell_type": "code",
   "execution_count": 131,
   "metadata": {},
   "outputs": [
    {
     "name": "stdout",
     "output_type": "stream",
     "text": [
      "                 Player1                  Player2  Round  Result  FNL.1  \\\n",
      "0    Pablo Carreno-Busta            Roger Federer      1       0      0   \n",
      "1       Somdev Devvarman  Daniel Munoz-De La Nava      1       1      3   \n",
      "2           Tobias Kamke            Paolo Lorenzi      1       1      3   \n",
      "3       Julien Benneteau        Ricardas Berankis      1       1      3   \n",
      "4            Lukas Lacko              Sam Querrey      1       0      0   \n",
      "..                   ...                      ...    ...     ...    ...   \n",
      "120         Rafael Nadal       Stanislas Wawrinka      5       1      3   \n",
      "121       Novak Djokovic               Tommy Haas      5       1      3   \n",
      "122         David Ferrer       Jo-Wilfried Tsonga      6       1      3   \n",
      "123       Novak Djokovic             Rafael Nadal      6       0      2   \n",
      "124         Rafael Nadal             David Ferrer      7       1      3   \n",
      "\n",
      "     FNL.2  FSP.1  FSW.1  SSP.1  SSW.1  ...  BPC.2  BPW.2  NPA.2  NPW.2  \\\n",
      "0        3     62     27     38     11  ...      7      7     14     18   \n",
      "1        0     62     54     38     22  ...      1     16     22     25   \n",
      "2        2     62     53     38     15  ...     10     18     19     27   \n",
      "3        1     72     87     28     19  ...      4     13     33     43   \n",
      "4        3     52     31     48     22  ...      4      7     12     13   \n",
      "..     ...    ...    ...    ...    ...  ...    ...    ...    ...    ...   \n",
      "120      0     75     40     25     11  ...      1      5     16     30   \n",
      "121      0     64     41     36     22  ...      2      2      2     17   \n",
      "122      0     60     35     40     23  ...      2      5      7     16   \n",
      "123      3     67     76     33     30  ...      8     16     15     26   \n",
      "124      0     70     43     30     11  ...      3     12     10     14   \n",
      "\n",
      "     TPW.2  ST1.2  ST2.2  ST3.2  ST4.2  ST5.2  \n",
      "0       88      6      6    6.0    NaN    NaN  \n",
      "1      106      3      3    5.0    NaN    NaN  \n",
      "2      139      3      3    6.0    6.0    3.0  \n",
      "3      149      6      3    7.0    6.0    NaN  \n",
      "4       93      6      6    6.0    NaN    NaN  \n",
      "..     ...    ...    ...    ...    ...    ...  \n",
      "120     64      2      3    1.0    NaN    NaN  \n",
      "121     84      3      6    5.0    NaN    NaN  \n",
      "122     84      1      6    2.0    NaN    NaN  \n",
      "123    177      6      3    6.0    6.0    9.0  \n",
      "124     72      3      2    3.0    NaN    NaN  \n",
      "\n",
      "[125 rows x 42 columns]\n"
     ]
    }
   ],
   "source": [
    "rg2013 = pd.read_csv(\"C:/Users/cepe-s3-02/Desktop/David/Bloc 2/notebooks/data/rolandgarros2013.csv\")\n",
    "\n",
    "wb2013 = pd.read_csv(\"C:/Users/cepe-s3-02/Desktop/David/Bloc 2/notebooks/data/wimbledon2013.csv\")\n",
    "\n",
    "print(rg2013)"
   ]
  },
  {
   "cell_type": "markdown",
   "metadata": {},
   "source": [
    "2. Afficher les noms des demi-finalistes."
   ]
  },
  {
   "cell_type": "code",
   "execution_count": 132,
   "metadata": {},
   "outputs": [
    {
     "name": "stdout",
     "output_type": "stream",
     "text": [
      "122    David Ferrer vs Jo-Wilfried Tsonga\n",
      "123        Novak Djokovic vs Rafael Nadal\n",
      "dtype: object\n"
     ]
    }
   ],
   "source": [
    "rg2013Final = rg2013[rg2013[\"Round\"] == 6]\n",
    "\n",
    "print(rg2013Final.Player1 + \" vs \" + rg2013Final.Player2)\n"
   ]
  },
  {
   "cell_type": "markdown",
   "metadata": {},
   "source": [
    "3. Calculer le nombre moyen d'aces par match dans le tournoi."
   ]
  },
  {
   "cell_type": "code",
   "execution_count": 133,
   "metadata": {},
   "outputs": [
    {
     "name": "stdout",
     "output_type": "stream",
     "text": [
      "12.688\n"
     ]
    }
   ],
   "source": [
    "meanAces = (rg2013[\"ACE.1\"] + rg2013[\"ACE.2\"]).mean()\n",
    "\n",
    "print(meanAces)"
   ]
  },
  {
   "cell_type": "markdown",
   "metadata": {},
   "source": [
    "4. Combien y a-t-il eu d'aces par match en moyenne à chaque niveau du tournoi ?"
   ]
  },
  {
   "cell_type": "code",
   "execution_count": 134,
   "metadata": {},
   "outputs": [
    {
     "name": "stdout",
     "output_type": "stream",
     "text": [
      "Round\n",
      "1    13.476190\n",
      "2    13.193548\n",
      "3    12.562500\n",
      "4     9.125000\n",
      "5     7.000000\n",
      "6    10.000000\n",
      "7     6.000000\n",
      "Name: ACE, dtype: float64\n"
     ]
    }
   ],
   "source": [
    "rg2013[\"ACE\"] = rg2013[\"ACE.1\"] + rg2013[\"ACE.2\"]\n",
    "\n",
    "meanAcesByRound = rg2013.groupby(\"Round\")[\"ACE\"].mean()\n",
    "\n",
    "print(meanAcesByRound)\n"
   ]
  },
  {
   "cell_type": "markdown",
   "metadata": {},
   "source": [
    "5. Filtrer les matchs pour lesquels au moins une des variables `DBF.1` et `DBF.2` est manquante."
   ]
  },
  {
   "cell_type": "code",
   "execution_count": 135,
   "metadata": {},
   "outputs": [
    {
     "name": "stdout",
     "output_type": "stream",
     "text": [
      "                                MATCH  DBF.1  DBF.2\n",
      "56      Simone Bolelli vs Yen-Hsun Lu    NaN    NaN\n",
      "63  Somdev Devvarman vs Roger Federer    NaN    NaN\n"
     ]
    }
   ],
   "source": [
    "rg2013[\"MATCH\"] = rg2013[\"Player1\"] + \" vs \" + rg2013[\"Player2\"]\n",
    "\n",
    "# print(rg2013[\"MATCH\"])\n",
    "\n",
    "missing_dbf = rg2013[rg2013[\"DBF.1\"].isna() | rg2013[\"DBF.2\"].isna()]\n",
    "\n",
    "print(missing_dbf[[\"MATCH\", \"DBF.1\", \"DBF.2\"]])"
   ]
  },
  {
   "cell_type": "markdown",
   "metadata": {},
   "source": [
    "6. Remplacer les valeurs manquantes de `DBF.1` par zéro avec la méthode `loc`."
   ]
  },
  {
   "cell_type": "code",
   "execution_count": 136,
   "metadata": {},
   "outputs": [],
   "source": [
    "rg2013.loc[rg2013[\"DBF.1\"].isna(), \"DBF.1\"] = 0"
   ]
  },
  {
   "cell_type": "markdown",
   "metadata": {},
   "source": [
    "7. Remplacer les valeurs manquantes de `DBF.2` par zéro avec la méthode `fillna`."
   ]
  },
  {
   "cell_type": "code",
   "execution_count": 137,
   "metadata": {},
   "outputs": [],
   "source": [
    "rg2013[\"DBF.2\"] = rg2013[\"DBF.2\"].fillna(0)"
   ]
  },
  {
   "cell_type": "markdown",
   "metadata": {},
   "source": [
    "8. Extraire la liste des participants à partir des colonnes `Player1` et `Player2`. Une façon de faire consiste à utiliser `concat` et la méthode `drop_duplicates` pour obtenir le résultat sous la forme d'une série et de la convertir en dataframe avec la méthode `to_frame`."
   ]
  },
  {
   "cell_type": "code",
   "execution_count": 138,
   "metadata": {},
   "outputs": [
    {
     "name": "stdout",
     "output_type": "stream",
     "text": [
      "0     Pablo Carreno-Busta\n",
      "1        Somdev Devvarman\n",
      "2            Tobias Kamke\n",
      "3        Julien Benneteau\n",
      "4             Lukas Lacko\n",
      "             ...         \n",
      "56            Yen-Hsun Lu\n",
      "59        Grigor Dimitrov\n",
      "61            Guido Pella\n",
      "62           David Goffin\n",
      "87       Janko Tipsarevic\n",
      "Length: 127, dtype: object\n"
     ]
    }
   ],
   "source": [
    "players = pd.concat([rg2013[\"Player1\"], rg2013[\"Player2\"]])\n",
    "\n",
    "players.drop_duplicates(inplace=True)\n",
    "\n",
    "print(players)"
   ]
  },
  {
   "cell_type": "markdown",
   "metadata": {},
   "source": [
    "9. Écrire une fonction `n_match` qui prend une chaîne de caractères `joueur` en entrée et retourne le nombre de matchs disputés par le joueur."
   ]
  },
  {
   "cell_type": "code",
   "execution_count": 139,
   "metadata": {},
   "outputs": [
    {
     "data": {
      "text/plain": [
       "7"
      ]
     },
     "execution_count": 139,
     "metadata": {},
     "output_type": "execute_result"
    }
   ],
   "source": [
    "def n_match(matchs, joueur):\n",
    "\n",
    "    # Compter les occurrences du joueur dans Player1 et Player2\n",
    "    count_player1 = matchs[matchs[\"Player1\"] == joueur][\"Player1\"].count()\n",
    "    count_player2 = matchs[matchs[\"Player2\"] == joueur][\"Player2\"].count()\n",
    "\n",
    "    # Calculer le total des matchs joués\n",
    "    n_match = count_player1 + count_player2\n",
    "    \n",
    "    return n_match\n",
    "\n",
    "n_match(rg2013, \"David Ferrer\")\n"
   ]
  },
  {
   "cell_type": "markdown",
   "metadata": {},
   "source": [
    "10. Utiliser les deux question précédentes et la méthode `apply` pour compter le nombre de matchs que chaque participant a disputé et ordonner le résultat par ordre décroissant."
   ]
  },
  {
   "cell_type": "code",
   "execution_count": 140,
   "metadata": {},
   "outputs": [
    {
     "name": "stdout",
     "output_type": "stream",
     "text": [
      "                  Joueur  nMatchs\n",
      "47          Rafael Nadal        7\n",
      "122         David Ferrer        7\n",
      "62        Novak Djokovic        6\n",
      "15    Jo-Wilfried Tsonga        6\n",
      "113        Tommy Robredo        5\n",
      "..                   ...      ...\n",
      "5            Denis Kudla        1\n",
      "19     Marcel Granollers        1\n",
      "51        Carlos Berlocq        1\n",
      "10           James Blake        1\n",
      "0    Pablo Carreno-Busta        1\n",
      "\n",
      "[127 rows x 2 columns]\n"
     ]
    }
   ],
   "source": [
    "playersDf = players.to_frame(name=\"Joueur\")\n",
    "\n",
    "playersDf[\"nMatchs\"] = 0\n",
    "\n",
    "for joueur in players:\n",
    "    nbMatchParJoueur = n_match(rg2013, joueur)\n",
    "    #print(joueur + \" : \" + str(nbMatchParJoueur))\n",
    "    playersDf.loc[playersDf[\"Joueur\"] == joueur, \"nMatchs\"] = nbMatchParJoueur\n",
    "\n",
    "print(playersDf.sort_values(\"nMatchs\", ascending=False))\n",
    "\n",
    "#playersDf[\"nMatchs\"] = playersDf.Joueur.apply(n_match)\n",
    "#print(players)"
   ]
  },
  {
   "cell_type": "markdown",
   "metadata": {},
   "source": [
    "11. Charger maintenant le jeu de données relatif au tournoi de Wimbledon dans un dataframe `wb` à partir du fichier `wimbledon2013.csv`."
   ]
  },
  {
   "cell_type": "code",
   "execution_count": 141,
   "metadata": {},
   "outputs": [],
   "source": [
    "wb2013 = pd.read_csv(\"C:/Users/cepe-s3-02/Desktop/David/Bloc 2/notebooks/data/wimbledon2013.csv\")"
   ]
  },
  {
   "cell_type": "markdown",
   "metadata": {},
   "source": [
    "12. Ajouter une colonne `Tournoi` dans les dataframes `rg` et `wb` contenant respectivement les chaînes de caractères `\"RG\"` et `\"WB\"`."
   ]
  },
  {
   "cell_type": "code",
   "execution_count": 142,
   "metadata": {},
   "outputs": [],
   "source": [
    "rg2013[\"Tournoi\"] = \"RG2013\"\n",
    "wb2013[\"Tournoi\"] = \"WB2013\"\n"
   ]
  },
  {
   "cell_type": "markdown",
   "metadata": {},
   "source": [
    "13. Concaténer les deux dataframes dans un nouveau dataframe `tennis`."
   ]
  },
  {
   "cell_type": "code",
   "execution_count": 143,
   "metadata": {},
   "outputs": [
    {
     "name": "stdout",
     "output_type": "stream",
     "text": [
      "                 Player1                  Player2  Round  Result  FNL.1  \\\n",
      "0    Pablo Carreno-Busta            Roger Federer      1       0      0   \n",
      "1       Somdev Devvarman  Daniel Munoz-De La Nava      1       1      3   \n",
      "2           Tobias Kamke            Paolo Lorenzi      1       1      3   \n",
      "3       Julien Benneteau        Ricardas Berankis      1       1      3   \n",
      "4            Lukas Lacko              Sam Querrey      1       0      0   \n",
      "..                   ...                      ...    ...     ...    ...   \n",
      "234             D.Ferrer              J.Del Potro      5       0      0   \n",
      "235           N.Djokovic                T.Berdych      5       1      3   \n",
      "236           J.Janowicz                 A.Murray      6       0      1   \n",
      "237           N.Djokovic              J.Del Potro      6       1      3   \n",
      "238           N.Djokovic                 A.Murray      7       0      0   \n",
      "\n",
      "     FNL.2  FSP.1  FSW.1  SSP.1  SSW.1  ...  NPW.2  TPW.2  ST1.2  ST2.2  \\\n",
      "0        3     62     27     38     11  ...     18   88.0      6      6   \n",
      "1        0     62     54     38     22  ...     25  106.0      3      3   \n",
      "2        2     62     53     38     15  ...     27  139.0      3      3   \n",
      "3        1     72     87     28     19  ...     43  149.0      6      3   \n",
      "4        3     52     31     48     22  ...     13   93.0      6      6   \n",
      "..     ...    ...    ...    ...    ...  ...    ...    ...    ...    ...   \n",
      "234      3     68     45     32     17  ...     17    NaN      6      6   \n",
      "235      0     61     42     39     21  ...     21    NaN      6      4   \n",
      "236      3     55     54     45     27  ...     22    NaN      6      6   \n",
      "237      2     69    102     31     21  ...     25    NaN      5      6   \n",
      "238      3     65     40     35     15  ...     26    NaN      6      7   \n",
      "\n",
      "     ST3.2  ST4.2  ST5.2   ACE                                        MATCH  \\\n",
      "0      6.0    NaN    NaN  11.0         Pablo Carreno-Busta vs Roger Federer   \n",
      "1      5.0    NaN    NaN   7.0  Somdev Devvarman vs Daniel Munoz-De La Nava   \n",
      "2      6.0    6.0    3.0  10.0                Tobias Kamke vs Paolo Lorenzi   \n",
      "3      7.0    6.0    NaN  27.0        Julien Benneteau vs Ricardas Berankis   \n",
      "4      6.0    NaN    NaN  14.0                   Lukas Lacko vs Sam Querrey   \n",
      "..     ...    ...    ...   ...                                          ...   \n",
      "234    7.0    NaN    NaN   NaN                                          NaN   \n",
      "235    3.0    NaN    NaN   NaN                                          NaN   \n",
      "236    6.0    6.0    NaN   NaN                                          NaN   \n",
      "237    6.0    7.0    3.0   NaN                                          NaN   \n",
      "238    6.0    NaN    NaN   NaN                                          NaN   \n",
      "\n",
      "     Tournoi  \n",
      "0     RG2013  \n",
      "1     RG2013  \n",
      "2     RG2013  \n",
      "3     RG2013  \n",
      "4     RG2013  \n",
      "..       ...  \n",
      "234   WB2013  \n",
      "235   WB2013  \n",
      "236   WB2013  \n",
      "237   WB2013  \n",
      "238   WB2013  \n",
      "\n",
      "[239 rows x 45 columns]\n"
     ]
    }
   ],
   "source": [
    "majeur2013 = pd.concat( (rg2013, wb2013), ignore_index=True)\n",
    "print(majeur2013)"
   ]
  },
  {
   "cell_type": "markdown",
   "metadata": {},
   "source": [
    "14. Utiliser le dataframe `tennis` pour comparer le nombre moyen d'aces par match à chaque niveau du tournoi à Roland Garros et à Wimbledon. Afficher le résultat en format large."
   ]
  },
  {
   "cell_type": "code",
   "execution_count": 144,
   "metadata": {},
   "outputs": [
    {
     "name": "stdout",
     "output_type": "stream",
     "text": [
      "Tournoi     RG2013     WB2013\n",
      "Round                        \n",
      "1        13.476190  21.125000\n",
      "2        13.193548  23.869565\n",
      "3        12.562500  24.000000\n",
      "4         9.125000  24.375000\n",
      "5         7.000000  26.500000\n",
      "6        10.000000  27.500000\n",
      "7         6.000000  13.000000\n"
     ]
    }
   ],
   "source": [
    "majeur2013[\"ACE\"] = majeur2013[\"ACE.1\"] + majeur2013[\"ACE.2\"]\n",
    "\n",
    "majeur2013[\"RoundByT\"] = majeur2013[\"Round\"].astype(str) + majeur2013[\"Tournoi\"]\n",
    "\n",
    "meanAcesByRound2 = majeur2013.groupby(\"RoundByT\")[\"ACE\"].mean()\n",
    "\n",
    "#print(meanAcesByRound2)\n",
    "\n",
    "meanAcesByRound3 = majeur2013.groupby([\"Round\",\"Tournoi\"])[\"ACE\"].mean()\n",
    "\n",
    "#print(meanAcesByRound3)\n",
    "\n",
    "format_large = meanAcesByRound3.reset_index().pivot(\n",
    "    index=\"Round\",\n",
    "    columns=\"Tournoi\",\n",
    "    values=\"ACE\"\n",
    ")\n",
    "\n",
    "print(format_large)"
   ]
  },
  {
   "cell_type": "markdown",
   "metadata": {},
   "source": [
    "15. Quelle différence y a-t-il dans le format des noms des joueurs entre les dataframes `rg` et `wb` ?"
   ]
  },
  {
   "cell_type": "code",
   "execution_count": 145,
   "metadata": {},
   "outputs": [
    {
     "name": "stdout",
     "output_type": "stream",
     "text": [
      "0      Pablo Carreno-Busta\n",
      "1         Somdev Devvarman\n",
      "2             Tobias Kamke\n",
      "3         Julien Benneteau\n",
      "4              Lukas Lacko\n",
      "              ...         \n",
      "120           Rafael Nadal\n",
      "121         Novak Djokovic\n",
      "122           David Ferrer\n",
      "123         Novak Djokovic\n",
      "124           Rafael Nadal\n",
      "Name: Player1, Length: 125, dtype: object\n",
      "0        B.Becker\n",
      "1          J.Ward\n",
      "2         N.Mahut\n",
      "3       T.Robredo\n",
      "4         R.Haase\n",
      "          ...    \n",
      "109      D.Ferrer\n",
      "110    N.Djokovic\n",
      "111    J.Janowicz\n",
      "112    N.Djokovic\n",
      "113    N.Djokovic\n",
      "Name: Player1, Length: 114, dtype: object\n"
     ]
    }
   ],
   "source": [
    "print(rg2013[\"Player1\"])\n",
    "print(wb2013[\"Player1\"])\n"
   ]
  },
  {
   "cell_type": "markdown",
   "metadata": {},
   "source": [
    "16. Construire un dataframe `rg_victoires` avec les trois colonnes suivantes pour le tournoi de Roland Garros :\n",
    "- `joueur` : nom du joueur tel qu'il est donné dans `rg`,\n",
    "- `nom_joueur` : nom de famille du joueur uniquement,\n",
    "- `n_victoire` : nombre de matchs gagnés dans le tournoi."
   ]
  },
  {
   "cell_type": "code",
   "execution_count": null,
   "metadata": {},
   "outputs": [
    {
     "name": "stdout",
     "output_type": "stream",
     "text": [
      "0    Carreno-Busta\n",
      "1        Devvarman\n",
      "2            Kamke\n",
      "3        Benneteau\n",
      "4            Lacko\n",
      "dtype: object\n",
      "9\n",
      "Carreno-Busta : 0\n",
      "Devvarman : 1\n",
      "Kamke : 1\n",
      "Benneteau : 3\n",
      "Lacko : 0\n",
      "Hajek : 1\n",
      "Mannarino : 2\n",
      "Simon : 3\n",
      "Petzschner : 0\n",
      "Stepanek : 1\n",
      "Troicki : 5\n",
      "Monaco : 2\n",
      "Becker : 0\n",
      "Bautista Agut : 2\n",
      "Nieminen : 1\n",
      "Tsonga : 6\n",
      "Matosevic : 0\n",
      "Johnson : 0\n",
      "Sousa : 1\n",
      "Granollers : 0\n",
      "Marchenko : 0\n",
      "Struff : 2\n",
      "Darcis : 1\n",
      "Raonic : 3\n",
      "Haider-Maurer : 0\n",
      "Alund : 0\n",
      "Kavcic : 1\n",
      "Seppi : 4\n",
      "Zopp : 0\n",
      "Sijsling : 3\n",
      "Gulbis : 3\n",
      "Berdych : 4\n",
      "Stakhovsky : 2\n",
      "Przysiezny : 2\n",
      "Serra : 0\n",
      "Mayer : 1\n",
      "Ramos : 0\n",
      "De Schepper : 1\n",
      "Pospisil : 1\n",
      "Wawrinka : 4\n",
      "Levine : 1\n",
      "Zemlja : 3\n",
      "Kubot : 3\n",
      "Paire : 4\n",
      "Beck : 0\n",
      "Riba : 0\n",
      "Klizan : 1\n",
      "Nadal : 7\n",
      "Verdasco : 4\n",
      "Delbonis : 1\n",
      "Youzhny : 5\n",
      "Berlocq : 0\n",
      "Kuznetsov : 1\n",
      "Sock : 1\n",
      "Haas : 5\n",
      "Vesely : 0\n",
      "Bolelli : 0\n",
      "Tomic : 3\n",
      "Dolgopolov : 1\n",
      "Falla : 0\n",
      "Dodig : 3\n",
      "Djokovic : 11\n",
      "Kyrgios : 1\n",
      "Gimeno-Traver : 1\n",
      "Montanes : 1\n",
      "Lopez : 3\n",
      "Donskoy : 1\n",
      "Roger-Vasselin : 1\n",
      "Monfils : 2\n",
      "Istomin : 1\n",
      "Haase : 1\n",
      "Rosol : 1\n",
      "Harrison : 1\n",
      "Tursunov : 1\n",
      "Pouille : 1\n",
      "Davydenko : 2\n",
      "Hanescu : 2\n",
      "Anderson : 5\n",
      "Robredo : 6\n",
      "Ferrer : 9\n",
      "Federer : 5\n",
      "Munoz-De La Nava : 0\n",
      "Lorenzi : 0\n",
      "Berankis : 0\n",
      "Querrey : 2\n",
      "Kudla : 1\n",
      "Cuevas : 1\n",
      "Hewitt : 1\n",
      "Cilic : 3\n",
      "Blake : 1\n",
      "Chardy : 3\n",
      "Muller : 0\n",
      "Mathieu : 1\n",
      "Bedene : 0\n",
      "Soeda : 1\n",
      "Llodra : 2\n",
      "Malisse : 0\n",
      "Almagro : 5\n",
      "Duckworth : 0\n",
      "Melzer : 3\n",
      "Dutra Silva : 0\n",
      "Gasquet : 5\n",
      "Williams : 0\n",
      "Janowicz : 6\n",
      "Zeballos : 1\n",
      "De Bakker : 0\n",
      "Nishikori : 5\n",
      "Giraldo : 1\n",
      "Teixeira : 0\n",
      "Baghdatis : 0\n",
      "Fognini : 2\n",
      "Russell : 0\n",
      "Brands : 1\n",
      "Gicquel : 0\n",
      "Reister : 1\n",
      "Andujar : 0\n",
      "Isner : 4\n",
      "Garcia-Lopez : 0\n",
      "Rufin : 1\n",
      "Kohlschreiber : 2\n",
      "Lu : 2\n",
      "Dimitrov : 3\n",
      "Pella : 1\n",
      "Goffin : 0\n",
      "Tipsarevic : 1\n",
      "Ward : 0\n",
      "Mahut : 1\n",
      "Edmund : 0\n",
      "Brown : 2\n",
      "Ungur : 0\n",
      "Robert : 1\n",
      "Elias : 0\n",
      "Odesnik : 0\n",
      "Reynolds : 1\n",
      "Murray : 7\n",
      "Bogomolov Jr. : 0\n",
      "Ram : 1\n",
      "Knittel : 0\n",
      "Reid : 0\n",
      "Andreev : 0\n",
      "Del Potro : 5\n",
      "Ebden : 0\n",
      "Gabashvili : 0\n",
      "Rochus : 0\n",
      "Wang : 1\n"
     ]
    },
    {
     "name": "stderr",
     "output_type": "stream",
     "text": [
      "C:\\Users\\cepe-s3-02\\AppData\\Local\\Temp\\ipykernel_11348\\740011278.py:41: FutureWarning: In a future version of pandas all arguments of Series.sort_values will be keyword-only.\n",
      "  print(joueursVic.sort_values(\"nVictoires\", ascending=False))\n"
     ]
    },
    {
     "ename": "ValueError",
     "evalue": "No axis named nVictoires for object type Series",
     "output_type": "error",
     "traceback": [
      "\u001b[1;31m---------------------------------------------------------------------------\u001b[0m",
      "\u001b[1;31mKeyError\u001b[0m                                  Traceback (most recent call last)",
      "File \u001b[1;32mc:\\ProgramData\\anaconda3\\Lib\\site-packages\\pandas\\core\\generic.py:554\u001b[0m, in \u001b[0;36mNDFrame._get_axis_number\u001b[1;34m(cls, axis)\u001b[0m\n\u001b[0;32m    553\u001b[0m \u001b[38;5;28;01mtry\u001b[39;00m:\n\u001b[1;32m--> 554\u001b[0m     \u001b[38;5;28;01mreturn\u001b[39;00m \u001b[38;5;28mcls\u001b[39m\u001b[38;5;241m.\u001b[39m_AXIS_TO_AXIS_NUMBER[axis]\n\u001b[0;32m    555\u001b[0m \u001b[38;5;28;01mexcept\u001b[39;00m \u001b[38;5;167;01mKeyError\u001b[39;00m:\n",
      "\u001b[1;31mKeyError\u001b[0m: 'nVictoires'",
      "\nDuring handling of the above exception, another exception occurred:\n",
      "\u001b[1;31mValueError\u001b[0m                                Traceback (most recent call last)",
      "Cell \u001b[1;32mIn[169], line 41\u001b[0m\n\u001b[0;32m     38\u001b[0m     \u001b[38;5;28mprint\u001b[39m(joueur \u001b[38;5;241m+\u001b[39m \u001b[38;5;124m\"\u001b[39m\u001b[38;5;124m : \u001b[39m\u001b[38;5;124m\"\u001b[39m \u001b[38;5;241m+\u001b[39m \u001b[38;5;28mstr\u001b[39m(nbVicParJoueur))\n\u001b[0;32m     39\u001b[0m     \u001b[38;5;66;03m#joueursVic.loc[playersDf[\"Joueur\"] == joueur, \"nVictoires\"] = nbVicParJoueur\u001b[39;00m\n\u001b[1;32m---> 41\u001b[0m \u001b[38;5;28mprint\u001b[39m(joueursVic\u001b[38;5;241m.\u001b[39msort_values(\u001b[38;5;124m\"\u001b[39m\u001b[38;5;124mnVictoires\u001b[39m\u001b[38;5;124m\"\u001b[39m, ascending\u001b[38;5;241m=\u001b[39m\u001b[38;5;28;01mFalse\u001b[39;00m))\n",
      "File \u001b[1;32mc:\\ProgramData\\anaconda3\\Lib\\site-packages\\pandas\\util\\_decorators.py:331\u001b[0m, in \u001b[0;36mdeprecate_nonkeyword_arguments.<locals>.decorate.<locals>.wrapper\u001b[1;34m(*args, **kwargs)\u001b[0m\n\u001b[0;32m    325\u001b[0m \u001b[38;5;28;01mif\u001b[39;00m \u001b[38;5;28mlen\u001b[39m(args) \u001b[38;5;241m>\u001b[39m num_allow_args:\n\u001b[0;32m    326\u001b[0m     warnings\u001b[38;5;241m.\u001b[39mwarn(\n\u001b[0;32m    327\u001b[0m         msg\u001b[38;5;241m.\u001b[39mformat(arguments\u001b[38;5;241m=\u001b[39m_format_argument_list(allow_args)),\n\u001b[0;32m    328\u001b[0m         \u001b[38;5;167;01mFutureWarning\u001b[39;00m,\n\u001b[0;32m    329\u001b[0m         stacklevel\u001b[38;5;241m=\u001b[39mfind_stack_level(),\n\u001b[0;32m    330\u001b[0m     )\n\u001b[1;32m--> 331\u001b[0m \u001b[38;5;28;01mreturn\u001b[39;00m func(\u001b[38;5;241m*\u001b[39margs, \u001b[38;5;241m*\u001b[39m\u001b[38;5;241m*\u001b[39mkwargs)\n",
      "File \u001b[1;32mc:\\ProgramData\\anaconda3\\Lib\\site-packages\\pandas\\core\\series.py:3744\u001b[0m, in \u001b[0;36mSeries.sort_values\u001b[1;34m(self, axis, ascending, inplace, kind, na_position, ignore_index, key)\u001b[0m\n\u001b[0;32m   3742\u001b[0m inplace \u001b[38;5;241m=\u001b[39m validate_bool_kwarg(inplace, \u001b[38;5;124m\"\u001b[39m\u001b[38;5;124minplace\u001b[39m\u001b[38;5;124m\"\u001b[39m)\n\u001b[0;32m   3743\u001b[0m \u001b[38;5;66;03m# Validate the axis parameter\u001b[39;00m\n\u001b[1;32m-> 3744\u001b[0m \u001b[38;5;28mself\u001b[39m\u001b[38;5;241m.\u001b[39m_get_axis_number(axis)\n\u001b[0;32m   3746\u001b[0m \u001b[38;5;66;03m# GH 5856/5853\u001b[39;00m\n\u001b[0;32m   3747\u001b[0m \u001b[38;5;28;01mif\u001b[39;00m inplace \u001b[38;5;129;01mand\u001b[39;00m \u001b[38;5;28mself\u001b[39m\u001b[38;5;241m.\u001b[39m_is_cached:\n",
      "File \u001b[1;32mc:\\ProgramData\\anaconda3\\Lib\\site-packages\\pandas\\core\\generic.py:556\u001b[0m, in \u001b[0;36mNDFrame._get_axis_number\u001b[1;34m(cls, axis)\u001b[0m\n\u001b[0;32m    554\u001b[0m     \u001b[38;5;28;01mreturn\u001b[39;00m \u001b[38;5;28mcls\u001b[39m\u001b[38;5;241m.\u001b[39m_AXIS_TO_AXIS_NUMBER[axis]\n\u001b[0;32m    555\u001b[0m \u001b[38;5;28;01mexcept\u001b[39;00m \u001b[38;5;167;01mKeyError\u001b[39;00m:\n\u001b[1;32m--> 556\u001b[0m     \u001b[38;5;28;01mraise\u001b[39;00m \u001b[38;5;167;01mValueError\u001b[39;00m(\u001b[38;5;124mf\u001b[39m\u001b[38;5;124m\"\u001b[39m\u001b[38;5;124mNo axis named \u001b[39m\u001b[38;5;132;01m{\u001b[39;00maxis\u001b[38;5;132;01m}\u001b[39;00m\u001b[38;5;124m for object type \u001b[39m\u001b[38;5;132;01m{\u001b[39;00m\u001b[38;5;28mcls\u001b[39m\u001b[38;5;241m.\u001b[39m\u001b[38;5;18m__name__\u001b[39m\u001b[38;5;132;01m}\u001b[39;00m\u001b[38;5;124m\"\u001b[39m)\n",
      "\u001b[1;31mValueError\u001b[0m: No axis named nVictoires for object type Series"
     ]
    }
   ],
   "source": [
    "rg2013[\"Nom1\"] = rg2013[\"Player1\"].str.split(\" \", n=1).str[1]\n",
    "rg2013[\"Nom2\"] = rg2013[\"Player2\"].str.split(\" \", n=1).str[1]\n",
    "\n",
    "wb2013[\"Nom1\"] = wb2013[\"Player1\"].str.split(\".\", n=1).str[1]\n",
    "wb2013[\"Nom2\"] = wb2013[\"Player2\"].str.split(\".\", n=1).str[1]\n",
    "\n",
    "#print(rg2013[\"Nom1\"])\n",
    "#print(wb2013[\"Nom1\"])\n",
    "\n",
    "joueursVic = pd.concat([rg2013[\"Nom1\"], rg2013[\"Nom2\"], wb2013[\"Nom1\"], wb2013[\"Nom2\"]])\n",
    "\n",
    "joueursVic.drop_duplicates(inplace=True)\n",
    "\n",
    "#print(joueursVic.head())\n",
    "\n",
    "def n_victoires(matchs, joueur):\n",
    "\n",
    "    # Compter les occurrences du joueur dans Player1 et Player2 avec result = 1 ou 0\n",
    "    count_player1 = matchs[(matchs[\"Nom1\"] == joueur) & (matchs[\"Result\"] == 1)][\"Nom1\"].count()\n",
    "    count_player2 = matchs[(matchs[\"Nom2\"] == joueur) & (matchs[\"Result\"] == 0)][\"Nom2\"].count()\n",
    "    \n",
    "    # Calculer le total des matchs joués\n",
    "    n_victoires = count_player1 + count_player2\n",
    "    \n",
    "    #print(joueur + \" : \" + str(n_victoires))\n",
    "\n",
    "    return n_victoires\n",
    "\n",
    "#print(majeur2013)\n",
    "\n",
    "majeur2013Bis = pd.concat( (rg2013, wb2013), ignore_index=True)\n",
    "\n",
    "print(n_victoires(majeur2013Bis, \"Ferrer\"))\n",
    "\n",
    "for joueur in joueursVic:\n",
    "    #print(joueur)\n",
    "    nbVicParJoueur = n_victoires(majeur2013Bis, joueur)\n",
    "    print(joueur + \" : \" + str(nbVicParJoueur))\n",
    "    #joueursVic.loc[playersDf[\"Joueur\"] == joueur, \"nVictoires\"] = nbVicParJoueur\n",
    "\n",
    "print(joueursVic.sort_values(\"nVictoires\", ascending=False))\n"
   ]
  },
  {
   "cell_type": "markdown",
   "metadata": {},
   "source": [
    "17. Construire un dataframe `wb_victoires` avec les trois colonnes suivantes pour le tournoi de Wimbledon :\n",
    "- `joueur` : nom du joueur tel qu'il est donné dans `wb`,\n",
    "- `nom_joueur` : nom de famille du joueur uniquement,\n",
    "- `n_victoire` : nombre de matchs gagnés dans le tournoi."
   ]
  },
  {
   "cell_type": "code",
   "execution_count": null,
   "metadata": {},
   "outputs": [],
   "source": []
  },
  {
   "cell_type": "markdown",
   "metadata": {},
   "source": [
    "18. Faire une jointure entre `rg_victoires` et `wb_victoires` sur la colonne `nom_joueur` pour comparer le nombre de victoires par tournoi pour chaque joueur. Expliquer la différence de résultat selon que la jointure est à gauche, à droite, intérieure ou extérieure."
   ]
  },
  {
   "cell_type": "code",
   "execution_count": null,
   "metadata": {},
   "outputs": [],
   "source": []
  }
 ],
 "metadata": {
  "kernelspec": {
   "display_name": "base",
   "language": "python",
   "name": "python3"
  },
  "language_info": {
   "codemirror_mode": {
    "name": "ipython",
    "version": 3
   },
   "file_extension": ".py",
   "mimetype": "text/x-python",
   "name": "python",
   "nbconvert_exporter": "python",
   "pygments_lexer": "ipython3",
   "version": "3.11.3"
  }
 },
 "nbformat": 4,
 "nbformat_minor": 2
}
