{
 "cells": [
  {
   "cell_type": "markdown",
   "metadata": {},
   "source": [
    "# Notebook 1 : Découverte de Pandas"
   ]
  },
  {
   "cell_type": "code",
   "execution_count": 22,
   "metadata": {},
   "outputs": [],
   "source": [
    "import pandas as pd"
   ]
  },
  {
   "cell_type": "markdown",
   "metadata": {},
   "source": [
    "## Iris"
   ]
  },
  {
   "cell_type": "markdown",
   "metadata": {},
   "source": [
    "Nous considérons le jeu de données connu sous le nom des [Iris de Fisher](https://fr.wikipedia.org/wiki/Iris_de_Fisher). Répondez aux questions suivantes à l'aide du module Pandas."
   ]
  },
  {
   "cell_type": "markdown",
   "metadata": {},
   "source": [
    "1. Charger le jeu de données dans un dataframe `iris` à partir du fichier `iris.csv` et afficher le dataframe."
   ]
  },
  {
   "cell_type": "code",
   "execution_count": 23,
   "metadata": {},
   "outputs": [
    {
     "name": "stdout",
     "output_type": "stream",
     "text": [
      "     SepalLength  SepalWidth  PetalLength  PetalWidth    Species\n",
      "0            5.1         3.5          1.4         0.2     setosa\n",
      "1            4.9         3.0          1.4         0.2     setosa\n",
      "2            4.7         3.2          1.3         0.2     setosa\n",
      "3            4.6         3.1          1.5         0.2     setosa\n",
      "4            5.0         3.6          1.4         0.2     setosa\n",
      "..           ...         ...          ...         ...        ...\n",
      "145          6.7         3.0          5.2         2.3  virginica\n",
      "146          6.3         2.5          5.0         1.9  virginica\n",
      "147          6.5         3.0          5.2         2.0  virginica\n",
      "148          6.2         3.4          5.4         2.3  virginica\n",
      "149          5.9         3.0          5.1         1.8  virginica\n",
      "\n",
      "[150 rows x 5 columns]\n"
     ]
    }
   ],
   "source": [
    "iris = pd.read_csv(\"data/iris.csv\")\n",
    "print(iris)"
   ]
  },
  {
   "cell_type": "markdown",
   "metadata": {},
   "source": [
    "2. Sélectionner les variables `PetalWidth` et `Species`."
   ]
  },
  {
   "cell_type": "code",
   "execution_count": 24,
   "metadata": {},
   "outputs": [],
   "source": [
    "PetalWidth = iris[\"PetalWidth\"]\n",
    "\n",
    "Species = iris[\"Species\"]"
   ]
  },
  {
   "cell_type": "markdown",
   "metadata": {},
   "source": [
    "3. Extraire le sous-dataframe qui contient uniquement les iris des espèces `versicolor` ou `virginica`."
   ]
  },
  {
   "cell_type": "code",
   "execution_count": 25,
   "metadata": {},
   "outputs": [
    {
     "name": "stdout",
     "output_type": "stream",
     "text": [
      "     SepalLength  SepalWidth  PetalLength  PetalWidth     Species\n",
      "50           7.0         3.2          4.7         1.4  versicolor\n",
      "51           6.4         3.2          4.5         1.5  versicolor\n",
      "52           6.9         3.1          4.9         1.5  versicolor\n",
      "53           5.5         2.3          4.0         1.3  versicolor\n",
      "54           6.5         2.8          4.6         1.5  versicolor\n",
      "..           ...         ...          ...         ...         ...\n",
      "145          6.7         3.0          5.2         2.3   virginica\n",
      "146          6.3         2.5          5.0         1.9   virginica\n",
      "147          6.5         3.0          5.2         2.0   virginica\n",
      "148          6.2         3.4          5.4         2.3   virginica\n",
      "149          5.9         3.0          5.1         1.8   virginica\n",
      "\n",
      "[100 rows x 5 columns]\n"
     ]
    }
   ],
   "source": [
    "print(iris[((iris.Species == \"versicolor\") | (iris.Species == \"virginica\"))])"
   ]
  },
  {
   "cell_type": "markdown",
   "metadata": {},
   "source": [
    "4. Compter le nombre d'iris de l'espèce `setosa`."
   ]
  },
  {
   "cell_type": "code",
   "execution_count": 26,
   "metadata": {},
   "outputs": [
    {
     "name": "stdout",
     "output_type": "stream",
     "text": [
      "SepalLength    50\n",
      "SepalWidth     50\n",
      "PetalLength    50\n",
      "PetalWidth     50\n",
      "Species        50\n",
      "dtype: int64\n"
     ]
    }
   ],
   "source": [
    "print(iris[(iris.Species == \"setosa\")].count())"
   ]
  },
  {
   "cell_type": "markdown",
   "metadata": {},
   "source": [
    "5. Calculer la moyenne de la variable `PetalWidth` pour les iris de l'espèce `versicolor`."
   ]
  },
  {
   "cell_type": "code",
   "execution_count": 27,
   "metadata": {},
   "outputs": [
    {
     "name": "stdout",
     "output_type": "stream",
     "text": [
      "1.3259999999999998\n"
     ]
    }
   ],
   "source": [
    "versicolor = iris[(iris.Species == \"versicolor\")]\n",
    "PetalWidth = versicolor[\"PetalWidth\"]\n",
    "print(PetalWidth.mean())"
   ]
  },
  {
   "cell_type": "markdown",
   "metadata": {},
   "source": [
    "6. Ajouter une variable `SumWidth` qui contient la somme des variables `PetalWidth` et `SepalWidth`."
   ]
  },
  {
   "cell_type": "code",
   "execution_count": 28,
   "metadata": {},
   "outputs": [],
   "source": [
    "iris[\"SumWidth\"] = iris[\"PetalWidth\"] + iris[\"SepalWidth\"]"
   ]
  },
  {
   "cell_type": "markdown",
   "metadata": {},
   "source": [
    "7. Calculer la moyenne et la variance de la variable `SepalLength` pour chaque espèce."
   ]
  },
  {
   "cell_type": "code",
   "execution_count": 29,
   "metadata": {},
   "outputs": [
    {
     "name": "stdout",
     "output_type": "stream",
     "text": [
      "5.843333333333334\n",
      "0.6856935123042507\n"
     ]
    }
   ],
   "source": [
    "SepalLength = iris[\"SepalLength\"]\n",
    "moySL = SepalLength.mean()\n",
    "varSL = SepalLength.var()\n",
    "\n",
    "print(moySL)\n",
    "print(varSL)"
   ]
  },
  {
   "cell_type": "markdown",
   "metadata": {},
   "source": [
    "8. Calculer la moyenne de toutes les variables pour chaque espèce. Afficher le résultat au format large et au format long."
   ]
  },
  {
   "cell_type": "code",
   "execution_count": 48,
   "metadata": {},
   "outputs": [
    {
     "name": "stdout",
     "output_type": "stream",
     "text": [
      "            SepalLengthMean  SepalWidthMean  PetalLengthMean  PetalWidthMean\n",
      "Species                                                                     \n",
      "setosa                5.006           3.428            1.462           0.246\n",
      "versicolor            5.936           2.770            4.260           1.326\n",
      "virginica             6.588           2.974            5.552           2.026\n",
      "            SepalLength  SepalWidth  PetalLength  PetalWidth  SumWidth\n",
      "Species                                                               \n",
      "setosa            5.006       3.428        1.462       0.246     3.674\n",
      "versicolor        5.936       2.770        4.260       1.326     4.096\n",
      "virginica         6.588       2.974        5.552       2.026     5.000\n",
      "            SepalLength  SepalWidth  PetalLength  PetalWidth  SumWidth\n",
      "Species                                                               \n",
      "setosa            5.006       3.428        1.462       0.246     3.674\n",
      "versicolor        5.936       2.770        4.260       1.326     4.096\n",
      "virginica         6.588       2.974        5.552       2.026     5.000\n",
      "       Species     variable   mean\n",
      "0       setosa  SepalLength  5.006\n",
      "1   versicolor  SepalLength  5.936\n",
      "2    virginica  SepalLength  6.588\n",
      "3       setosa   SepalWidth  3.428\n",
      "4   versicolor   SepalWidth  2.770\n",
      "5    virginica   SepalWidth  2.974\n",
      "6       setosa  PetalLength  1.462\n",
      "7   versicolor  PetalLength  4.260\n",
      "8    virginica  PetalLength  5.552\n",
      "9       setosa   PetalWidth  0.246\n",
      "10  versicolor   PetalWidth  1.326\n",
      "11   virginica   PetalWidth  2.026\n",
      "12      setosa     SumWidth  3.674\n",
      "13  versicolor     SumWidth  4.096\n",
      "14   virginica     SumWidth  5.000\n"
     ]
    }
   ],
   "source": [
    "print(\n",
    "    # Remarquer la syntaxe de cet exemple\n",
    "    iris\n",
    "    .groupby(iris.Species)\n",
    "    .agg( # NamedAgg permet de nommer les agrégations\n",
    "        SepalLengthMean=pd.NamedAgg(column=\"SepalLength\", aggfunc=\"mean\"),\n",
    "        SepalWidthMean=pd.NamedAgg(column=\"SepalWidth\", aggfunc=\"mean\"),\n",
    "        PetalLengthMean=pd.NamedAgg(column=\"PetalLength\", aggfunc=\"mean\"),\n",
    "        PetalWidthMean=pd.NamedAgg(column=\"PetalWidth\", aggfunc=\"mean\")\n",
    "    )\n",
    ")\n",
    "\n",
    "print(\n",
    "    iris\n",
    "    .groupby(iris.Species)\n",
    "    .agg(\"mean\")\n",
    ")\n",
    "\n",
    "irisMean = iris.groupby(iris.Species).agg(\"mean\")\n",
    "\n",
    "print(irisMean)\n",
    "\n",
    "print(irisMean.reset_index().melt(id_vars=[\"Species\"], value_name=\"mean\"))\n",
    "\n"
   ]
  },
  {
   "cell_type": "markdown",
   "metadata": {},
   "source": [
    "## Houston flights"
   ]
  },
  {
   "cell_type": "markdown",
   "metadata": {},
   "source": [
    "Nous considérons le jeux de données `hflights` relatif à des vols au départ des aéroports *Houston George Bush Intercontinental Airport* (IAH) et *William P. Hobby Airport* (HOU)."
   ]
  },
  {
   "cell_type": "markdown",
   "metadata": {},
   "source": [
    "1. Charger le jeu de données dans un dataframe `hflights` à partir du fichier `hflights.csv`"
   ]
  },
  {
   "cell_type": "code",
   "execution_count": 31,
   "metadata": {},
   "outputs": [
    {
     "name": "stdout",
     "output_type": "stream",
     "text": [
      "        Year  Month  DayofMonth  DayOfWeek  DepTime  ArrTime UniqueCarrier  \\\n",
      "0       2011      1           1          6   1400.0   1500.0            AA   \n",
      "1       2011      1           2          7   1401.0   1501.0            AA   \n",
      "2       2011      1           3          1   1352.0   1502.0            AA   \n",
      "3       2011      1           4          2   1403.0   1513.0            AA   \n",
      "4       2011      1           5          3   1405.0   1507.0            AA   \n",
      "...      ...    ...         ...        ...      ...      ...           ...   \n",
      "227491  2011     12           6          2   1818.0   2111.0            WN   \n",
      "227492  2011     12           6          2   2047.0   2334.0            WN   \n",
      "227493  2011     12           6          2    912.0   1031.0            WN   \n",
      "227494  2011     12           6          2    656.0    812.0            WN   \n",
      "227495  2011     12           6          2   1600.0   1713.0            WN   \n",
      "\n",
      "        FlightNum TailNum  ActualElapsedTime  ...  ArrDelay  DepDelay  Origin  \\\n",
      "0             428  N576AA               60.0  ...     -10.0       0.0     IAH   \n",
      "1             428  N557AA               60.0  ...      -9.0       1.0     IAH   \n",
      "2             428  N541AA               70.0  ...      -8.0      -8.0     IAH   \n",
      "3             428  N403AA               70.0  ...       3.0       3.0     IAH   \n",
      "4             428  N492AA               62.0  ...      -3.0       5.0     IAH   \n",
      "...           ...     ...                ...  ...       ...       ...     ...   \n",
      "227491       1191  N284WN              113.0  ...      -9.0       8.0     HOU   \n",
      "227492       1674  N366SW              107.0  ...       4.0       7.0     HOU   \n",
      "227493        127  N777QC               79.0  ...      -4.0      -3.0     HOU   \n",
      "227494        621  N727SW               76.0  ...     -13.0      -4.0     HOU   \n",
      "227495       1597  N745SW               73.0  ...     -12.0       0.0     HOU   \n",
      "\n",
      "       Dest Distance  TaxiIn  TaxiOut  Cancelled  CancellationCode Diverted  \n",
      "0       DFW      224     7.0     13.0          0               NaN        0  \n",
      "1       DFW      224     6.0      9.0          0               NaN        0  \n",
      "2       DFW      224     5.0     17.0          0               NaN        0  \n",
      "3       DFW      224     9.0     22.0          0               NaN        0  \n",
      "4       DFW      224     9.0      9.0          0               NaN        0  \n",
      "...     ...      ...     ...      ...        ...               ...      ...  \n",
      "227491  TPA      781     5.0     11.0          0               NaN        0  \n",
      "227492  TPA      781     4.0      9.0          0               NaN        0  \n",
      "227493  TUL      453     4.0     14.0          0               NaN        0  \n",
      "227494  TUL      453     3.0      9.0          0               NaN        0  \n",
      "227495  TUL      453     3.0     11.0          0               NaN        0  \n",
      "\n",
      "[227496 rows x 21 columns]\n"
     ]
    }
   ],
   "source": [
    "hflights = pd.read_csv(\"data/hflights.csv\")\n",
    "print(hflights)"
   ]
  },
  {
   "cell_type": "markdown",
   "metadata": {},
   "source": [
    "2. Sélectionner les variable `Dest`, `Distance`, `TaxiIn` et `TaxiOut` avec la méthode `filter`."
   ]
  },
  {
   "cell_type": "code",
   "execution_count": 32,
   "metadata": {},
   "outputs": [
    {
     "data": {
      "text/html": [
       "<div>\n",
       "<style scoped>\n",
       "    .dataframe tbody tr th:only-of-type {\n",
       "        vertical-align: middle;\n",
       "    }\n",
       "\n",
       "    .dataframe tbody tr th {\n",
       "        vertical-align: top;\n",
       "    }\n",
       "\n",
       "    .dataframe thead th {\n",
       "        text-align: right;\n",
       "    }\n",
       "</style>\n",
       "<table border=\"1\" class=\"dataframe\">\n",
       "  <thead>\n",
       "    <tr style=\"text-align: right;\">\n",
       "      <th></th>\n",
       "      <th>Dest</th>\n",
       "      <th>Distance</th>\n",
       "      <th>TaxiIn</th>\n",
       "      <th>TaxiOut</th>\n",
       "    </tr>\n",
       "  </thead>\n",
       "  <tbody>\n",
       "    <tr>\n",
       "      <th>0</th>\n",
       "      <td>DFW</td>\n",
       "      <td>224</td>\n",
       "      <td>7.0</td>\n",
       "      <td>13.0</td>\n",
       "    </tr>\n",
       "    <tr>\n",
       "      <th>1</th>\n",
       "      <td>DFW</td>\n",
       "      <td>224</td>\n",
       "      <td>6.0</td>\n",
       "      <td>9.0</td>\n",
       "    </tr>\n",
       "    <tr>\n",
       "      <th>2</th>\n",
       "      <td>DFW</td>\n",
       "      <td>224</td>\n",
       "      <td>5.0</td>\n",
       "      <td>17.0</td>\n",
       "    </tr>\n",
       "    <tr>\n",
       "      <th>3</th>\n",
       "      <td>DFW</td>\n",
       "      <td>224</td>\n",
       "      <td>9.0</td>\n",
       "      <td>22.0</td>\n",
       "    </tr>\n",
       "    <tr>\n",
       "      <th>4</th>\n",
       "      <td>DFW</td>\n",
       "      <td>224</td>\n",
       "      <td>9.0</td>\n",
       "      <td>9.0</td>\n",
       "    </tr>\n",
       "    <tr>\n",
       "      <th>...</th>\n",
       "      <td>...</td>\n",
       "      <td>...</td>\n",
       "      <td>...</td>\n",
       "      <td>...</td>\n",
       "    </tr>\n",
       "    <tr>\n",
       "      <th>227491</th>\n",
       "      <td>TPA</td>\n",
       "      <td>781</td>\n",
       "      <td>5.0</td>\n",
       "      <td>11.0</td>\n",
       "    </tr>\n",
       "    <tr>\n",
       "      <th>227492</th>\n",
       "      <td>TPA</td>\n",
       "      <td>781</td>\n",
       "      <td>4.0</td>\n",
       "      <td>9.0</td>\n",
       "    </tr>\n",
       "    <tr>\n",
       "      <th>227493</th>\n",
       "      <td>TUL</td>\n",
       "      <td>453</td>\n",
       "      <td>4.0</td>\n",
       "      <td>14.0</td>\n",
       "    </tr>\n",
       "    <tr>\n",
       "      <th>227494</th>\n",
       "      <td>TUL</td>\n",
       "      <td>453</td>\n",
       "      <td>3.0</td>\n",
       "      <td>9.0</td>\n",
       "    </tr>\n",
       "    <tr>\n",
       "      <th>227495</th>\n",
       "      <td>TUL</td>\n",
       "      <td>453</td>\n",
       "      <td>3.0</td>\n",
       "      <td>11.0</td>\n",
       "    </tr>\n",
       "  </tbody>\n",
       "</table>\n",
       "<p>227496 rows × 4 columns</p>\n",
       "</div>"
      ],
      "text/plain": [
       "       Dest  Distance  TaxiIn  TaxiOut\n",
       "0       DFW       224     7.0     13.0\n",
       "1       DFW       224     6.0      9.0\n",
       "2       DFW       224     5.0     17.0\n",
       "3       DFW       224     9.0     22.0\n",
       "4       DFW       224     9.0      9.0\n",
       "...     ...       ...     ...      ...\n",
       "227491  TPA       781     5.0     11.0\n",
       "227492  TPA       781     4.0      9.0\n",
       "227493  TUL       453     4.0     14.0\n",
       "227494  TUL       453     3.0      9.0\n",
       "227495  TUL       453     3.0     11.0\n",
       "\n",
       "[227496 rows x 4 columns]"
      ]
     },
     "execution_count": 32,
     "metadata": {},
     "output_type": "execute_result"
    }
   ],
   "source": [
    "hflights.filter(items=[\"Dest\", \"Distance\", \"TaxiIn\", \"TaxiOut\"])"
   ]
  },
  {
   "cell_type": "markdown",
   "metadata": {},
   "source": [
    "3. Sélectionner les variables `DepTime`, `ArrTime`, `ActualElapsedTime` et `AirTime` avec la méthode `filter` et le paramètre `like`."
   ]
  },
  {
   "cell_type": "code",
   "execution_count": 33,
   "metadata": {},
   "outputs": [
    {
     "data": {
      "text/html": [
       "<div>\n",
       "<style scoped>\n",
       "    .dataframe tbody tr th:only-of-type {\n",
       "        vertical-align: middle;\n",
       "    }\n",
       "\n",
       "    .dataframe tbody tr th {\n",
       "        vertical-align: top;\n",
       "    }\n",
       "\n",
       "    .dataframe thead th {\n",
       "        text-align: right;\n",
       "    }\n",
       "</style>\n",
       "<table border=\"1\" class=\"dataframe\">\n",
       "  <thead>\n",
       "    <tr style=\"text-align: right;\">\n",
       "      <th></th>\n",
       "      <th>DepTime</th>\n",
       "      <th>ArrTime</th>\n",
       "      <th>ActualElapsedTime</th>\n",
       "      <th>AirTime</th>\n",
       "    </tr>\n",
       "  </thead>\n",
       "  <tbody>\n",
       "    <tr>\n",
       "      <th>0</th>\n",
       "      <td>1400.0</td>\n",
       "      <td>1500.0</td>\n",
       "      <td>60.0</td>\n",
       "      <td>40.0</td>\n",
       "    </tr>\n",
       "    <tr>\n",
       "      <th>1</th>\n",
       "      <td>1401.0</td>\n",
       "      <td>1501.0</td>\n",
       "      <td>60.0</td>\n",
       "      <td>45.0</td>\n",
       "    </tr>\n",
       "    <tr>\n",
       "      <th>2</th>\n",
       "      <td>1352.0</td>\n",
       "      <td>1502.0</td>\n",
       "      <td>70.0</td>\n",
       "      <td>48.0</td>\n",
       "    </tr>\n",
       "    <tr>\n",
       "      <th>3</th>\n",
       "      <td>1403.0</td>\n",
       "      <td>1513.0</td>\n",
       "      <td>70.0</td>\n",
       "      <td>39.0</td>\n",
       "    </tr>\n",
       "    <tr>\n",
       "      <th>4</th>\n",
       "      <td>1405.0</td>\n",
       "      <td>1507.0</td>\n",
       "      <td>62.0</td>\n",
       "      <td>44.0</td>\n",
       "    </tr>\n",
       "    <tr>\n",
       "      <th>...</th>\n",
       "      <td>...</td>\n",
       "      <td>...</td>\n",
       "      <td>...</td>\n",
       "      <td>...</td>\n",
       "    </tr>\n",
       "    <tr>\n",
       "      <th>227491</th>\n",
       "      <td>1818.0</td>\n",
       "      <td>2111.0</td>\n",
       "      <td>113.0</td>\n",
       "      <td>97.0</td>\n",
       "    </tr>\n",
       "    <tr>\n",
       "      <th>227492</th>\n",
       "      <td>2047.0</td>\n",
       "      <td>2334.0</td>\n",
       "      <td>107.0</td>\n",
       "      <td>94.0</td>\n",
       "    </tr>\n",
       "    <tr>\n",
       "      <th>227493</th>\n",
       "      <td>912.0</td>\n",
       "      <td>1031.0</td>\n",
       "      <td>79.0</td>\n",
       "      <td>61.0</td>\n",
       "    </tr>\n",
       "    <tr>\n",
       "      <th>227494</th>\n",
       "      <td>656.0</td>\n",
       "      <td>812.0</td>\n",
       "      <td>76.0</td>\n",
       "      <td>64.0</td>\n",
       "    </tr>\n",
       "    <tr>\n",
       "      <th>227495</th>\n",
       "      <td>1600.0</td>\n",
       "      <td>1713.0</td>\n",
       "      <td>73.0</td>\n",
       "      <td>59.0</td>\n",
       "    </tr>\n",
       "  </tbody>\n",
       "</table>\n",
       "<p>227496 rows × 4 columns</p>\n",
       "</div>"
      ],
      "text/plain": [
       "        DepTime  ArrTime  ActualElapsedTime  AirTime\n",
       "0        1400.0   1500.0               60.0     40.0\n",
       "1        1401.0   1501.0               60.0     45.0\n",
       "2        1352.0   1502.0               70.0     48.0\n",
       "3        1403.0   1513.0               70.0     39.0\n",
       "4        1405.0   1507.0               62.0     44.0\n",
       "...         ...      ...                ...      ...\n",
       "227491   1818.0   2111.0              113.0     97.0\n",
       "227492   2047.0   2334.0              107.0     94.0\n",
       "227493    912.0   1031.0               79.0     61.0\n",
       "227494    656.0    812.0               76.0     64.0\n",
       "227495   1600.0   1713.0               73.0     59.0\n",
       "\n",
       "[227496 rows x 4 columns]"
      ]
     },
     "execution_count": 33,
     "metadata": {},
     "output_type": "execute_result"
    }
   ],
   "source": [
    "hflights.filter(like=\"Time\")"
   ]
  },
  {
   "cell_type": "markdown",
   "metadata": {},
   "source": [
    "4. Ajouter une variable `ActualGroundTime` qui correspond à `ActualElapsedTime` moins `AirTime`."
   ]
  },
  {
   "cell_type": "code",
   "execution_count": 51,
   "metadata": {},
   "outputs": [],
   "source": [
    "hflights[\"ActualGroundTime\"] = hflights[\"ActualElapsedTime\"] - hflights[\"AirTime\"]"
   ]
  },
  {
   "cell_type": "markdown",
   "metadata": {},
   "source": [
    "5. Ajouter une variable `AverageSpeed` qui donne la vitesse moyenne du vol et ordonner la table selon les valeurs décroissantes de cette variable."
   ]
  },
  {
   "cell_type": "code",
   "execution_count": 58,
   "metadata": {},
   "outputs": [
    {
     "name": "stdout",
     "output_type": "stream",
     "text": [
      "        AverageSpeed  Distance  AirTime\n",
      "147589    763.636364       140     11.0\n",
      "8318      670.000000       469     42.0\n",
      "34761     644.470588       913     85.0\n",
      "185953    639.574468       501     47.0\n",
      "40764     618.292683       845     82.0\n",
      "...              ...       ...      ...\n",
      "227134           NaN      1246      NaN\n",
      "227153           NaN       239      NaN\n",
      "227271           NaN       239      NaN\n",
      "227302           NaN       359      NaN\n",
      "227394           NaN       239      NaN\n",
      "\n",
      "[227496 rows x 3 columns]\n"
     ]
    }
   ],
   "source": [
    "hflights[\"AverageSpeed\"] = hflights[\"Distance\"] / (hflights[\"AirTime\"] / 60) # (hflights[\"ArrTime\"] - hflights[\"DepTime\"])\n",
    "\n",
    "print(hflights.filter(items=[\"AverageSpeed\", \"Distance\", \"AirTime\"]).sort_values(by=\"AverageSpeed\", ascending=False))\n",
    "\n"
   ]
  },
  {
   "cell_type": "markdown",
   "metadata": {},
   "source": [
    "6. Sélectionner les vols à destination de `JFK`."
   ]
  },
  {
   "cell_type": "code",
   "execution_count": 62,
   "metadata": {},
   "outputs": [
    {
     "name": "stdout",
     "output_type": "stream",
     "text": [
      "        Year  Month  DayofMonth  DayOfWeek  DepTime  ArrTime UniqueCarrier  \\\n",
      "304     2011      1           1          6    654.0   1124.0            B6   \n",
      "305     2011      1           1          6   1639.0   2110.0            B6   \n",
      "306     2011      1           2          7    703.0   1113.0            B6   \n",
      "307     2011      1           2          7   1604.0   2040.0            B6   \n",
      "308     2011      1           3          1    659.0   1100.0            B6   \n",
      "...      ...    ...         ...        ...      ...      ...           ...   \n",
      "208752  2011     12          29          4   1541.0   1959.0            B6   \n",
      "208753  2011     12          30          5    634.0   1040.0            B6   \n",
      "208754  2011     12          30          5   1541.0   1957.0            B6   \n",
      "208755  2011     12          31          6    831.0   1251.0            B6   \n",
      "208756  2011     12          31          6   1544.0   2009.0            B6   \n",
      "\n",
      "        FlightNum TailNum  ActualElapsedTime  ...  Origin  Dest  Distance  \\\n",
      "304           620  N324JB              210.0  ...     HOU   JFK      1428   \n",
      "305           622  N324JB              211.0  ...     HOU   JFK      1428   \n",
      "306           620  N324JB              190.0  ...     HOU   JFK      1428   \n",
      "307           622  N324JB              216.0  ...     HOU   JFK      1428   \n",
      "308           620  N229JB              181.0  ...     HOU   JFK      1428   \n",
      "...           ...     ...                ...  ...     ...   ...       ...   \n",
      "208752        622  N206JB              198.0  ...     HOU   JFK      1428   \n",
      "208753        620  N317JB              186.0  ...     HOU   JFK      1428   \n",
      "208754        622  N296JB              196.0  ...     HOU   JFK      1428   \n",
      "208755        620  N247JB              200.0  ...     HOU   JFK      1428   \n",
      "208756        622  N323JB              205.0  ...     HOU   JFK      1428   \n",
      "\n",
      "       TaxiIn TaxiOut  Cancelled  CancellationCode  Diverted  \\\n",
      "304       6.0    23.0          0               NaN         0   \n",
      "305      12.0    11.0          0               NaN         0   \n",
      "306       6.0    12.0          0               NaN         0   \n",
      "307       9.0    31.0          0               NaN         0   \n",
      "308       3.0    12.0          0               NaN         0   \n",
      "...       ...     ...        ...               ...       ...   \n",
      "208752    7.0     8.0          0               NaN         0   \n",
      "208753    4.0    12.0          0               NaN         0   \n",
      "208754    5.0    10.0          0               NaN         0   \n",
      "208755    5.0    20.0          0               NaN         0   \n",
      "208756    4.0    11.0          0               NaN         0   \n",
      "\n",
      "        ActualGroundTime AverageSpeed  \n",
      "304                 29.0   473.370166  \n",
      "305                 23.0   455.744681  \n",
      "306                 18.0   498.139535  \n",
      "307                 40.0   486.818182  \n",
      "308                 15.0   516.144578  \n",
      "...                  ...          ...  \n",
      "208752              15.0   468.196721  \n",
      "208753              16.0   504.000000  \n",
      "208754              15.0   473.370166  \n",
      "208755              25.0   489.600000  \n",
      "208756              15.0   450.947368  \n",
      "\n",
      "[695 rows x 23 columns]\n"
     ]
    }
   ],
   "source": [
    "print(hflights[hflights.Dest == \"JFK\"])"
   ]
  },
  {
   "cell_type": "markdown",
   "metadata": {},
   "source": [
    "7. Compter le nombre de vols à destination de `JFK`."
   ]
  },
  {
   "cell_type": "code",
   "execution_count": 63,
   "metadata": {},
   "outputs": [
    {
     "name": "stdout",
     "output_type": "stream",
     "text": [
      "Year                 695\n",
      "Month                695\n",
      "DayofMonth           695\n",
      "DayOfWeek            695\n",
      "DepTime              677\n",
      "ArrTime              677\n",
      "UniqueCarrier        695\n",
      "FlightNum            695\n",
      "TailNum              695\n",
      "ActualElapsedTime    673\n",
      "AirTime              673\n",
      "ArrDelay             673\n",
      "DepDelay             677\n",
      "Origin               695\n",
      "Dest                 695\n",
      "Distance             695\n",
      "TaxiIn               677\n",
      "TaxiOut              677\n",
      "Cancelled            695\n",
      "CancellationCode      18\n",
      "Diverted             695\n",
      "ActualGroundTime     673\n",
      "AverageSpeed         673\n",
      "dtype: int64\n"
     ]
    }
   ],
   "source": [
    "print(hflights[hflights.Dest == \"JFK\"].count())"
   ]
  },
  {
   "cell_type": "markdown",
   "metadata": {},
   "source": [
    "8. Agréger les données `hflights` pour obtenir :\n",
    "- `n` : le nombre total de vols,\n",
    "- `n_dest`: le nombre total de destinations distinctes,\n",
    "- `n_carrier` : le nombre total de compagnies distinctes."
   ]
  },
  {
   "cell_type": "code",
   "execution_count": null,
   "metadata": {},
   "outputs": [
    {
     "name": "stdout",
     "output_type": "stream",
     "text": [
      "227496\n",
      "116\n",
      "15\n"
     ]
    }
   ],
   "source": [
    "n = len(hflights)\n",
    "print(n)\n",
    "\n",
    "#print(hflights.groupby(hflights.Dest).agg([\"count\"]))\n",
    "#attention à count : compte les valeurs non vides\n",
    "n_dest = len(hflights.Dest.unique())\n",
    "print(n_dest)\n",
    "\n",
    "n_carrier = len(hflights.UniqueCarrier.unique())\n",
    "print(n_carrier)"
   ]
  },
  {
   "cell_type": "markdown",
   "metadata": {},
   "source": [
    "9. Agréger les données des vols de la compagnie `AA` pour obtenir :\n",
    "- le nombre total de vols,\n",
    "- le nombre total de vols annulés,\n",
    "- la valeur moyenne de `ArrDelay`."
   ]
  },
  {
   "cell_type": "code",
   "execution_count": 98,
   "metadata": {},
   "outputs": [
    {
     "name": "stdout",
     "output_type": "stream",
     "text": [
      "3244\n",
      "60\n",
      "0.8917558212712398\n"
     ]
    }
   ],
   "source": [
    "AA = hflights[hflights.UniqueCarrier==\"AA\"]\n",
    "\n",
    "nb_vols_AA = len(AA)\n",
    "print(nb_vols_AA)\n",
    "\n",
    "AA_annule = AA[AA.Cancelled==1]\n",
    "print(len(AA_annule[\"Cancelled\"]))\n",
    "\n",
    "print(AA[\"ArrDelay\"].mean())"
   ]
  },
  {
   "cell_type": "markdown",
   "metadata": {},
   "source": [
    "10. Calculer pour chaque compagnie :\n",
    "- le nombre total de vols,\n",
    "- la valeur moyenne de `AirTime`."
   ]
  },
  {
   "cell_type": "code",
   "execution_count": 99,
   "metadata": {},
   "outputs": [
    {
     "name": "stdout",
     "output_type": "stream",
     "text": [
      "               NbVols  AirTimeMean\n",
      "UniqueCarrier                     \n",
      "AA               3244    69.652612\n",
      "AS                365   254.184066\n",
      "B6                695   183.985141\n",
      "CO              70032   145.457873\n",
      "DL               2641    97.801235\n",
      "EV               2204   103.656766\n",
      "F9                838   125.341346\n",
      "FL               2139    92.706300\n",
      "MQ               4648    93.839476\n",
      "OO              16061   113.410684\n",
      "UA               2072   157.406296\n",
      "US               4082   133.856328\n",
      "WN              45343    86.731341\n",
      "XE              73053    83.222146\n",
      "YV                 79   121.935897\n"
     ]
    }
   ],
   "source": [
    "print(\n",
    "    hflights\n",
    "    .groupby(hflights.UniqueCarrier)\n",
    "    .agg(\n",
    "        NbVols=pd.NamedAgg(column=\"FlightNum\", aggfunc=\"count\"),\n",
    "        AirTimeMean=pd.NamedAgg(column=\"AirTime\", aggfunc=\"mean\"),\n",
    "    )\n",
    ")\n"
   ]
  },
  {
   "cell_type": "markdown",
   "metadata": {},
   "source": [
    "11. Ordonner les compagnies en fonction des retards moyens au départ."
   ]
  },
  {
   "cell_type": "code",
   "execution_count": 101,
   "metadata": {},
   "outputs": [
    {
     "name": "stdout",
     "output_type": "stream",
     "text": [
      "               DepDelayMean\n",
      "UniqueCarrier              \n",
      "YV                 1.538462\n",
      "US                 1.622926\n",
      "AS                 3.712329\n",
      "FL                 4.716376\n",
      "F9                 5.093637\n",
      "AA                 6.390144\n",
      "XE                 7.713728\n",
      "OO                 8.885482\n",
      "CO                 9.261313\n",
      "DL                 9.370627\n",
      "MQ                11.071745\n",
      "EV                12.482193\n",
      "UA                12.918707\n",
      "B6                13.320532\n",
      "WN                13.488241\n"
     ]
    }
   ],
   "source": [
    "print(\n",
    "    hflights\n",
    "    .groupby(hflights.UniqueCarrier)\n",
    "    .agg(\n",
    "        DepDelayMean=pd.NamedAgg(column=\"DepDelay\", aggfunc=\"mean\"),\n",
    "    )\n",
    "    .sort_values(by=\"DepDelayMean\")\n",
    ")\n"
   ]
  }
 ],
 "metadata": {
  "kernelspec": {
   "display_name": "base",
   "language": "python",
   "name": "python3"
  },
  "language_info": {
   "codemirror_mode": {
    "name": "ipython",
    "version": 3
   },
   "file_extension": ".py",
   "mimetype": "text/x-python",
   "name": "python",
   "nbconvert_exporter": "python",
   "pygments_lexer": "ipython3",
   "version": "3.12.9"
  }
 },
 "nbformat": 4,
 "nbformat_minor": 2
}
