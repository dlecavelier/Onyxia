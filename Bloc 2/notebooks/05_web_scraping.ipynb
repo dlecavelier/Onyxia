{
 "cells": [
  {
   "cell_type": "markdown",
   "metadata": {},
   "source": [
    "# Notebook 5 : Web scraping"
   ]
  },
  {
   "cell_type": "code",
   "execution_count": null,
   "metadata": {},
   "outputs": [
    {
     "name": "stdout",
     "output_type": "stream",
     "text": [
      "Defaulting to user installation because normal site-packages is not writeable\n",
      "Requirement already satisfied: lxml in c:\\programdata\\anaconda3\\lib\\site-packages (4.9.2)\n"
     ]
    }
   ],
   "source": [
    "# Décommenter la ligne suivante pour installer lxml (nécessaire pour read_html)\n",
    "#!pip install lxml"
   ]
  },
  {
   "cell_type": "code",
   "execution_count": 4,
   "metadata": {},
   "outputs": [],
   "source": [
    "import pandas as pd\n",
    "import requests\n",
    "\n",
    "from bs4 import BeautifulSoup"
   ]
  },
  {
   "cell_type": "markdown",
   "metadata": {},
   "source": [
    "## Bonsaïs"
   ]
  },
  {
   "cell_type": "markdown",
   "metadata": {},
   "source": [
    "Le site [Umi Zen Bonsai](https://umizenbonsai.com/) est une boutique de vente en ligne dédiée aux bonsaïs. Les conifères sont disponible sur la page web [https://umizenbonsai.com/shop/bonsai/coniferes/](https://umizenbonsai.com/shop/bonsai/coniferes/). Comme beaucoup d'autres sites, l'information est organisée en blocs dans lesquels il est possible de récupérer des données.\n",
    "\n",
    "Pour scraper ce type de site, le processus consiste à capturer les blocs dans un premier temps, puis à en extraire les données."
   ]
  },
  {
   "cell_type": "markdown",
   "metadata": {},
   "source": [
    "1. Récupérer le contenu de la page avec `requests` et passer le résultat au parser de `BeautifulSoup`."
   ]
  },
  {
   "cell_type": "code",
   "execution_count": null,
   "metadata": {},
   "outputs": [],
   "source": [
    "#https://umizenbonsai.com/shop/bonsai/coniferes/\n",
    "\n",
    "url_zenbonsai = \"https://umizenbonsai.com/shop/bonsai/coniferes/\"\n",
    "\n",
    "zenbonsai = requests.get(url_zenbonsai)\n",
    "assert zenbonsai.status_code == 200, f\"Erreur {zenbonsai.status_code}\"\n",
    "\n",
    "soup_zenbonsai = BeautifulSoup(zenbonsai.text, \"html.parser\")"
   ]
  },
  {
   "cell_type": "markdown",
   "metadata": {},
   "source": [
    "2. Écrire un sélecteur CSS pour capturer les éléments `li` qui contiennent les blocs correspondants aux bonsaïs. Vérifier sur le site que le nombre de bonsaïs affichés correspond."
   ]
  },
  {
   "cell_type": "code",
   "execution_count": null,
   "metadata": {},
   "outputs": [
    {
     "name": "stdout",
     "output_type": "stream",
     "text": [
      "<li class=\"title\"><h2><a href=\"https://umizenbonsai.com/vente/bonsai-cypres-du-japon/\">Bonsai Cyprès du Japon – 33cm</a></h2></li>\n",
      "<li class=\"title\"><h2><a href=\"https://umizenbonsai.com/vente/bonsai-genevrier-de-phenicie/\">Bonsai Genévrier de Phénicie – 59cm</a></h2></li>\n",
      "<li class=\"title\"><h2><a href=\"https://umizenbonsai.com/vente/bonsai-genevrier-phenicie/\">Bonsai Genévrier de Phénicie – 67cm</a></h2></li>\n",
      "<li class=\"title\"><h2><a href=\"https://umizenbonsai.com/vente/bonsai-if-commun-2/\">Bonsai If Commun – 58cm</a></h2></li>\n",
      "<li class=\"title\"><h2><a href=\"https://umizenbonsai.com/vente/bonsai-if-commun/\">Bonsai If Commun – 85cm</a></h2></li>\n",
      "<li class=\"title\"><h2><a href=\"https://umizenbonsai.com/vente/bonsai-if-du-japon/\">Bonsai If du Japon – 50cm</a></h2></li>\n",
      "<li class=\"title\"><h2><a href=\"https://umizenbonsai.com/vente/bonsai-if-japon/\">Bonsai If du Japon – 63cm</a></h2></li>\n",
      "<li class=\"title\"><h2><a href=\"https://umizenbonsai.com/vente/bonsai-pin-sylvestre-3/\">Bonsai Pin Sylvestre – 38cm</a></h2></li>\n",
      "<li class=\"title\"><h2><a href=\"https://umizenbonsai.com/vente/bonsai-pin-sylvestre-4/\">Bonsai Pin Sylvestre – 65cm</a></h2></li>\n"
     ]
    }
   ],
   "source": [
    "selector_bonsais = \".product-inner\"\n",
    "bonsais = soup_zenbonsai.select(selector_bonsais)\n",
    "\n",
    "for bonsai in bonsais:\n",
    "    selector_price = \".woocommerce-Price-amount\"\n",
    "    price = bonsai.select(selector_price)[0]\n",
    "\n",
    "    selector_title = \".title\"\n",
    "    title = bonsai.select(selector_title)[0]\n",
    "\n",
    "    print(title)\n",
    "    \n",
    "    #print(title.text + \" : \" + price.text + \" / \" + title_href)\n"
   ]
  },
  {
   "cell_type": "markdown",
   "metadata": {},
   "source": [
    "3. Écrire une fonction qui prend un bloc de la liste précédente et retourne un tuple contenant le nom, le prix et le lien de description du bonsaï."
   ]
  },
  {
   "cell_type": "code",
   "execution_count": null,
   "metadata": {},
   "outputs": [],
   "source": []
  },
  {
   "cell_type": "markdown",
   "metadata": {},
   "source": [
    "4. Utiliser les deux questions précédentes pour construire un dataframe contenant les données des bonsaïs."
   ]
  },
  {
   "cell_type": "code",
   "execution_count": null,
   "metadata": {},
   "outputs": [],
   "source": []
  },
  {
   "cell_type": "markdown",
   "metadata": {},
   "source": [
    "5. (*Bonus*) Écrire une fonction pour récupérer la provenance, le feuilage et les dimension du bonsaï à partir du lien de description. Utiliser cette fonction pour ajouter des colonnes au dataframe précédent"
   ]
  },
  {
   "cell_type": "code",
   "execution_count": null,
   "metadata": {},
   "outputs": [],
   "source": []
  },
  {
   "cell_type": "markdown",
   "metadata": {},
   "source": [
    "## Trampoline"
   ]
  },
  {
   "cell_type": "markdown",
   "metadata": {},
   "source": [
    "Le trampoline est un sport olympique depuis les jeux de Sydney en 2000. La page suivante contient les listes des hommes et des femmes ayant obtenu une médaille olympique dans cette discipline :\n",
    "[https://fr.wikipedia.org/wiki/Liste_des_m%C3%A9daill%C3%A9s_olympiques_au_trampoline](https://fr.wikipedia.org/wiki/Liste_des_m%C3%A9daill%C3%A9s_olympiques_au_trampoline)\n",
    "\n",
    "Un tableau est contenu dans un élément `table` avec des balises pour les lignes `tr`, pour les colonnes `th`, pour les cellules `td`, ... Cela peut être fastidieux à scraper et très répétitif. Heureusement, Pandas propose la fonction `read_html` pour récupérer des tableaux sous forme de dataframes à partir d'une page web."
   ]
  },
  {
   "cell_type": "markdown",
   "metadata": {},
   "source": [
    "1. Utiliser la fonction `read_html` de Pandas sur la page des médaillés olympiques au trampoline. Combien de dataframes sont récupérés ?"
   ]
  },
  {
   "cell_type": "code",
   "execution_count": null,
   "metadata": {},
   "outputs": [],
   "source": []
  },
  {
   "cell_type": "markdown",
   "metadata": {},
   "source": [
    "2. Extraire de la liste précédente les dataframes des médailles masculines et féminines."
   ]
  },
  {
   "cell_type": "code",
   "execution_count": null,
   "metadata": {},
   "outputs": [],
   "source": []
  },
  {
   "cell_type": "markdown",
   "metadata": {},
   "source": [
    "3. À partir de ces dataframes, compter combien chaque pays a reçu de médailles d'or, d'argent et de bronze."
   ]
  },
  {
   "cell_type": "code",
   "execution_count": null,
   "metadata": {},
   "outputs": [],
   "source": []
  },
  {
   "cell_type": "markdown",
   "metadata": {},
   "source": [
    "4. (*Bonus*) Construire un dataframe contenant, pour chaque pays, le nombre de médailles d'or, d'argent et de bronze ainsi que le nombre total de médailles. Classer ce dataframe dans l'ordre usuel en fonction d'abord du nombre de médailles d'or, puis du nombre de médailles d'argent et enfin du nombre de médailles de bronze. Comparer le résultat avec le tableau des médailles sur la page [https://fr.wikipedia.org/wiki/Trampoline_aux_Jeux_olympiques](https://fr.wikipedia.org/wiki/Trampoline_aux_Jeux_olympiques)."
   ]
  },
  {
   "cell_type": "code",
   "execution_count": null,
   "metadata": {},
   "outputs": [],
   "source": []
  },
  {
   "cell_type": "markdown",
   "metadata": {},
   "source": [
    "## Cate Blanchett"
   ]
  },
  {
   "cell_type": "markdown",
   "metadata": {},
   "source": [
    "Dans le cours, nous avons essayé de trouver avec quels acteurs Cate Blanchett a joué le plus au cours des années 2000. Pour cela, nous avons récupéré la liste des pages Wikipedia des films où elle tient un rôle avec le code suivant :"
   ]
  },
  {
   "cell_type": "code",
   "execution_count": 5,
   "metadata": {},
   "outputs": [
    {
     "data": {
      "text/html": [
       "<div>\n",
       "<style scoped>\n",
       "    .dataframe tbody tr th:only-of-type {\n",
       "        vertical-align: middle;\n",
       "    }\n",
       "\n",
       "    .dataframe tbody tr th {\n",
       "        vertical-align: top;\n",
       "    }\n",
       "\n",
       "    .dataframe thead th {\n",
       "        text-align: right;\n",
       "    }\n",
       "</style>\n",
       "<table border=\"1\" class=\"dataframe\">\n",
       "  <thead>\n",
       "    <tr style=\"text-align: right;\">\n",
       "      <th></th>\n",
       "      <th>titre</th>\n",
       "      <th>url_wikipedia</th>\n",
       "    </tr>\n",
       "  </thead>\n",
       "  <tbody>\n",
       "    <tr>\n",
       "      <th>0</th>\n",
       "      <td>Les Larmes d'un homme</td>\n",
       "      <td>https://fr.wikipedia.org/wiki/Les_Larmes_d%27u...</td>\n",
       "    </tr>\n",
       "    <tr>\n",
       "      <th>1</th>\n",
       "      <td>Intuitions</td>\n",
       "      <td>https://fr.wikipedia.org/wiki/Intuitions</td>\n",
       "    </tr>\n",
       "    <tr>\n",
       "      <th>2</th>\n",
       "      <td>Bandits (film, 2001)</td>\n",
       "      <td>https://fr.wikipedia.org/wiki/Bandits_(film,_2...</td>\n",
       "    </tr>\n",
       "    <tr>\n",
       "      <th>3</th>\n",
       "      <td>Le Seigneur des anneaux : La Communauté de l'a...</td>\n",
       "      <td>https://fr.wikipedia.org/wiki/Le_Seigneur_des_...</td>\n",
       "    </tr>\n",
       "    <tr>\n",
       "      <th>4</th>\n",
       "      <td>Charlotte Gray</td>\n",
       "      <td>https://fr.wikipedia.org/wiki/Charlotte_Gray</td>\n",
       "    </tr>\n",
       "    <tr>\n",
       "      <th>5</th>\n",
       "      <td>Terre Neuve (film)</td>\n",
       "      <td>https://fr.wikipedia.org/wiki/Terre_Neuve_(film)</td>\n",
       "    </tr>\n",
       "    <tr>\n",
       "      <th>6</th>\n",
       "      <td>Heaven (film, 2002)</td>\n",
       "      <td>https://fr.wikipedia.org/wiki/Heaven_(film,_2002)</td>\n",
       "    </tr>\n",
       "    <tr>\n",
       "      <th>7</th>\n",
       "      <td>Le Seigneur des anneaux : Les Deux Tours</td>\n",
       "      <td>https://fr.wikipedia.org/wiki/Le_Seigneur_des_...</td>\n",
       "    </tr>\n",
       "    <tr>\n",
       "      <th>8</th>\n",
       "      <td>Veronica Guerin (film)</td>\n",
       "      <td>https://fr.wikipedia.org/wiki/Veronica_Guerin_...</td>\n",
       "    </tr>\n",
       "    <tr>\n",
       "      <th>9</th>\n",
       "      <td>Coffee and Cigarettes</td>\n",
       "      <td>https://fr.wikipedia.org/wiki/Coffee_and_Cigar...</td>\n",
       "    </tr>\n",
       "    <tr>\n",
       "      <th>10</th>\n",
       "      <td>Les Disparues</td>\n",
       "      <td>https://fr.wikipedia.org/wiki/Les_Disparues</td>\n",
       "    </tr>\n",
       "    <tr>\n",
       "      <th>11</th>\n",
       "      <td>Le Seigneur des anneaux : Le Retour du roi</td>\n",
       "      <td>https://fr.wikipedia.org/wiki/Le_Seigneur_des_...</td>\n",
       "    </tr>\n",
       "    <tr>\n",
       "      <th>12</th>\n",
       "      <td>La Vie aquatique</td>\n",
       "      <td>https://fr.wikipedia.org/wiki/La_Vie_aquatique</td>\n",
       "    </tr>\n",
       "    <tr>\n",
       "      <th>13</th>\n",
       "      <td>Aviator</td>\n",
       "      <td>https://fr.wikipedia.org/wiki/Aviator</td>\n",
       "    </tr>\n",
       "    <tr>\n",
       "      <th>14</th>\n",
       "      <td>Little Fish (film, 2005)</td>\n",
       "      <td>https://fr.wikipedia.org/wiki/Little_Fish_(fil...</td>\n",
       "    </tr>\n",
       "    <tr>\n",
       "      <th>15</th>\n",
       "      <td>Babel (film, 2006)</td>\n",
       "      <td>https://fr.wikipedia.org/wiki/Babel_(film,_2006)</td>\n",
       "    </tr>\n",
       "    <tr>\n",
       "      <th>16</th>\n",
       "      <td>The Good German</td>\n",
       "      <td>https://fr.wikipedia.org/wiki/The_Good_German</td>\n",
       "    </tr>\n",
       "    <tr>\n",
       "      <th>17</th>\n",
       "      <td>Chronique d'un scandale</td>\n",
       "      <td>https://fr.wikipedia.org/wiki/Chronique_d%27un...</td>\n",
       "    </tr>\n",
       "    <tr>\n",
       "      <th>18</th>\n",
       "      <td>Hot Fuzz</td>\n",
       "      <td>https://fr.wikipedia.org/wiki/Hot_Fuzz</td>\n",
       "    </tr>\n",
       "    <tr>\n",
       "      <th>19</th>\n",
       "      <td>I'm Not There</td>\n",
       "      <td>https://fr.wikipedia.org/wiki/I%27m_Not_There</td>\n",
       "    </tr>\n",
       "    <tr>\n",
       "      <th>20</th>\n",
       "      <td>Elizabeth : L'Âge d'or</td>\n",
       "      <td>https://fr.wikipedia.org/wiki/Elizabeth_:_L%27...</td>\n",
       "    </tr>\n",
       "    <tr>\n",
       "      <th>21</th>\n",
       "      <td>Ponyo sur la falaise</td>\n",
       "      <td>https://fr.wikipedia.org/wiki/Ponyo_sur_la_fal...</td>\n",
       "    </tr>\n",
       "    <tr>\n",
       "      <th>22</th>\n",
       "      <td>Indiana Jones et le Royaume du crâne de cristal</td>\n",
       "      <td>https://fr.wikipedia.org/wiki/Indiana_Jones_et...</td>\n",
       "    </tr>\n",
       "    <tr>\n",
       "      <th>23</th>\n",
       "      <td>L'Étrange Histoire de Benjamin Button (film)</td>\n",
       "      <td>https://fr.wikipedia.org/wiki/L%27%C3%89trange...</td>\n",
       "    </tr>\n",
       "  </tbody>\n",
       "</table>\n",
       "</div>"
      ],
      "text/plain": [
       "                                                titre  \\\n",
       "0                               Les Larmes d'un homme   \n",
       "1                                          Intuitions   \n",
       "2                                Bandits (film, 2001)   \n",
       "3   Le Seigneur des anneaux : La Communauté de l'a...   \n",
       "4                                      Charlotte Gray   \n",
       "5                                  Terre Neuve (film)   \n",
       "6                                 Heaven (film, 2002)   \n",
       "7            Le Seigneur des anneaux : Les Deux Tours   \n",
       "8                              Veronica Guerin (film)   \n",
       "9                               Coffee and Cigarettes   \n",
       "10                                      Les Disparues   \n",
       "11         Le Seigneur des anneaux : Le Retour du roi   \n",
       "12                                   La Vie aquatique   \n",
       "13                                            Aviator   \n",
       "14                           Little Fish (film, 2005)   \n",
       "15                                 Babel (film, 2006)   \n",
       "16                                    The Good German   \n",
       "17                            Chronique d'un scandale   \n",
       "18                                           Hot Fuzz   \n",
       "19                                      I'm Not There   \n",
       "20                             Elizabeth : L'Âge d'or   \n",
       "21                               Ponyo sur la falaise   \n",
       "22    Indiana Jones et le Royaume du crâne de cristal   \n",
       "23       L'Étrange Histoire de Benjamin Button (film)   \n",
       "\n",
       "                                        url_wikipedia  \n",
       "0   https://fr.wikipedia.org/wiki/Les_Larmes_d%27u...  \n",
       "1            https://fr.wikipedia.org/wiki/Intuitions  \n",
       "2   https://fr.wikipedia.org/wiki/Bandits_(film,_2...  \n",
       "3   https://fr.wikipedia.org/wiki/Le_Seigneur_des_...  \n",
       "4        https://fr.wikipedia.org/wiki/Charlotte_Gray  \n",
       "5    https://fr.wikipedia.org/wiki/Terre_Neuve_(film)  \n",
       "6   https://fr.wikipedia.org/wiki/Heaven_(film,_2002)  \n",
       "7   https://fr.wikipedia.org/wiki/Le_Seigneur_des_...  \n",
       "8   https://fr.wikipedia.org/wiki/Veronica_Guerin_...  \n",
       "9   https://fr.wikipedia.org/wiki/Coffee_and_Cigar...  \n",
       "10        https://fr.wikipedia.org/wiki/Les_Disparues  \n",
       "11  https://fr.wikipedia.org/wiki/Le_Seigneur_des_...  \n",
       "12     https://fr.wikipedia.org/wiki/La_Vie_aquatique  \n",
       "13              https://fr.wikipedia.org/wiki/Aviator  \n",
       "14  https://fr.wikipedia.org/wiki/Little_Fish_(fil...  \n",
       "15   https://fr.wikipedia.org/wiki/Babel_(film,_2006)  \n",
       "16      https://fr.wikipedia.org/wiki/The_Good_German  \n",
       "17  https://fr.wikipedia.org/wiki/Chronique_d%27un...  \n",
       "18             https://fr.wikipedia.org/wiki/Hot_Fuzz  \n",
       "19      https://fr.wikipedia.org/wiki/I%27m_Not_There  \n",
       "20  https://fr.wikipedia.org/wiki/Elizabeth_:_L%27...  \n",
       "21  https://fr.wikipedia.org/wiki/Ponyo_sur_la_fal...  \n",
       "22  https://fr.wikipedia.org/wiki/Indiana_Jones_et...  \n",
       "23  https://fr.wikipedia.org/wiki/L%27%C3%89trange...  "
      ]
     },
     "execution_count": 5,
     "metadata": {},
     "output_type": "execute_result"
    }
   ],
   "source": [
    "url_wikipedia = \"https://fr.wikipedia.org\"\n",
    "url_blanchett = url_wikipedia + \"/wiki/Cate_Blanchett\"\n",
    "\n",
    "r_blanchett = requests.get(url_blanchett)\n",
    "assert r_blanchett.status_code == 200, f\"Erreur {r_blanchett.status_code}\"\n",
    "\n",
    "soup_blanchett = BeautifulSoup(r_blanchett.text, \"html.parser\")\n",
    "\n",
    "selector_films = \"#mw-content-text div ul:nth-of-type(3) li i a\"\n",
    "films_blanchett = soup_blanchett.select(selector_films)\n",
    "\n",
    "films_data = [\n",
    "    {\n",
    "        \"titre\": film.attrs[\"title\"],\n",
    "        \"url_wikipedia\": url_wikipedia + film.attrs[\"href\"]\n",
    "    }\n",
    "    for film in films_blanchett\n",
    "    if not (\n",
    "        film.attrs.get(\"class\") == [\"new\"] # Film sans page\n",
    "        or film.attrs[\"title\"] == \"Galadriel\" # Mauvais lien\n",
    "    )\n",
    "]\n",
    "\n",
    "films = pd.DataFrame(films_data)\n",
    "\n",
    "films"
   ]
  },
  {
   "cell_type": "markdown",
   "metadata": {},
   "source": [
    "Le sélecteur CSS que nous avons utilisé ne permettait pas d'obtenir la réponse à notre question car il ne capturait pas toutes les listes d'acteurs (organisation différente pour *Coffee and Cigarettes*, double colonne pour *Aviator*, ...). En effet, les pages Wikipedia des films ne sont pas uniformes et il n'est pas possible d'extraire la distribution de tous les films avec le même sélecteur.\n",
    "\n",
    "Pour remédier à cela, nous proposons ici d'aller scraper la liste des acteurs sur le site [TMDB](https://www.themoviedb.org/) (*The Movie Database*) dont les pages obéissent toutes à la même organisation. Les pages Wikipedia relatives à des films contiennent toutes un lien externe vers ce site."
   ]
  },
  {
   "cell_type": "markdown",
   "metadata": {},
   "source": [
    "1. Pour chaque film, scraper la page Wikipedia pour récupérer le lien vers la page TMDB associée et déduire le lien du casting complet qui ser ajouté le dans une nouvelle colonne du dataframe `films`."
   ]
  },
  {
   "cell_type": "code",
   "execution_count": null,
   "metadata": {},
   "outputs": [],
   "source": []
  },
  {
   "cell_type": "markdown",
   "metadata": {},
   "source": [
    "2. La liste des acteurs d'un film se présente comme une liste ordonnée `ol` dans les pages TMDB. Scraper les pages de casting pour ajouter la liste des acteurs de chaque film dans une nouvelle colonne du dataframe `films`."
   ]
  },
  {
   "cell_type": "code",
   "execution_count": null,
   "metadata": {},
   "outputs": [],
   "source": []
  },
  {
   "cell_type": "markdown",
   "metadata": {},
   "source": [
    "3. Utiliser le résultat de la question précédente pour répondre à la question initiale : avec quels acteurs Cate Blanchett a-t-elle partagé l'affiche le plus souvent au cours des années 2000 ?"
   ]
  },
  {
   "cell_type": "code",
   "execution_count": null,
   "metadata": {},
   "outputs": [],
   "source": []
  }
 ],
 "metadata": {
  "kernelspec": {
   "display_name": "base",
   "language": "python",
   "name": "python3"
  },
  "language_info": {
   "codemirror_mode": {
    "name": "ipython",
    "version": 3
   },
   "file_extension": ".py",
   "mimetype": "text/x-python",
   "name": "python",
   "nbconvert_exporter": "python",
   "pygments_lexer": "ipython3",
   "version": "3.11.3"
  }
 },
 "nbformat": 4,
 "nbformat_minor": 2
}
