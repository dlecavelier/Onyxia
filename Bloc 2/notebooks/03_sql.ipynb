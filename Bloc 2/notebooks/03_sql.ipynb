{
 "cells": [
  {
   "cell_type": "markdown",
   "metadata": {},
   "source": [
    "# Notebook 3 : SQL"
   ]
  },
  {
   "cell_type": "code",
   "execution_count": null,
   "metadata": {},
   "outputs": [
    {
     "name": "stdout",
     "output_type": "stream",
     "text": [
      "Defaulting to user installation because normal site-packages is not writeable\n",
      "Requirement already satisfied: ibis-framework[sqlite] in c:\\users\\cepe-s3-02\\appdata\\roaming\\python\\python311\\site-packages (10.5.0)\n",
      "Requirement already satisfied: atpublic>=2.3 in c:\\users\\cepe-s3-02\\appdata\\roaming\\python\\python311\\site-packages (from ibis-framework[sqlite]) (6.0.1)\n",
      "Requirement already satisfied: parsy>=2 in c:\\users\\cepe-s3-02\\appdata\\roaming\\python\\python311\\site-packages (from ibis-framework[sqlite]) (2.1)\n",
      "Requirement already satisfied: python-dateutil>=2.8.2 in c:\\programdata\\anaconda3\\lib\\site-packages (from ibis-framework[sqlite]) (2.8.2)\n",
      "Requirement already satisfied: sqlglot>=23.4 in c:\\users\\cepe-s3-02\\appdata\\roaming\\python\\python311\\site-packages (from ibis-framework[sqlite]) (26.17.1)\n",
      "Requirement already satisfied: toolz>=0.11 in c:\\programdata\\anaconda3\\lib\\site-packages (from ibis-framework[sqlite]) (0.12.0)\n",
      "Requirement already satisfied: typing-extensions>=4.3.0 in c:\\programdata\\anaconda3\\lib\\site-packages (from ibis-framework[sqlite]) (4.6.3)\n",
      "Requirement already satisfied: tzdata>=2022.7 in c:\\users\\cepe-s3-02\\appdata\\roaming\\python\\python311\\site-packages (from ibis-framework[sqlite]) (2025.2)\n",
      "Requirement already satisfied: numpy<3,>=1.23.2 in c:\\programdata\\anaconda3\\lib\\site-packages (from ibis-framework[sqlite]) (1.24.3)\n",
      "Requirement already satisfied: pandas<3,>=1.5.3 in c:\\programdata\\anaconda3\\lib\\site-packages (from ibis-framework[sqlite]) (1.5.3)\n",
      "Requirement already satisfied: pyarrow-hotfix>=0.4 in c:\\users\\cepe-s3-02\\appdata\\roaming\\python\\python311\\site-packages (from ibis-framework[sqlite]) (0.7)\n",
      "Requirement already satisfied: pyarrow>=10.0.1 in c:\\programdata\\anaconda3\\lib\\site-packages (from ibis-framework[sqlite]) (11.0.0)\n",
      "Requirement already satisfied: regex>=2021.7.6 in c:\\programdata\\anaconda3\\lib\\site-packages (from ibis-framework[sqlite]) (2022.7.9)\n",
      "Requirement already satisfied: rich>=12.4.4 in c:\\users\\cepe-s3-02\\appdata\\roaming\\python\\python311\\site-packages (from ibis-framework[sqlite]) (14.0.0)\n",
      "Requirement already satisfied: pytz>=2020.1 in c:\\programdata\\anaconda3\\lib\\site-packages (from pandas<3,>=1.5.3->ibis-framework[sqlite]) (2022.7)\n",
      "Requirement already satisfied: six>=1.5 in c:\\programdata\\anaconda3\\lib\\site-packages (from python-dateutil>=2.8.2->ibis-framework[sqlite]) (1.16.0)\n",
      "Requirement already satisfied: markdown-it-py>=2.2.0 in c:\\programdata\\anaconda3\\lib\\site-packages (from rich>=12.4.4->ibis-framework[sqlite]) (2.2.0)\n",
      "Requirement already satisfied: pygments<3.0.0,>=2.13.0 in c:\\programdata\\anaconda3\\lib\\site-packages (from rich>=12.4.4->ibis-framework[sqlite]) (2.15.1)\n",
      "Requirement already satisfied: mdurl~=0.1 in c:\\programdata\\anaconda3\\lib\\site-packages (from markdown-it-py>=2.2.0->rich>=12.4.4->ibis-framework[sqlite]) (0.1.0)\n",
      "Note: you may need to restart the kernel to use updated packages.\n"
     ]
    }
   ],
   "source": [
    "# Décommenter la ligne suivante pour installer ibis\n",
    "# %pip install ibis-framework[sqlite]"
   ]
  },
  {
   "cell_type": "code",
   "execution_count": 1,
   "metadata": {},
   "outputs": [],
   "source": [
    "import sqlite3\n",
    "\n",
    "import pandas as pd\n",
    "import ibis\n",
    "\n",
    "from ibis import _\n",
    "\n",
    "ibis.options.interactive = True\n",
    "\n",
    "query_tables = \"SELECT name FROM sqlite_master WHERE type='table'\""
   ]
  },
  {
   "cell_type": "markdown",
   "metadata": {},
   "source": [
    "## STAR"
   ]
  },
  {
   "cell_type": "markdown",
   "metadata": {},
   "source": [
    "Nous considérons les données des stations de vélos en libre service [STAR](https://www.star.fr/) de Rennes Métropole. Une copie de la base SQLite est disponible dans le fichier `star.db`. Nous utilisons d'abord Pandas pour répondre aux questions, puis Ibis."
   ]
  },
  {
   "cell_type": "markdown",
   "metadata": {},
   "source": [
    "1. Se connecter à la base de données et afficher la liste des tables à l'aide de la fonction `read_sql` de Pandas et de la requête `query_tables`."
   ]
  },
  {
   "cell_type": "code",
   "execution_count": 4,
   "metadata": {},
   "outputs": [
    {
     "name": "stdout",
     "output_type": "stream",
     "text": [
      "        name\n",
      "0  Topologie\n",
      "1       Etat\n"
     ]
    }
   ],
   "source": [
    "con = sqlite3.connect(\"C:/Users/cepe-s3-02/Desktop/David/Bloc 2/notebooks/data/star.db\")\n",
    "\n",
    "print(pd.read_sql(query_tables, con))"
   ]
  },
  {
   "cell_type": "markdown",
   "metadata": {},
   "source": [
    "2. Récupérer le contenu de la table `Etat` dans un dataframe et afficher la liste des variables disponibles. Même question pour la table `Topologie`."
   ]
  },
  {
   "cell_type": "code",
   "execution_count": 13,
   "metadata": {},
   "outputs": [
    {
     "name": "stdout",
     "output_type": "stream",
     "text": [
      "id                            int64\n",
      "nom                          object\n",
      "latitude                    float64\n",
      "longitude                   float64\n",
      "etat                         object\n",
      "nb_emplacements               int64\n",
      "emplacements_disponibles      int64\n",
      "velos_disponibles             int64\n",
      "date                        float64\n",
      "data                         object\n",
      "dtype: object\n",
      "id                     int64\n",
      "nom                   object\n",
      "adresse_numero        object\n",
      "adresse_voie          object\n",
      "commune               object\n",
      "latitude             float64\n",
      "longitude            float64\n",
      "id_correspondance    float64\n",
      "mise_en_service      float64\n",
      "nb_emplacements        int64\n",
      "id_proche_1            int64\n",
      "id_proche_2            int64\n",
      "id_proche_3            int64\n",
      "terminal_cb           object\n",
      "dtype: object\n"
     ]
    }
   ],
   "source": [
    "df_etat = pd.read_sql(\"SELECT * FROM Etat\", con)\n",
    "df_etat.dtypes\n",
    "\n",
    "print(df_etat.dtypes)\n",
    "\n",
    "df_topologie = pd.read_sql(\"SELECT * FROM Topologie\", con)\n",
    "df_topologie.dtypes\n",
    "\n",
    "print(df_topologie.dtypes)"
   ]
  },
  {
   "cell_type": "markdown",
   "metadata": {},
   "source": [
    "3. Sélectionner l'identifiant `id`, le nom `nom` et l'identifiant de la station la plus proche `id_proche_1` depuis la table `Topologie`.²"
   ]
  },
  {
   "cell_type": "code",
   "execution_count": 12,
   "metadata": {},
   "outputs": [
    {
     "name": "stdout",
     "output_type": "stream",
     "text": [
      "   id     nom\n",
      "0   2  Mairie\n"
     ]
    }
   ],
   "source": [
    "query_base = \"\"\"\n",
    "    SELECT\n",
    "    id,\n",
    "    nom\n",
    "    FROM Topologie\n",
    "    WHERE\n",
    "    id_proche_1=1\n",
    "\"\"\"\n",
    "\n",
    "df_base = pd.read_sql(query_base, con)\n",
    "df_base.dtypes\n",
    "print(df_base)"
   ]
  },
  {
   "cell_type": "markdown",
   "metadata": {},
   "source": [
    "4. Faire une jointure sur la table précédente pour créer une table qui contient la liste des stations avec l'identifiant, le nom et le nom de la station la plus proche associée à l'identifiant `id_proche_1`. Les variables utilisées comme clés sont différents, penser à utiliser les arguments `left_on` et `right_on` de la méthode `merge`."
   ]
  },
  {
   "cell_type": "code",
   "execution_count": 36,
   "metadata": {},
   "outputs": [
    {
     "name": "stdout",
     "output_type": "stream",
     "text": [
      "    id_t1             nom_t1              nom_t2  latitude_t1  longitude_t1  \\\n",
      "0       1         République              Mairie    48.110026     -1.678037   \n",
      "1       3      Champ Jacquet              Mairie    48.112764     -1.680062   \n",
      "2       9      Saint-Georges              Mairie    48.112385     -1.674417   \n",
      "3       2             Mairie          République    48.111624     -1.678757   \n",
      "4      10   Musée Beaux-Arts                 TNB    48.109601     -1.674080   \n",
      "..    ...                ...                 ...          ...           ...   \n",
      "76     11            Liberté          Les Halles    48.107514     -1.678163   \n",
      "77     19    Plélo Colombier          Les Halles    48.105897     -1.681374   \n",
      "78     24  Place de Bretagne  Office de Tourisme    48.109621     -1.684019   \n",
      "79     55         Préfecture             Cucillé    48.128453     -1.694032   \n",
      "80     69    Champs Manceaux   Bréquigny Piscine    48.091114     -1.682284   \n",
      "\n",
      "    latitude_t2  longitude_t2  \n",
      "0     48.111624     -1.678757  \n",
      "1     48.111624     -1.678757  \n",
      "2     48.111624     -1.678757  \n",
      "3     48.110026     -1.678037  \n",
      "4     48.107748     -1.673711  \n",
      "..          ...           ...  \n",
      "76    48.107626     -1.680085  \n",
      "77    48.107626     -1.680085  \n",
      "78    48.110294     -1.683106  \n",
      "79    48.128788     -1.698129  \n",
      "80    48.089621     -1.690242  \n",
      "\n",
      "[81 rows x 7 columns]\n"
     ]
    }
   ],
   "source": [
    "query_base = \"\"\"\n",
    "    SELECT t1.id, t1.nom, t2.nom AS nom_proche\n",
    "    FROM Topologie AS t1\n",
    "    LEFT JOIN Topologie AS t2 ON t1.id_proche_1 = t2.id\n",
    "    WHERE t1.id_proche_1=1\n",
    "\"\"\"\n",
    "\n",
    "df_base = pd.read_sql(query_base, con)\n",
    "df_base.dtypes\n",
    "#print(df_base)\n",
    "\n",
    "# Effectuer la jointure avec merge\n",
    "df_base2 = pd.merge(\n",
    "    df_topologie,  # DataFrame de gauche\n",
    "    df_topologie,  # DataFrame de droite\n",
    "    left_on=\"id_proche_1\",  # Clé de jointure dans le DataFrame de gauche\n",
    "    right_on=\"id\",  # Clé de jointure dans le DataFrame de droite\n",
    "    suffixes=(\"_t1\", \"_t2\")  # Suffixes pour différencier les colonnes\n",
    ")\n",
    "\n",
    "#print (df_base2)\n",
    "\n",
    "# Filtrer les résultats pour id_proche_1 = 1\n",
    "# df_base2 = df_base2[df_base2[\"id_proche_1_t1\"] == 1]\n",
    "\n",
    "# Sélectionner les colonnes nécessaires\n",
    "df_base2 = df_base2[[\"id_t1\", \"nom_t1\", \"nom_t2\", \"latitude_t1\", \"longitude_t1\", \"latitude_t2\", \"longitude_t2\"]]\n",
    "# df_base2.columns = [\"id\", \"nom\", \"nom_proche\"]  # Renommer les colonnes\n",
    "\n",
    "# Afficher le résultat\n",
    "print(df_base2)"
   ]
  },
  {
   "cell_type": "markdown",
   "metadata": {},
   "source": [
    "5. Ajouter à la table précédente la distance entre la station et la station la plus proche."
   ]
  },
  {
   "cell_type": "code",
   "execution_count": 37,
   "metadata": {},
   "outputs": [
    {
     "name": "stdout",
     "output_type": "stream",
     "text": [
      "    id_t1             nom_t1              nom_t2  latitude_t1  longitude_t1  \\\n",
      "0       1         République              Mairie    48.110026     -1.678037   \n",
      "1       3      Champ Jacquet              Mairie    48.112764     -1.680062   \n",
      "2       9      Saint-Georges              Mairie    48.112385     -1.674417   \n",
      "3       2             Mairie          République    48.111624     -1.678757   \n",
      "4      10   Musée Beaux-Arts                 TNB    48.109601     -1.674080   \n",
      "..    ...                ...                 ...          ...           ...   \n",
      "76     11            Liberté          Les Halles    48.107514     -1.678163   \n",
      "77     19    Plélo Colombier          Les Halles    48.105897     -1.681374   \n",
      "78     24  Place de Bretagne  Office de Tourisme    48.109621     -1.684019   \n",
      "79     55         Préfecture             Cucillé    48.128453     -1.694032   \n",
      "80     69    Champs Manceaux   Bréquigny Piscine    48.091114     -1.682284   \n",
      "\n",
      "    latitude_t2  longitude_t2  distance  \n",
      "0     48.111624     -1.678757  0.001753  \n",
      "1     48.111624     -1.678757  0.001733  \n",
      "2     48.111624     -1.678757  0.004406  \n",
      "3     48.110026     -1.678037  0.001753  \n",
      "4     48.107748     -1.673711  0.001890  \n",
      "..          ...           ...       ...  \n",
      "76    48.107626     -1.680085  0.001925  \n",
      "77    48.107626     -1.680085  0.002156  \n",
      "78    48.110294     -1.683106  0.001135  \n",
      "79    48.128788     -1.698129  0.004111  \n",
      "80    48.089621     -1.690242  0.008096  \n",
      "\n",
      "[81 rows x 8 columns]\n"
     ]
    }
   ],
   "source": [
    "import math\n",
    "\n",
    "def haversine(lat1, lon1, lat2, lon2):\n",
    "    \"\"\"\n",
    "    Calcule la distance entre deux points géographiques en utilisant la formule de Haversine.\n",
    "    Les coordonnées doivent être en degrés.\n",
    "    \n",
    "    :param lat1: Latitude du premier point\n",
    "    :param lon1: Longitude du premier point\n",
    "    :param lat2: Latitude du second point\n",
    "    :param lon2: Longitude du second point\n",
    "    :return: Distance en kilomètres\n",
    "    \"\"\"\n",
    "    # Rayon moyen de la Terre en kilomètres\n",
    "    R = 6371.0\n",
    "\n",
    "    # Convertir les degrés en radians\n",
    "    lat1_rad = math.radians(lat1)\n",
    "    lon1_rad = math.radians(lon1)\n",
    "    lat2_rad = math.radians(lat2)\n",
    "    lon2_rad = math.radians(lon2)\n",
    "\n",
    "    # Différences des coordonnées\n",
    "    dlat = lat2_rad - lat1_rad\n",
    "    dlon = lon2_rad - lon1_rad\n",
    "\n",
    "    # Formule de Haversine\n",
    "    a = math.sin(dlat / 2)**2 + math.cos(lat1_rad) * math.cos(lat2_rad) * math.sin(dlon / 2)**2\n",
    "    c = 2 * math.atan2(math.sqrt(a), math.sqrt(1 - a))\n",
    "\n",
    "    # Distance\n",
    "    distance = R * c\n",
    "    return distance\n",
    "\n",
    "def distance(lat1, lon1, lat2, lon2):\n",
    "    distance = ((lat2 - lat1)**2 + (lon2 - lon1)**2)**0.5\n",
    "    return distance\n",
    "\n",
    "# Appliquer la fonction haversine sur chaque ligne du DataFrame\n",
    "df_base2[\"distance\"] = df_base2.apply(\n",
    "    lambda row: distance(row[\"latitude_t1\"], row[\"longitude_t1\"], row[\"latitude_t2\"], row[\"longitude_t2\"]),\n",
    "    axis=1\n",
    ")\n",
    "\n",
    "# Afficher le DataFrame avec la colonne distance\n",
    "print(df_base2)\n"
   ]
  },
  {
   "cell_type": "markdown",
   "metadata": {},
   "source": [
    "6. Créer une table avec le nom des trois stations les plus proches du point GPS *(48.1179151,-1.7028661)* classées par ordre de distance et le nombre de vélos disponibles dans ces stations."
   ]
  },
  {
   "cell_type": "code",
   "execution_count": 44,
   "metadata": {},
   "outputs": [
    {
     "name": "stdout",
     "output_type": "stream",
     "text": [
      "   id          nom_x  DistanceGPS  velos_disponibles\n",
      "0   1     République     0.026052                  5\n",
      "1   2         Mairie     0.024917                 18\n",
      "2   3  Champ Jacquet     0.023379                 16\n"
     ]
    }
   ],
   "source": [
    "df_topologie[\"DistanceGPS\"] = df_topologie.apply(\n",
    "    lambda row: distance(row[\"latitude\"], row[\"longitude\"], 48.1179151, -1.7028661),\n",
    "    axis=1\n",
    ")\n",
    "\n",
    "#print(df_topologie[[\"id\", \"nom\", \"DistanceGPS\"]].sort_values(\"DistanceGPS\"))\n",
    "\n",
    "stationsProcheGPS = df_topologie.head(3)\n",
    "\n",
    "#print(stationsProcheGPS)\n",
    "\n",
    "# Effectuer la jointure avec merge\n",
    "df_base3 = pd.merge(\n",
    "    stationsProcheGPS,  # DataFrame de gauche\n",
    "    df_etat,  # DataFrame de droite\n",
    "    left_on=\"id\",  # Clé de jointure dans le DataFrame de gauche\n",
    "    right_on=\"id\",  # Clé de jointure dans le DataFrame de droite\n",
    ")\n",
    "\n",
    "df_base3 = df_base3[[\"id\", \"nom_x\", \"DistanceGPS\", \"velos_disponibles\"]]\n",
    "\n",
    "print(df_base3)"
   ]
  },
  {
   "cell_type": "markdown",
   "metadata": {},
   "source": [
    "7. Reprendre les questions précédentes en utilisant le module `ibis`. Pour les jointures, utiliser la méthode `left_join`."
   ]
  },
  {
   "cell_type": "code",
   "execution_count": 67,
   "metadata": {},
   "outputs": [
    {
     "name": "stderr",
     "output_type": "stream",
     "text": [
      "C:\\Users\\cepe-s3-02\\AppData\\Local\\Temp\\ipykernel_10012\\3203235617.py:11: FutureWarning: Selecting/filtering arbitrary expressions in `Table.__getitem__` is deprecated and will be removed in version 10.0. Please use `Table.select` or `Table.filter` instead.\n",
      "  topologie_table.select(\n"
     ]
    },
    {
     "data": {
      "text/plain": [
       "'\\n    SELECT t1.id, t1.nom, t2.nom AS nom_proche\\n    FROM Topologie AS t1\\n    LEFT JOIN Topologie AS t2 ON t1.id_proche_1 = t2.id\\n    WHERE t1.id_proche_1=1\\n'"
      ]
     },
     "execution_count": 67,
     "metadata": {},
     "output_type": "execute_result"
    }
   ],
   "source": [
    "con2 = ibis.sqlite.connect(\"C:/Users/cepe-s3-02/Desktop/David/Bloc 2/notebooks/data/star.db\")\n",
    "\n",
    "topologie_table = con2.table(\"Topologie\")\n",
    "etat_table = con2.table(\"Etat\")\n",
    "\n",
    "#topologie.columns\n",
    "#etat.columns\n",
    "\n",
    "# Sélectionner l'identifiant `id`, le nom `nom` et l'identifiant de la station la plus proche `id_proche_1` depuis la table `Topologie`.\n",
    "\n",
    "topologie_table.select(\n",
    "    topologie_table.id,\n",
    "    topologie_table.nom,\n",
    "    topologie_table.id_proche_1\n",
    ")[topologie_table.id_proche_1 == 1]\n",
    "\n",
    "# Faire une jointure sur la table précédente pour créer une table qui contient la liste des stations avec l'identifiant, le nom et le nom de la station la plus proche associée à l'identifiant `id_proche_1`. Les variables utilisées comme clés sont différents, penser à utiliser les arguments `left_on` et `right_on` de la méthode `merge`.\n",
    "\n",
    "\"\"\"\n",
    "topologie_table.left_join(\n",
    "    topologie_table,  # Table de droite\n",
    "    left_on=topologie_table.id_proche_1,  # Clé de jointure dans la table de gauche\n",
    "    right_on=topologie_table.right.id  # Clé de jointure dans la table de droite\n",
    ")\n",
    "\"\"\"\n",
    "\"\"\"\n",
    "    SELECT t1.id, t1.nom, t2.nom AS nom_proche\n",
    "    FROM Topologie AS t1\n",
    "    LEFT JOIN Topologie AS t2 ON t1.id_proche_1 = t2.id\n",
    "    WHERE t1.id_proche_1=1\n",
    "\"\"\""
   ]
  },
  {
   "cell_type": "markdown",
   "metadata": {},
   "source": [
    "8. (*Bonus*) Écrire des requêtes SQL pour obtenir les résultats demandés dans les questions 3 à 6. La fonction `to_sql` pourra être utilisée pour de l'aide."
   ]
  },
  {
   "cell_type": "code",
   "execution_count": null,
   "metadata": {},
   "outputs": [],
   "source": []
  },
  {
   "cell_type": "markdown",
   "metadata": {},
   "source": [
    "## Musique"
   ]
  },
  {
   "cell_type": "markdown",
   "metadata": {},
   "source": [
    "Le dépôt GitHub [lerocha/chinook-database](https://github.com/lerocha/chinook-database) met à disposition des bases de données de bibliothèques musicales. Une copie de la base SQLite est disponible dans le fichier `chinook.db`."
   ]
  },
  {
   "cell_type": "markdown",
   "metadata": {},
   "source": [
    "1. Utiliser le module `ibis` pour vous connecter à la base de données et explorer les tables formant le jeu de données pour le découvrir. En particulier, remarquer comment les tables `Playlist`, `PlaylistTrack` et `Track` sont liées entre elles."
   ]
  },
  {
   "cell_type": "code",
   "execution_count": 68,
   "metadata": {},
   "outputs": [],
   "source": [
    "con3 = ibis.sqlite.connect(\"C:/Users/cepe-s3-02/Desktop/David/Bloc 2/notebooks/data/chinook.db\")"
   ]
  },
  {
   "cell_type": "markdown",
   "metadata": {},
   "source": [
    "2. Quelles sont les playlists qui contiennent le plus de pistes ?"
   ]
  },
  {
   "cell_type": "code",
   "execution_count": null,
   "metadata": {},
   "outputs": [
    {
     "name": "stdout",
     "output_type": "stream",
     "text": [
      "['Album', 'Artist', 'Customer', 'Employee', 'Genre', 'Invoice', 'InvoiceLine', 'MediaType', 'Playlist', 'PlaylistTrack', 'Track']\n",
      "('PlaylistId', 'TrackId')\n"
     ]
    },
    {
     "data": {
      "text/html": [
       "<pre style=\"white-space:pre;overflow-x:auto;line-height:normal;font-family:Menlo,'DejaVu Sans Mono',consolas,'Courier New',monospace\">┏━━━━━━━━━━━━┳━━━━━━━┓\n",
       "┃<span style=\"font-weight: bold\"> PlaylistId </span>┃<span style=\"font-weight: bold\"> count </span>┃\n",
       "┡━━━━━━━━━━━━╇━━━━━━━┩\n",
       "│ <span style=\"color: #7f7f7f; text-decoration-color: #7f7f7f\">!int64</span>     │ <span style=\"color: #7f7f7f; text-decoration-color: #7f7f7f\">int64</span> │\n",
       "├────────────┼───────┤\n",
       "│          <span style=\"color: #008080; text-decoration-color: #008080; font-weight: bold\">1</span> │  <span style=\"color: #008080; text-decoration-color: #008080; font-weight: bold\">3290</span> │\n",
       "│          <span style=\"color: #008080; text-decoration-color: #008080; font-weight: bold\">8</span> │  <span style=\"color: #008080; text-decoration-color: #008080; font-weight: bold\">3290</span> │\n",
       "│          <span style=\"color: #008080; text-decoration-color: #008080; font-weight: bold\">5</span> │  <span style=\"color: #008080; text-decoration-color: #008080; font-weight: bold\">1477</span> │\n",
       "│          <span style=\"color: #008080; text-decoration-color: #008080; font-weight: bold\">3</span> │   <span style=\"color: #008080; text-decoration-color: #008080; font-weight: bold\">213</span> │\n",
       "│         <span style=\"color: #008080; text-decoration-color: #008080; font-weight: bold\">10</span> │   <span style=\"color: #008080; text-decoration-color: #008080; font-weight: bold\">213</span> │\n",
       "│         <span style=\"color: #008080; text-decoration-color: #008080; font-weight: bold\">12</span> │    <span style=\"color: #008080; text-decoration-color: #008080; font-weight: bold\">75</span> │\n",
       "│         <span style=\"color: #008080; text-decoration-color: #008080; font-weight: bold\">11</span> │    <span style=\"color: #008080; text-decoration-color: #008080; font-weight: bold\">39</span> │\n",
       "│         <span style=\"color: #008080; text-decoration-color: #008080; font-weight: bold\">17</span> │    <span style=\"color: #008080; text-decoration-color: #008080; font-weight: bold\">26</span> │\n",
       "│         <span style=\"color: #008080; text-decoration-color: #008080; font-weight: bold\">13</span> │    <span style=\"color: #008080; text-decoration-color: #008080; font-weight: bold\">25</span> │\n",
       "│         <span style=\"color: #008080; text-decoration-color: #008080; font-weight: bold\">14</span> │    <span style=\"color: #008080; text-decoration-color: #008080; font-weight: bold\">25</span> │\n",
       "│          <span style=\"color: #7f7f7f; text-decoration-color: #7f7f7f\">…</span> │     <span style=\"color: #7f7f7f; text-decoration-color: #7f7f7f\">…</span> │\n",
       "└────────────┴───────┘\n",
       "</pre>\n"
      ],
      "text/plain": [
       "┏━━━━━━━━━━━━┳━━━━━━━┓\n",
       "┃\u001b[1m \u001b[0m\u001b[1mPlaylistId\u001b[0m\u001b[1m \u001b[0m┃\u001b[1m \u001b[0m\u001b[1mcount\u001b[0m\u001b[1m \u001b[0m┃\n",
       "┡━━━━━━━━━━━━╇━━━━━━━┩\n",
       "│ \u001b[2m!int64\u001b[0m     │ \u001b[2mint64\u001b[0m │\n",
       "├────────────┼───────┤\n",
       "│          \u001b[1;36m1\u001b[0m │  \u001b[1;36m3290\u001b[0m │\n",
       "│          \u001b[1;36m8\u001b[0m │  \u001b[1;36m3290\u001b[0m │\n",
       "│          \u001b[1;36m5\u001b[0m │  \u001b[1;36m1477\u001b[0m │\n",
       "│          \u001b[1;36m3\u001b[0m │   \u001b[1;36m213\u001b[0m │\n",
       "│         \u001b[1;36m10\u001b[0m │   \u001b[1;36m213\u001b[0m │\n",
       "│         \u001b[1;36m12\u001b[0m │    \u001b[1;36m75\u001b[0m │\n",
       "│         \u001b[1;36m11\u001b[0m │    \u001b[1;36m39\u001b[0m │\n",
       "│         \u001b[1;36m17\u001b[0m │    \u001b[1;36m26\u001b[0m │\n",
       "│         \u001b[1;36m13\u001b[0m │    \u001b[1;36m25\u001b[0m │\n",
       "│         \u001b[1;36m14\u001b[0m │    \u001b[1;36m25\u001b[0m │\n",
       "│          \u001b[2m…\u001b[0m │     \u001b[2m…\u001b[0m │\n",
       "└────────────┴───────┘"
      ]
     },
     "execution_count": 74,
     "metadata": {},
     "output_type": "execute_result"
    }
   ],
   "source": [
    "tables_con3 = con3.list_tables()\n",
    "\n",
    "print(tables_con3)\n",
    "\n",
    "playlist = con3.table(\"PlaylistTrack\")\n",
    "\n",
    "print(playlist.columns)\n",
    "\n",
    "playlist.group_by(\"PlaylistId\").aggregate(\n",
    "    count=_.count()\n",
    ").order_by(ibis.desc(\"count\"))\n"
   ]
  },
  {
   "cell_type": "markdown",
   "metadata": {},
   "source": [
    "3. Construire une table contenant les informations suivantes sur la playlist `Classical` : le titre de chaque piste ainsi que le titre de l'album dont cette piste est tirée."
   ]
  },
  {
   "cell_type": "code",
   "execution_count": null,
   "metadata": {},
   "outputs": [],
   "source": []
  },
  {
   "cell_type": "markdown",
   "metadata": {},
   "source": [
    "4. (*Bonus*) Écrire une requête SQL donnant le résultat de la question précédente. La fonction `to_sql` pourra être utilisée pour de l'aide."
   ]
  },
  {
   "cell_type": "code",
   "execution_count": null,
   "metadata": {},
   "outputs": [],
   "source": []
  }
 ],
 "metadata": {
  "kernelspec": {
   "display_name": "base",
   "language": "python",
   "name": "python3"
  },
  "language_info": {
   "codemirror_mode": {
    "name": "ipython",
    "version": 3
   },
   "file_extension": ".py",
   "mimetype": "text/x-python",
   "name": "python",
   "nbconvert_exporter": "python",
   "pygments_lexer": "ipython3",
   "version": "3.11.3"
  }
 },
 "nbformat": 4,
 "nbformat_minor": 2
}
