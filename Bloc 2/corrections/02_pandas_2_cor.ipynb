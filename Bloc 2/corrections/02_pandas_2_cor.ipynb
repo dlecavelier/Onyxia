{
 "cells": [
  {
   "cell_type": "markdown",
   "metadata": {},
   "source": [
    "# Notebook 2 : Pandas avancé"
   ]
  },
  {
   "cell_type": "code",
   "execution_count": null,
   "metadata": {},
   "outputs": [],
   "source": [
    "import pandas as pd"
   ]
  },
  {
   "cell_type": "markdown",
   "metadata": {},
   "source": [
    "## Tennis"
   ]
  },
  {
   "cell_type": "markdown",
   "metadata": {},
   "source": [
    "Nous considérons les données des résultats des matchs de tennis masculin des tournois de Roland Garros et Wimbledon en 2013. La liste des variables et leur signification se trouvent sur [cette page](https://archive.ics.uci.edu/dataset/300/tennis+major+tournament+match+statistics) dans la section *Additional Variable Information*."
   ]
  },
  {
   "cell_type": "markdown",
   "metadata": {},
   "source": [
    "1. Commencer par charger le jeu de données relatif au tournoi de Roland Garros dans un dataframe `rg` à partir du fichier `rolandgarros2013.csv`."
   ]
  },
  {
   "cell_type": "code",
   "execution_count": null,
   "metadata": {},
   "outputs": [],
   "source": [
    "rg = pd.read_csv(\"data/rolandgarros2013.csv\")\n",
    "rg"
   ]
  },
  {
   "cell_type": "markdown",
   "metadata": {},
   "source": [
    "2. Afficher les noms des demi-finalistes."
   ]
  },
  {
   "cell_type": "code",
   "execution_count": null,
   "metadata": {},
   "outputs": [],
   "source": [
    "rg[rg.Round == 6].filter([\"Player1\", \"Player2\"])"
   ]
  },
  {
   "cell_type": "markdown",
   "metadata": {},
   "source": [
    "3. Calculer le nombre moyen d'aces par match dans le tournoi."
   ]
  },
  {
   "cell_type": "code",
   "execution_count": null,
   "metadata": {},
   "outputs": [],
   "source": [
    "(rg[\"ACE.1\"] + rg[\"ACE.2\"]).mean()"
   ]
  },
  {
   "cell_type": "markdown",
   "metadata": {},
   "source": [
    "4. Combien y a-t-il eu d'aces par match en moyenne à chaque niveau du tournoi ?"
   ]
  },
  {
   "cell_type": "code",
   "execution_count": null,
   "metadata": {},
   "outputs": [],
   "source": [
    "(rg[\"ACE.1\"] + rg[\"ACE.2\"]).groupby(rg.Round).mean()"
   ]
  },
  {
   "cell_type": "markdown",
   "metadata": {},
   "source": [
    "5. Filtrer les matchs pour lesquels au moins une des variables `DBF.1` et `DBF.2` est manquante."
   ]
  },
  {
   "cell_type": "code",
   "execution_count": null,
   "metadata": {},
   "outputs": [],
   "source": [
    "rg[rg[\"DBF.1\"].isna() | rg[\"DBF.2\"].isna()]"
   ]
  },
  {
   "cell_type": "markdown",
   "metadata": {},
   "source": [
    "6. Remplacer les valeurs manquantes de `DBF.1` par zéro avec la méthode `loc`."
   ]
  },
  {
   "cell_type": "code",
   "execution_count": null,
   "metadata": {},
   "outputs": [],
   "source": [
    "# La commande suivante ne fonctionne pas, il faut utiliser loc\n",
    "# rg[rg[\"DBF.1\"].isna()][\"DBF.1\"] = 0"
   ]
  },
  {
   "cell_type": "code",
   "execution_count": null,
   "metadata": {},
   "outputs": [],
   "source": [
    "rg.loc[rg[\"DBF.1\"].isna(), \"DBF.1\"] = 0"
   ]
  },
  {
   "cell_type": "markdown",
   "metadata": {},
   "source": [
    "7. Remplacer les valeurs manquantes de `DBF.2` par zéro avec la méthode `fillna`."
   ]
  },
  {
   "cell_type": "code",
   "execution_count": null,
   "metadata": {},
   "outputs": [],
   "source": [
    "rg[\"DBF.2\"] = rg[\"DBF.2\"].fillna(0)"
   ]
  },
  {
   "cell_type": "markdown",
   "metadata": {},
   "source": [
    "8. Extraire la liste des participants à partir des colonnes `Player1` et `Player2`. Une façon de faire consiste à utiliser `concat` et la méthode `drop_duplicates` pour obtenir le résultat sous la forme d'une série et de la convertir en dataframe avec la méthode `to_frame`."
   ]
  },
  {
   "cell_type": "code",
   "execution_count": null,
   "metadata": {},
   "outputs": [],
   "source": [
    "joueurs = (\n",
    "    pd.concat([rg.Player1, rg.Player2])\n",
    "    .drop_duplicates()\n",
    "    .to_frame(name=\"joueur\")\n",
    ")\n",
    "joueurs"
   ]
  },
  {
   "cell_type": "markdown",
   "metadata": {},
   "source": [
    "9. Écrire une fonction `n_match` qui prend une chaîne de caractères `joueur` en entrée et retourne le nombre de matchs disputés par le joueur."
   ]
  },
  {
   "cell_type": "code",
   "execution_count": null,
   "metadata": {},
   "outputs": [],
   "source": [
    "def n_match(joueur):\n",
    "    return len(rg[rg.Player1 == joueur]) + len(rg[rg.Player2 == joueur])\n",
    "\n",
    "n_match(\"Roger Federer\")"
   ]
  },
  {
   "cell_type": "markdown",
   "metadata": {},
   "source": [
    "10. Utiliser les deux question précédentes et la méthode `apply` pour compter le nombre de matchs que chaque participant a disputé et ordonner le résultat par ordre décroissant."
   ]
  },
  {
   "cell_type": "code",
   "execution_count": null,
   "metadata": {},
   "outputs": [],
   "source": [
    "joueurs[\"n_match\"] = joueurs.joueur.apply(n_match)\n",
    "joueurs.sort_values(by=\"n_match\", ascending=False, inplace=True)\n",
    "joueurs"
   ]
  },
  {
   "cell_type": "markdown",
   "metadata": {},
   "source": [
    "11. Charger maintenant le jeu de données relatif au tournoi de Wimbledon dans un dataframe `wb` à partir du fichier `wimbledon2013.csv`."
   ]
  },
  {
   "cell_type": "code",
   "execution_count": null,
   "metadata": {},
   "outputs": [],
   "source": [
    "wb = pd.read_csv(\"data/wimbledon2013.csv\")\n",
    "wb"
   ]
  },
  {
   "cell_type": "markdown",
   "metadata": {},
   "source": [
    "12. Ajouter une colonne `Tournoi` dans les dataframes `rg` et `wb` contenant respectivement les chaînes de caractères `\"RG\"` et `\"WB\"`."
   ]
  },
  {
   "cell_type": "code",
   "execution_count": null,
   "metadata": {},
   "outputs": [],
   "source": [
    "rg[\"Tournoi\"] = \"RG\"\n",
    "wb[\"Tournoi\"] = \"WB\""
   ]
  },
  {
   "cell_type": "markdown",
   "metadata": {},
   "source": [
    "13. Concaténer les deux dataframes dans un nouveau dataframe `tennis`."
   ]
  },
  {
   "cell_type": "code",
   "execution_count": null,
   "metadata": {},
   "outputs": [],
   "source": [
    "tennis = pd.concat([rg, wb], ignore_index=True)\n",
    "\n",
    "# Le même résultat peut être obtenu sans la création préalable de la colonne Tournoi.\n",
    "# Cela demande de bien comprendre la fonction concat et ses paramètres keys et names.\n",
    "# tennis = (\n",
    "#     pd.concat(\n",
    "#         [\n",
    "#             # Supprime la colonne Tournoi de la question précédente\n",
    "#             rg.drop(columns=[\"Tournoi\"]),\n",
    "#             wb.drop(columns=[\"Tournoi\"])\n",
    "#         ],\n",
    "#         keys=[\"RG\", \"WB\"],\n",
    "#         names=[\"Tournoi\", \"Index\"]\n",
    "#     )\n",
    "#     .reset_index()\n",
    "#     .drop(columns=[\"Index\"])\n",
    "# )\n",
    "\n",
    "tennis"
   ]
  },
  {
   "cell_type": "markdown",
   "metadata": {},
   "source": [
    "14. Utiliser le dataframe `tennis` pour comparer le nombre moyen d'aces par match à chaque niveau du tournoi à Roland Garros et à Wimbledon. Afficher le résultat en format large."
   ]
  },
  {
   "cell_type": "code",
   "execution_count": null,
   "metadata": {},
   "outputs": [],
   "source": [
    "(\n",
    "    (tennis[\"ACE.1\"] + tennis[\"ACE.2\"])\n",
    "    .to_frame(name=\"Aces\")\n",
    "    .groupby([tennis.Tournoi, tennis.Round])\n",
    "    .mean()\n",
    "    .reset_index()\n",
    "    .pivot(index=\"Tournoi\", columns=\"Round\", values=\"Aces\")\n",
    ")"
   ]
  },
  {
   "cell_type": "markdown",
   "metadata": {},
   "source": [
    "15. Quelle différence y a-t-il dans le format des noms des joueurs entre les dataframes `rg` et `wb` ?"
   ]
  },
  {
   "cell_type": "code",
   "execution_count": null,
   "metadata": {},
   "outputs": [],
   "source": [
    "# Le prénom des joueurs est limité à son initiale (e.g. \"Roger Federer\" devient \"R.Federer\")\n",
    "\n",
    "print(\"*** ROLAND GARROS ***\")\n",
    "print(rg[rg.Player2.str.contains(\"Federer\")].Player2)\n",
    "\n",
    "print(\"*** WIMBLEDON ***\")\n",
    "print(wb[wb.Player2.str.contains(\"Federer\")].Player2)"
   ]
  },
  {
   "cell_type": "markdown",
   "metadata": {},
   "source": [
    "16. Construire un dataframe `rg_victoires` avec les trois colonnes suivantes pour le tournoi de Roland Garros :\n",
    "- `joueur` : nom du joueur tel qu'il est donné dans `rg`,\n",
    "- `nom_joueur` : nom de famille du joueur uniquement,\n",
    "- `n_victoire` : nombre de matchs gagnés dans le tournoi."
   ]
  },
  {
   "cell_type": "code",
   "execution_count": null,
   "metadata": {},
   "outputs": [],
   "source": [
    "# Liste des joueurs\n",
    "rg_victoires = (\n",
    "    pd.concat([rg.Player1, rg.Player2])\n",
    "    .drop_duplicates()\n",
    "    .to_frame(name=\"joueur\")\n",
    ")\n",
    "\n",
    "# Extraction du nom de famille\n",
    "rg_victoires[\"nom_joueur\"] = (\n",
    "    rg_victoires.joueur.str.split()\n",
    "    .apply(lambda v: v[-1]) # Alternative: .str.get(-1)\n",
    ")\n",
    "\n",
    "# Nombre de victoires\n",
    "def n_victoire(df, joueur):\n",
    "    return (\n",
    "        len(df[(df.Player1 == joueur) & (df.Result == 1)])\n",
    "        + len(df[(df.Player2 == joueur) & (df.Result == 0)])\n",
    "    )\n",
    "\n",
    "rg_victoires[\"n_victoire\"] = (\n",
    "    rg_victoires.joueur\n",
    "    .apply(lambda joueur: n_victoire(rg, joueur))\n",
    ")\n",
    "\n",
    "rg_victoires.sort_values(by=\"n_victoire\", ascending=False)"
   ]
  },
  {
   "cell_type": "markdown",
   "metadata": {},
   "source": [
    "17. Construire un dataframe `wb_victoires` avec les trois colonnes suivantes pour le tournoi de Wimbledon :\n",
    "- `joueur` : nom du joueur tel qu'il est donné dans `wb`,\n",
    "- `nom_joueur` : nom de famille du joueur uniquement,\n",
    "- `n_victoire` : nombre de matchs gagnés dans le tournoi."
   ]
  },
  {
   "cell_type": "code",
   "execution_count": null,
   "metadata": {},
   "outputs": [],
   "source": [
    "# Liste des joueurs\n",
    "wb_victoires = (\n",
    "    pd.concat([wb.Player1, wb.Player2])\n",
    "    .drop_duplicates()\n",
    "    .to_frame(name=\"joueur\")\n",
    ")\n",
    "\n",
    "# Extraction du nom de famille\n",
    "wb_victoires[\"nom_joueur\"] = (\n",
    "    wb_victoires.joueur.str.split(\".\") # On utilise le point comme séparateur\n",
    "    .apply(lambda v: v[-1]) # Alternative: .str.get(-1)\n",
    ")\n",
    "\n",
    "# Nombre de victoires\n",
    "wb_victoires[\"n_victoire\"] = (\n",
    "    wb_victoires.joueur\n",
    "    .apply(lambda joueur: n_victoire(wb, joueur))\n",
    ")\n",
    "\n",
    "wb_victoires.sort_values(by=\"n_victoire\", ascending=False)"
   ]
  },
  {
   "cell_type": "markdown",
   "metadata": {},
   "source": [
    "18. Faire une jointure entre `rg_victoires` et `wb_victoires` sur la colonne `nom_joueur` pour comparer le nombre de victoires par tournoi pour chaque joueur. Expliquer la différence de résultat selon que la jointure est à gauche, à droite, intérieure ou extérieure."
   ]
  },
  {
   "cell_type": "code",
   "execution_count": null,
   "metadata": {},
   "outputs": [],
   "source": [
    "# Jointure à gauche : joueurs au moins présents à Roland Garros mais pas nécessairement à Wimbledon\n",
    "(\n",
    "    rg_victoires.filter([\"nom_joueur\", \"n_victoire\"])\n",
    "    .merge(\n",
    "        wb_victoires.filter([\"nom_joueur\", \"n_victoire\"]),\n",
    "        how=\"left\",\n",
    "        on=\"nom_joueur\",\n",
    "        suffixes=[\"_rg\", \"_wb\"], # Utilisation des suffixes\n",
    "    )\n",
    "    .sort_values(by=[\"n_victoire_rg\", \"n_victoire_wb\"], ascending=False)\n",
    ")"
   ]
  },
  {
   "cell_type": "code",
   "execution_count": null,
   "metadata": {},
   "outputs": [],
   "source": [
    "# Jointure à droite : joueurs au moins présents à Wimbledon mais pas nécessairement à Roland Garros\n",
    "(\n",
    "    rg_victoires.filter([\"nom_joueur\", \"n_victoire\"])\n",
    "    .merge(\n",
    "        wb_victoires.filter([\"nom_joueur\", \"n_victoire\"]),\n",
    "        how=\"right\",\n",
    "        on=\"nom_joueur\",\n",
    "        suffixes=[\"_rg\", \"_wb\"], # Utilisation des suffixes\n",
    "    )\n",
    "    .sort_values(by=[\"n_victoire_wb\", \"n_victoire_rg\"], ascending=False)\n",
    ")"
   ]
  },
  {
   "cell_type": "code",
   "execution_count": null,
   "metadata": {},
   "outputs": [],
   "source": [
    "# Jointure intérieure : joueurs présents à Roland Garros et à Wimbledon\n",
    "(\n",
    "    rg_victoires.filter([\"nom_joueur\", \"n_victoire\"])\n",
    "    .merge(\n",
    "        wb_victoires.filter([\"nom_joueur\", \"n_victoire\"]),\n",
    "        how=\"inner\",\n",
    "        on=\"nom_joueur\",\n",
    "        suffixes=[\"_rg\", \"_wb\"], # Utilisation des suffixes\n",
    "    )\n",
    "    .sort_values(by=[\"n_victoire_rg\", \"n_victoire_wb\"], ascending=False)\n",
    ")"
   ]
  },
  {
   "cell_type": "code",
   "execution_count": null,
   "metadata": {},
   "outputs": [],
   "source": [
    "# Jointure extérieure : joueurs présents à Roland Garros ou à Wimbledon\n",
    "(\n",
    "    rg_victoires.filter([\"nom_joueur\", \"n_victoire\"])\n",
    "    .merge(\n",
    "        wb_victoires.filter([\"nom_joueur\", \"n_victoire\"]),\n",
    "        how=\"outer\",\n",
    "        on=\"nom_joueur\",\n",
    "        suffixes=[\"_rg\", \"_wb\"], # Utilisation des suffixes\n",
    "    )\n",
    "    .sort_values(by=[\"n_victoire_rg\", \"n_victoire_wb\"], ascending=False)\n",
    ")"
   ]
  }
 ],
 "metadata": {
  "kernelspec": {
   "display_name": "teaching",
   "language": "python",
   "name": "python3"
  },
  "language_info": {
   "codemirror_mode": {
    "name": "ipython",
    "version": 3
   },
   "file_extension": ".py",
   "mimetype": "text/x-python",
   "name": "python",
   "nbconvert_exporter": "python",
   "pygments_lexer": "ipython3",
   "version": "3.11.8"
  }
 },
 "nbformat": 4,
 "nbformat_minor": 2
}
