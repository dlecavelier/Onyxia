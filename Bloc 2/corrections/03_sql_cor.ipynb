{
 "cells": [
  {
   "cell_type": "markdown",
   "metadata": {},
   "source": [
    "# Notebook 3 : SQL"
   ]
  },
  {
   "cell_type": "code",
   "execution_count": null,
   "metadata": {},
   "outputs": [],
   "source": [
    "# Décommenter la ligne suivante pour installer ibis\n",
    "# %pip install 'ibis-framework[sqlite]'"
   ]
  },
  {
   "cell_type": "code",
   "execution_count": null,
   "metadata": {},
   "outputs": [],
   "source": [
    "import sqlite3\n",
    "\n",
    "import pandas as pd\n",
    "import ibis\n",
    "\n",
    "from ibis import _\n",
    "\n",
    "ibis.options.interactive = True\n",
    "\n",
    "query_tables = \"SELECT name FROM sqlite_master WHERE type='table'\""
   ]
  },
  {
   "cell_type": "markdown",
   "metadata": {},
   "source": [
    "## STAR"
   ]
  },
  {
   "cell_type": "markdown",
   "metadata": {},
   "source": [
    "Nous considérons les données des stations de vélos en libre service [STAR](https://www.star.fr/) de Rennes Métropole. Une copie de la base SQLite est disponible dans le fichier `star.db`. Nous utilisons d'abord Pandas pour répondre aux questions, puis Ibis."
   ]
  },
  {
   "cell_type": "markdown",
   "metadata": {},
   "source": [
    "1. Se connecter à la base de données et afficher la liste des tables à l'aide de la fonction `read_sql` de Pandas et de la requête `query_tables`."
   ]
  },
  {
   "cell_type": "code",
   "execution_count": null,
   "metadata": {},
   "outputs": [],
   "source": [
    "con = sqlite3.connect(\"data/star.db\")\n",
    "tables = pd.read_sql(query_tables, con)\n",
    "tables"
   ]
  },
  {
   "cell_type": "markdown",
   "metadata": {},
   "source": [
    "2. Récupérer le contenu de la table `Etat` dans un dataframe et afficher la liste des variables disponibles. Même question pour la table `Topologie`."
   ]
  },
  {
   "cell_type": "code",
   "execution_count": null,
   "metadata": {},
   "outputs": [],
   "source": [
    "etat_df = pd.read_sql(\"SELECT * FROM Etat\", con)\n",
    "etat_df.dtypes"
   ]
  },
  {
   "cell_type": "code",
   "execution_count": null,
   "metadata": {},
   "outputs": [],
   "source": [
    "topologie_df = pd.read_sql(\"SELECT * FROM Topologie\", con)\n",
    "topologie_df.dtypes"
   ]
  },
  {
   "cell_type": "markdown",
   "metadata": {},
   "source": [
    "3. Sélectionner l'identifiant `id`, le nom `nom` et l'identifiant de la station la plus proche `id_proche_1` depuis la table `Topologie`."
   ]
  },
  {
   "cell_type": "code",
   "execution_count": null,
   "metadata": {},
   "outputs": [],
   "source": [
    "topologie_df.filter(items=[\"id\", \"nom\", \"id_proche_1\"])"
   ]
  },
  {
   "cell_type": "markdown",
   "metadata": {},
   "source": [
    "4. Faire une jointure sur la table précédente pour créer une table qui contient la liste des stations avec l'identifiant, le nom et le nom de la station la plus proche associée à l'identifiant `id_proche_1`. Les variables utilisées comme clés sont différents, penser à utiliser les arguments `left_on` et `right_on` de la méthode `merge`."
   ]
  },
  {
   "cell_type": "code",
   "execution_count": null,
   "metadata": {},
   "outputs": [],
   "source": [
    "(\n",
    "    topologie_df\n",
    "    .merge(etat_df, how=\"left\", left_on=\"id_proche_1\", right_on=\"id\")\n",
    "    .filter(items=[\"id_x\", \"nom_x\", \"nom_y\"])\n",
    "    .rename(columns={\"id_x\": \"id\", \"nom_x\": \"nom\", \"nom_y\": \"nom_proche_1\"})\n",
    ")"
   ]
  },
  {
   "cell_type": "markdown",
   "metadata": {},
   "source": [
    "5. Ajouter à la table précédente la distance entre la station et la station la plus proche."
   ]
  },
  {
   "cell_type": "code",
   "execution_count": null,
   "metadata": {},
   "outputs": [],
   "source": [
    "(\n",
    "    topologie_df\n",
    "    .merge(etat_df, how=\"left\", left_on=\"id_proche_1\", right_on=\"id\")\n",
    "    .assign(\n",
    "        # La méthode assign fonctionne aussi avec une fonction anonyme\n",
    "        distance=lambda row: (\n",
    "            (row.latitude_x - row.latitude_y)**2\n",
    "            + (row.longitude_x - row.longitude_y)**2\n",
    "        )**0.5\n",
    "    )\n",
    "    .filter(items=[\"id_x\", \"nom_x\", \"nom_y\", \"distance\"])\n",
    "    .rename(columns={\"id_x\": \"id\", \"nom_x\": \"nom\", \"nom_y\": \"nom_proche_1\"})\n",
    ")"
   ]
  },
  {
   "cell_type": "markdown",
   "metadata": {},
   "source": [
    "6. Créer une table avec le nom des trois stations les plus proches du point GPS *(48.1179151,-1.7028661)* classées par ordre de distance et le nombre de vélos disponibles dans ces stations."
   ]
  },
  {
   "cell_type": "code",
   "execution_count": null,
   "metadata": {},
   "outputs": [],
   "source": [
    "(\n",
    "    etat_df\n",
    "    .assign(\n",
    "        distance=(\n",
    "            (48.1179151 - etat_df.latitude)**2\n",
    "            + (-1.7028661 - etat_df.longitude)**2\n",
    "        )**0.5\n",
    "    )\n",
    "    .nsmallest(3, \"distance\") # Plus simple que sort_values et head\n",
    "    .filter(items=[\"nom\", \"distance\", \"velos_disponibles\"])\n",
    ")"
   ]
  },
  {
   "cell_type": "markdown",
   "metadata": {},
   "source": [
    "7. Reprendre les questions précédentes en utilisant le module `ibis`. Pour les jointures, utiliser la méthode `left_join`."
   ]
  },
  {
   "cell_type": "code",
   "execution_count": null,
   "metadata": {},
   "outputs": [],
   "source": [
    "# Question 1\n",
    "con_ibis = ibis.sqlite.connect(\"data/star.db\")\n",
    "con_ibis.tables"
   ]
  },
  {
   "cell_type": "code",
   "execution_count": null,
   "metadata": {},
   "outputs": [],
   "source": [
    "# Question 2\n",
    "etat_table = con_ibis.table(\"Etat\")\n",
    "print(\"*** Etat ***\")\n",
    "print(etat_table.columns)\n",
    "\n",
    "topologie_table = con_ibis.table(\"Topologie\")\n",
    "print(\"*** Topologie ***\")\n",
    "print(topologie_table.columns)"
   ]
  },
  {
   "cell_type": "code",
   "execution_count": null,
   "metadata": {},
   "outputs": [],
   "source": [
    "# Question 3\n",
    "topologie_table.select(\"id\", \"nom\", \"id_proche_1\")"
   ]
  },
  {
   "cell_type": "code",
   "execution_count": null,
   "metadata": {},
   "outputs": [],
   "source": [
    "# Question 4\n",
    "(\n",
    "    topologie_table\n",
    "    .left_join(\n",
    "        etat_table,\n",
    "        topologie_table.id_proche_1 == etat_table.id\n",
    "    )\n",
    "    .select(\"id\", \"nom\", \"nom_right\")\n",
    "    .rename(nom_proche_1=\"nom_right\") # Renommer une colonne\n",
    ")\n",
    "    "
   ]
  },
  {
   "cell_type": "code",
   "execution_count": null,
   "metadata": {},
   "outputs": [],
   "source": [
    "# Question 5\n",
    "(\n",
    "    topologie_table\n",
    "    .left_join(\n",
    "        etat_table,\n",
    "        topologie_table.id_proche_1 == etat_table.id\n",
    "    )\n",
    "    .mutate(\n",
    "        # Utilisation de _\n",
    "        d_lat = _.latitude - _.latitude_right,\n",
    "        d_lon = _.longitude - _.longitude_right\n",
    "    )\n",
    "    .mutate(\n",
    "        distance = (_.d_lat * _.d_lat + _.d_lon * _.d_lon)**0.5\n",
    "    )\n",
    "    .select(\"id\", \"nom\", \"nom_right\", \"distance\")\n",
    "    .rename(nom_proche_1=\"nom_right\")\n",
    ")"
   ]
  },
  {
   "cell_type": "code",
   "execution_count": null,
   "metadata": {},
   "outputs": [],
   "source": [
    "# Question 6\n",
    "(\n",
    "    etat_table\n",
    "    .mutate(\n",
    "        d_lat = 48.1179151 - etat_table.latitude,\n",
    "        d_lon = -1.7028661 - etat_table.longitude\n",
    "    )\n",
    "    .mutate(\n",
    "        # Utilisation de _\n",
    "        distance = (_.d_lat * _.d_lat + _.d_lon * _.d_lon)**0.5\n",
    "    )\n",
    "    .order_by(\"distance\")\n",
    "    .limit(3)\n",
    "    .select(\"nom\", \"distance\", \"velos_disponibles\")\n",
    ")"
   ]
  },
  {
   "cell_type": "markdown",
   "metadata": {},
   "source": [
    "8. (*Bonus*) Écrire des requêtes SQL pour obtenir les résultats demandés dans les questions 3 à 6. La fonction `to_sql` pourra être utilisée pour de l'aide."
   ]
  },
  {
   "cell_type": "code",
   "execution_count": null,
   "metadata": {},
   "outputs": [],
   "source": [
    "# Question 3\n",
    "query = \"\"\"\n",
    "SELECT id, nom, id_proche_1\n",
    "FROM Topologie\n",
    "\"\"\"\n",
    "\n",
    "pd.read_sql(query, con)"
   ]
  },
  {
   "cell_type": "code",
   "execution_count": null,
   "metadata": {},
   "outputs": [],
   "source": [
    "# Question 4\n",
    "query = \"\"\"\n",
    "SELECT\n",
    "    Topologie.id,\n",
    "    Topologie.nom,\n",
    "    Etat.nom AS nom_proche_1\n",
    "FROM Topologie\n",
    "LEFT JOIN Etat ON Topologie.id_proche_1 = Etat.id\n",
    "\"\"\"\n",
    "\n",
    "pd.read_sql(query, con)"
   ]
  },
  {
   "cell_type": "code",
   "execution_count": null,
   "metadata": {},
   "outputs": [],
   "source": [
    "# Question 5\n",
    "query = \"\"\"\n",
    "SELECT\n",
    "    Topologie.id,\n",
    "    Topologie.nom,\n",
    "    Etat.nom AS nom_proche_1,\n",
    "    POWER(\n",
    "        POWER(\n",
    "            Etat.latitude - Topologie.latitude,\n",
    "            2\n",
    "        )\n",
    "        + POWER(\n",
    "            Etat.longitude - Topologie.longitude,\n",
    "            2\n",
    "        ),\n",
    "        0.5\n",
    "    ) AS distance\n",
    "FROM Topologie\n",
    "LEFT JOIN Etat ON Topologie.id_proche_1 = Etat.id\n",
    "\"\"\"\n",
    "\n",
    "pd.read_sql(query, con)"
   ]
  },
  {
   "cell_type": "code",
   "execution_count": null,
   "metadata": {},
   "outputs": [],
   "source": [
    "# Question 6\n",
    "query = \"\"\"\n",
    "SELECT\n",
    "    nom,\n",
    "    POWER(\n",
    "        POWER(\n",
    "            48.1179151 - Etat.latitude,\n",
    "            2\n",
    "        )\n",
    "        + POWER(\n",
    "            -1.7028661 - Etat.longitude,\n",
    "            2\n",
    "        ),\n",
    "        0.5\n",
    "    ) AS distance,\n",
    "    velos_disponibles\n",
    "FROM Etat\n",
    "ORDER BY distance\n",
    "LIMIT 3\n",
    "\"\"\"\n",
    "\n",
    "pd.read_sql(query, con)"
   ]
  },
  {
   "cell_type": "markdown",
   "metadata": {},
   "source": [
    "## Musique"
   ]
  },
  {
   "cell_type": "markdown",
   "metadata": {},
   "source": [
    "Le dépôt GitHub [lerocha/chinook-database](https://github.com/lerocha/chinook-database) met à disposition des bases de données de bibliothèques musicales. Une copie de la base SQLite est disponible dans le fichier `chinook.db`."
   ]
  },
  {
   "cell_type": "markdown",
   "metadata": {},
   "source": [
    "1. Utiliser le module `ibis` pour vous connecter à la base de données et explorer les tables formant le jeu de données pour le découvrir. En particulier, remarquer comment les tables `Playlist`, `PlaylistTrack` et `Track` sont liées entre elles."
   ]
  },
  {
   "cell_type": "code",
   "execution_count": null,
   "metadata": {},
   "outputs": [],
   "source": [
    "con_chinook = ibis.sqlite.connect(\"data/chinook.db\")\n",
    "con_chinook.tables"
   ]
  },
  {
   "cell_type": "code",
   "execution_count": null,
   "metadata": {},
   "outputs": [],
   "source": [
    "# Les entrées de la table Playlist sont identifiées par l'identifiant PlaylistId\n",
    "playlist = con_chinook.table(\"Playlist\")\n",
    "playlist"
   ]
  },
  {
   "cell_type": "code",
   "execution_count": null,
   "metadata": {},
   "outputs": [],
   "source": [
    "# Les entrées de la table Track sont identifiées par l'identifiant TrackId\n",
    "track = con_chinook.table(\"Track\")\n",
    "track"
   ]
  },
  {
   "cell_type": "code",
   "execution_count": null,
   "metadata": {},
   "outputs": [],
   "source": [
    "# La table PlaylistTrack fait le lien entre Playlist et Track grâce aux identifiants PlaylistId et TrackId.\n",
    "# Pour chaque PlaylistId, les pistes sont données par les TrackId associés dans la table PlaylistTrack.\n",
    "# Il s'agit d'une organisation classique des bases de données relationnelles.\n",
    "playlist_track = con_chinook.table(\"PlaylistTrack\")\n",
    "playlist_track"
   ]
  },
  {
   "cell_type": "markdown",
   "metadata": {},
   "source": [
    "2. Quelles sont les playlists qui contiennent le plus de pistes ?"
   ]
  },
  {
   "cell_type": "code",
   "execution_count": null,
   "metadata": {},
   "outputs": [],
   "source": [
    "(\n",
    "    playlist_track\n",
    "    .group_by(\"PlaylistId\")\n",
    "    .aggregate(n_track=playlist_track.count())\n",
    "    .left_join(\n",
    "        # Jointure pour récupérer le nom de la playlist\n",
    "        playlist, _.PlaylistId == playlist.PlaylistId\n",
    "    )\n",
    "    .select(\"PlaylistId\", \"Name\", \"n_track\")\n",
    "    .order_by(\n",
    "        # Tri décroissant avec Ibis\n",
    "        ibis.desc(\"n_track\")\n",
    "    )\n",
    ")"
   ]
  },
  {
   "cell_type": "markdown",
   "metadata": {},
   "source": [
    "3. Construire une table contenant les informations suivantes sur la playlist `Classical` : le titre de chaque piste ainsi que le titre de l'album dont cette piste est tirée."
   ]
  },
  {
   "cell_type": "code",
   "execution_count": null,
   "metadata": {},
   "outputs": [],
   "source": [
    "# Table Album\n",
    "album = con_chinook.table(\"Album\")\n",
    "\n",
    "(\n",
    "    playlist_track\n",
    "    .left_join(playlist, playlist_track.PlaylistId == playlist.PlaylistId)\n",
    "    .rename(PlaylistName=\"Name\")\n",
    "    .filter(_.PlaylistName == \"Classical\")\n",
    "    .left_join(track, _.TrackId == track.TrackId)\n",
    "    .left_join(album, _.AlbumId == album.AlbumId)\n",
    "    .select(\"Name\", \"Title\")\n",
    ")"
   ]
  },
  {
   "cell_type": "markdown",
   "metadata": {},
   "source": [
    "4. (*Bonus*) Écrire une requête SQL donnant le résultat de la question précédente. La fonction `to_sql` pourra être utilisée pour de l'aide."
   ]
  },
  {
   "cell_type": "code",
   "execution_count": null,
   "metadata": {},
   "outputs": [],
   "source": [
    "con = sqlite3.connect(\"data/chinook.db\")\n",
    "\n",
    "query = \"\"\"\n",
    "SELECT\n",
    "    TrackNames.Name,\n",
    "    Album.Title\n",
    "FROM (\n",
    "    SELECT\n",
    "        Track.Name,\n",
    "        Track.AlbumId\n",
    "    FROM (\n",
    "        SELECT PlaylistTrack.TrackId\n",
    "        FROM PlaylistTrack\n",
    "        LEFT JOIN Playlist\n",
    "        ON PlaylistTrack.PlaylistId = Playlist.PlaylistId\n",
    "        WHERE Playlist.Name = 'Classical'\n",
    "    ) AS TrackIds\n",
    "    LEFT JOIN Track\n",
    "    ON TrackIds.TrackId = Track.TrackId\n",
    ") AS TrackNames\n",
    "LEFT JOIN Album\n",
    "ON TrackNames.AlbumId = Album.AlbumId\n",
    "\"\"\"\n",
    "\n",
    "pd.read_sql(query, con)"
   ]
  }
 ],
 "metadata": {
  "kernelspec": {
   "display_name": "teaching",
   "language": "python",
   "name": "python3"
  },
  "language_info": {
   "codemirror_mode": {
    "name": "ipython",
    "version": 3
   },
   "file_extension": ".py",
   "mimetype": "text/x-python",
   "name": "python",
   "nbconvert_exporter": "python",
   "pygments_lexer": "ipython3",
   "version": "3.11.8"
  }
 },
 "nbformat": 4,
 "nbformat_minor": 2
}
