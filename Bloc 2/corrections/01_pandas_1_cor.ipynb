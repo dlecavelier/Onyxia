{
 "cells": [
  {
   "cell_type": "markdown",
   "metadata": {},
   "source": [
    "# Notebook 1 : Découverte de Pandas"
   ]
  },
  {
   "cell_type": "code",
   "execution_count": null,
   "metadata": {},
   "outputs": [],
   "source": [
    "import pandas as pd"
   ]
  },
  {
   "cell_type": "markdown",
   "metadata": {},
   "source": [
    "## Iris"
   ]
  },
  {
   "cell_type": "markdown",
   "metadata": {},
   "source": [
    "Nous considérons le jeu de données connu sous le nom des [Iris de Fisher](https://fr.wikipedia.org/wiki/Iris_de_Fisher). Répondez aux questions suivantes à l'aide du module Pandas."
   ]
  },
  {
   "cell_type": "markdown",
   "metadata": {},
   "source": [
    "1. Charger le jeu de données dans un dataframe `iris` à partir du fichier `iris.csv` et afficher le dataframe."
   ]
  },
  {
   "cell_type": "code",
   "execution_count": null,
   "metadata": {},
   "outputs": [],
   "source": [
    "iris = pd.read_csv(\"data/iris.csv\")\n",
    "iris"
   ]
  },
  {
   "cell_type": "markdown",
   "metadata": {},
   "source": [
    "2. Sélectionner les variables `PetalWidth` et `Species`."
   ]
  },
  {
   "cell_type": "code",
   "execution_count": null,
   "metadata": {},
   "outputs": [],
   "source": [
    "# Sélection par nom\n",
    "iris[[\"PetalWidth\", \"Species\"]]\n",
    "\n",
    "# Sélection avec filter\n",
    "iris.filter(items=[\"PetalWidth\", \"Species\"])"
   ]
  },
  {
   "cell_type": "markdown",
   "metadata": {},
   "source": [
    "3. Extraire le sous-dataframe qui contient uniquement les iris des espèces `versicolor` ou `virginica`."
   ]
  },
  {
   "cell_type": "code",
   "execution_count": null,
   "metadata": {},
   "outputs": [],
   "source": [
    "# Avec l'opérateur \"|\"\n",
    "iris[(iris.Species == \"versicolor\") | (iris.Species == \"virginica\")]\n",
    "\n",
    "# Avec la méthode isin\n",
    "iris[iris.Species.isin([\"versicolor\", \"virginica\"])]"
   ]
  },
  {
   "cell_type": "markdown",
   "metadata": {},
   "source": [
    "4. Compter le nombre d'iris de l'espèce `setosa`."
   ]
  },
  {
   "cell_type": "code",
   "execution_count": null,
   "metadata": {},
   "outputs": [],
   "source": [
    "# Avec la fonction len\n",
    "len(iris[iris.Species == \"setosa\"])\n",
    "\n",
    "# Avec l'agrégateur count\n",
    "iris[iris.Species == \"setosa\"].Species.count()"
   ]
  },
  {
   "cell_type": "markdown",
   "metadata": {},
   "source": [
    "5. Calculer la moyenne de la variable `PetalWidth` pour les iris de l'espèce `versicolor`."
   ]
  },
  {
   "cell_type": "code",
   "execution_count": null,
   "metadata": {},
   "outputs": [],
   "source": [
    "# Avec la méthode mean\n",
    "iris[iris.Species == \"versicolor\"].PetalWidth.mean()\n",
    "\n",
    "# Avec l'agrégateur mean\n",
    "iris[iris.Species == \"versicolor\"].PetalWidth.agg(\"mean\")"
   ]
  },
  {
   "cell_type": "markdown",
   "metadata": {},
   "source": [
    "6. Ajouter une variable `SumWidth` qui contient la somme des variables `PetalWidth` et `SepalWidth`."
   ]
  },
  {
   "cell_type": "code",
   "execution_count": null,
   "metadata": {},
   "outputs": [],
   "source": [
    "iris[\"SumWidth\"] = iris.PetalWidth + iris.SepalWidth\n",
    "iris"
   ]
  },
  {
   "cell_type": "markdown",
   "metadata": {},
   "source": [
    "7. Calculer la moyenne et la variance de la variable `SepalLength` pour chaque espèce."
   ]
  },
  {
   "cell_type": "code",
   "execution_count": null,
   "metadata": {},
   "outputs": [],
   "source": [
    "iris.groupby(\"Species\").SepalLength.agg([\"mean\", \"var\"])"
   ]
  },
  {
   "cell_type": "markdown",
   "metadata": {},
   "source": [
    "8. Calculer la moyenne de toutes les variables pour chaque espèce. Afficher le résultat au format large et au format long."
   ]
  },
  {
   "cell_type": "code",
   "execution_count": null,
   "metadata": {},
   "outputs": [],
   "source": [
    "# Moyennes avec la méthode mean\n",
    "format_large = iris.groupby(\"Species\").mean()\n",
    "format_large"
   ]
  },
  {
   "cell_type": "code",
   "execution_count": null,
   "metadata": {},
   "outputs": [],
   "source": [
    "# Passage au format long\n",
    "(\n",
    "    format_large.reset_index()\n",
    "    .melt(\n",
    "        id_vars=[\"Species\"],\n",
    "        var_name=\"Variable\",\n",
    "        value_name=\"Mean\",\n",
    "    )\n",
    ")"
   ]
  },
  {
   "cell_type": "markdown",
   "metadata": {},
   "source": [
    "## Houston flights"
   ]
  },
  {
   "cell_type": "markdown",
   "metadata": {},
   "source": [
    "Nous considérons le jeux de données `hflights` relatif à des vols au départ des aéroports *Houston George Bush Intercontinental Airport* (IAH) et *William P. Hobby Airport* (HOU)."
   ]
  },
  {
   "cell_type": "markdown",
   "metadata": {},
   "source": [
    "1. Charger le jeu de données dans un dataframe `hflights` à partir du fichier `hflights.csv`"
   ]
  },
  {
   "cell_type": "code",
   "execution_count": null,
   "metadata": {},
   "outputs": [],
   "source": [
    "hflights = pd.read_csv(\"data/hflights.csv\")"
   ]
  },
  {
   "cell_type": "markdown",
   "metadata": {},
   "source": [
    "2. Sélectionner les variable `Dest`, `Distance`, `TaxiIn` et `TaxiOut` avec la méthode `filter`."
   ]
  },
  {
   "cell_type": "code",
   "execution_count": null,
   "metadata": {},
   "outputs": [],
   "source": [
    "# Sélection avec items\n",
    "hflights.filter(items=[\"Dest\", \"Distance\", \"TaxiIn\", \"TaxiOut\"])\n",
    "\n",
    "# Sélection par expression régulière\n",
    "hflights.filter(regex=\"^(D.st|Taxi)\")"
   ]
  },
  {
   "cell_type": "markdown",
   "metadata": {},
   "source": [
    "3. Sélectionner les variables `DepTime`, `ArrTime`, `ActualElapsedTime` et `AirTime` avec la méthode `filter` et le paramètre `like`."
   ]
  },
  {
   "cell_type": "code",
   "execution_count": null,
   "metadata": {},
   "outputs": [],
   "source": [
    "hflights.filter(like=\"Time\")"
   ]
  },
  {
   "cell_type": "markdown",
   "metadata": {},
   "source": [
    "4. Ajouter une variable `ActualGroundTime` qui correspond à `ActualElapsedTime` moins `AirTime`."
   ]
  },
  {
   "cell_type": "code",
   "execution_count": null,
   "metadata": {},
   "outputs": [],
   "source": [
    "hflights[\"ActualGroundTime\"] = hflights.ActualElapsedTime - hflights.AirTime"
   ]
  },
  {
   "cell_type": "markdown",
   "metadata": {},
   "source": [
    "5. Ajouter une variable `AverageSpeed` qui donne la vitesse moyenne du vol et ordonner la table selon les valeurs décroissantes de cette variable."
   ]
  },
  {
   "cell_type": "code",
   "execution_count": null,
   "metadata": {},
   "outputs": [],
   "source": [
    "hflights[\"AverageSpeed\"] = hflights.Distance / hflights.AirTime\n",
    "hflights.sort_values(by=\"AverageSpeed\", ascending=False, inplace=True)\n",
    "hflights"
   ]
  },
  {
   "cell_type": "markdown",
   "metadata": {},
   "source": [
    "6. Sélectionner les vols à destination de `JFK`."
   ]
  },
  {
   "cell_type": "code",
   "execution_count": null,
   "metadata": {},
   "outputs": [],
   "source": [
    "hflights[hflights.Dest == \"JFK\"]"
   ]
  },
  {
   "cell_type": "markdown",
   "metadata": {},
   "source": [
    "7. Compter le nombre de vols à destination de `JFK`."
   ]
  },
  {
   "cell_type": "code",
   "execution_count": null,
   "metadata": {},
   "outputs": [],
   "source": [
    "len(hflights[hflights.Dest == \"JFK\"])"
   ]
  },
  {
   "cell_type": "markdown",
   "metadata": {},
   "source": [
    "8. Agréger les données `hflights` pour obtenir :\n",
    "- `n` : le nombre total de vols,\n",
    "- `n_dest`: le nombre total de destinations distinctes,\n",
    "- `n_carrier` : le nombre total de compagnies distinctes."
   ]
  },
  {
   "cell_type": "code",
   "execution_count": null,
   "metadata": {},
   "outputs": [],
   "source": [
    "# Avec agg\n",
    "hflights.agg(\n",
    "    n=pd.NamedAgg(column=\"FlightNum\", aggfunc=\"count\"),\n",
    "    n_dest=pd.NamedAgg(column=\"Dest\", aggfunc=pd.Series.nunique),\n",
    "    n_carrier=pd.NamedAgg(column=\"UniqueCarrier\", aggfunc=pd.Series.nunique),\n",
    ")\n",
    "\n",
    "# Avec un nouveau dataframe\n",
    "pd.DataFrame(\n",
    "    {\n",
    "        \"n\": len(hflights),\n",
    "        \"n_dest\": hflights.Dest.nunique(),\n",
    "        \"n_carrier\": hflights.UniqueCarrier.nunique(),\n",
    "    },\n",
    "    index=[0] # Index obligatoire si on ne passe pas des listes\n",
    ")"
   ]
  },
  {
   "cell_type": "markdown",
   "metadata": {},
   "source": [
    "9. Agréger les données des vols de la compagnie `AA` pour obtenir :\n",
    "- le nombre total de vols,\n",
    "- le nombre total de vols annulés,\n",
    "- la valeur moyenne de `ArrDelay`."
   ]
  },
  {
   "cell_type": "code",
   "execution_count": null,
   "metadata": {},
   "outputs": [],
   "source": [
    "aa = hflights[hflights.UniqueCarrier == \"AA\"]\n",
    "pd.DataFrame(\n",
    "    # Index non nécessaire si on n'utilise des listes\n",
    "    {\n",
    "        \"n\": [len(aa)],\n",
    "        \"n_cancel\": [aa.Cancelled.sum()],\n",
    "        \"mean\": [aa.ArrDelay.mean()],\n",
    "    },\n",
    ")"
   ]
  },
  {
   "cell_type": "markdown",
   "metadata": {},
   "source": [
    "10. Calculer pour chaque compagnie :\n",
    "- le nombre total de vols,\n",
    "- la valeur moyenne de `AirTime`."
   ]
  },
  {
   "cell_type": "code",
   "execution_count": null,
   "metadata": {},
   "outputs": [],
   "source": [
    "hflights.groupby(\"UniqueCarrier\").agg(\n",
    "    n=pd.NamedAgg(column=\"FlightNum\", aggfunc=\"count\"),\n",
    "    mean=pd.NamedAgg(column=\"AirTime\", aggfunc=\"mean\"),\n",
    ")"
   ]
  },
  {
   "cell_type": "markdown",
   "metadata": {},
   "source": [
    "11. Ordonner les compagnies en fonction des retards moyens au départ."
   ]
  },
  {
   "cell_type": "code",
   "execution_count": null,
   "metadata": {},
   "outputs": [],
   "source": [
    "hflights.groupby(\"UniqueCarrier\").agg(\n",
    "    mean=pd.NamedAgg(column=\"DepDelay\", aggfunc=\"mean\"),\n",
    ").sort_values(by=\"mean\")"
   ]
  }
 ],
 "metadata": {
  "kernelspec": {
   "display_name": "teaching",
   "language": "python",
   "name": "python3"
  },
  "language_info": {
   "codemirror_mode": {
    "name": "ipython",
    "version": 3
   },
   "file_extension": ".py",
   "mimetype": "text/x-python",
   "name": "python",
   "nbconvert_exporter": "python",
   "pygments_lexer": "ipython3",
   "version": "3.11.8"
  }
 },
 "nbformat": 4,
 "nbformat_minor": 2
}
