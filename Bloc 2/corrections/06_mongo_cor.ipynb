{
 "cells": [
  {
   "cell_type": "markdown",
   "metadata": {},
   "source": [
    "# Notebook 6 : MongoDB"
   ]
  },
  {
   "cell_type": "code",
   "execution_count": null,
   "metadata": {},
   "outputs": [],
   "source": [
    "# Décommenter la ligne suivante pour installer pymongo\n",
    "# %pip install pymongo"
   ]
  },
  {
   "cell_type": "code",
   "execution_count": null,
   "metadata": {},
   "outputs": [],
   "source": [
    "import json\n",
    "\n",
    "import pandas as pd\n",
    "import pymongo\n",
    "\n",
    "client = pymongo.MongoClient(\n",
    "    # Coller ici la configuration donnée dans Onyxia\n",
    ")\n",
    "\n",
    "db = client.defaultdb"
   ]
  },
  {
   "cell_type": "markdown",
   "metadata": {},
   "source": [
    "## Planètes de Star Wars"
   ]
  },
  {
   "cell_type": "markdown",
   "metadata": {},
   "source": [
    "Nous considérons ici les données des planètes de *Star Wars* exportées à la fin du *Notebook 4*. Le fichier `planets.json` est également disponible dans le dossier des jeux de données."
   ]
  },
  {
   "cell_type": "markdown",
   "metadata": {},
   "source": [
    "1. Accéder à une collection `planets` et s'assurer qu'elle est vide grâce à la méthode `count_documents`."
   ]
  },
  {
   "cell_type": "code",
   "execution_count": null,
   "metadata": {},
   "outputs": [],
   "source": [
    "planets = db[\"planets\"]\n",
    "if planets.count_documents({}) > 0:\n",
    "    # La collection n'est pas vide, drop supprime tous les documents\n",
    "    planets.drop()"
   ]
  },
  {
   "cell_type": "markdown",
   "metadata": {},
   "source": [
    "2. Importer les données des planètes dans la collection `planets`."
   ]
  },
  {
   "cell_type": "code",
   "execution_count": null,
   "metadata": {},
   "outputs": [],
   "source": [
    "with open(\"data/planets.json\") as f:\n",
    "    for planet_document in f.readlines():\n",
    "        planets.insert_one(json.loads(planet_document))\n",
    "\n",
    "print(f\"{planets.count_documents({})} planètes\")"
   ]
  },
  {
   "cell_type": "markdown",
   "metadata": {},
   "source": [
    "3. Exporter l'ensemble des planètes sans l'identifiant `_id` dans un dataframe à l'aide du résultat de la méthode `find`."
   ]
  },
  {
   "cell_type": "code",
   "execution_count": null,
   "metadata": {},
   "outputs": [],
   "source": [
    "(\n",
    "    pd.DataFrame(\n",
    "        planets.find(projection={\"_id\": False})\n",
    "    )\n",
    "    .head()\n",
    ")"
   ]
  },
  {
   "cell_type": "markdown",
   "metadata": {},
   "source": [
    "4. Rechercher les planètes dont la période de rotation est égale à 25. Quel est le problème ? Combien y en a-t-il ?"
   ]
  },
  {
   "cell_type": "code",
   "execution_count": null,
   "metadata": {},
   "outputs": [],
   "source": [
    "# Il ne semble y avoir aucune planète avec une période de rotation égale à 25\n",
    "print(f\"'rotation_period': 25 ----> {planets.count_documents({'rotation_period': 25})}\")\n",
    "\n",
    "# Il faut remarquer que les données sont des chaînes de caractères (ce sera corrigé dans la suite)\n",
    "print(f\"'rotation_period': '25' --> {planets.count_documents({'rotation_period': '25'})}\")\n",
    "\n",
    "(\n",
    "    pd.DataFrame(\n",
    "        planets.find(\n",
    "            filter={\"rotation_period\": \"25\"},\n",
    "            projection={\"_id\": False},\n",
    "        )\n",
    "    )\n",
    ")"
   ]
  },
  {
   "cell_type": "markdown",
   "metadata": {},
   "source": [
    "5. Même question mais en limitant la réponse aux clés `name`, `rotation_period`, `orbital_period` et `diameter`."
   ]
  },
  {
   "cell_type": "code",
   "execution_count": null,
   "metadata": {},
   "outputs": [],
   "source": [
    "(\n",
    "    pd.DataFrame(\n",
    "        planets.find(\n",
    "            filter={\"rotation_period\": \"25\"},\n",
    "            projection={\n",
    "                \"_id\": False,\n",
    "                \"name\": True,\n",
    "                \"rotation_period\": True,\n",
    "                \"orbital_period\": True,\n",
    "                \"diameter\": True,\n",
    "            },\n",
    "        )\n",
    "    )\n",
    ")"
   ]
  },
  {
   "cell_type": "markdown",
   "metadata": {},
   "source": [
    "6. Trier les planètes du résultat précédent par diamètre décroissant. Quel est le problème ?"
   ]
  },
  {
   "cell_type": "code",
   "execution_count": null,
   "metadata": {},
   "outputs": [],
   "source": [
    "resultat = (\n",
    "    pd.DataFrame(\n",
    "        planets.find(\n",
    "            filter={\"rotation_period\": \"25\"},\n",
    "            projection={\n",
    "                \"_id\": False,\n",
    "                \"name\": True,\n",
    "                \"rotation_period\": True,\n",
    "                \"orbital_period\": True,\n",
    "                \"diameter\": True,\n",
    "            },\n",
    "            sort=[(\"diameter\", pymongo.DESCENDING)]\n",
    "        )\n",
    "    )\n",
    ")\n",
    "\n",
    "# Le tri n'est pas correct car la variable diameter est une chaîne de caractères\n",
    "print(resultat.convert_dtypes().dtypes)\n",
    "\n",
    "# Le tri est donc alphabétique, ce qui n'est pas ce que nous voulons\n",
    "resultat"
   ]
  },
  {
   "cell_type": "markdown",
   "metadata": {},
   "source": [
    "7. Vider la collection et importer à nouveau les données mais en faisant les corrections suivantes au préalable (un dataframe intermédiaire pourra être utilisé pour manipuler les données avant leur insertion) :\n",
    "- convertir les valeurs numériques (gérer les cas `unknown`),\n",
    "- supprimer les variables `created`, `edited`, `films`, `gravity`, `residents` et `url`.\n",
    "- transformer les variables `climate` et `terrain` en listes de chaînes de caractères plutôt qu'une longue chaîne séparée par des virgules."
   ]
  },
  {
   "cell_type": "code",
   "execution_count": null,
   "metadata": {},
   "outputs": [],
   "source": [
    "# Chargement des données dans un dataframe intermédiaire\n",
    "df_planets = pd.read_json(\"data/planets.json\", lines=True)\n",
    "\n",
    "# Conversion des valeurs numériques\n",
    "numeric_columns = [\"diameter\", \"orbital_period\", \"population\", \"rotation_period\", \"surface_water\"]\n",
    "df_planets[numeric_columns] = (\n",
    "    df_planets[numeric_columns]\n",
    "    .replace(\"unknown\", pd.NA) # Replace les \"unknown\" par des valeurs manquantes\n",
    "    .apply(pd.to_numeric) # Une façon de convertir en numériques\n",
    ")\n",
    "\n",
    "# Suppression des colonnes\n",
    "df_planets.drop(\n",
    "    columns=[\"created\", \"edited\", \"films\", \"gravity\", \"residents\", \"url\"],\n",
    "    inplace=True # Modifie le dataframe\n",
    ")\n",
    "\n",
    "# Transformation en listes de chaînes de caractères\n",
    "columns = [\"climate\", \"terrain\"]\n",
    "df_planets[columns] = (\n",
    "    df_planets[columns]\n",
    "    # Séparateur \", \" pour diviser les longues chaînes de caractères\n",
    "    .apply(lambda serie: serie.str.split(\", \"))\n",
    ")\n",
    "\n",
    "# Les données sont prêtes, nous pouvons vider la collection pour insérer les nouvelles versions\n",
    "\n",
    "planet_documents = (\n",
    "    df_planets\n",
    "    .to_json(orient=\"records\", lines=True) # Documents séparés par des retours à la ligne \"\\n\"\n",
    "    .split(\"\\n\") # Séparateur \"\\n\" pour diviser la liste des documents\n",
    ")\n",
    "\n",
    "planets.drop() # Suppression des documents de la collection\n",
    "planets.insert_many( # Insertion des nouvelles versions\n",
    "    [\n",
    "        json.loads(planet_document)\n",
    "        for planet_document in planet_documents\n",
    "        if planet_document != \"\" # Évite le dernier retour à la ligne\n",
    "    ]\n",
    ")\n",
    "\n",
    "# Affichage du résultat\n",
    "(\n",
    "    pd.DataFrame(\n",
    "        planets.find(projection={\"_id\": False})\n",
    "    )\n",
    "    .head()\n",
    ")"
   ]
  },
  {
   "cell_type": "markdown",
   "metadata": {},
   "source": [
    "8. Reprendre la question 6 et vérifier que le résultat est maintenant correct."
   ]
  },
  {
   "cell_type": "code",
   "execution_count": null,
   "metadata": {},
   "outputs": [],
   "source": [
    "# Le tri est maintenant dans l'ordre numérique\n",
    "(\n",
    "    pd.DataFrame(\n",
    "        planets.find(\n",
    "            filter={\"rotation_period\": 25}, # La valeur n'est plus une chaîne de caractères grâce à la question précédente\n",
    "            projection={\n",
    "                \"_id\": False,\n",
    "                \"name\": True,\n",
    "                \"rotation_period\": True,\n",
    "                \"orbital_period\": True,\n",
    "                \"diameter\": True,\n",
    "            },\n",
    "            sort=[(\"diameter\", pymongo.DESCENDING)]\n",
    "        )\n",
    "    )\n",
    ")"
   ]
  },
  {
   "cell_type": "markdown",
   "metadata": {},
   "source": [
    "9. Extraire les planètes dont le nom commence par `T`."
   ]
  },
  {
   "cell_type": "code",
   "execution_count": null,
   "metadata": {},
   "outputs": [],
   "source": [
    "pd.DataFrame(\n",
    "    planets.find(\n",
    "        filter={\"name\": {\"$regex\": \"^T\"}},\n",
    "        projection={\"_id\": False}\n",
    "    )\n",
    ")"
   ]
  },
  {
   "cell_type": "markdown",
   "metadata": {},
   "source": [
    "10. Extraire les planètes dont le diamètre est strictement supérieur à 10000 et où se trouvent des montagnes."
   ]
  },
  {
   "cell_type": "code",
   "execution_count": null,
   "metadata": {},
   "outputs": [],
   "source": [
    "pd.DataFrame(\n",
    "    planets.find(\n",
    "        filter={\n",
    "            \"$and\": [\n",
    "                # Opérateur $gt pour 'strictement supérieur'\n",
    "                {\"diameter\": {\"$gt\": 10000}},\n",
    "                # Opérateur $in pour tester l'inclusion (grâce à notre nouvelle version)\n",
    "                {\"terrain\": {\"$in\": [\"mountains\"]}},\n",
    "            ]\n",
    "        },\n",
    "        projection={\"_id\": False}\n",
    "    )\n",
    ")"
   ]
  },
  {
   "cell_type": "markdown",
   "metadata": {},
   "source": [
    "11. Rechercher puis supprimer la planète dont le nom est `unknown`."
   ]
  },
  {
   "cell_type": "code",
   "execution_count": null,
   "metadata": {},
   "outputs": [],
   "source": [
    "# Recherche de la planète unknown\n",
    "pd.DataFrame(\n",
    "    planets.find(\n",
    "        filter={\"name\": \"unknown\"},\n",
    "        projection={\"_id\": False},\n",
    "    )\n",
    ")"
   ]
  },
  {
   "cell_type": "code",
   "execution_count": null,
   "metadata": {},
   "outputs": [],
   "source": [
    "# Suppression de la planète unknown\n",
    "print(f\"Avant : {planets.count_documents({})} planètes\")\n",
    "planets.delete_one({\"name\": \"unknown\"})\n",
    "print(f\"Après : {planets.count_documents({})} planètes\")"
   ]
  },
  {
   "cell_type": "markdown",
   "metadata": {},
   "source": [
    "12. Mettre en œuvre un pipeline d'agrégation qui calcule le nombre de planètes dans la collection. Verifier le résultat avec la méthode `count_documents`."
   ]
  },
  {
   "cell_type": "code",
   "execution_count": null,
   "metadata": {},
   "outputs": [],
   "source": [
    "print(f\"Avec count_documents : {planets.count_documents ({})}\")\n",
    "\n",
    "pd.DataFrame(\n",
    "    planets.aggregate(\n",
    "        [\n",
    "            {\"$group\": {\"_id\": None, \"count\": {\"$sum\": 1}}},\n",
    "        ]\n",
    "    )\n",
    ")"
   ]
  },
  {
   "cell_type": "markdown",
   "metadata": {},
   "source": [
    "13. Mettre en œuvre un pipeline d'agrégation pour calculer le diamètre moyen et la somme des populations des planètes contenant des glaciers."
   ]
  },
  {
   "cell_type": "code",
   "execution_count": null,
   "metadata": {},
   "outputs": [],
   "source": [
    "pd.DataFrame(\n",
    "    planets.aggregate(\n",
    "        [\n",
    "            {\n",
    "                \"$match\": {\n",
    "                    \"terrain\": {\"$in\": [\"glaciers\"]}\n",
    "                }\n",
    "            },\n",
    "            {\n",
    "                \"$group\": {\n",
    "                    \"_id\": None,\n",
    "                    \"diameter\": {\"$avg\": \"$diameter\"},\n",
    "                    \"population\": {\"$sum\": \"$population\"},\n",
    "                }\n",
    "            },\n",
    "        ]\n",
    "    )\n",
    ")"
   ]
  }
 ],
 "metadata": {
  "kernelspec": {
   "display_name": "teaching",
   "language": "python",
   "name": "python3"
  },
  "language_info": {
   "codemirror_mode": {
    "name": "ipython",
    "version": 3
   },
   "file_extension": ".py",
   "mimetype": "text/x-python",
   "name": "python",
   "nbconvert_exporter": "python",
   "pygments_lexer": "ipython3",
   "version": "3.11.8"
  }
 },
 "nbformat": 4,
 "nbformat_minor": 2
}
