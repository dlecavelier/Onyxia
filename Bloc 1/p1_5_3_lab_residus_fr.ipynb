{
 "cells": [
  {
   "cell_type": "markdown",
   "id": "69eb5ed9-9783-4b60-b0aa-8a7212ab313f",
   "metadata": {},
   "source": [
    "# Modules python\n",
    "Importer les modules pandas (comme `pd`) numpy (commme `np`)\n",
    "matplotlib.pyplot (comme  `plt`), statsmodels.formula.api (comme `smf`)\n",
    "et statsmodels.api (comme `sm`)"
   ]
  },
  {
   "cell_type": "code",
   "execution_count": null,
   "id": "be4aaa44",
   "metadata": {},
   "outputs": [],
   "source": []
  },
  {
   "cell_type": "markdown",
   "id": "b68499de-524c-4f66-851f-c800a4aefe13",
   "metadata": {},
   "source": [
    "# Régression multiple (modèle du cours)"
   ]
  },
  {
   "cell_type": "markdown",
   "id": "92338a13-a937-4acb-8f68-6ccf4f0927b5",
   "metadata": {},
   "source": [
    "###Importation des données\n",
    "Importer les données d'ozone dans le DataFrame pandas `ozone`\n",
    "\\[`read_csv` de `numpy`\\]. Dans Fun Campus les jeux de données sont dans le répertoire `data/`."
   ]
  },
  {
   "cell_type": "code",
   "execution_count": null,
   "id": "ea82e066",
   "metadata": {},
   "outputs": [],
   "source": []
  },
  {
   "cell_type": "markdown",
   "id": "739452f4-e47e-41e6-ac39-eb2bac0e49dc",
   "metadata": {},
   "source": [
    "## Estimation du modèle du cours\n",
    "Nous sommes intéressé par batir un modèle de prévision de l'ozone par \n",
    "une régression multiple. Ce régression expliquera\n",
    "le maximum de la concentration en ozone du jour (variable `O3`) par \n",
    "- la température à midi notée `T12`\n",
    "- la nébulosité à midi notée `Ne12`\n",
    "- la vitesse du vent sur l'axe Est-Ouest notée `Vx`\n",
    "Traditionnellement on introduit toujours la constante (le faire ici aussi).\n",
    "Estimer le modèle par MCO et faire le résumé.\n",
    "\\[`ols` de `smf`, méthode `fit` de la classe `OLS` et \n",
    "méthode `summary` pour l'instance/modèle ajusté\\]"
   ]
  },
  {
   "cell_type": "code",
   "execution_count": null,
   "id": "04e36be6",
   "metadata": {},
   "outputs": [],
   "source": []
  },
  {
   "cell_type": "markdown",
   "id": "72604d83-3d7b-4644-a7a6-3ec65ea3bebe",
   "metadata": {},
   "source": [
    "## Résidus \\$\\varepsilon\\$\n",
    "Afficher le graphique des résidus (attribut `resid` du modèle estimé)\n",
    "(avec \\$\\hat y\\$ en abscisse et \\$\\varepsilon\\$ en ordonnée).\n",
    "\\[`plot` de plt\\]"
   ]
  },
  {
   "cell_type": "code",
   "execution_count": null,
   "id": "4efe0aee",
   "metadata": {},
   "outputs": [],
   "source": []
  },
  {
   "cell_type": "markdown",
   "id": "f66379ee-03ea-4e7a-b0a8-08355dca83fc",
   "metadata": {},
   "source": [
    "## Résidus \\$\\varepsilon\\$\n",
    "Afficher le graphique des résidus studentisés par validation croisée (avec \\$\\hat y\\$ en abscisse et \n",
    "\\$\\varepsilon\\$ en ordonnée). Pour cela utiliser la fonction/méthode `get_influence` \n",
    "qui renverra un objet (que l'on nommera `infl`) avec un attribut `resid_studentized_external`\n",
    "contenant les résidus souhaités."
   ]
  },
  {
   "cell_type": "code",
   "execution_count": null,
   "id": "6b006612",
   "metadata": {},
   "outputs": [],
   "source": []
  },
  {
   "cell_type": "markdown",
   "id": "7105b531-82de-4086-a375-7b1ea5a09d4e",
   "metadata": {},
   "source": [
    "## Points leviers\n",
    "Représenter les \\$h_{ii}\\$ grâce à `plt.stem` en fonction du numéro de ligne\n",
    "\\[`np.arange`, attribut `shape` d'un DataFrame, attribut d'instance \n",
    "`hat_matrix_diag` pour `infl`\\]"
   ]
  },
  {
   "cell_type": "code",
   "execution_count": null,
   "id": "0bd95ab3",
   "metadata": {},
   "outputs": [],
   "source": []
  },
  {
   "cell_type": "markdown",
   "id": "29ecd8bf-ad38-4fd9-90c7-fda957aa9e58",
   "metadata": {},
   "source": [
    "# R²\n",
    "Nous sommes intéressé par batir un modèle de prévision de l'ozone par \n",
    "une régression multiple. Cependant nous ne savons pas trop a priori\n",
    "quelles sont les variables utiles. Batissons plusieurs modèles."
   ]
  },
  {
   "cell_type": "markdown",
   "id": "bddb450c-a9fd-4af4-a24c-706196d77ed7",
   "metadata": {},
   "source": [
    "## Estimation du modèle du cours\n",
    "Ce régression expliquera\n",
    "le maximum de la concentration en ozone du jour (variable `O3`) par \n",
    "- la température à midi notée `T12`\n",
    "- la nébulosité à midi notée `Ne12`\n",
    "- la vitesse du vent sur l'axe Est-Ouest notée `Vx`\n",
    "Traditionnellement on introduit toujours la constante (le faire ici aussi).\n",
    "Estimer le modèle par MCO et faire le résumé.\n",
    "\\[`ols` de `smf`, méthode `fit` de la classe `OLS` et \n",
    "méthode `summary` pour l'instance/modèle ajusté\\]"
   ]
  },
  {
   "cell_type": "code",
   "execution_count": null,
   "id": "9b1fa820",
   "metadata": {},
   "outputs": [],
   "source": []
  },
  {
   "cell_type": "markdown",
   "id": "d798f18c-9376-4ad9-8d3c-11ed282b352e",
   "metadata": {},
   "source": [
    "## Estimation d'un modèle complémentaire\n",
    "Ce régression expliquera\n",
    "le maximum de la concentration en ozone du jour (variable `O3`) par \n",
    "- la température à midi notée `T12`\n",
    "- la température à six heures notée `T15`\n",
    "- la nébulosité à midi notée `Ne12`\n",
    "- la vitesse du vent sur l'axe Est-Ouest notée `Vx`\n",
    "- le maximum du jour d'avant/la veille `O3v`\n",
    "Traditionnellement on introduit toujours la constante (le faire ici aussi).\n",
    "Estimer le modèle par MCO et faire le résumé."
   ]
  },
  {
   "cell_type": "code",
   "execution_count": null,
   "id": "41452cc0",
   "metadata": {},
   "outputs": [],
   "source": []
  },
  {
   "cell_type": "markdown",
   "id": "2321deab-de95-498b-9e44-f4ee1648a5f8",
   "metadata": {},
   "source": [
    "## Comparer les R2\n",
    "Comparer les R2 des modèles à 3 et 5 variables \n",
    "et expliquer pourquoi cela était attendu."
   ]
  },
  {
   "cell_type": "code",
   "execution_count": null,
   "id": "cc7a294c",
   "metadata": {},
   "outputs": [],
   "source": []
  },
  {
   "cell_type": "markdown",
   "id": "27943e13-e86a-40cd-8685-22e79f96b3d5",
   "metadata": {},
   "source": [
    "# Résidus partiels (pour aller plus loin)\n",
    "Cet exercice montre l'utilité pratique des résidus partiels envisagés en TD.\n",
    "Les données se trouvent dans le fichier `tprespartiel.dta` et\n",
    "`tpbisrespartiel.dta`, l'objectif de ce TP est de montrer que l'analyse\n",
    "des résidus partiels peut améliorer la modélisation."
   ]
  },
  {
   "cell_type": "markdown",
   "id": "e57c0396-c606-4055-b210-3b8babc9907b",
   "metadata": {},
   "source": [
    "## Importer les données\n",
    "Vous avez une variable à expliquer \\$Y\\$\n",
    "et quatre variables explicatives dans le fichier `tprespartiel.dta`. Dans Fun Campus les jeux de données sont dans le répertoire `data/`."
   ]
  },
  {
   "cell_type": "code",
   "execution_count": null,
   "id": "131ad66c",
   "metadata": {},
   "outputs": [],
   "source": []
  },
  {
   "cell_type": "markdown",
   "id": "23106e81-ea17-4883-8326-5f33151ecc63",
   "metadata": {},
   "source": [
    "## Estimation\n",
    "Estimer par MCO les paramètres du modèle \\$Y_i=\\beta_0 + \\beta_1 X_{i,1}+\\cdots+\n",
    "\\beta_4 X_{i,4} + \\varepsilon_i.\\$\n",
    "\\[`ols` de `smf`, méthode `fit` de la classe `OLS` et \n",
    "méthode `summary` pour l'instance/modèle ajusté\\]"
   ]
  },
  {
   "cell_type": "code",
   "execution_count": null,
   "id": "5af509a0",
   "metadata": {},
   "outputs": [],
   "source": []
  },
  {
   "cell_type": "markdown",
   "id": "4b238dfa-8cdb-4034-850f-4794318f12be",
   "metadata": {},
   "source": [
    "## Analyser les résidus partiels\n",
    "Que pensez-vous des résultats ?\n",
    "\\[`plot_ccpr_grid` du sous module `sm.graphics`\\], les résidus partiels sont\n",
    "appelés \"Component-Component plus Residual\"\n",
    "(CCPR) dans le module statsmodels…"
   ]
  },
  {
   "cell_type": "code",
   "execution_count": null,
   "id": "fb20a0ab",
   "metadata": {},
   "outputs": [],
   "source": []
  },
  {
   "cell_type": "markdown",
   "id": "3254d99e-8655-4247-aa29-3a9c15c9f284",
   "metadata": {},
   "source": [
    "## Amélioration du modèle \n",
    "Remplacer $X_4$ par $X_5=X_4^2$ dans le modèle précédent. Que pensez-vous de\n",
    "  la nouvelle modélisation ? On pourra comparer ce modèle à celui de la\n",
    "  question précédente.\n",
    "\\[`ols` de `smf`, méthode `fit` de la classe `OLS` et \n",
    " attribut d'instance `rsquared`\\]\n",
    "On pourra utiliser les\n",
    "opérations et fonctions dans les formules\n",
    "(voir https://www.statsmodels.org/stable/example_formulas.html)"
   ]
  },
  {
   "cell_type": "code",
   "execution_count": null,
   "id": "14165789",
   "metadata": {},
   "outputs": [],
   "source": []
  },
  {
   "cell_type": "markdown",
   "id": "20acb167-3bb3-4165-9555-52067505a20c",
   "metadata": {},
   "source": [
    "## Analyser les résidus partiels\n",
    "Analyser les résidus partiels du nouveau modèle et constater\n",
    "qu'ils semblent corrects.\n",
    "\\[`plot_ccpr_grid` du sous module `sm.graphics`\\], les résidus partiels sont\n",
    "appelés \"Component-Component plus Residual\"\n",
    "(CCPR) dans le module statsmodels…"
   ]
  },
  {
   "cell_type": "code",
   "execution_count": null,
   "id": "40acf634",
   "metadata": {},
   "outputs": [],
   "source": []
  },
  {
   "cell_type": "markdown",
   "id": "c1aa5487-6725-4de4-81f7-1278c650c7ad",
   "metadata": {},
   "source": [
    "## Faire le même travail pour `tp2bisrespartiel`."
   ]
  },
  {
   "cell_type": "code",
   "execution_count": null,
   "id": "907202b9",
   "metadata": {},
   "outputs": [],
   "source": []
  }
 ],
 "metadata": {
  "kernelspec": {
   "display_name": "Python 3 (ipykernel)",
   "language": "python",
   "name": "python3"
  },
  "language_info": {
   "codemirror_mode": {
    "name": "ipython",
    "version": 3
   },
   "file_extension": ".py",
   "mimetype": "text/x-python",
   "name": "python",
   "nbconvert_exporter": "python",
   "pygments_lexer": "ipython3",
   "version": "3.9.2"
  },
  "name": "residus.ipynb"
 },
 "nbformat": 4,
 "nbformat_minor": 5
}
