{
 "cells": [
  {
   "cell_type": "markdown",
   "id": "e7995a4a",
   "metadata": {},
   "source": [
    "---\n",
    "jupytext:\n",
    "  cell_metadata_filter: all, -hidden, -heading_collapsed, -run_control, -trusted\n",
    "  notebook_metadata_filter: all, -jupytext.text_representation.jupytext_version, -jupytext.text_representation.format_version, -language_info.version, -language_info.codemirror_mode.version, -language_info.codemirror_mode, -language_info.file_extension, -language_info.mimetype, -toc\n",
    "  text_representation:\n",
    "    extension: .md\n",
    "    format_name: myst\n",
    "kernelspec:\n",
    "  display_name: Python 3 (ipykernel)\n",
    "  language: python\n",
    "  name: python3\n",
    "language_info:\n",
    "  name: python\n",
    "  nbconvert_exporter: python\n",
    "  pygments_lexer: ipython3\n",
    "nbhosting:\n",
    "  title: 'TP régression Logistique'\n",
    "  version: '1.0'\n",
    "---\n",
    "\n",
    "<div class=\"licence\">\n",
    "<span><img src=\"media/logo_IPParis.png\" /></span>\n",
    "<span>Lisa BEDIN<br />Pierre André CORNILLON<br />Eric MATZNER-LOBER</span>\n",
    "<span>Licence CC BY-NC-ND</span>\n",
    "</div>\n",
    "\n",
    "# Modules python\n",
    "\n",
    "Importer les modules pandas (comme `pd`) numpy (commme `np`) matplotlib.pyplot (comme `plt`) et statsmodels.formula.api (comme `smf`)."
   ]
  },
  {
   "cell_type": "markdown",
   "id": "9e4036e9",
   "metadata": {},
   "source": [
    "# Régression logistique\n",
    "\n",
    "\n",
    "## Importation des données\n",
    "\n",
    "Importer les données `artere.txt` dans le DataFrame pandas `artere` \\[`read_csv` de `numpy` \\]. Sur Fun Campus le chemin est `data/artere.txt`. Outre l'age et la présence=1/absence=0 de la maladie cardio-vasculaire (`chd`) une variable qualitative à 8 modalités donne les classes d'age (`agegrp`)"
   ]
  },
  {
   "cell_type": "markdown",
   "id": "556eb72f",
   "metadata": {},
   "source": [
    "## Nuage de points\n",
    "\n",
    "Tracer le nuage de points avec `age` en abscisses et `chd` en ordonnées \\[`plt.plot` \\]"
   ]
  },
  {
   "cell_type": "markdown",
   "id": "69167fdb",
   "metadata": {},
   "source": [
    "## Régression logistique\n",
    "\n",
    "Effectuer une régression logistique où `age` est la variable explicative et `chd` la variable binaire à expliquer. Stocker le résultat dans l'objet `modele` et\n",
    "\n",
    "1.  effectuer le résumé de cette modélisation;\n",
    "2.  afficher l'attribut contenant les paramètres estimés par régression logistique;\n",
    "\n",
    "\\[`logit` de `smf`, méthode `fit`, méthode `summary` pour l'instance/modèle ajusté, attributs `params`.\\]"
   ]
  },
  {
   "cell_type": "markdown",
   "id": "19767732",
   "metadata": {},
   "source": [
    "## Prévision et probabilités estimées\n",
    "\n",
    "Afficher l'ajustement/prévision pour les données de l'échantillon via la méthode `predict` (sans arguments) sur le modèle `reg`. Que représente ce vecteur:\n",
    "\n",
    "-   une probabilité d'être malade pour chaque valeur de l'age de l'échantillon\n",
    "-   une probabilité d'être non-malade pour chaque valeur de l'age de l'échantillon\n",
    "-   une prévision de l'état malade/non-malade pour chaque valeur de l'age de l'échantillon."
   ]
  },
  {
   "cell_type": "markdown",
   "id": "2d5a6d9b",
   "metadata": {},
   "source": [
    "Donner la prévision de l'état malade/non-malade avec l'indicatrice que $\\hat p(x)>s$ où $s$ est le seuil classique de 0.5."
   ]
  },
  {
   "cell_type": "markdown",
   "id": "e5b88f08",
   "metadata": {},
   "source": [
    "# Simulation de données  Variabilité de $\\hat \\beta_2$\n",
    "\n",
    "\n",
    "## Simulation\n",
    "\n",
    "1.  Générer $n=100$ valeurs de $X$ uniformément entre 0 et 1.\n",
    "2.  Pour chaque valeur $X_i$ simuler $Y_i$ selon un modèle logistique de paramètres $\\beta_1=-5$ et $\\beta_2=10$\n",
    "\n",
    "\\[créer une instance de générateur aléatoire `np.random.default_rng` et utiliser `rng.uniform` et `rng.binomial` \\]"
   ]
  },
  {
   "cell_type": "markdown",
   "id": "2eeb14d0",
   "metadata": {},
   "source": [
    "## Estimation\n",
    "\n",
    "Estimer les paramètres $\\beta_1$ et $\\beta_2$"
   ]
  },
  {
   "cell_type": "markdown",
   "id": "5815e492",
   "metadata": {},
   "source": [
    "## Variabilité de l'estimation\n",
    "\n",
    "Refaire les deux questions ci-dessus 500 fois et constater par un graphique adapté la variabilité de $\\hat \\beta_2$."
   ]
  },
  {
   "cell_type": "markdown",
   "id": "a805fbf8",
   "metadata": {},
   "source": [
    "# Deux régressions logistiques simples\n",
    "\n",
    "\n",
    "## Importation des données\n",
    "\n",
    "Importer les données `artere.txt` dans le DataFrame pandas `artere` \\[`read_csv` de `numpy` \\]. Sur Fun Campus le chemin est `data/artere.txt`. Outre l'age et la présence=1/absence=0 de la maladie cardio-vasculaire (`chd`) une variable qualitative à 8 modalités donne les classes d'age (`agegrp`)"
   ]
  },
  {
   "cell_type": "markdown",
   "id": "89dc2a5e",
   "metadata": {},
   "source": [
    "## Deux régressions logistiques\n",
    "\n",
    "1.  Effectuer une régression logistique simple où `age` est la variable explicative et `chd` la variable binaire à expliquer;\n",
    "2.  Refaire la même chose avec la racine carrée de `age` comme variable explicative;"
   ]
  },
  {
   "cell_type": "markdown",
   "id": "00247a38",
   "metadata": {},
   "source": [
    "## Comparaison\n",
    "\n",
    "Ajouter au nuage de points les 2 ajustements (la droite et la \"racine carrée\") et choisir le meilleur modèle via un critère numérique. \\[méthode `argsort` sur une colonne du DataFrame et `plt.plot` ; utiliser le résumé des modèles\\]\n",
    "\n",
    "```{code-cell} python\n",
    "\n",
    "```"
   ]
  }
 ],
 "metadata": {},
 "nbformat": 4,
 "nbformat_minor": 5
}
