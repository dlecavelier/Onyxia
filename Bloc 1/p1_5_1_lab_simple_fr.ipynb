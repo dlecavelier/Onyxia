{
 "cells": [
  {
   "cell_type": "markdown",
   "id": "cc608f22",
   "metadata": {},
   "source": [
    "# Modules python\n",
    "Importer les modules pandas (comme `pd`) numpy (commme `np`)\n",
    "matplotlib.pyplot (comme  `plt`) et statsmodels.formula.api (comme `smf`). "
   ]
  },
  {
   "cell_type": "code",
   "execution_count": null,
   "id": "3066dbed",
   "metadata": {},
   "outputs": [],
   "source": []
  },
  {
   "cell_type": "markdown",
   "id": "b487327b-e7a1-4cb4-98cb-30cac9ff5db3",
   "metadata": {},
   "source": [
    "# Régression simple"
   ]
  },
  {
   "cell_type": "markdown",
   "id": "96080baa",
   "metadata": {
    "jupyter": {
     "outputs_hidden": false
    }
   },
   "source": [
    "## Importation des données\n",
    "Importer les données d'eucalytus dans le DataFrame pandas `eucalypt`\n",
    "\\[`read_csv` de `numpy`\\]. Sur Fun Campus le chemin est `data/eucalyptus.txt`."
   ]
  },
  {
   "cell_type": "code",
   "execution_count": null,
   "id": "da50d9de",
   "metadata": {},
   "outputs": [],
   "source": []
  },
  {
   "cell_type": "markdown",
   "id": "f1541a51-d2b4-4728-8a11-05af7a93d510",
   "metadata": {},
   "source": [
    "## Nuage de points\n",
    "Tracer le nuage de points avec `circ` en  abscisses et `ht` en ordonnées\n",
    "\\[`plt.plot`\\]"
   ]
  },
  {
   "cell_type": "code",
   "execution_count": null,
   "id": "c36013dc",
   "metadata": {},
   "outputs": [],
   "source": []
  },
  {
   "cell_type": "markdown",
   "id": "8cb15488-0898-4994-8ca0-b57dc130df5d",
   "metadata": {},
   "source": [
    "## Régression simple\n",
    "Effectuer une régression linéaire simple où `circ` est  la variable\n",
    "explicative et `ht` la variable à expliquer. Stocker le résultat\n",
    "dans l'objet `reg` et \n",
    "1. effectuer le résumé de cette modélisation;\n",
    "2. afficher l'attribut contenant les paramètres estimés par MCO de la droite;\n",
    "3. afficher l'attribut contenant l'estimation de l'écart-type de l'erreur.\n",
    "\\[`ols` de `smf`, méthode `fit` de la classe `OLS`, \n",
    "méthode `summary` pour l'instance/modèle ajusté,\n",
    "attributs `params` et `scale`.\\]"
   ]
  },
  {
   "cell_type": "code",
   "execution_count": null,
   "id": "47c062a6",
   "metadata": {},
   "outputs": [],
   "source": []
  },
  {
   "cell_type": "markdown",
   "id": "be6e61e3-a2f0-4704-87d8-32d43fec2d93",
   "metadata": {},
   "source": [
    "## Résidus\n",
    "Représenter graphiquement les résidus avec\n",
    "1. en abscisse la variable `circ` et en ordonnée les résidus;\n",
    "2. en abscisse l'ajustement \\$\\hat y\\$ et en ordonnée les résidus;\n",
    "3. en abscisse le numéro de ligne du tableau (index) et en ordonnées les résidus.\n",
    "\\[`plt.plot`, méthode `predict` pour l'instance/modèle ajusté et\n",
    "`np.arange` pour générer les numéros de ligne avec l'attribut `shape`\n",
    "du DataFrame\\]"
   ]
  },
  {
   "cell_type": "code",
   "execution_count": null,
   "id": "3548f7cd",
   "metadata": {},
   "outputs": [],
   "source": []
  },
  {
   "cell_type": "markdown",
   "id": "481e45d9-cb49-4952-a57e-1a49badb9f7e",
   "metadata": {},
   "source": [
    "# Variabilité de l'estimation"
   ]
  },
  {
   "cell_type": "markdown",
   "id": "2d26a396-1775-4301-8708-62f8df7541fe",
   "metadata": {},
   "source": [
    "## Importation des données\n",
    "Importer les données d'eucalytus dans le DataFrame pandas `eucalypt`\n",
    "\\[`read_csv` de `numpy`\\]. Sur Fun Campus le chemin est `data/eucalyptus.txt`."
   ]
  },
  {
   "cell_type": "code",
   "execution_count": null,
   "id": "d8eee925",
   "metadata": {},
   "outputs": [],
   "source": []
  },
  {
   "cell_type": "markdown",
   "id": "479dea80-610d-42ea-8557-298b34e54f72",
   "metadata": {},
   "source": [
    "Créer deux listes vides `beta1` et `beta2`\n",
    "Faire 500 fois les étapes suivantes\n",
    "1. Tirer au hasard sans remise 100 lignes dans le tableau `eucalypt`\n",
    "2. Sur ce tirage effectuer une régression linéaire simple\n",
    "   où `circ` est la variable explicative et `ht` la variable \n",
    "   à expliquer. Stocker les paramètres estimés dans `beta1` et `beta2`\n",
    "\\[créer une instance de générateur aléatoire `np.random.default_rng`\\]"
   ]
  },
  {
   "cell_type": "code",
   "execution_count": null,
   "id": "42603fbd",
   "metadata": {},
   "outputs": [],
   "source": []
  },
  {
   "cell_type": "markdown",
   "id": "af18cf3f-7612-490a-9c5a-77e568ad8f26",
   "metadata": {},
   "source": [
    "## Variabilité de \\$\\hat \\beta_2\\$\n",
    "Représenter la variabilité de la variable aléatoire  \\$\\hat \\beta_2\\$.\n",
    "\\[une fonction de `plt`...\\]"
   ]
  },
  {
   "cell_type": "code",
   "execution_count": null,
   "id": "9309c69e",
   "metadata": {},
   "outputs": [],
   "source": []
  },
  {
   "cell_type": "markdown",
   "id": "755e5d9f-767b-490a-a573-37452745e00a",
   "metadata": {},
   "source": [
    "Tracer les couples \\$\\hat \\beta_1\\$ et \\$\\hat \\beta_2\\$ et\n",
    "constater la variabilité de l'estimation et la corrélation\n",
    "entre les deux paramètres.\n",
    "\\[une fonction de `plt`...\\]"
   ]
  },
  {
   "cell_type": "code",
   "execution_count": null,
   "id": "de07017c",
   "metadata": {},
   "outputs": [],
   "source": []
  },
  {
   "cell_type": "markdown",
   "id": "a5338db4-ed53-4285-a207-9a6895fc9731",
   "metadata": {},
   "source": [
    "# Deux modèles"
   ]
  },
  {
   "cell_type": "markdown",
   "id": "cf82971a-8798-4914-adbc-4ba84a659aed",
   "metadata": {},
   "source": [
    "## Importation des données\n",
    "Importer les données d'eucalytus dans le DataFrame pandas `eucalypt`\n",
    "\\[`read_csv` de `numpy`\\]. Sur Fun Campus le chemin est `data/eucalyptus.txt`."
   ]
  },
  {
   "cell_type": "code",
   "execution_count": null,
   "id": "f392fc21",
   "metadata": {},
   "outputs": [],
   "source": []
  },
  {
   "cell_type": "markdown",
   "id": "03d4b797-d648-47f9-a7fa-23d5920317f8",
   "metadata": {},
   "source": [
    "## Nuage de points\n",
    "Tracer le nuage de points avec `circ` en  abscisses et `ht` en ordonnées\n",
    "et constater que les points ne sont pas exactement autour\n",
    "d'une droite mais plutôt une courbe qui est de type \"racine carrée\"\n",
    "\\[`plt.plot`\\]"
   ]
  },
  {
   "cell_type": "code",
   "execution_count": null,
   "id": "05f3be48",
   "metadata": {},
   "outputs": [],
   "source": []
  },
  {
   "cell_type": "markdown",
   "id": "c28c4c04-35c6-41dd-b2c0-79e9c48dce03",
   "metadata": {},
   "source": [
    "## Deux régressions simples\n",
    "1. Effectuer une régression linéaire simple où `circ` est\n",
    "   la variable explicative et `ht` la variable à expliquer.\n",
    "   Stocker le résultat dans l'objet `reg`\n",
    "2. Effectuer une régression linéaire simple où la racine carrée de `circ`\n",
    "   est  la variable explicative et `ht` la variable à expliquer.\n",
    "   Stocker le résultat dans l'objet `regsqrt`. On pourra utiliser les\n",
    "   opérations et fonctions dans les formules\n",
    "   (voir https://www.statsmodels.org/stable/example_formulas.html)\n",
    "\\[`ols` de `smf`, méthode `fit` de la classe `OLS`, \n",
    "méthode `summary` pour l'instance/modèle ajusté\\]"
   ]
  },
  {
   "cell_type": "code",
   "execution_count": null,
   "id": "c0a3e1d7",
   "metadata": {},
   "outputs": [],
   "source": []
  },
  {
   "cell_type": "markdown",
   "id": "23973fd1-04cc-4b36-8f03-13fc06805351",
   "metadata": {},
   "source": [
    "## Comparaison\n",
    "Ajouter au nuage de points les 2 ajustements (la droite et la \"racine carrée\")\n",
    "et choisir le meilleur modèle.\n",
    "\\[méthode `argsort` sur une colonne du DataFrame et `plt.plot`\\]"
   ]
  },
  {
   "cell_type": "code",
   "execution_count": null,
   "id": "89eed750",
   "metadata": {},
   "outputs": [],
   "source": []
  }
 ],
 "metadata": {
  "kernelspec": {
   "display_name": "Python 3 (ipykernel)",
   "language": "python",
   "name": "python3"
  },
  "language_info": {
   "codemirror_mode": {
    "name": "ipython",
    "version": 3
   },
   "file_extension": ".py",
   "mimetype": "text/x-python",
   "name": "python",
   "nbconvert_exporter": "python",
   "pygments_lexer": "ipython3",
   "version": "3.10.12"
  },
  "name": "simple.ipynb"
 },
 "nbformat": 4,
 "nbformat_minor": 5
}
