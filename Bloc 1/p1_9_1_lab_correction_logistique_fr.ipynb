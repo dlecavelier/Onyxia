{
 "cells": [
  {
   "cell_type": "markdown",
   "id": "ad070fc6",
   "metadata": {},
   "source": [
    "---\n",
    "jupytext:\n",
    "  cell_metadata_filter: all, -hidden, -heading_collapsed, -run_control, -trusted\n",
    "  notebook_metadata_filter: all, -jupytext.text_representation.jupytext_version, -jupytext.text_representation.format_version, -language_info.version, -language_info.codemirror_mode.version, -language_info.codemirror_mode, -language_info.file_extension, -language_info.mimetype, -toc\n",
    "  text_representation:\n",
    "    extension: .md\n",
    "    format_name: myst\n",
    "kernelspec:\n",
    "  display_name: Python 3 (ipykernel)\n",
    "  language: python\n",
    "  name: python3\n",
    "language_info:\n",
    "  name: python\n",
    "  nbconvert_exporter: python\n",
    "  pygments_lexer: ipython3\n",
    "nbhosting:\n",
    "  title: 'Correction du TP régression Logistique'\n",
    "  version: '1.0'\n",
    "---\n",
    "\n",
    "<div class=\"licence\">\n",
    "<span><img src=\"media/logo_IPParis.png\" /></span>\n",
    "<span>Lisa BEDIN<br />Pierre André CORNILLON<br />Eric MATZNER-LOBER</span>\n",
    "<span>Licence CC BY-NC-ND</span>\n",
    "</div>\n",
    "\n",
    "# Modules python\n",
    "\n",
    "Importer les modules pandas (comme `pd`) numpy (commme `np`) matplotlib.pyplot (comme `plt`) et statsmodels.formula.api (comme `smf`)."
   ]
  },
  {
   "cell_type": "code",
   "execution_count": null,
   "id": "b3f62d8f",
   "metadata": {},
   "outputs": [],
   "source": [
    "import pandas as pd\n",
    "import numpy as np\n",
    "import matplotlib.pyplot as plt\n",
    "import statsmodels.formula.api as smf"
   ]
  },
  {
   "cell_type": "markdown",
   "id": "8eaf69dc",
   "metadata": {},
   "source": [
    "# Régression logistique\n",
    "\n",
    "\n",
    "## Importation des données\n",
    "\n",
    "Importer les données `artere.txt` dans le DataFrame pandas `artere` \\[`read_csv` de `numpy` \\]. Sur Fun Campus le chemin est `data/artere.txt`. Outre l'age et la présence=1/absence=0 de la maladie cardio-vasculaire (`chd`) une variable qualitative à 8 modalités donne les classes d'age (`agegrp`)"
   ]
  },
  {
   "cell_type": "code",
   "execution_count": null,
   "id": "e5e67034",
   "metadata": {},
   "outputs": [],
   "source": [
    "artere = pd.read_csv(\"data/artere.txt\", header=0, sep=\" \")"
   ]
  },
  {
   "cell_type": "markdown",
   "id": "3fe30e0a",
   "metadata": {},
   "source": [
    "## Nuage de points\n",
    "\n",
    "Tracer le nuage de points avec `age` en abscisses et `chd` en ordonnées \\[`plt.plot` \\]"
   ]
  },
  {
   "cell_type": "code",
   "execution_count": null,
   "id": "fa322b2b",
   "metadata": {},
   "outputs": [],
   "source": [
    "plt.scatter(x=\"age\", y=\"chd\", c=\"chd\", data=artere)\n",
    "plt.show()"
   ]
  },
  {
   "cell_type": "markdown",
   "id": "65502a01",
   "metadata": {},
   "source": [
    "## Régression logistique\n",
    "\n",
    "Effectuer une régression logistique où `age` est la variable explicative et `chd` la variable binaire à expliquer. Stocker le résultat dans l'objet `modele` et\n",
    "\n",
    "1.  effectuer le résumé de cette modélisation;"
   ]
  },
  {
   "cell_type": "code",
   "execution_count": null,
   "id": "453e10e4",
   "metadata": {},
   "outputs": [],
   "source": [
    "```{code-cell} python\n",
    "modele = smf.logit('chd~age', data=artere).fit()\n",
    "print(modele.summary())\n",
    "```\n",
    "\n",
    "Le modèle possède une log-vraisemblance de -53.677, le modèle avec uniquement la constante (appelé ici Null) à de son coté une log-vraisemblance de -68.331. L'ajout de l'âge permet un gain de vraisemblance assez conséquent.\n",
    "2.  afficher l'attribut contenant les paramètres estimés par régression logistique.\n",
    "\n",
    "```{code-cell} python\n",
    "print(modele.params)\n",
    "```\n"
   ]
  },
  {
   "cell_type": "markdown",
   "id": "7bf7bfbe",
   "metadata": {},
   "source": [
    "## Prévision et probabilités estimées\n",
    "\n",
    "Afficher l'ajustement/prévision pour les données de l'échantillon via la méthode `predict` (sans arguments) sur le modèle `reg`. Que représente ce vecteur:\n",
    "\n",
    "-   une probabilité d'être malade pour chaque valeur de l'age de l'échantillon (OUI on modélise la probabilité que $Y=1$ et dans l'échantillon $Y_i=1$ équivaut à $Y_i$ malade)\n",
    "-   une probabilité d'être non-malade pour chaque valeur de l'age de l'échantillon (NON)\n",
    "-   une prévision de l'état malade/non-malade pour chaque valeur de l'age de l'échantillon (NON, par défaut la fonction renvoie la probabilité)"
   ]
  },
  {
   "cell_type": "code",
   "execution_count": null,
   "id": "81a20cc5",
   "metadata": {},
   "outputs": [],
   "source": [
    "modele.predict()"
   ]
  },
  {
   "cell_type": "markdown",
   "id": "97db4311",
   "metadata": {},
   "source": [
    "Donner la prévision de l'état malade/non-malade avec l'indicatrice que $\\hat p(x)>s$ où $s$ est le seuil classique de 0.5."
   ]
  },
  {
   "cell_type": "code",
   "execution_count": null,
   "id": "7240b313",
   "metadata": {},
   "outputs": [],
   "source": [
    "print(modele.predict()>0.5)"
   ]
  },
  {
   "cell_type": "markdown",
   "id": "b0ec8016",
   "metadata": {},
   "source": [
    "# Simulation de données  Variabilité de $\\hat \\beta_2$\n",
    "\n",
    "\n",
    "## Simulation\n",
    "\n",
    "1.  Générer $n=100$ valeurs de $X$ uniformément entre 0 et 1.\n",
    "2.  Pour chaque valeur $X_i$ simuler $Y_i$ selon un modèle logistique de paramètres $\\beta_1=-5$ et $\\beta_2=10$\n",
    "\n",
    "\\[créer une instance de générateur aléatoire `np.random.default_rng` et utiliser `rng.uniform` et `rng.binomial` \\]"
   ]
  },
  {
   "cell_type": "code",
   "execution_count": null,
   "id": "4f4e686c",
   "metadata": {},
   "outputs": [],
   "source": [
    "rng = np.random.default_rng(seed=123)\n",
    "X = rng.uniform(size=100)\n",
    "Y = np.copy(X)\n",
    "for i,xi in enumerate(X):\n",
    "    proba = 1 / (1 + np.exp( -(-5 + 10 * xi) ))\n",
    "    Y[i]=rng.binomial(1, proba, 1)[0]\n",
    "df = pd.DataFrame({\"X\" : X, \"Y\" : Y})"
   ]
  },
  {
   "cell_type": "markdown",
   "id": "8af54a32",
   "metadata": {},
   "source": [
    "## Estimation\n",
    "\n",
    "Estimer les paramètres $\\beta_1$ et $\\beta_2$"
   ]
  },
  {
   "cell_type": "code",
   "execution_count": null,
   "id": "41274be0",
   "metadata": {},
   "outputs": [],
   "source": [
    "modele = smf.logit('Y~X', data=df).fit()\n",
    "print(modele.params)"
   ]
  },
  {
   "cell_type": "markdown",
   "id": "21925dc3",
   "metadata": {},
   "source": [
    "## Variabilité de l'estimation\n",
    "\n",
    "Refaire les deux questions ci-dessus 500 fois et constater par un graphique adapté la variabilité de $\\hat \\beta_2$.\n",
    "\n",
    "Simulons 500 fois les données"
   ]
  },
  {
   "cell_type": "code",
   "execution_count": null,
   "id": "0040d8ae",
   "metadata": {},
   "outputs": [],
   "source": [
    "hatbeta2 = []\n",
    "for it in range(500):\n",
    "    X = rng.uniform(size=100)\n",
    "    Y = np.copy(X)\n",
    "    for i,xi in enumerate(X):\n",
    "        proba = 1 / (1 + np.exp( -(-5 + 10 * xi) ))\n",
    "        Y[i]=rng.binomial(1, proba, 1)[0]\n",
    "    df = pd.DataFrame({\"X\" : X, \"Y\" : Y})\n",
    "    modele = smf.logit('Y~X', data=df).fit()\n",
    "    hatbeta2.append(modele.params[1])"
   ]
  },
  {
   "cell_type": "markdown",
   "id": "4187c6e8",
   "metadata": {},
   "source": [
    "Et construisons un histogramme"
   ]
  },
  {
   "cell_type": "code",
   "execution_count": null,
   "id": "9ccfe36c",
   "metadata": {},
   "outputs": [],
   "source": [
    "plt.hist(hatbeta2, bins=30)\n",
    "plt.show()"
   ]
  },
  {
   "cell_type": "markdown",
   "id": "54dd5d2f",
   "metadata": {},
   "source": [
    "# Deux régressions logistiques simples\n",
    "\n",
    "\n",
    "## Importation des données\n",
    "\n",
    "Importer les données `artere.txt` dans le DataFrame pandas `artere` \\[`read_csv` de `numpy` \\]. Sur Fun Campus le chemin est `data/artere.txt`. Outre l'age et la présence=1/absence=0 de la maladie cardio-vasculaire (`chd`) une variable qualitative à 8 modalités donne les classes d'age (`agegrp`)"
   ]
  },
  {
   "cell_type": "code",
   "execution_count": null,
   "id": "65447289",
   "metadata": {},
   "outputs": [],
   "source": [
    "artere = pd.read_csv(\"data/artere.txt\", header=0, sep=\" \")"
   ]
  },
  {
   "cell_type": "markdown",
   "id": "4e41e1e4",
   "metadata": {},
   "source": [
    "## Deux régressions logistiques\n",
    "\n",
    "1.  Effectuer une régression logistique simple où `age` est la variable explicative et `chd` la variable binaire à expliquer;\n",
    "2.  Refaire la même chose avec la racine carrée de `age` comme variable explicative;"
   ]
  },
  {
   "cell_type": "code",
   "execution_count": null,
   "id": "9f9bffa7",
   "metadata": {},
   "outputs": [],
   "source": [
    "modele1 = smf.logit('chd~age', data=artere).fit()\n",
    "modele2 = smf.logit('chd~I(np.sqrt(age))', data=artere).fit()"
   ]
  },
  {
   "cell_type": "markdown",
   "id": "19640403",
   "metadata": {},
   "source": [
    "## Comparaison\n",
    "\n",
    "Ajouter au nuage de points les 2 ajustements (la droite et la \"racine carrée\") et choisir le meilleur modèle via un critère numérique. \\[méthode `argsort` sur une colonne du DataFrame et `plt.plot` ; utiliser le résumé des modèles\\]"
   ]
  },
  {
   "cell_type": "code",
   "execution_count": null,
   "id": "fce9ace3",
   "metadata": {},
   "outputs": [],
   "source": [
    "sel = artere['age'].argsort()\n",
    "plt.scatter(x=\"age\", y=\"chd\", c=\"chd\", data=artere)\n",
    "plt.plot(artere.age.iloc[sel], modele1.predict()[sel], \"b-\", artere.age.iloc[sel], modele2.predict()[sel], \"r-\"  )\n",
    "plt.show()"
   ]
  },
  {
   "cell_type": "markdown",
   "id": "bd7762aa",
   "metadata": {},
   "source": [
    "Comme les deux modèles ont le même nombre de variables explicatives nous pouvons comparer les log-vraisemblances et la plus élevée donne le meilleur modèle. C'est le modèle 1 qui l'emporte mais les log-vraisemblances sont assez comparables."
   ]
  }
 ],
 "metadata": {
  "kernelspec": {
   "display_name": "Python 3 (ipykernel)",
   "language": "python",
   "name": "python3"
  },
  "language_info": {
   "codemirror_mode": {
    "name": "ipython",
    "version": 3
   },
   "file_extension": ".py",
   "mimetype": "text/x-python",
   "name": "python",
   "nbconvert_exporter": "python",
   "pygments_lexer": "ipython3",
   "version": "3.12.3"
  }
 },
 "nbformat": 4,
 "nbformat_minor": 5
}
