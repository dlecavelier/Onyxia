{
 "cells": [
  {
   "cell_type": "markdown",
   "id": "840f21f6",
   "metadata": {},
   "source": [
    "---\n",
    "jupytext:\n",
    "  cell_metadata_filter: all, -hidden, -heading_collapsed, -run_control, -trusted\n",
    "  notebook_metadata_filter: all, -jupytext.text_representation.jupytext_version, -jupytext.text_representation.format_version, -language_info.version, -language_info.codemirror_mode.version, -language_info.codemirror_mode, -language_info.file_extension, -language_info.mimetype, -toc\n",
    "  text_representation:\n",
    "    extension: .md\n",
    "    format_name: myst\n",
    "kernelspec:\n",
    "  display_name: Python 3 (ipykernel)\n",
    "  language: python\n",
    "  name: python3\n",
    "language_info:\n",
    "  name: python\n",
    "  nbconvert_exporter: python\n",
    "  pygments_lexer: ipython3\n",
    "nbhosting:\n",
    "  title: 'Correction du TP régression ridge'\n",
    "  version: '1.0'\n",
    "---\n",
    "\n",
    "<div class=\"licence\">\n",
    "<span><img src=\"media/logo_IPParis.png\" /></span>\n",
    "<span>Lisa BEDIN<br />Pierre André CORNILLON<br />Eric MATZNER-LOBER</span>\n",
    "<span>Licence CC BY-NC-ND</span>\n",
    "</div>\n",
    "\n",
    "# Modules\n",
    "\n",
    "Importer les modules pandas (comme `pd`) numpy (commme `np`) le sous module `pyplot` de `matplotlib` comme `plt` les fonctions `StandardScaler` de `sklearn.preprocessing`, `Ridge` de `sklearn.linear_model`, `RidgeCV` de `sklearn.linear_model`, `Pipeline` de `sklearn.pipeline`, `cross_val_predict` de `sklearn.model_selection`, `KFold` de `sklearn.model_selection` `make_scorer` de `sklearn.metrics`"
   ]
  },
  {
   "cell_type": "code",
   "execution_count": 1,
   "id": "13ef175f",
   "metadata": {},
   "outputs": [],
   "source": [
    "import pandas as pd\n",
    "import numpy as np\n",
    "import matplotlib.pyplot as plt\n",
    "from sklearn.preprocessing import StandardScaler\n",
    "from sklearn.linear_model import Ridge\n",
    "from sklearn.linear_model import RidgeCV\n",
    "from sklearn.pipeline import Pipeline\n",
    "from sklearn.model_selection import cross_val_predict\n",
    "from sklearn.model_selection import KFold\n",
    "from sklearn.metrics import make_scorer"
   ]
  },
  {
   "cell_type": "markdown",
   "id": "1cfbb4ac",
   "metadata": {},
   "source": [
    "# Régression ridge sur les données d'ozone\n",
    "\n",
    "\n",
    "## Importation des données\n",
    "\n",
    "Importer les données d'ozone `ozonecomplet.csv` et éliminer les deux dernières variables (qualitatives) et faites un résumé numérique par variable [méthode `astype` sur la colonne du DataFrame et méthode `describe` sur l'instance DataFrame\\]"
   ]
  },
  {
   "cell_type": "code",
   "execution_count": 2,
   "id": "362ea951",
   "metadata": {},
   "outputs": [
    {
     "data": {
      "text/html": [
       "<div>\n",
       "<style scoped>\n",
       "    .dataframe tbody tr th:only-of-type {\n",
       "        vertical-align: middle;\n",
       "    }\n",
       "\n",
       "    .dataframe tbody tr th {\n",
       "        vertical-align: top;\n",
       "    }\n",
       "\n",
       "    .dataframe thead th {\n",
       "        text-align: right;\n",
       "    }\n",
       "</style>\n",
       "<table border=\"1\" class=\"dataframe\">\n",
       "  <thead>\n",
       "    <tr style=\"text-align: right;\">\n",
       "      <th></th>\n",
       "      <th>O3</th>\n",
       "      <th>T9</th>\n",
       "      <th>T12</th>\n",
       "      <th>T15</th>\n",
       "      <th>Ne9</th>\n",
       "      <th>Ne12</th>\n",
       "      <th>Ne15</th>\n",
       "      <th>Vx9</th>\n",
       "      <th>Vx12</th>\n",
       "      <th>Vx15</th>\n",
       "      <th>O3v</th>\n",
       "    </tr>\n",
       "  </thead>\n",
       "  <tbody>\n",
       "    <tr>\n",
       "      <th>count</th>\n",
       "      <td>112.000000</td>\n",
       "      <td>112.000000</td>\n",
       "      <td>112.000000</td>\n",
       "      <td>112.000000</td>\n",
       "      <td>112.000000</td>\n",
       "      <td>112.000000</td>\n",
       "      <td>112.000000</td>\n",
       "      <td>112.000000</td>\n",
       "      <td>112.000000</td>\n",
       "      <td>112.000000</td>\n",
       "      <td>112.000000</td>\n",
       "    </tr>\n",
       "    <tr>\n",
       "      <th>mean</th>\n",
       "      <td>90.303571</td>\n",
       "      <td>18.360714</td>\n",
       "      <td>21.526786</td>\n",
       "      <td>22.627679</td>\n",
       "      <td>4.928571</td>\n",
       "      <td>5.017857</td>\n",
       "      <td>4.830357</td>\n",
       "      <td>-1.214346</td>\n",
       "      <td>-1.611004</td>\n",
       "      <td>-1.690683</td>\n",
       "      <td>90.571429</td>\n",
       "    </tr>\n",
       "    <tr>\n",
       "      <th>std</th>\n",
       "      <td>28.187225</td>\n",
       "      <td>3.122726</td>\n",
       "      <td>4.042321</td>\n",
       "      <td>4.530859</td>\n",
       "      <td>2.594916</td>\n",
       "      <td>2.281860</td>\n",
       "      <td>2.332259</td>\n",
       "      <td>2.632742</td>\n",
       "      <td>2.795673</td>\n",
       "      <td>2.810198</td>\n",
       "      <td>28.276853</td>\n",
       "    </tr>\n",
       "    <tr>\n",
       "      <th>min</th>\n",
       "      <td>42.000000</td>\n",
       "      <td>11.300000</td>\n",
       "      <td>14.000000</td>\n",
       "      <td>14.900000</td>\n",
       "      <td>0.000000</td>\n",
       "      <td>0.000000</td>\n",
       "      <td>0.000000</td>\n",
       "      <td>-7.878500</td>\n",
       "      <td>-7.878500</td>\n",
       "      <td>-9.000000</td>\n",
       "      <td>42.000000</td>\n",
       "    </tr>\n",
       "    <tr>\n",
       "      <th>25%</th>\n",
       "      <td>70.750000</td>\n",
       "      <td>16.200000</td>\n",
       "      <td>18.600000</td>\n",
       "      <td>19.275000</td>\n",
       "      <td>3.000000</td>\n",
       "      <td>4.000000</td>\n",
       "      <td>3.000000</td>\n",
       "      <td>-3.276450</td>\n",
       "      <td>-3.564700</td>\n",
       "      <td>-3.939200</td>\n",
       "      <td>71.000000</td>\n",
       "    </tr>\n",
       "    <tr>\n",
       "      <th>50%</th>\n",
       "      <td>81.500000</td>\n",
       "      <td>17.800000</td>\n",
       "      <td>20.550000</td>\n",
       "      <td>22.050000</td>\n",
       "      <td>6.000000</td>\n",
       "      <td>5.000000</td>\n",
       "      <td>5.000000</td>\n",
       "      <td>-0.866000</td>\n",
       "      <td>-1.879400</td>\n",
       "      <td>-1.549650</td>\n",
       "      <td>82.500000</td>\n",
       "    </tr>\n",
       "    <tr>\n",
       "      <th>75%</th>\n",
       "      <td>106.000000</td>\n",
       "      <td>19.925000</td>\n",
       "      <td>23.550000</td>\n",
       "      <td>25.400000</td>\n",
       "      <td>7.000000</td>\n",
       "      <td>7.000000</td>\n",
       "      <td>7.000000</td>\n",
       "      <td>0.694600</td>\n",
       "      <td>0.000000</td>\n",
       "      <td>0.000000</td>\n",
       "      <td>106.000000</td>\n",
       "    </tr>\n",
       "    <tr>\n",
       "      <th>max</th>\n",
       "      <td>166.000000</td>\n",
       "      <td>27.000000</td>\n",
       "      <td>33.500000</td>\n",
       "      <td>35.500000</td>\n",
       "      <td>8.000000</td>\n",
       "      <td>8.000000</td>\n",
       "      <td>8.000000</td>\n",
       "      <td>5.196200</td>\n",
       "      <td>6.577800</td>\n",
       "      <td>5.000000</td>\n",
       "      <td>166.000000</td>\n",
       "    </tr>\n",
       "  </tbody>\n",
       "</table>\n",
       "</div>"
      ],
      "text/plain": [
       "               O3          T9         T12         T15         Ne9        Ne12  \\\n",
       "count  112.000000  112.000000  112.000000  112.000000  112.000000  112.000000   \n",
       "mean    90.303571   18.360714   21.526786   22.627679    4.928571    5.017857   \n",
       "std     28.187225    3.122726    4.042321    4.530859    2.594916    2.281860   \n",
       "min     42.000000   11.300000   14.000000   14.900000    0.000000    0.000000   \n",
       "25%     70.750000   16.200000   18.600000   19.275000    3.000000    4.000000   \n",
       "50%     81.500000   17.800000   20.550000   22.050000    6.000000    5.000000   \n",
       "75%    106.000000   19.925000   23.550000   25.400000    7.000000    7.000000   \n",
       "max    166.000000   27.000000   33.500000   35.500000    8.000000    8.000000   \n",
       "\n",
       "             Ne15         Vx9        Vx12        Vx15         O3v  \n",
       "count  112.000000  112.000000  112.000000  112.000000  112.000000  \n",
       "mean     4.830357   -1.214346   -1.611004   -1.690683   90.571429  \n",
       "std      2.332259    2.632742    2.795673    2.810198   28.276853  \n",
       "min      0.000000   -7.878500   -7.878500   -9.000000   42.000000  \n",
       "25%      3.000000   -3.276450   -3.564700   -3.939200   71.000000  \n",
       "50%      5.000000   -0.866000   -1.879400   -1.549650   82.500000  \n",
       "75%      7.000000    0.694600    0.000000    0.000000  106.000000  \n",
       "max      8.000000    5.196200    6.577800    5.000000  166.000000  "
      ]
     },
     "execution_count": 2,
     "metadata": {},
     "output_type": "execute_result"
    }
   ],
   "source": [
    "ozone = pd.read_csv(\"data/ozonecomplet.csv\", header=0, sep=\";\")\n",
    "ozone = ozone.drop(['nomligne', 'Ne', 'Dv'], axis=1)\n",
    "ozone.describe()"
   ]
  },
  {
   "cell_type": "markdown",
   "id": "a20f164a",
   "metadata": {},
   "source": [
    "## Création des tableaux `numpy`\n",
    "\n",
    "avec l'aide des méthodes d'instance `iloc` ou `loc` créer les tableaux `numpy` `y` et `X` (on se servira de l'attribut `values` qui donne le tableau `numpy` sous-jascent)"
   ]
  },
  {
   "cell_type": "code",
   "execution_count": 3,
   "id": "b5ffc6b9",
   "metadata": {},
   "outputs": [],
   "source": [
    "y = ozone.O3.values\n",
    "X = ozone.iloc[:,1:].values"
   ]
  },
  {
   "cell_type": "markdown",
   "id": "fcf8bbf1",
   "metadata": {},
   "source": [
    "## Centrage et réduction\n",
    "\n",
    "Centrer et réduire les variable avec `StandardScaler` selon le schéma suivant\n",
    "\n",
    "1.  créer une instance avec la fonction `StandardScaler`. On notera `scalerX` l'instance créée.\n",
    "2.  l'ajuster via la méthode d'instance `fit` (calcul des moyennes et écart-types) et avec le tableau `numpy` des $X$\n",
    "3.  Transformer le tableau $X$ en tableau centré réduit via la méthode d'instance `transform` et avec le tableau `numpy` des $X$."
   ]
  },
  {
   "cell_type": "code",
   "execution_count": 4,
   "id": "2f5bfa39",
   "metadata": {},
   "outputs": [],
   "source": [
    "scalerX = StandardScaler().fit(X)\n",
    "Xcr= scalerX.transform(X)"
   ]
  },
  {
   "cell_type": "markdown",
   "id": "877dcca0",
   "metadata": {},
   "source": [
    "## Calcul de la régression Ridge pour $\\lambda=0.00485$\n",
    "\n",
    "1.  Estimation/ajustement: en utilisant les données centrées réduites pour $X$ et le vecteur `y` estimer le modèle de régression Ridge:\n",
    "    -   Instancier un modèle `Ridge` avec la fonction éponyme"
   ]
  },
  {
   "cell_type": "code",
   "execution_count": 7,
   "id": "b3ba8286",
   "metadata": {},
   "outputs": [
    {
     "data": {
      "text/html": [
       "<style>#sk-container-id-2 {\n",
       "  /* Definition of color scheme common for light and dark mode */\n",
       "  --sklearn-color-text: black;\n",
       "  --sklearn-color-line: gray;\n",
       "  /* Definition of color scheme for unfitted estimators */\n",
       "  --sklearn-color-unfitted-level-0: #fff5e6;\n",
       "  --sklearn-color-unfitted-level-1: #f6e4d2;\n",
       "  --sklearn-color-unfitted-level-2: #ffe0b3;\n",
       "  --sklearn-color-unfitted-level-3: chocolate;\n",
       "  /* Definition of color scheme for fitted estimators */\n",
       "  --sklearn-color-fitted-level-0: #f0f8ff;\n",
       "  --sklearn-color-fitted-level-1: #d4ebff;\n",
       "  --sklearn-color-fitted-level-2: #b3dbfd;\n",
       "  --sklearn-color-fitted-level-3: cornflowerblue;\n",
       "\n",
       "  /* Specific color for light theme */\n",
       "  --sklearn-color-text-on-default-background: var(--sg-text-color, var(--theme-code-foreground, var(--jp-content-font-color1, black)));\n",
       "  --sklearn-color-background: var(--sg-background-color, var(--theme-background, var(--jp-layout-color0, white)));\n",
       "  --sklearn-color-border-box: var(--sg-text-color, var(--theme-code-foreground, var(--jp-content-font-color1, black)));\n",
       "  --sklearn-color-icon: #696969;\n",
       "\n",
       "  @media (prefers-color-scheme: dark) {\n",
       "    /* Redefinition of color scheme for dark theme */\n",
       "    --sklearn-color-text-on-default-background: var(--sg-text-color, var(--theme-code-foreground, var(--jp-content-font-color1, white)));\n",
       "    --sklearn-color-background: var(--sg-background-color, var(--theme-background, var(--jp-layout-color0, #111)));\n",
       "    --sklearn-color-border-box: var(--sg-text-color, var(--theme-code-foreground, var(--jp-content-font-color1, white)));\n",
       "    --sklearn-color-icon: #878787;\n",
       "  }\n",
       "}\n",
       "\n",
       "#sk-container-id-2 {\n",
       "  color: var(--sklearn-color-text);\n",
       "}\n",
       "\n",
       "#sk-container-id-2 pre {\n",
       "  padding: 0;\n",
       "}\n",
       "\n",
       "#sk-container-id-2 input.sk-hidden--visually {\n",
       "  border: 0;\n",
       "  clip: rect(1px 1px 1px 1px);\n",
       "  clip: rect(1px, 1px, 1px, 1px);\n",
       "  height: 1px;\n",
       "  margin: -1px;\n",
       "  overflow: hidden;\n",
       "  padding: 0;\n",
       "  position: absolute;\n",
       "  width: 1px;\n",
       "}\n",
       "\n",
       "#sk-container-id-2 div.sk-dashed-wrapped {\n",
       "  border: 1px dashed var(--sklearn-color-line);\n",
       "  margin: 0 0.4em 0.5em 0.4em;\n",
       "  box-sizing: border-box;\n",
       "  padding-bottom: 0.4em;\n",
       "  background-color: var(--sklearn-color-background);\n",
       "}\n",
       "\n",
       "#sk-container-id-2 div.sk-container {\n",
       "  /* jupyter's `normalize.less` sets `[hidden] { display: none; }`\n",
       "     but bootstrap.min.css set `[hidden] { display: none !important; }`\n",
       "     so we also need the `!important` here to be able to override the\n",
       "     default hidden behavior on the sphinx rendered scikit-learn.org.\n",
       "     See: https://github.com/scikit-learn/scikit-learn/issues/21755 */\n",
       "  display: inline-block !important;\n",
       "  position: relative;\n",
       "}\n",
       "\n",
       "#sk-container-id-2 div.sk-text-repr-fallback {\n",
       "  display: none;\n",
       "}\n",
       "\n",
       "div.sk-parallel-item,\n",
       "div.sk-serial,\n",
       "div.sk-item {\n",
       "  /* draw centered vertical line to link estimators */\n",
       "  background-image: linear-gradient(var(--sklearn-color-text-on-default-background), var(--sklearn-color-text-on-default-background));\n",
       "  background-size: 2px 100%;\n",
       "  background-repeat: no-repeat;\n",
       "  background-position: center center;\n",
       "}\n",
       "\n",
       "/* Parallel-specific style estimator block */\n",
       "\n",
       "#sk-container-id-2 div.sk-parallel-item::after {\n",
       "  content: \"\";\n",
       "  width: 100%;\n",
       "  border-bottom: 2px solid var(--sklearn-color-text-on-default-background);\n",
       "  flex-grow: 1;\n",
       "}\n",
       "\n",
       "#sk-container-id-2 div.sk-parallel {\n",
       "  display: flex;\n",
       "  align-items: stretch;\n",
       "  justify-content: center;\n",
       "  background-color: var(--sklearn-color-background);\n",
       "  position: relative;\n",
       "}\n",
       "\n",
       "#sk-container-id-2 div.sk-parallel-item {\n",
       "  display: flex;\n",
       "  flex-direction: column;\n",
       "}\n",
       "\n",
       "#sk-container-id-2 div.sk-parallel-item:first-child::after {\n",
       "  align-self: flex-end;\n",
       "  width: 50%;\n",
       "}\n",
       "\n",
       "#sk-container-id-2 div.sk-parallel-item:last-child::after {\n",
       "  align-self: flex-start;\n",
       "  width: 50%;\n",
       "}\n",
       "\n",
       "#sk-container-id-2 div.sk-parallel-item:only-child::after {\n",
       "  width: 0;\n",
       "}\n",
       "\n",
       "/* Serial-specific style estimator block */\n",
       "\n",
       "#sk-container-id-2 div.sk-serial {\n",
       "  display: flex;\n",
       "  flex-direction: column;\n",
       "  align-items: center;\n",
       "  background-color: var(--sklearn-color-background);\n",
       "  padding-right: 1em;\n",
       "  padding-left: 1em;\n",
       "}\n",
       "\n",
       "\n",
       "/* Toggleable style: style used for estimator/Pipeline/ColumnTransformer box that is\n",
       "clickable and can be expanded/collapsed.\n",
       "- Pipeline and ColumnTransformer use this feature and define the default style\n",
       "- Estimators will overwrite some part of the style using the `sk-estimator` class\n",
       "*/\n",
       "\n",
       "/* Pipeline and ColumnTransformer style (default) */\n",
       "\n",
       "#sk-container-id-2 div.sk-toggleable {\n",
       "  /* Default theme specific background. It is overwritten whether we have a\n",
       "  specific estimator or a Pipeline/ColumnTransformer */\n",
       "  background-color: var(--sklearn-color-background);\n",
       "}\n",
       "\n",
       "/* Toggleable label */\n",
       "#sk-container-id-2 label.sk-toggleable__label {\n",
       "  cursor: pointer;\n",
       "  display: block;\n",
       "  width: 100%;\n",
       "  margin-bottom: 0;\n",
       "  padding: 0.5em;\n",
       "  box-sizing: border-box;\n",
       "  text-align: center;\n",
       "}\n",
       "\n",
       "#sk-container-id-2 label.sk-toggleable__label-arrow:before {\n",
       "  /* Arrow on the left of the label */\n",
       "  content: \"▸\";\n",
       "  float: left;\n",
       "  margin-right: 0.25em;\n",
       "  color: var(--sklearn-color-icon);\n",
       "}\n",
       "\n",
       "#sk-container-id-2 label.sk-toggleable__label-arrow:hover:before {\n",
       "  color: var(--sklearn-color-text);\n",
       "}\n",
       "\n",
       "/* Toggleable content - dropdown */\n",
       "\n",
       "#sk-container-id-2 div.sk-toggleable__content {\n",
       "  max-height: 0;\n",
       "  max-width: 0;\n",
       "  overflow: hidden;\n",
       "  text-align: left;\n",
       "  /* unfitted */\n",
       "  background-color: var(--sklearn-color-unfitted-level-0);\n",
       "}\n",
       "\n",
       "#sk-container-id-2 div.sk-toggleable__content.fitted {\n",
       "  /* fitted */\n",
       "  background-color: var(--sklearn-color-fitted-level-0);\n",
       "}\n",
       "\n",
       "#sk-container-id-2 div.sk-toggleable__content pre {\n",
       "  margin: 0.2em;\n",
       "  border-radius: 0.25em;\n",
       "  color: var(--sklearn-color-text);\n",
       "  /* unfitted */\n",
       "  background-color: var(--sklearn-color-unfitted-level-0);\n",
       "}\n",
       "\n",
       "#sk-container-id-2 div.sk-toggleable__content.fitted pre {\n",
       "  /* unfitted */\n",
       "  background-color: var(--sklearn-color-fitted-level-0);\n",
       "}\n",
       "\n",
       "#sk-container-id-2 input.sk-toggleable__control:checked~div.sk-toggleable__content {\n",
       "  /* Expand drop-down */\n",
       "  max-height: 200px;\n",
       "  max-width: 100%;\n",
       "  overflow: auto;\n",
       "}\n",
       "\n",
       "#sk-container-id-2 input.sk-toggleable__control:checked~label.sk-toggleable__label-arrow:before {\n",
       "  content: \"▾\";\n",
       "}\n",
       "\n",
       "/* Pipeline/ColumnTransformer-specific style */\n",
       "\n",
       "#sk-container-id-2 div.sk-label input.sk-toggleable__control:checked~label.sk-toggleable__label {\n",
       "  color: var(--sklearn-color-text);\n",
       "  background-color: var(--sklearn-color-unfitted-level-2);\n",
       "}\n",
       "\n",
       "#sk-container-id-2 div.sk-label.fitted input.sk-toggleable__control:checked~label.sk-toggleable__label {\n",
       "  background-color: var(--sklearn-color-fitted-level-2);\n",
       "}\n",
       "\n",
       "/* Estimator-specific style */\n",
       "\n",
       "/* Colorize estimator box */\n",
       "#sk-container-id-2 div.sk-estimator input.sk-toggleable__control:checked~label.sk-toggleable__label {\n",
       "  /* unfitted */\n",
       "  background-color: var(--sklearn-color-unfitted-level-2);\n",
       "}\n",
       "\n",
       "#sk-container-id-2 div.sk-estimator.fitted input.sk-toggleable__control:checked~label.sk-toggleable__label {\n",
       "  /* fitted */\n",
       "  background-color: var(--sklearn-color-fitted-level-2);\n",
       "}\n",
       "\n",
       "#sk-container-id-2 div.sk-label label.sk-toggleable__label,\n",
       "#sk-container-id-2 div.sk-label label {\n",
       "  /* The background is the default theme color */\n",
       "  color: var(--sklearn-color-text-on-default-background);\n",
       "}\n",
       "\n",
       "/* On hover, darken the color of the background */\n",
       "#sk-container-id-2 div.sk-label:hover label.sk-toggleable__label {\n",
       "  color: var(--sklearn-color-text);\n",
       "  background-color: var(--sklearn-color-unfitted-level-2);\n",
       "}\n",
       "\n",
       "/* Label box, darken color on hover, fitted */\n",
       "#sk-container-id-2 div.sk-label.fitted:hover label.sk-toggleable__label.fitted {\n",
       "  color: var(--sklearn-color-text);\n",
       "  background-color: var(--sklearn-color-fitted-level-2);\n",
       "}\n",
       "\n",
       "/* Estimator label */\n",
       "\n",
       "#sk-container-id-2 div.sk-label label {\n",
       "  font-family: monospace;\n",
       "  font-weight: bold;\n",
       "  display: inline-block;\n",
       "  line-height: 1.2em;\n",
       "}\n",
       "\n",
       "#sk-container-id-2 div.sk-label-container {\n",
       "  text-align: center;\n",
       "}\n",
       "\n",
       "/* Estimator-specific */\n",
       "#sk-container-id-2 div.sk-estimator {\n",
       "  font-family: monospace;\n",
       "  border: 1px dotted var(--sklearn-color-border-box);\n",
       "  border-radius: 0.25em;\n",
       "  box-sizing: border-box;\n",
       "  margin-bottom: 0.5em;\n",
       "  /* unfitted */\n",
       "  background-color: var(--sklearn-color-unfitted-level-0);\n",
       "}\n",
       "\n",
       "#sk-container-id-2 div.sk-estimator.fitted {\n",
       "  /* fitted */\n",
       "  background-color: var(--sklearn-color-fitted-level-0);\n",
       "}\n",
       "\n",
       "/* on hover */\n",
       "#sk-container-id-2 div.sk-estimator:hover {\n",
       "  /* unfitted */\n",
       "  background-color: var(--sklearn-color-unfitted-level-2);\n",
       "}\n",
       "\n",
       "#sk-container-id-2 div.sk-estimator.fitted:hover {\n",
       "  /* fitted */\n",
       "  background-color: var(--sklearn-color-fitted-level-2);\n",
       "}\n",
       "\n",
       "/* Specification for estimator info (e.g. \"i\" and \"?\") */\n",
       "\n",
       "/* Common style for \"i\" and \"?\" */\n",
       "\n",
       ".sk-estimator-doc-link,\n",
       "a:link.sk-estimator-doc-link,\n",
       "a:visited.sk-estimator-doc-link {\n",
       "  float: right;\n",
       "  font-size: smaller;\n",
       "  line-height: 1em;\n",
       "  font-family: monospace;\n",
       "  background-color: var(--sklearn-color-background);\n",
       "  border-radius: 1em;\n",
       "  height: 1em;\n",
       "  width: 1em;\n",
       "  text-decoration: none !important;\n",
       "  margin-left: 1ex;\n",
       "  /* unfitted */\n",
       "  border: var(--sklearn-color-unfitted-level-1) 1pt solid;\n",
       "  color: var(--sklearn-color-unfitted-level-1);\n",
       "}\n",
       "\n",
       ".sk-estimator-doc-link.fitted,\n",
       "a:link.sk-estimator-doc-link.fitted,\n",
       "a:visited.sk-estimator-doc-link.fitted {\n",
       "  /* fitted */\n",
       "  border: var(--sklearn-color-fitted-level-1) 1pt solid;\n",
       "  color: var(--sklearn-color-fitted-level-1);\n",
       "}\n",
       "\n",
       "/* On hover */\n",
       "div.sk-estimator:hover .sk-estimator-doc-link:hover,\n",
       ".sk-estimator-doc-link:hover,\n",
       "div.sk-label-container:hover .sk-estimator-doc-link:hover,\n",
       ".sk-estimator-doc-link:hover {\n",
       "  /* unfitted */\n",
       "  background-color: var(--sklearn-color-unfitted-level-3);\n",
       "  color: var(--sklearn-color-background);\n",
       "  text-decoration: none;\n",
       "}\n",
       "\n",
       "div.sk-estimator.fitted:hover .sk-estimator-doc-link.fitted:hover,\n",
       ".sk-estimator-doc-link.fitted:hover,\n",
       "div.sk-label-container:hover .sk-estimator-doc-link.fitted:hover,\n",
       ".sk-estimator-doc-link.fitted:hover {\n",
       "  /* fitted */\n",
       "  background-color: var(--sklearn-color-fitted-level-3);\n",
       "  color: var(--sklearn-color-background);\n",
       "  text-decoration: none;\n",
       "}\n",
       "\n",
       "/* Span, style for the box shown on hovering the info icon */\n",
       ".sk-estimator-doc-link span {\n",
       "  display: none;\n",
       "  z-index: 9999;\n",
       "  position: relative;\n",
       "  font-weight: normal;\n",
       "  right: .2ex;\n",
       "  padding: .5ex;\n",
       "  margin: .5ex;\n",
       "  width: min-content;\n",
       "  min-width: 20ex;\n",
       "  max-width: 50ex;\n",
       "  color: var(--sklearn-color-text);\n",
       "  box-shadow: 2pt 2pt 4pt #999;\n",
       "  /* unfitted */\n",
       "  background: var(--sklearn-color-unfitted-level-0);\n",
       "  border: .5pt solid var(--sklearn-color-unfitted-level-3);\n",
       "}\n",
       "\n",
       ".sk-estimator-doc-link.fitted span {\n",
       "  /* fitted */\n",
       "  background: var(--sklearn-color-fitted-level-0);\n",
       "  border: var(--sklearn-color-fitted-level-3);\n",
       "}\n",
       "\n",
       ".sk-estimator-doc-link:hover span {\n",
       "  display: block;\n",
       "}\n",
       "\n",
       "/* \"?\"-specific style due to the `<a>` HTML tag */\n",
       "\n",
       "#sk-container-id-2 a.estimator_doc_link {\n",
       "  float: right;\n",
       "  font-size: 1rem;\n",
       "  line-height: 1em;\n",
       "  font-family: monospace;\n",
       "  background-color: var(--sklearn-color-background);\n",
       "  border-radius: 1rem;\n",
       "  height: 1rem;\n",
       "  width: 1rem;\n",
       "  text-decoration: none;\n",
       "  /* unfitted */\n",
       "  color: var(--sklearn-color-unfitted-level-1);\n",
       "  border: var(--sklearn-color-unfitted-level-1) 1pt solid;\n",
       "}\n",
       "\n",
       "#sk-container-id-2 a.estimator_doc_link.fitted {\n",
       "  /* fitted */\n",
       "  border: var(--sklearn-color-fitted-level-1) 1pt solid;\n",
       "  color: var(--sklearn-color-fitted-level-1);\n",
       "}\n",
       "\n",
       "/* On hover */\n",
       "#sk-container-id-2 a.estimator_doc_link:hover {\n",
       "  /* unfitted */\n",
       "  background-color: var(--sklearn-color-unfitted-level-3);\n",
       "  color: var(--sklearn-color-background);\n",
       "  text-decoration: none;\n",
       "}\n",
       "\n",
       "#sk-container-id-2 a.estimator_doc_link.fitted:hover {\n",
       "  /* fitted */\n",
       "  background-color: var(--sklearn-color-fitted-level-3);\n",
       "}\n",
       "</style><div id=\"sk-container-id-2\" class=\"sk-top-container\"><div class=\"sk-text-repr-fallback\"><pre>Ridge(alpha=0.00485)</pre><b>In a Jupyter environment, please rerun this cell to show the HTML representation or trust the notebook. <br />On GitHub, the HTML representation is unable to render, please try loading this page with nbviewer.org.</b></div><div class=\"sk-container\" hidden><div class=\"sk-item\"><div class=\"sk-estimator fitted sk-toggleable\"><input class=\"sk-toggleable__control sk-hidden--visually\" id=\"sk-estimator-id-2\" type=\"checkbox\" checked><label for=\"sk-estimator-id-2\" class=\"sk-toggleable__label fitted sk-toggleable__label-arrow fitted\">&nbsp;&nbsp;Ridge<a class=\"sk-estimator-doc-link fitted\" rel=\"noreferrer\" target=\"_blank\" href=\"https://scikit-learn.org/1.4/modules/generated/sklearn.linear_model.Ridge.html\">?<span>Documentation for Ridge</span></a><span class=\"sk-estimator-doc-link fitted\">i<span>Fitted</span></span></label><div class=\"sk-toggleable__content fitted\"><pre>Ridge(alpha=0.00485)</pre></div> </div></div></div></div>"
      ],
      "text/plain": [
       "Ridge(alpha=0.00485)"
      ]
     },
     "execution_count": 7,
     "metadata": {},
     "output_type": "execute_result"
    }
   ],
   "source": [
    "ridge = Ridge(alpha=0.00485)\n",
    "ridge.fit(Xcr, y)"
   ]
  },
  {
   "cell_type": "markdown",
   "id": "5d0978a1",
   "metadata": {},
   "source": [
    "2.  Afficher $\\hat\\beta(\\lambda)$"
   ]
  },
  {
   "cell_type": "code",
   "execution_count": 8,
   "id": "9feb7d3e",
   "metadata": {},
   "outputs": [
    {
     "name": "stdout",
     "output_type": "stream",
     "text": [
      "[-0.05647245  8.93275737  2.52242717 -5.65394122 -0.95834909  0.42724318\n",
      "  2.4850383   0.0863599   1.17132698  9.90737987]\n"
     ]
    }
   ],
   "source": [
    "print(ridge.coef_)"
   ]
  },
  {
   "cell_type": "markdown",
   "id": "d3c71dc3",
   "metadata": {},
   "source": [
    "3.  Prévoir une valeur en $x^*=(17, 18.4, 5, 5, 7, -4.3301, -4, -3, 87)'$ (on pourra constater qu'il s'agit de la seconde ligne du tableau initial)."
   ]
  },
  {
   "cell_type": "code",
   "execution_count": 9,
   "id": "6bc6ee7d",
   "metadata": {},
   "outputs": [
    {
     "name": "stdout",
     "output_type": "stream",
     "text": [
      "[76.0489625]\n"
     ]
    }
   ],
   "source": [
    "print(ridge.predict(Xcr[1,:].reshape(1, 10)))"
   ]
  },
  {
   "cell_type": "markdown",
   "id": "163a4253",
   "metadata": {},
   "source": [
    "## Pipeline\n",
    "\n",
    "On voit bien que si l'on nous donne des valeurs nouvelles il faut enlever la moyenne et diviser par l'écart-type ce qui n'est pas très pratique.\n",
    "\n",
    "-   Vérifier que `scalerX.transform(X[1,:].reshape(1, 10))` donne bien `Xcr[1,:]`. Cependant l'enchainement «transformation des X» puis «modélisation» peut être automatisé grâce au [Pipeline](https://scikit-learn.org/stable/tutorial/statistical_inference/putting_together.html)"
   ]
  },
  {
   "cell_type": "code",
   "execution_count": 10,
   "id": "1ee1ef4a",
   "metadata": {},
   "outputs": [
    {
     "data": {
      "text/plain": [
       "True"
      ]
     },
     "execution_count": 10,
     "metadata": {},
     "output_type": "execute_result"
    }
   ],
   "source": [
    "np.all(np.abs( scalerX.transform(X[1,:].reshape(1, 10))[0,:] - Xcr[1,:])<1e-10)"
   ]
  },
  {
   "cell_type": "markdown",
   "id": "50373de5",
   "metadata": {},
   "source": [
    "-   Créer une instance de pipeline:\n",
    "    1.  Créer une instance de `StandardScaler`"
   ]
  },
  {
   "cell_type": "code",
   "execution_count": null,
   "id": "aeb7b018",
   "metadata": {},
   "outputs": [],
   "source": [
    "cr = StandardScaler()"
   ]
  },
  {
   "cell_type": "markdown",
   "id": "363df0af",
   "metadata": {},
   "source": [
    "2.  Créer une instance de Régression Ridge"
   ]
  },
  {
   "cell_type": "code",
   "execution_count": null,
   "id": "647e4fde",
   "metadata": {},
   "outputs": [],
   "source": [
    "ridge = Ridge(alpha=0.00485)"
   ]
  },
  {
   "cell_type": "markdown",
   "id": "4e71c1cf",
   "metadata": {},
   "source": [
    "3.  Créer une instance de `Pipeline` avec l'argument `steps` qui sera une liste de tuple dont le premier élément est le nom de l'étape (par exemple `\"cr\"` ou `\"ridge\"`) et dont la seconde valeur sera l'instance de l'étape à faire (instances créées aux étapes précédentes.)"
   ]
  },
  {
   "cell_type": "code",
   "execution_count": null,
   "id": "f31b68f8",
   "metadata": {},
   "outputs": [],
   "source": [
    "pipe = Pipeline(steps=[(\"cr\", cr) , (\"ridge\",  ridge)])"
   ]
  },
  {
   "cell_type": "markdown",
   "id": "633cfc85",
   "metadata": {},
   "source": [
    "-   ajuster cette instance de pipeline avec la méthode d'instance `fit` avec les données `X` et `y`."
   ]
  },
  {
   "cell_type": "code",
   "execution_count": null,
   "id": "9c358cce",
   "metadata": {},
   "outputs": [],
   "source": [
    "pipe.fit(X,y)"
   ]
  },
  {
   "cell_type": "markdown",
   "id": "afc06ea2",
   "metadata": {},
   "source": [
    "-   Retrouver les paramètres $\\hat\\beta(\\lambda)$ en affectant la coordonnée `\"ridge\"` (nom de l'étape choisi ici) de l'attribut named<sub>steps</sub> dans un objet. Les attributs et méthodes de cet objets seront ensuite les mêmes que ceux la régression `Ridge` après ajustement."
   ]
  },
  {
   "cell_type": "code",
   "execution_count": null,
   "id": "a805efd6",
   "metadata": {},
   "outputs": [],
   "source": [
    "er=pipe.named_steps[\"ridge\"]\n",
    "print(er.coef_)"
   ]
  },
  {
   "cell_type": "markdown",
   "id": "5391ff0a",
   "metadata": {},
   "source": [
    "-   Retrouver l'ajustement pour $x^*$"
   ]
  },
  {
   "cell_type": "code",
   "execution_count": null,
   "id": "ff828b24",
   "metadata": {},
   "outputs": [],
   "source": [
    "print(pipe.predict(X[1,:].reshape(1,10)))"
   ]
  },
  {
   "cell_type": "markdown",
   "id": "7e267659",
   "metadata": {},
   "source": [
    "## Evolution des coefficients selon $\\lambda$\n",
    "\n",
    "\n",
    "### Calcul d'une grille de $\\lambda$\n",
    "\n",
    "La grille classique pour ridge est constituée sur la même idée que celle pour le lasso:\n",
    "\n",
    "1.  Calcul de la valeur maximale $\\lambda_0 = \\arg\\max_{i} |[X'y]_i|/n$ Pour le lasso au delà de cette contrainte tous les coefficients sont nuls.\n",
    "2.  On prend une grille en puissance de 10, avec les exposants qui varient entre 0 et -4 (en général on prend 100 valeurs régulièrement espacées)\n",
    "3.  Cette grille est multipliée par $\\lambda_0$\n",
    "4.  Pour la régression ridge la grille précédente (qui est celle pour le lasso) est multipliée par $100$ ou $1000$.\n",
    "\n",
    "On a donc la grille $\\{\\lambda_0 10^{k+2}\\}_{k=0}^{-4}$.\n",
    "\n",
    "Créer cette grille avec `np.linspace`, méthode d'instance `transpose`, `dot` et `max` (sans oublier l'attribut `shape` pour $n$)."
   ]
  },
  {
   "cell_type": "code",
   "execution_count": 12,
   "id": "b31a4a43",
   "metadata": {},
   "outputs": [],
   "source": [
    "llc = np.linspace(0, -4, 100)\n",
    "l0 = np.abs(Xcr.transpose().dot(y)).max()/X.shape[0]\n",
    "alphas_ridge = l0*100*10**(llc)"
   ]
  },
  {
   "cell_type": "markdown",
   "id": "88f6cfd9",
   "metadata": {},
   "source": [
    "### Tracer l'évolution des $\\hat\\beta(\\lambda)$\n",
    "\n",
    "Tracer en fonction du logarithme des valeurs de $\\lambda$ de la grille les coefficients $\\hat\\beta(\\lambda)$\n",
    "\n",
    "D'abord la liste des coefficients:"
   ]
  },
  {
   "cell_type": "code",
   "execution_count": 13,
   "id": "928018f2",
   "metadata": {},
   "outputs": [],
   "source": [
    "lcoef = []\n",
    "for ll in alphas_ridge:\n",
    "    pipe = Pipeline(steps=[(\"cr\", StandardScaler()) , (\"ridge\",  Ridge(alpha=ll))]).fit(X,y)\n",
    "    er = pipe.named_steps[\"ridge\"]\n",
    "    lcoef.append(er.coef_)"
   ]
  },
  {
   "cell_type": "markdown",
   "id": "d20aeb11",
   "metadata": {},
   "source": [
    "ou sans le pipeline"
   ]
  },
  {
   "cell_type": "code",
   "execution_count": 14,
   "id": "92c68a46",
   "metadata": {},
   "outputs": [],
   "source": [
    "lcoef = []\n",
    "for ll in alphas_ridge:\n",
    "    rr = Ridge(alpha=ll).fit(Xcr,y)\n",
    "    lcoef.append(rr.coef_)"
   ]
  },
  {
   "cell_type": "markdown",
   "id": "441f8e3a",
   "metadata": {},
   "source": [
    "Puis le tracé"
   ]
  },
  {
   "cell_type": "code",
   "execution_count": 15,
   "id": "b747660f",
   "metadata": {},
   "outputs": [
    {
     "data": {
      "image/png": "[encoded data removed]",
      "text/plain": [
       "<Figure size 640x480 with 1 Axes>"
      ]
     },
     "metadata": {},
     "output_type": "display_data"
    }
   ],
   "source": [
    "plt.plot(np.log(alphas_ridge), lcoef)\n",
    "plt.show()"
   ]
  },
  {
   "cell_type": "markdown",
   "id": "de77b0f7",
   "metadata": {},
   "source": [
    "Nous voyons clairement que les valeurs sont retrécies vers 0 quand la valeur de $\\lambda$ augmente.\n",
    "\n",
    "\n",
    "## $\\hat \\lambda$ optimal (par validation croisée 10 blocs/fold)\n",
    "\n",
    "\n",
    "### Séparation en 10 blocs\n",
    "\n",
    "Nous allons séparer le jeu de données en 10 blocs grâce à la fonction [KFold](https://scikit-learn.org/stable/modules/generated/sklearn.model_selection.KFold.html#sklearn.model_selection.KFold): créer une instance de `KFold` nommée `kf`."
   ]
  },
  {
   "cell_type": "code",
   "execution_count": 16,
   "id": "1788f8fc",
   "metadata": {},
   "outputs": [],
   "source": [
    "kf = KFold(n_splits = 10, shuffle=True, random_state=0)"
   ]
  },
  {
   "cell_type": "markdown",
   "id": "2121dbb0",
   "metadata": {},
   "source": [
    "### Sélection du $\\hat \\lambda$ optimal\n",
    "\n",
    "1.  Créer un DataFrame `res` avec 100 colonnes de 0\n",
    "2.  Faire une boucle sur tous les blocs ; utiliser la méthode d'instance `split` sur `kf` avec les données `X`\n",
    "3.  Pour chaque «tour» de bloc faire a. estimer sur les 9 blocs en apprentissage les modèles ridge pour chaque $\\lambda$ de la grille. b. prévoir les données du bloc en validation c. ranger dans les lignes correspondantes de `res` pour les 100 colonnes correspondantes aux 100 modèles ridge."
   ]
  },
  {
   "cell_type": "code",
   "execution_count": 17,
   "id": "45e7b4ba",
   "metadata": {},
   "outputs": [],
   "source": [
    "kf = KFold(n_splits=10, shuffle=True, random_state=0)\n",
    "res = pd.DataFrame(np.zeros((X.shape[0], len(alphas_ridge))))\n",
    "for app_index, val_index in kf.split(X):\n",
    "    Xapp = Xcr[app_index,:]\n",
    "    yapp = y[app_index]\n",
    "    Xval = Xcr[val_index,:]\n",
    "    yval = y[val_index]\n",
    "    for j, ll in enumerate(alphas_ridge):\n",
    "        rr = Ridge(alpha=ll).fit(Xapp, yapp)\n",
    "        res.iloc[val_index,j] = rr.predict(Xval)"
   ]
  },
  {
   "cell_type": "markdown",
   "id": "bb93e966",
   "metadata": {},
   "source": [
    "## Sélection du $\\hat \\lambda$ optimal\n",
    "\n",
    "En prenant l'erreur quadratique $\\|Y - \\hat Y(\\lambda)\\|^2$ donner le meilleur modèle (et donc le $\\hat \\lambda$ optimal ) \\[méthode d'instance `apply` sur `res` et `argmin` \\]"
   ]
  },
  {
   "cell_type": "code",
   "execution_count": 18,
   "id": "8454217e",
   "metadata": {},
   "outputs": [
    {
     "name": "stdout",
     "output_type": "stream",
     "text": [
      "23.055161479861606\n"
     ]
    }
   ],
   "source": [
    "sse = res.apply(lambda x: ((x-y)**2).sum(), axis=0)\n",
    "print(alphas_ridge[sse.argmin()])"
   ]
  },
  {
   "cell_type": "markdown",
   "id": "a6951468",
   "metadata": {},
   "source": [
    "## Représentation graphique\n",
    "\n",
    "Représenter en abscisse les logarithmes des valeurs de $\\lambda$ sur la grille et en ordonnée l'erreur quadratique calculée en question précédente."
   ]
  },
  {
   "cell_type": "code",
   "execution_count": 19,
   "id": "5b1d7497",
   "metadata": {},
   "outputs": [
    {
     "data": {
      "text/plain": [
       "[<matplotlib.lines.Line2D at 0x7c605709d9d0>]"
      ]
     },
     "execution_count": 19,
     "metadata": {},
     "output_type": "execute_result"
    },
    {
     "data": {
      "image/png": "[encoded data removed]",
      "text/plain": [
       "<Figure size 640x480 with 1 Axes>"
      ]
     },
     "metadata": {},
     "output_type": "display_data"
    }
   ],
   "source": [
    "plt.plot(np.log(alphas_ridge), sse, \"-\")"
   ]
  },
  {
   "cell_type": "markdown",
   "id": "7886c7e6",
   "metadata": {},
   "source": [
    "## Modéliser rapidement\n",
    "\n",
    "Les questions précédentes peuvent être enchainées plus rapidement grâce à [=cross<sub>val</sub><sub>predict</sub>=\\]\n",
    "\n",
    "1.  Les questions précédentes peuvent être enchainées plus rapidement grâce à $$ =cross_val_predict= $$ (la grille devra être calculée à la main) Calcul de la grille (il n'existe pas encore de calcul de grille)"
   ]
  },
  {
   "cell_type": "code",
   "execution_count": null,
   "id": "b81d7c4b",
   "metadata": {},
   "outputs": [],
   "source": [
    "l0 = np.abs(Xcr.transpose().dot(y)).max()/X.shape[0]\n",
    "alphas_ridge = l0*100*10**(llc)"
   ]
  },
  {
   "cell_type": "code",
   "execution_count": null,
   "id": "076cfb00",
   "metadata": {},
   "outputs": [],
   "source": [
    "Ici on va utiliser la fonction RidgeCV avec toujours `kf`\n",
    "\n",
    "\n"
   ]
  },
  {
   "cell_type": "code",
   "execution_count": null,
   "id": "858dbea9",
   "metadata": {},
   "outputs": [],
   "source": [
    "kf = KFold(n_splits=10, shuffle=True, random_state=0)\n",
    "modele_ridge = RidgeCV(alphas=alphas_ridge, cv=kf, scoring = 'neg_mean_squared_error').fit(Xcr, y)"
   ]
  },
  {
   "cell_type": "code",
   "execution_count": null,
   "id": "5d325a00",
   "metadata": {},
   "outputs": [],
   "source": [
    "print(modele_ridge.alpha_)"
   ]
  },
  {
   "cell_type": "code",
   "execution_count": null,
   "id": "c2f35c54",
   "metadata": {},
   "outputs": [],
   "source": [
    "27.770023623731202"
   ]
  },
  {
   "cell_type": "markdown",
   "id": "0a96e71d",
   "metadata": {},
   "source": [
    "ainsi que $\\hat\\beta(\\hat\\lambda)$"
   ]
  },
  {
   "cell_type": "code",
   "execution_count": null,
   "id": "766cee14",
   "metadata": {},
   "outputs": [],
   "source": [
    "print(modele_ridge.coef_)"
   ]
  },
  {
   "cell_type": "code",
   "execution_count": null,
   "id": "6a6596bc",
   "metadata": {},
   "outputs": [],
   "source": [
    "[ 3.04681722  4.7852898   3.82669397 -3.74215398 -2.42237328 -0.16252902\n",
    "  2.7504887   0.50796561  1.12687075  7.4831738 ]"
   ]
  },
  {
   "cell_type": "markdown",
   "id": "ff2d5477",
   "metadata": {},
   "source": [
    "1.  Si nous préférons revenir à la somme par bloc il faut construire une\n",
    "\n",
    "fonction de perte et un (objet) score associé"
   ]
  },
  {
   "cell_type": "code",
   "execution_count": null,
   "id": "a43f869d",
   "metadata": {},
   "outputs": [],
   "source": [
    "def my_custom_loss_func(y_true, y_pred):\n",
    "    sse = np.sum((y_true - y_pred)**2)\n",
    "    return sse\n",
    "monscore = make_scorer(my_custom_loss_func, greater_is_better=False)"
   ]
  },
  {
   "cell_type": "markdown",
   "id": "6f386ba4",
   "metadata": {},
   "source": [
    "que l'on peut utiliser ensuite"
   ]
  },
  {
   "cell_type": "code",
   "execution_count": null,
   "id": "c654c127",
   "metadata": {},
   "outputs": [],
   "source": [
    "kf = KFold(n_splits=10, shuffle=True, random_state=0)\n",
    "modele_ridge = RidgeCV(alphas=alphas_ridge, cv=kf, scoring = monscore).fit(Xcr, y)"
   ]
  },
  {
   "cell_type": "markdown",
   "id": "c65ddefd",
   "metadata": {},
   "source": [
    "Le résultat est un modèle ridge ajusté qui contient $\\hat\\lambda$ qui vaut ici"
   ]
  },
  {
   "cell_type": "code",
   "execution_count": null,
   "id": "7ae5aee7",
   "metadata": {},
   "outputs": [],
   "source": [
    "print(modele_ridge.alpha_)"
   ]
  },
  {
   "cell_type": "markdown",
   "id": "14fdf08a",
   "metadata": {},
   "source": [
    "23.05516147986161"
   ]
  }
 ],
 "metadata": {
  "kernelspec": {
   "display_name": "Python 3 (ipykernel)",
   "language": "python",
   "name": "python3"
  },
  "language_info": {
   "codemirror_mode": {
    "name": "ipython",
    "version": 3
   },
   "file_extension": ".py",
   "mimetype": "text/x-python",
   "name": "python",
   "nbconvert_exporter": "python",
   "pygments_lexer": "ipython3",
   "version": "3.12.3"
  }
 },
 "nbformat": 4,
 "nbformat_minor": 5
}
