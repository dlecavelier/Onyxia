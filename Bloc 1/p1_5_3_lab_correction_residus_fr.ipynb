{
 "cells": [
  {
   "cell_type": "markdown",
   "id": "69eb5ed9-9783-4b60-b0aa-8a7212ab313f",
   "metadata": {},
   "source": [
    "# Modules python\n",
    "Importer les modules pandas (comme `pd`) numpy (commme `np`)\n",
    "matplotlib.pyplot (comme  `plt`), statsmodels.formula.api (comme `smf`)\n",
    "et statsmodels.api (comme `sm`)"
   ]
  },
  {
   "cell_type": "code",
   "execution_count": null,
   "id": "437cfcbe-ab1f-40fb-ab3a-e58179ae4123",
   "metadata": {
    "jupyter": {
     "outputs_hidden": false
    }
   },
   "outputs": [],
   "source": [
    "import pandas as pd\n",
    "import numpy as np\n",
    "import matplotlib.pyplot as plt\n",
    "import statsmodels.formula.api as smf\n",
    "import statsmodels.api as sm"
   ]
  },
  {
   "cell_type": "markdown",
   "id": "b68499de-524c-4f66-851f-c800a4aefe13",
   "metadata": {},
   "source": [
    "# Régression multiple (modèle du cours)"
   ]
  },
  {
   "cell_type": "markdown",
   "id": "92338a13-a937-4acb-8f68-6ccf4f0927b5",
   "metadata": {},
   "source": [
    "## Importation des données\n",
    "Importer les données d'ozone dans le DataFrame pandas `ozone`"
   ]
  },
  {
   "cell_type": "code",
   "execution_count": null,
   "id": "4e5cc0fa-3d08-4b79-ae39-1d6a3aab5ee5",
   "metadata": {
    "jupyter": {
     "outputs_hidden": false
    }
   },
   "outputs": [],
   "source": [
    "ozone = pd.read_csv(\"data/ozone.txt\", header=0, sep=\";\")"
   ]
  },
  {
   "cell_type": "markdown",
   "id": "739452f4-e47e-41e6-ac39-eb2bac0e49dc",
   "metadata": {},
   "source": [
    "## Estimation du modèle du cours\n",
    "Nous sommes intéressé par batir un modèle de prévision de l'ozone par \n",
    "une régression multiple. Ce régression expliquera\n",
    "le maximum de la concentration en ozone du jour (variable `O3`) par \n",
    "- la température à midi notée `T12`\n",
    "- la nébulosité à midi notée `Ne12`\n",
    "- la vitesse du vent sur l'axe Est-Ouest notée `Vx`\n",
    "Traditionnellement on introduit toujours la constante (le faire ici aussi).\n",
    "Estimer le modèle par MCO et faire le résumé."
   ]
  },
  {
   "cell_type": "code",
   "execution_count": null,
   "id": "36923fd2-39e0-496d-92f3-14b14898b922",
   "metadata": {
    "jupyter": {
     "outputs_hidden": false
    }
   },
   "outputs": [],
   "source": [
    "reg = smf.ols('O3~T12+Ne12+Vx', data=ozone).fit()\n",
    "reg.summary()"
   ]
  },
  {
   "cell_type": "markdown",
   "id": "72604d83-3d7b-4644-a7a6-3ec65ea3bebe",
   "metadata": {},
   "source": [
    "## Résidus \\$\\varepsilon\\$\n",
    "Afficher le graphique des résidus (attribut `resid` du modèle estimé)\n",
    "(avec \\$\\hat y\\$ en abscisse et \\$\\varepsilon\\$ en ordonnée)."
   ]
  },
  {
   "cell_type": "code",
   "execution_count": null,
   "id": "2f2514c6-e363-4287-a2a2-13c688e63497",
   "metadata": {
    "jupyter": {
     "outputs_hidden": false
    }
   },
   "outputs": [],
   "source": [
    "plt.plot(reg.predict(), reg.resid ,\"+\")"
   ]
  },
  {
   "cell_type": "markdown",
   "id": "d2f02210-9657-4b9c-b940-aaff26c5c77b",
   "metadata": {},
   "source": [
    "Aucune structuration des résidus visible. L'épaisseur (écart-type) des points semble \n",
    "un peu toujours la même mais ces résidus par construction n'ont pas la même variance, \n",
    "donc il est délicat de conclure sur l'hypothèse \\$\\mathrm{V}(\\varepsilon_i)=\\sigma^2\\$.\n",
    "De plus l'échelle des ordonnées dépend du problème, donc ces résidus sont peu \n",
    "praticables."
   ]
  },
  {
   "cell_type": "markdown",
   "id": "f66379ee-03ea-4e7a-b0a8-08355dca83fc",
   "metadata": {},
   "source": [
    "## Résidus \\$\\varepsilon\\$\n",
    "Afficher le graphique des résidus studentisés par validation croisée (avec \\$\\hat y\\$ en abscisse et \n",
    "\\$\\varepsilon\\$ en ordonnée). Pour cela utiliser la fonction/méthode `get_influence` \n",
    "qui renverra un objet (que l'on nommera `infl`) avec un attribut `resid_studentized_external`\n",
    "contenant les résidus souhaités."
   ]
  },
  {
   "cell_type": "code",
   "execution_count": null,
   "id": "1298f22f-ab1a-47e3-8f70-415a3bef9713",
   "metadata": {
    "jupyter": {
     "outputs_hidden": false
    }
   },
   "outputs": [],
   "source": [
    "infl = reg.get_influence()\n",
    "plt.plot(reg.predict(), infl.resid_studentized_external,\"+\")"
   ]
  },
  {
   "cell_type": "markdown",
   "id": "c3da3e4a-d9af-4de2-8589-c2f4aa6b489e",
   "metadata": {},
   "source": [
    "Aucune structuration des résidus visible. L'épaisseur (écart-type) des points semble \n",
    "un peu toujours la même donc l'hypothèse \\$\\mathrm{V}(\\varepsilon_i)=\\sigma^2\\$ semble\n",
    "correcte. Aucun point en dehors de -2,2 donc pas d'individus aberrant."
   ]
  },
  {
   "cell_type": "markdown",
   "id": "7105b531-82de-4086-a375-7b1ea5a09d4e",
   "metadata": {},
   "source": [
    "## Points leviers\n",
    "Représenter les \\$h_{ii}\\$ grâce à `plt.stem` en fonction du numéro de ligne"
   ]
  },
  {
   "cell_type": "code",
   "execution_count": null,
   "id": "8567c7a3-4de7-4eef-a0e1-b3c933a89ecf",
   "metadata": {
    "jupyter": {
     "outputs_hidden": false
    }
   },
   "outputs": [],
   "source": [
    "index=np.arange(1, ozone.shape[0]+1)\n",
    "plt.stem(index, infl.hat_matrix_diag)"
   ]
  },
  {
   "cell_type": "markdown",
   "id": "9cfbde0c-4944-477f-bc05-fd5f27c5a2b1",
   "metadata": {},
   "source": [
    "Aucun  \\$h_{ii}\\$ notablement plus grand \n",
    "que les autres donc le plan d'expérience est correct."
   ]
  },
  {
   "cell_type": "markdown",
   "id": "29ecd8bf-ad38-4fd9-90c7-fda957aa9e58",
   "metadata": {},
   "source": [
    "# R²\n",
    "Nous sommes intéressé par batir un modèle de prévision de l'ozone par \n",
    "une régression multiple. Cependant nous ne savons pas trop a priori\n",
    "quelles sont les variables utiles. Batissons plusieurs modèles."
   ]
  },
  {
   "cell_type": "markdown",
   "id": "bddb450c-a9fd-4af4-a24c-706196d77ed7",
   "metadata": {},
   "source": [
    "## Estimation du modèle du cours\n",
    "Ce régression expliquera\n",
    "le maximum de la concentration en ozone du jour (variable `O3`) par \n",
    "- la température à midi notée `T12`\n",
    "- la nébulosité à midi notée `Ne12`\n",
    "- la vitesse du vent sur l'axe Est-Ouest notée `Vx`\n",
    "Traditionnellement on introduit toujours la constante (le faire ici aussi).\n",
    "Estimer le modèle par MCO et faire le résumé."
   ]
  },
  {
   "cell_type": "code",
   "execution_count": null,
   "id": "8b93deda-cae2-4b9d-a2c5-22faca60aa3a",
   "metadata": {
    "jupyter": {
     "outputs_hidden": false
    }
   },
   "outputs": [],
   "source": [
    "reg3 = smf.ols('O3~T12+Ne12+Vx', data=ozone).fit()\n",
    "reg3.summary()"
   ]
  },
  {
   "cell_type": "markdown",
   "id": "d798f18c-9376-4ad9-8d3c-11ed282b352e",
   "metadata": {},
   "source": [
    "## Estimation du modèle du cours\n",
    "Ce régression expliquera\n",
    "le maximum de la concentration en ozone du jour (variable `O3`) par \n",
    "- la température à six heures notée `T12`\n",
    "- la température à midi notée `T15`\n",
    "- la nébulosité à midi notée `Ne12`\n",
    "- la vitesse du vent sur l'axe Est-Ouest notée `Vx`\n",
    "- le maximum du jour d'avant/la veille `O3v`\n",
    "Traditionnellement on introduit toujours la constante (le faire ici aussi).\n",
    "Estimer le modèle par MCO et faire le résumé."
   ]
  },
  {
   "cell_type": "code",
   "execution_count": null,
   "id": "09d82203-33af-4607-9278-2bf0752a2dea",
   "metadata": {},
   "outputs": [],
   "source": [
    "ozone.head()"
   ]
  },
  {
   "cell_type": "code",
   "execution_count": null,
   "id": "0329f947-c5ee-48e1-ac2d-aac585cc45b2",
   "metadata": {
    "jupyter": {
     "outputs_hidden": false
    }
   },
   "outputs": [],
   "source": [
    "reg6 = smf.ols('O3~T12+T15+Ne12+Vx+O3v', data=ozone).fit()\n",
    "reg6.summary()"
   ]
  },
  {
   "cell_type": "markdown",
   "id": "2321deab-de95-498b-9e44-f4ee1648a5f8",
   "metadata": {},
   "source": [
    "## Comparer les R2\n",
    "Comparer les R2 des modèles à 3 et 5 variables \n",
    "et expliquer pourquoi cela était attendu."
   ]
  },
  {
   "cell_type": "markdown",
   "id": "206d848f-d4b3-487c-a3f6-1a7f2d32b2a4",
   "metadata": {},
   "source": [
    "Le R2 augmente avec le nombre de variables ajoutées. Le modèle à 6 variables \n",
    "consiste à ajouter les variables `T15` et `O3v` au modèle à 3 variables\n",
    "et donc il est normal qu'il augmente. Il ne peut pas servir à comparer\n",
    "des ajustements pour des modèles ayant des nombres de variables différents."
   ]
  },
  {
   "cell_type": "markdown",
   "id": "27943e13-e86a-40cd-8685-22e79f96b3d5",
   "metadata": {},
   "source": [
    "# Résidus partiels (pour aller plus loin)\n",
    "Cet exercice montre l'utilité pratique des résidus partiels envisagés en TD.\n",
    "Les données se trouvent dans le fichier `tprespartiel.dta` et\n",
    "`tpbisrespartiel.dta`, l'objectif de ce TP est de montrer que l'analyse\n",
    "des résidus partiels peut améliorer la modélisation."
   ]
  },
  {
   "cell_type": "markdown",
   "id": "e57c0396-c606-4055-b210-3b8babc9907b",
   "metadata": {},
   "source": [
    "## Importer les données\n",
    "Vous avez une variable à expliquer \\$Y\\$\n",
    "et quatre variables explicatives dans le fichier `tprespartiel.dta`"
   ]
  },
  {
   "cell_type": "code",
   "execution_count": null,
   "id": "9b14d289-96f4-461d-bc8c-f4c7e11719d7",
   "metadata": {
    "jupyter": {
     "outputs_hidden": false
    }
   },
   "outputs": [],
   "source": [
    "tp = pd.read_csv(\"tprespartiel.dta\", header=0, sep=\";\")\n",
    "tp.head()"
   ]
  },
  {
   "cell_type": "markdown",
   "id": "23106e81-ea17-4883-8326-5f33151ecc63",
   "metadata": {},
   "source": [
    "## Estimation\n",
    "Estimer par MCO les paramètres du modèle \\$Y_i=\\beta_0 + \\beta_1 X_{i,1}+\\cdots+\n",
    "\\beta_4 X_{i,4} + \\varepsilon_i.\\$\n",
    "[`ols` de `smf`, méthode `fit` de la classe `OLS` et \n",
    "méthode `summary` pour l'instance/modèle ajusté]"
   ]
  },
  {
   "cell_type": "code",
   "execution_count": null,
   "id": "d811d27b-58f0-4f10-bf9d-a056dffc1a20",
   "metadata": {
    "jupyter": {
     "outputs_hidden": false
    }
   },
   "outputs": [],
   "source": [
    "reg = smf.ols(\"Y~X1+X2+X3+X4\", data=tp).fit()"
   ]
  },
  {
   "cell_type": "markdown",
   "id": "4b238dfa-8cdb-4034-850f-4794318f12be",
   "metadata": {},
   "source": [
    "## Analyser les résidus partiels\n",
    "Que pensez-vous des résultats ?\n",
    "\\[`plot_ccpr_grid` du sous module `sm.graphics`\\], les résidus partiels sont\n",
    "appelés \"Component-Component plus Residual\"\n",
    "(CCPR) dans le module statsmodels…"
   ]
  },
  {
   "cell_type": "code",
   "execution_count": null,
   "id": "745d6a44-4aaa-46d6-8533-8b1298ce9949",
   "metadata": {
    "jupyter": {
     "outputs_hidden": false
    }
   },
   "outputs": [],
   "source": [
    "sm.graphics.plot_ccpr_grid(reg)"
   ]
  },
  {
   "cell_type": "markdown",
   "id": "1df3ed56-4d64-4ebe-b510-d5f58e4d64b1",
   "metadata": {},
   "source": [
    "De manière évidente le graphique pour la variable `X4` ne montre pas\n",
    "des points disposés le long d'une droite ou un nuage sans structure. \n",
    "Il montre une structuration de type \\$x\\mapsto x^2\\$"
   ]
  },
  {
   "cell_type": "markdown",
   "id": "3254d99e-8655-4247-aa29-3a9c15c9f284",
   "metadata": {},
   "source": [
    "## Amélioration du modèle \n",
    "Remplacer $X_4$ par $X_5=X_4^2$ dans le modèle précédent. Que pensez-vous de\n",
    "  la nouvelle modélisation ? On pourra comparer ce modèle à celui de la\n",
    "  question précédente.\n",
    "\\[`ols` de `smf`, méthode `fit` de la classe `OLS` et \n",
    "méthode `summary` pour l'instance/modèle ajusté\\]\n",
    "On pourra utiliser les\n",
    "opérations et fonctions dans les formules\n",
    "(voir https://www.statsmodels.org/stable/example_formulas.html)"
   ]
  },
  {
   "cell_type": "code",
   "execution_count": null,
   "id": "5a45c9bf-fad1-44a7-8023-d13aebab60ad",
   "metadata": {
    "jupyter": {
     "outputs_hidden": false
    }
   },
   "outputs": [],
   "source": [
    "reg2 = smf.ols(\"Y~X1+X2+X3+I(X4**2)\", data=tp).fit()"
   ]
  },
  {
   "cell_type": "markdown",
   "id": "20acb167-3bb3-4165-9555-52067505a20c",
   "metadata": {},
   "source": [
    "## Analyser les résidus partiels\n",
    "Analyser les résidus partiels du nouveau modèle et constater\n",
    "qu'ils semblent corrects.\n",
    "\\[`plot_ccpr_grid` du sous module `sm.graphics`\\], les résidus partiels sont\n",
    "appelés \"Component-Component plus Residual\"\n",
    "(CCPR) dans le module statsmodels…"
   ]
  },
  {
   "cell_type": "code",
   "execution_count": null,
   "id": "70c485ad-f544-4d5e-87b8-92f426dbb014",
   "metadata": {
    "jupyter": {
     "outputs_hidden": false
    }
   },
   "outputs": [],
   "source": [
    "sm.graphics.plot_ccpr_grid(reg2)"
   ]
  },
  {
   "cell_type": "markdown",
   "id": "cd076303-54eb-4ba9-943f-a468a1cf128e",
   "metadata": {},
   "source": [
    "The graphs show points with no obvious structure\n",
    "or arranged along straight lines. The model would appear to be correct. We can compare \n",
    "compare them (same number of variables) by R2"
   ]
  },
  {
   "cell_type": "code",
   "execution_count": null,
   "id": "01ee7817-ab99-4a09-af6c-ddde0c1cd8e4",
   "metadata": {
    "jupyter": {
     "outputs_hidden": false
    }
   },
   "outputs": [],
   "source": [
    "reg.rsquared, reg2.rsquared"
   ]
  },
  {
   "cell_type": "code",
   "execution_count": null,
   "id": "2c11da17-f467-41dd-af80-fd9d68feafca",
   "metadata": {
    "jupyter": {
     "outputs_hidden": false
    }
   },
   "outputs": [],
   "source": []
  },
  {
   "cell_type": "markdown",
   "id": "b5d7a0e3-f889-49a2-a976-1fc2eef1f8a1",
   "metadata": {},
   "source": [
    "et le R2 de la seconde modélisation apparait meilleur."
   ]
  },
  {
   "cell_type": "markdown",
   "id": "c1aa5487-6725-4de4-81f7-1278c650c7ad",
   "metadata": {},
   "source": [
    "Faire le même travail pour `tp2bisrespartiel`."
   ]
  },
  {
   "cell_type": "code",
   "execution_count": null,
   "id": "2551a929-8222-4ce3-b062-739aa36932a2",
   "metadata": {
    "jupyter": {
     "outputs_hidden": false
    }
   },
   "outputs": [],
   "source": [
    "tp = pd.read_csv(\"tprespartiel.dta\", header=0, sep=\";\")\n",
    "tp.head()\n",
    "reg = smf.ols(\"Y~X1+X2+X3+X4\", data=tp).fit()\n",
    "sm.graphics.plot_ccpr_grid(reg)"
   ]
  },
  {
   "cell_type": "markdown",
   "id": "0428a58b-4917-4b98-9960-c802e5e59822",
   "metadata": {},
   "source": [
    "Nous voyons clairement une sinusoïde de type \\$\\sin(-2\\pi X_4)\\$ \n",
    "sur le dernier graphique. Changeons \\$X_4\\$"
   ]
  },
  {
   "cell_type": "code",
   "execution_count": null,
   "id": "107d5dd8-eed5-4a95-9037-7b640e196fc1",
   "metadata": {
    "jupyter": {
     "outputs_hidden": false
    }
   },
   "outputs": [],
   "source": [
    "reg2 = smf.ols(\"Y~X1+X2+X3+I(np.sin(-2*np.pi*X4))\", data=tp).fit()\n",
    "sm.graphics.plot_ccpr_grid(reg2)"
   ]
  },
  {
   "cell_type": "markdown",
   "id": "c0a216cb-cf05-4e29-afad-466cb57330e2",
   "metadata": {},
   "source": [
    "Là encore les graphiques deviennent corrects et nous pouvons comparer \n",
    "les R2 et constater que la seconde modélisation améliore le R2."
   ]
  },
  {
   "cell_type": "code",
   "execution_count": null,
   "id": "8c845022-3950-4b27-90a6-fc569bddac2b",
   "metadata": {
    "jupyter": {
     "outputs_hidden": false
    }
   },
   "outputs": [],
   "source": [
    "reg.rsqared"
   ]
  },
  {
   "cell_type": "code",
   "execution_count": null,
   "id": "c9967d29-260b-4392-a505-6973553d90bd",
   "metadata": {
    "jupyter": {
     "outputs_hidden": false
    }
   },
   "outputs": [],
   "source": [
    "reg2.rsquared"
   ]
  }
 ],
 "metadata": {
  "kernelspec": {
   "display_name": "Python 3 (ipykernel)",
   "language": "python",
   "name": "python3"
  },
  "language_info": {
   "codemirror_mode": {
    "name": "ipython",
    "version": 3
   },
   "file_extension": ".py",
   "mimetype": "text/x-python",
   "name": "python",
   "nbconvert_exporter": "python",
   "pygments_lexer": "ipython3",
   "version": "3.9.2"
  },
  "name": "residus.ipynb"
 },
 "nbformat": 4,
 "nbformat_minor": 5
}
