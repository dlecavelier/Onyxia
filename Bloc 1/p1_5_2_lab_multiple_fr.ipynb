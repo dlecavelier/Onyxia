{
 "cells": [
  {
   "cell_type": "markdown",
   "id": "3e50e40e-959c-4700-999e-ece9c8ceebe1",
   "metadata": {},
   "source": [
    "# Modules python\n",
    "Importer les modules pandas (comme `pd`) numpy (commme `np`)\n",
    "matplotlib.pyplot (comme  `plt`) et statsmodels.formula.api (comme `smf`). \n",
    "Importer aussi `Axes3D` de `mpl_toolkits.mplot3d`."
   ]
  },
  {
   "cell_type": "code",
   "execution_count": null,
   "id": "012ddd09",
   "metadata": {},
   "outputs": [],
   "source": []
  },
  {
   "cell_type": "markdown",
   "id": "21cab8da-adb9-4295-983d-6d2d8c55d611",
   "metadata": {},
   "source": [
    "# Régression multiple ozone (2 variables)"
   ]
  },
  {
   "cell_type": "markdown",
   "id": "9ad7f2c2-2377-4b8b-a956-8a2c0b5ef869",
   "metadata": {},
   "source": [
    "## Importation des données\n",
    "Importer les données d'ozone dans le DataFrame pandas `ozone`\n",
    "\\[`read_csv` de `numpy`\\]. Sur Fun Campus le chemin est `data/ozone.txt`."
   ]
  },
  {
   "cell_type": "code",
   "execution_count": null,
   "id": "39a4e156",
   "metadata": {},
   "outputs": [],
   "source": []
  },
  {
   "cell_type": "markdown",
   "id": "fe9289d1-7cca-4279-818a-3fe52f956ba5",
   "metadata": {},
   "source": [
    "## Représention en 3D\n",
    "Nous sommes intéressé par batir un modèle de prévision de l'ozone par \n",
    "une régression multiple. Ce modèle de régression expliquera\n",
    "le maximum de la concentration en ozone du jour (variable `O3`) par \n",
    "- la température à midi notée `T12`\n",
    "- la vitesse du vent sur l'axe Est-Ouest notée `Vx`\n",
    "Représentons graphiquement les données avec `O3` sur l'axe z, \n",
    "`T12` sur l'axe x et `Vx` sur l'axe y.\n",
    "\\[`figure` et sa méthode `add_subplot` méthode `scatter` de la classe `Axes`\\]"
   ]
  },
  {
   "cell_type": "code",
   "execution_count": null,
   "id": "d3add26e",
   "metadata": {},
   "outputs": [],
   "source": []
  },
  {
   "cell_type": "markdown",
   "id": "f5be4ed2-a5b7-4f6e-9234-9b2c940b574a",
   "metadata": {},
   "source": [
    "## Modèle de prévision\n",
    "Écrire le modèle évoqué ci-dessus."
   ]
  },
  {
   "cell_type": "markdown",
   "id": "af74146e",
   "metadata": {},
   "source": []
  },
  {
   "cell_type": "markdown",
   "id": "804332b6-b1c6-4745-9a16-88a322762520",
   "metadata": {},
   "source": [
    "## Estimation du modèle\n",
    "Estimer par MCO les paramètres du modèle décrit ci-dessus et faites en le résumé.\n",
    "\\[`ols` de `smf`, méthode `fit` de la classe `OLS` et \n",
    "méthode `summary` pour l'instance/modèle ajusté\\]"
   ]
  },
  {
   "cell_type": "code",
   "execution_count": null,
   "id": "a1dfb90d",
   "metadata": {},
   "outputs": [],
   "source": []
  },
  {
   "cell_type": "markdown",
   "id": "88303429-288d-4554-8823-38de0cb61d7a",
   "metadata": {},
   "source": [
    "# Régression multiple ozone (modèle du cours)"
   ]
  },
  {
   "cell_type": "markdown",
   "id": "2c24867c-4756-42b1-962d-97afc2d98439",
   "metadata": {},
   "source": [
    "## Importation des données\n",
    "Importer les données d'ozone dans le DataFrame pandas `ozone`\n",
    "\\[`read_csv` de `numpy`\\]. Sur Fun Campus le chemin est `data/ozone.txt`."
   ]
  },
  {
   "cell_type": "code",
   "execution_count": null,
   "id": "09596166",
   "metadata": {},
   "outputs": [],
   "source": []
  },
  {
   "cell_type": "markdown",
   "id": "cc825534-4916-482a-a8d3-9a1f2ce5dba5",
   "metadata": {},
   "source": [
    "## Estimation du modèle du cours\n",
    "Nous sommes intéressé par batir un modèle de prévision de l'ozone par \n",
    "une régression multiple. Ce régression expliquera\n",
    "le maximum de la concentration en ozone du jour (variable `O3`) par \n",
    "- la température à midi notée `T12`\n",
    "- la nébulosité à midi notée `Ne12`\n",
    "- la vitesse du vent sur l'axe Est-Ouest notée `Vx`\n",
    "Traditionnellement on introduit toujours la constante (le faire ici aussi).\n",
    "Estimer le modèle par MCO et faire le résumé.\n",
    "\\[`ols` de `smf`, méthode `fit` de la classe `OLS` et \n",
    "méthode `summary` pour l'instance\\]"
   ]
  },
  {
   "cell_type": "code",
   "execution_count": null,
   "id": "d4b5838e",
   "metadata": {},
   "outputs": [],
   "source": []
  },
  {
   "cell_type": "markdown",
   "id": "e2b85f07-8c32-49d1-aa4b-9c8571ba4224",
   "metadata": {},
   "source": [
    "## Variabilité \n",
    "- Trouver parmi les estimateurs des coefficients des effets des variables\n",
    "(hors constante) celui qui est le plus variable.\n",
    "- La variabilité est indiquée par\n",
    "  - la variance du paramètre\n",
    "  - l'écart-type du paramètre\n",
    "  - la variance estimée du paramètre\n",
    "  - l'écart-type estimé du paramètre\n",
    "- Afficher l'estimation de \\$\\sigma^2\\$\n",
    "\\[attribut `scale` du modèle ajusté/instance\\]"
   ]
  },
  {
   "cell_type": "code",
   "execution_count": null,
   "id": "2aa0f9ca",
   "metadata": {},
   "outputs": [],
   "source": []
  },
  {
   "cell_type": "markdown",
   "id": "dfd8f3d2-a86f-4387-9ab4-359b99f9699a",
   "metadata": {},
   "source": [
    "# Régression multiple eucalytus"
   ]
  },
  {
   "cell_type": "markdown",
   "id": "2a2daaf8-74f6-47d0-ab4e-14bc368b7ac4",
   "metadata": {},
   "source": [
    "## Importation des données\n",
    "Importer les données d'eucalytus dans le DataFrame pandas `eucalypt`\n",
    "\\[`read_csv` de `numpy`\\]. Sur Fun Campus le chemin est `data/eucalyptus.txt`."
   ]
  },
  {
   "cell_type": "code",
   "execution_count": null,
   "id": "9488cf11",
   "metadata": {},
   "outputs": [],
   "source": []
  },
  {
   "cell_type": "markdown",
   "id": "70bb8ca5-f4c5-453d-920b-5d63f825c401",
   "metadata": {},
   "source": [
    "## représentation des données\n",
    "Représenter le nuage de points\n",
    "\\[`plot` de plt et `xlabel` et `ylabel` de `plt`\\]"
   ]
  },
  {
   "cell_type": "code",
   "execution_count": null,
   "id": "f10fcb28",
   "metadata": {},
   "outputs": [],
   "source": []
  },
  {
   "cell_type": "markdown",
   "id": "0c30a957-6ccc-43ea-bb28-859d2407bd03",
   "metadata": {},
   "source": [
    "## Modèle de prévision\n",
    "Estimer (par MCO) le modèle linéaire expliquant la hauteur (`ht`) \n",
    "par la variable circonférence (`circ`) et la racine carrée de la\n",
    "circonférence.  On pourra utiliser les\n",
    "opérations et fonctions dans les formules\n",
    "(voir https://www.statsmodels.org/stable/example_formulas.html)"
   ]
  },
  {
   "cell_type": "code",
   "execution_count": null,
   "id": "a133c583",
   "metadata": {},
   "outputs": [],
   "source": []
  },
  {
   "cell_type": "markdown",
   "id": "e87ebbdb-0f2d-40b7-8e86-5c9e2140c55c",
   "metadata": {},
   "source": [
    "## Répresentation graphique du modèle\n",
    "Réprésenter sur un graphique les données, la prévision par le modèle ci-dessus et\n",
    "la prévision par les modèles de régression simple vus dans l'exercice « deux modèles »\n",
    "dans le TP de régression simple.\n",
    "\\[`argsort` méthode d'instance pour les colonnes des DataFrames, \n",
    "`plot` de plt et `xlabel` et `ylabel` de `plt`\\]"
   ]
  },
  {
   "cell_type": "code",
   "execution_count": null,
   "id": "88a65c84",
   "metadata": {},
   "outputs": [],
   "source": []
  }
 ],
 "metadata": {
  "kernelspec": {
   "display_name": "Python 3 (ipykernel)",
   "language": "python",
   "name": "python3"
  },
  "language_info": {
   "codemirror_mode": {
    "name": "ipython",
    "version": 3
   },
   "file_extension": ".py",
   "mimetype": "text/x-python",
   "name": "python",
   "nbconvert_exporter": "python",
   "pygments_lexer": "ipython3",
   "version": "3.9.2"
  },
  "name": "multiple.ipynb"
 },
 "nbformat": 4,
 "nbformat_minor": 5
}
