{
 "cells": [
  {
   "cell_type": "markdown",
   "id": "sSlSNazw2RMj",
   "metadata": {
    "id": "sSlSNazw2RMj"
   },
   "source": [
    "---\n",
    "# DNN : `spam` (avec `Keras`, version de base)\n",
    "---"
   ]
  },
  {
   "cell_type": "markdown",
   "id": "OaeB8ZNu2RMk",
   "metadata": {
    "id": "OaeB8ZNu2RMk"
   },
   "source": [
    "## Packages"
   ]
  },
  {
   "cell_type": "code",
   "execution_count": 1,
   "id": "1b57f5db",
   "metadata": {
    "executionInfo": {
     "elapsed": 11227,
     "status": "ok",
     "timestamp": 1737481095043,
     "user": {
      "displayName": "Vincent Lefieux",
      "userId": "10319107985555801415"
     },
     "user_tz": -60
    },
    "id": "1b57f5db"
   },
   "outputs": [],
   "source": [
    "import pandas as pd\n",
    "\n",
    "import matplotlib.pyplot as plt\n",
    "\n",
    "from sklearn.model_selection import train_test_split\n",
    "from sklearn.preprocessing import StandardScaler\n",
    "\n",
    "from keras import layers, models"
   ]
  },
  {
   "cell_type": "markdown",
   "id": "iI8OC0OP2RMl",
   "metadata": {
    "id": "iI8OC0OP2RMl"
   },
   "source": [
    "---\n",
    "## 1. Données\n",
    "---"
   ]
  },
  {
   "cell_type": "markdown",
   "id": "jfTcXyEdZ8Yb",
   "metadata": {
    "id": "jfTcXyEdZ8Yb"
   },
   "source": [
    "### 1.1. Importation"
   ]
  },
  {
   "cell_type": "code",
   "execution_count": 2,
   "id": "546e2a49",
   "metadata": {},
   "outputs": [],
   "source": [
    "# En local :\n",
    "directory = '/Users/vincentlefieux/Dropbox/Docs_ACADEMIQUE/Data/'\n",
    "\n",
    "# Sur Google collab ou Onyxia (sur un répertoire temporaire) :\n",
    "# directory = ''\n",
    "\n",
    "# Sur Google collab (sur le drive) :\n",
    "# from google.colab import drive\n",
    "# drive.mount('/content/drive')\n",
    "# directory = '/content/drive/MyDrive/Data/'"
   ]
  },
  {
   "cell_type": "code",
   "execution_count": 3,
   "id": "fd334c27",
   "metadata": {
    "colab": {
     "base_uri": "https://localhost:8080/"
    },
    "executionInfo": {
     "elapsed": 6,
     "status": "ok",
     "timestamp": 1737481095043,
     "user": {
      "displayName": "Vincent Lefieux",
      "userId": "10319107985555801415"
     },
     "user_tz": -60
    },
    "id": "fd334c27",
    "outputId": "330eaf8e-f719-41ed-c945-5c5eee724771"
   },
   "outputs": [],
   "source": [
    "data = pd.read_csv(directory + 'spam.csv',\n",
    "                   header    = 0,\n",
    "                   # index_col = 0,\n",
    "                   sep       = ',',\n",
    "                   decimal   = '.')"
   ]
  },
  {
   "cell_type": "code",
   "execution_count": 4,
   "id": "f23cdd06",
   "metadata": {},
   "outputs": [
    {
     "name": "stdout",
     "output_type": "stream",
     "text": [
      "<class 'pandas.core.frame.DataFrame'>\n",
      "RangeIndex: 4601 entries, 0 to 4600\n",
      "Data columns (total 58 columns):\n",
      " #   Column                      Non-Null Count  Dtype  \n",
      "---  ------                      --------------  -----  \n",
      " 0   word_freq_make              4601 non-null   float64\n",
      " 1   word_freq_address           4601 non-null   float64\n",
      " 2   word_freq_all               4601 non-null   float64\n",
      " 3   word_freq_3d                4601 non-null   float64\n",
      " 4   word_freq_our               4601 non-null   float64\n",
      " 5   word_freq_over              4601 non-null   float64\n",
      " 6   word_freq_remove            4601 non-null   float64\n",
      " 7   word_freq_internet          4601 non-null   float64\n",
      " 8   word_freq_order             4601 non-null   float64\n",
      " 9   word_freq_mail              4601 non-null   float64\n",
      " 10  word_freq_receive           4601 non-null   float64\n",
      " 11  word_freq_will              4601 non-null   float64\n",
      " 12  word_freq_people            4601 non-null   float64\n",
      " 13  word_freq_report            4601 non-null   float64\n",
      " 14  word_freq_addresses         4601 non-null   float64\n",
      " 15  word_freq_free              4601 non-null   float64\n",
      " 16  word_freq_business          4601 non-null   float64\n",
      " 17  word_freq_email             4601 non-null   float64\n",
      " 18  word_freq_you               4601 non-null   float64\n",
      " 19  word_freq_credit            4601 non-null   float64\n",
      " 20  word_freq_your              4601 non-null   float64\n",
      " 21  word_freq_font              4601 non-null   float64\n",
      " 22  word_freq_000               4601 non-null   float64\n",
      " 23  word_freq_money             4601 non-null   float64\n",
      " 24  word_freq_hp                4601 non-null   float64\n",
      " 25  word_freq_hpl               4601 non-null   float64\n",
      " 26  word_freq_george            4601 non-null   float64\n",
      " 27  word_freq_650               4601 non-null   float64\n",
      " 28  word_freq_lab               4601 non-null   float64\n",
      " 29  word_freq_labs              4601 non-null   float64\n",
      " 30  word_freq_telnet            4601 non-null   float64\n",
      " 31  word_freq_857               4601 non-null   float64\n",
      " 32  word_freq_data              4601 non-null   float64\n",
      " 33  word_freq_415               4601 non-null   float64\n",
      " 34  word_freq_85                4601 non-null   float64\n",
      " 35  word_freq_technology        4601 non-null   float64\n",
      " 36  word_freq_1999              4601 non-null   float64\n",
      " 37  word_freq_parts             4601 non-null   float64\n",
      " 38  word_freq_pm                4601 non-null   float64\n",
      " 39  word_freq_direct            4601 non-null   float64\n",
      " 40  word_freq_cs                4601 non-null   float64\n",
      " 41  word_freq_meeting           4601 non-null   float64\n",
      " 42  word_freq_original          4601 non-null   float64\n",
      " 43  word_freq_project           4601 non-null   float64\n",
      " 44  word_freq_re                4601 non-null   float64\n",
      " 45  word_freq_edu               4601 non-null   float64\n",
      " 46  word_freq_table             4601 non-null   float64\n",
      " 47  word_freq_conference        4601 non-null   float64\n",
      " 48  char_freq_semicolon         4601 non-null   float64\n",
      " 49  char_freq_leftbrac          4601 non-null   float64\n",
      " 50  char_freq_leftsquarebrac    4601 non-null   float64\n",
      " 51  char_freq_exclaim           4601 non-null   float64\n",
      " 52  char_freq_dollar            4601 non-null   float64\n",
      " 53  char_freq_pound             4601 non-null   float64\n",
      " 54  capital_run_length_average  4601 non-null   float64\n",
      " 55  capital_run_length_longest  4601 non-null   int64  \n",
      " 56  capital_run_length_total    4601 non-null   int64  \n",
      " 57  spam                        4601 non-null   int64  \n",
      "dtypes: float64(55), int64(3)\n",
      "memory usage: 2.0 MB\n"
     ]
    }
   ],
   "source": [
    "data.info()"
   ]
  },
  {
   "cell_type": "code",
   "execution_count": 5,
   "id": "c8df9d3f",
   "metadata": {},
   "outputs": [
    {
     "data": {
      "text/html": [
       "<div>\n",
       "<style scoped>\n",
       "    .dataframe tbody tr th:only-of-type {\n",
       "        vertical-align: middle;\n",
       "    }\n",
       "\n",
       "    .dataframe tbody tr th {\n",
       "        vertical-align: top;\n",
       "    }\n",
       "\n",
       "    .dataframe thead th {\n",
       "        text-align: right;\n",
       "    }\n",
       "</style>\n",
       "<table border=\"1\" class=\"dataframe\">\n",
       "  <thead>\n",
       "    <tr style=\"text-align: right;\">\n",
       "      <th></th>\n",
       "      <th>word_freq_make</th>\n",
       "      <th>word_freq_address</th>\n",
       "      <th>word_freq_all</th>\n",
       "      <th>word_freq_3d</th>\n",
       "      <th>word_freq_our</th>\n",
       "      <th>word_freq_over</th>\n",
       "      <th>word_freq_remove</th>\n",
       "      <th>word_freq_internet</th>\n",
       "      <th>word_freq_order</th>\n",
       "      <th>word_freq_mail</th>\n",
       "      <th>...</th>\n",
       "      <th>char_freq_semicolon</th>\n",
       "      <th>char_freq_leftbrac</th>\n",
       "      <th>char_freq_leftsquarebrac</th>\n",
       "      <th>char_freq_exclaim</th>\n",
       "      <th>char_freq_dollar</th>\n",
       "      <th>char_freq_pound</th>\n",
       "      <th>capital_run_length_average</th>\n",
       "      <th>capital_run_length_longest</th>\n",
       "      <th>capital_run_length_total</th>\n",
       "      <th>spam</th>\n",
       "    </tr>\n",
       "  </thead>\n",
       "  <tbody>\n",
       "    <tr>\n",
       "      <th>0</th>\n",
       "      <td>0.00</td>\n",
       "      <td>0.64</td>\n",
       "      <td>0.64</td>\n",
       "      <td>0.0</td>\n",
       "      <td>0.32</td>\n",
       "      <td>0.00</td>\n",
       "      <td>0.00</td>\n",
       "      <td>0.00</td>\n",
       "      <td>0.00</td>\n",
       "      <td>0.00</td>\n",
       "      <td>...</td>\n",
       "      <td>0.00</td>\n",
       "      <td>0.000</td>\n",
       "      <td>0.0</td>\n",
       "      <td>0.778</td>\n",
       "      <td>0.000</td>\n",
       "      <td>0.000</td>\n",
       "      <td>3.756</td>\n",
       "      <td>61</td>\n",
       "      <td>278</td>\n",
       "      <td>1</td>\n",
       "    </tr>\n",
       "    <tr>\n",
       "      <th>1</th>\n",
       "      <td>0.21</td>\n",
       "      <td>0.28</td>\n",
       "      <td>0.50</td>\n",
       "      <td>0.0</td>\n",
       "      <td>0.14</td>\n",
       "      <td>0.28</td>\n",
       "      <td>0.21</td>\n",
       "      <td>0.07</td>\n",
       "      <td>0.00</td>\n",
       "      <td>0.94</td>\n",
       "      <td>...</td>\n",
       "      <td>0.00</td>\n",
       "      <td>0.132</td>\n",
       "      <td>0.0</td>\n",
       "      <td>0.372</td>\n",
       "      <td>0.180</td>\n",
       "      <td>0.048</td>\n",
       "      <td>5.114</td>\n",
       "      <td>101</td>\n",
       "      <td>1028</td>\n",
       "      <td>1</td>\n",
       "    </tr>\n",
       "    <tr>\n",
       "      <th>2</th>\n",
       "      <td>0.06</td>\n",
       "      <td>0.00</td>\n",
       "      <td>0.71</td>\n",
       "      <td>0.0</td>\n",
       "      <td>1.23</td>\n",
       "      <td>0.19</td>\n",
       "      <td>0.19</td>\n",
       "      <td>0.12</td>\n",
       "      <td>0.64</td>\n",
       "      <td>0.25</td>\n",
       "      <td>...</td>\n",
       "      <td>0.01</td>\n",
       "      <td>0.143</td>\n",
       "      <td>0.0</td>\n",
       "      <td>0.276</td>\n",
       "      <td>0.184</td>\n",
       "      <td>0.010</td>\n",
       "      <td>9.821</td>\n",
       "      <td>485</td>\n",
       "      <td>2259</td>\n",
       "      <td>1</td>\n",
       "    </tr>\n",
       "    <tr>\n",
       "      <th>3</th>\n",
       "      <td>0.00</td>\n",
       "      <td>0.00</td>\n",
       "      <td>0.00</td>\n",
       "      <td>0.0</td>\n",
       "      <td>0.63</td>\n",
       "      <td>0.00</td>\n",
       "      <td>0.31</td>\n",
       "      <td>0.63</td>\n",
       "      <td>0.31</td>\n",
       "      <td>0.63</td>\n",
       "      <td>...</td>\n",
       "      <td>0.00</td>\n",
       "      <td>0.137</td>\n",
       "      <td>0.0</td>\n",
       "      <td>0.137</td>\n",
       "      <td>0.000</td>\n",
       "      <td>0.000</td>\n",
       "      <td>3.537</td>\n",
       "      <td>40</td>\n",
       "      <td>191</td>\n",
       "      <td>1</td>\n",
       "    </tr>\n",
       "    <tr>\n",
       "      <th>4</th>\n",
       "      <td>0.00</td>\n",
       "      <td>0.00</td>\n",
       "      <td>0.00</td>\n",
       "      <td>0.0</td>\n",
       "      <td>0.63</td>\n",
       "      <td>0.00</td>\n",
       "      <td>0.31</td>\n",
       "      <td>0.63</td>\n",
       "      <td>0.31</td>\n",
       "      <td>0.63</td>\n",
       "      <td>...</td>\n",
       "      <td>0.00</td>\n",
       "      <td>0.135</td>\n",
       "      <td>0.0</td>\n",
       "      <td>0.135</td>\n",
       "      <td>0.000</td>\n",
       "      <td>0.000</td>\n",
       "      <td>3.537</td>\n",
       "      <td>40</td>\n",
       "      <td>191</td>\n",
       "      <td>1</td>\n",
       "    </tr>\n",
       "  </tbody>\n",
       "</table>\n",
       "<p>5 rows × 58 columns</p>\n",
       "</div>"
      ],
      "text/plain": [
       "   word_freq_make  word_freq_address  word_freq_all  word_freq_3d  \\\n",
       "0            0.00               0.64           0.64           0.0   \n",
       "1            0.21               0.28           0.50           0.0   \n",
       "2            0.06               0.00           0.71           0.0   \n",
       "3            0.00               0.00           0.00           0.0   \n",
       "4            0.00               0.00           0.00           0.0   \n",
       "\n",
       "   word_freq_our  word_freq_over  word_freq_remove  word_freq_internet  \\\n",
       "0           0.32            0.00              0.00                0.00   \n",
       "1           0.14            0.28              0.21                0.07   \n",
       "2           1.23            0.19              0.19                0.12   \n",
       "3           0.63            0.00              0.31                0.63   \n",
       "4           0.63            0.00              0.31                0.63   \n",
       "\n",
       "   word_freq_order  word_freq_mail  ...  char_freq_semicolon  \\\n",
       "0             0.00            0.00  ...                 0.00   \n",
       "1             0.00            0.94  ...                 0.00   \n",
       "2             0.64            0.25  ...                 0.01   \n",
       "3             0.31            0.63  ...                 0.00   \n",
       "4             0.31            0.63  ...                 0.00   \n",
       "\n",
       "   char_freq_leftbrac  char_freq_leftsquarebrac  char_freq_exclaim  \\\n",
       "0               0.000                       0.0              0.778   \n",
       "1               0.132                       0.0              0.372   \n",
       "2               0.143                       0.0              0.276   \n",
       "3               0.137                       0.0              0.137   \n",
       "4               0.135                       0.0              0.135   \n",
       "\n",
       "   char_freq_dollar  char_freq_pound  capital_run_length_average  \\\n",
       "0             0.000            0.000                       3.756   \n",
       "1             0.180            0.048                       5.114   \n",
       "2             0.184            0.010                       9.821   \n",
       "3             0.000            0.000                       3.537   \n",
       "4             0.000            0.000                       3.537   \n",
       "\n",
       "   capital_run_length_longest  capital_run_length_total  spam  \n",
       "0                          61                       278     1  \n",
       "1                         101                      1028     1  \n",
       "2                         485                      2259     1  \n",
       "3                          40                       191     1  \n",
       "4                          40                       191     1  \n",
       "\n",
       "[5 rows x 58 columns]"
      ]
     },
     "execution_count": 5,
     "metadata": {},
     "output_type": "execute_result"
    }
   ],
   "source": [
    "data.head()"
   ]
  },
  {
   "cell_type": "markdown",
   "id": "cdeac545",
   "metadata": {},
   "source": [
    "### 1.2. Gestion des données manquantes"
   ]
  },
  {
   "cell_type": "code",
   "execution_count": 6,
   "id": "2223205d",
   "metadata": {},
   "outputs": [
    {
     "name": "stdout",
     "output_type": "stream",
     "text": [
      "MISSING VALUES :\n",
      "No\n"
     ]
    }
   ],
   "source": [
    "missing_percentage = data.isna().mean() * 100\n",
    "\n",
    "print('MISSING VALUES :')\n",
    "if missing_percentage[missing_percentage != 0].empty:\n",
    "    print('No')\n",
    "else:\n",
    "    print(missing_percentage[missing_percentage != 0].sort_values(ascending=False))"
   ]
  },
  {
   "cell_type": "markdown",
   "id": "77362fec",
   "metadata": {},
   "source": [
    "### 1.3. Gestion des variables"
   ]
  },
  {
   "cell_type": "code",
   "execution_count": 7,
   "id": "d4163a9d",
   "metadata": {
    "executionInfo": {
     "elapsed": 5,
     "status": "ok",
     "timestamp": 1737481095043,
     "user": {
      "displayName": "Vincent Lefieux",
      "userId": "10319107985555801415"
     },
     "user_tz": -60
    },
    "id": "d4163a9d"
   },
   "outputs": [],
   "source": [
    "target = 'spam'\n",
    "\n",
    "y = data[target]\n",
    "X = data.drop(target, axis=1)"
   ]
  },
  {
   "cell_type": "markdown",
   "id": "35240a33",
   "metadata": {
    "id": "35240a33"
   },
   "source": [
    "### 1.4. Création des échantillons de validation et test"
   ]
  },
  {
   "cell_type": "code",
   "execution_count": 8,
   "id": "b0194c72",
   "metadata": {
    "executionInfo": {
     "elapsed": 5,
     "status": "ok",
     "timestamp": 1737481095044,
     "user": {
      "displayName": "Vincent Lefieux",
      "userId": "10319107985555801415"
     },
     "user_tz": -60
    },
    "id": "b0194c72"
   },
   "outputs": [
    {
     "name": "stdout",
     "output_type": "stream",
     "text": [
      "Dimensions de X_train : (2944, 57)\n",
      "Dimensions de X_valid : (736, 57)\n",
      "Dimensions de X_test  : (921, 57)\n",
      "Dimensions de y_train : (2944,)\n",
      "Dimensions de y_valid : (736,)\n",
      "Dimensions de y_test  : (921,)\n"
     ]
    }
   ],
   "source": [
    "test_portion  = 1/5\n",
    "valid_portion = 1/5\n",
    "\n",
    "X_train_valid, X_test, y_train_valid, y_test = train_test_split(X, y, test_size=test_portion)\n",
    "\n",
    "X_train, X_valid, y_train, y_valid = train_test_split(X_train_valid, y_train_valid, test_size=valid_portion)\n",
    "\n",
    "print('Dimensions de X_train :', X_train.shape)\n",
    "print('Dimensions de X_valid :', X_valid.shape)\n",
    "print('Dimensions de X_test  :', X_test.shape)\n",
    "\n",
    "print('Dimensions de y_train :', y_train.shape)\n",
    "print('Dimensions de y_valid :', y_valid.shape)\n",
    "print('Dimensions de y_test  :', y_test.shape)"
   ]
  },
  {
   "cell_type": "markdown",
   "id": "7aa08669",
   "metadata": {},
   "source": [
    "### 1.5. Normalisation des covariables"
   ]
  },
  {
   "cell_type": "markdown",
   "id": "11ca259f",
   "metadata": {},
   "source": [
    "On normalise (centrage-réduction) les covariables :"
   ]
  },
  {
   "cell_type": "code",
   "execution_count": 9,
   "id": "31af4e66",
   "metadata": {},
   "outputs": [],
   "source": [
    "scaler = StandardScaler()\n",
    "scaler.fit(X_train)\n",
    "\n",
    "X_train_norm = scaler.transform(X_train)\n",
    "X_valid_norm = scaler.transform(X_valid)\n",
    "X_test_norm  = scaler.transform(X_test)"
   ]
  },
  {
   "cell_type": "markdown",
   "id": "3c417167",
   "metadata": {
    "id": "3c417167"
   },
   "source": [
    "---\n",
    "## 2. DNN\n",
    "---"
   ]
  },
  {
   "cell_type": "markdown",
   "id": "AsoKlq52aSgE",
   "metadata": {
    "id": "AsoKlq52aSgE"
   },
   "source": [
    "### 2.1. Architecture"
   ]
  },
  {
   "cell_type": "code",
   "execution_count": 10,
   "id": "NBXIT_t4zADS",
   "metadata": {
    "colab": {
     "base_uri": "https://localhost:8080/",
     "height": 232
    },
    "executionInfo": {
     "elapsed": 207,
     "status": "ok",
     "timestamp": 1737481095464,
     "user": {
      "displayName": "Vincent Lefieux",
      "userId": "10319107985555801415"
     },
     "user_tz": -60
    },
    "id": "NBXIT_t4zADS",
    "outputId": "ffec227b-2ca3-4cc5-ac7f-5630339e0e0e"
   },
   "outputs": [
    {
     "name": "stdout",
     "output_type": "stream",
     "text": [
      "Model: \"DNN\"\n",
      "_________________________________________________________________\n",
      " Layer (type)                Output Shape              Param #   \n",
      "=================================================================\n",
      " Hidden_layer_1 (Dense)      (None, 50)                2900      \n",
      "                                                                 \n",
      " Hidden_layer_2 (Dense)      (None, 30)                1530      \n",
      "                                                                 \n",
      " Output_layer (Dense)        (None, 1)                 31        \n",
      "                                                                 \n",
      "=================================================================\n",
      "Total params: 4461 (17.43 KB)\n",
      "Trainable params: 4461 (17.43 KB)\n",
      "Non-trainable params: 0 (0.00 Byte)\n",
      "_________________________________________________________________\n"
     ]
    }
   ],
   "source": [
    "dim_inputs  = (X_train_norm.shape[1],)\n",
    "dim_outputs = 1\n",
    "\n",
    "n_units_hl1 = 50\n",
    "n_units_hl2 = 30\n",
    "\n",
    "model = models.Sequential(name='DNN')\n",
    "\n",
    "model.add(layers.Input(shape=dim_inputs, name='Inputs'))\n",
    "\n",
    "model.add(layers.Dense(units=n_units_hl1, activation='relu', name='Hidden_layer_1'))\n",
    "\n",
    "model.add(layers.Dense(units=n_units_hl2, activation='relu', name='Hidden_layer_2'))\n",
    "\n",
    "model.add(layers.Dense(units=dim_outputs, activation='sigmoid', name='Output_layer'))\n",
    "\n",
    "model.summary()"
   ]
  },
  {
   "cell_type": "markdown",
   "id": "ede2d7f0",
   "metadata": {},
   "source": [
    "### 2.2. Optimiseur"
   ]
  },
  {
   "cell_type": "code",
   "execution_count": 11,
   "id": "6f68040a",
   "metadata": {},
   "outputs": [],
   "source": [
    "model.compile(optimizer = 'adam',\n",
    "              loss      = 'binary_crossentropy',\n",
    "              metrics   = ['accuracy'])"
   ]
  },
  {
   "cell_type": "markdown",
   "id": "esidJGKhzqOP",
   "metadata": {
    "id": "esidJGKhzqOP"
   },
   "source": [
    "### 2.3. Entraînement"
   ]
  },
  {
   "cell_type": "code",
   "execution_count": 12,
   "id": "5qGnUuF0zepn",
   "metadata": {
    "executionInfo": {
     "elapsed": 7,
     "status": "ok",
     "timestamp": 1737481095465,
     "user": {
      "displayName": "Vincent Lefieux",
      "userId": "10319107985555801415"
     },
     "user_tz": -60
    },
    "id": "5qGnUuF0zepn"
   },
   "outputs": [
    {
     "name": "stdout",
     "output_type": "stream",
     "text": [
      "Epoch 1/200\n",
      "6/6 [==============================] - 0s 23ms/step - loss: 0.7907 - accuracy: 0.3818 - val_loss: 0.7322 - val_accuracy: 0.4429\n",
      "Epoch 2/200\n",
      "6/6 [==============================] - 0s 4ms/step - loss: 0.6810 - accuracy: 0.5781 - val_loss: 0.6422 - val_accuracy: 0.6698\n",
      "Epoch 3/200\n",
      "6/6 [==============================] - 0s 4ms/step - loss: 0.6060 - accuracy: 0.7408 - val_loss: 0.5745 - val_accuracy: 0.7826\n",
      "Epoch 4/200\n",
      "6/6 [==============================] - 0s 4ms/step - loss: 0.5427 - accuracy: 0.8064 - val_loss: 0.5161 - val_accuracy: 0.8329\n",
      "Epoch 5/200\n",
      "6/6 [==============================] - 0s 4ms/step - loss: 0.4862 - accuracy: 0.8332 - val_loss: 0.4629 - val_accuracy: 0.8573\n",
      "Epoch 6/200\n",
      "6/6 [==============================] - 0s 4ms/step - loss: 0.4355 - accuracy: 0.8471 - val_loss: 0.4143 - val_accuracy: 0.8668\n",
      "Epoch 7/200\n",
      "6/6 [==============================] - 0s 4ms/step - loss: 0.3896 - accuracy: 0.8621 - val_loss: 0.3718 - val_accuracy: 0.8791\n",
      "Epoch 8/200\n",
      "6/6 [==============================] - 0s 4ms/step - loss: 0.3508 - accuracy: 0.8747 - val_loss: 0.3366 - val_accuracy: 0.8818\n",
      "Epoch 9/200\n",
      "6/6 [==============================] - 0s 4ms/step - loss: 0.3189 - accuracy: 0.8832 - val_loss: 0.3089 - val_accuracy: 0.8832\n",
      "Epoch 10/200\n",
      "6/6 [==============================] - 0s 4ms/step - loss: 0.2929 - accuracy: 0.8940 - val_loss: 0.2870 - val_accuracy: 0.8899\n",
      "Epoch 11/200\n",
      "6/6 [==============================] - 0s 4ms/step - loss: 0.2725 - accuracy: 0.9005 - val_loss: 0.2697 - val_accuracy: 0.9022\n",
      "Epoch 12/200\n",
      "6/6 [==============================] - 0s 4ms/step - loss: 0.2550 - accuracy: 0.9103 - val_loss: 0.2562 - val_accuracy: 0.9103\n",
      "Epoch 13/200\n",
      "6/6 [==============================] - 0s 4ms/step - loss: 0.2409 - accuracy: 0.9171 - val_loss: 0.2455 - val_accuracy: 0.9130\n",
      "Epoch 14/200\n",
      "6/6 [==============================] - 0s 4ms/step - loss: 0.2292 - accuracy: 0.9209 - val_loss: 0.2366 - val_accuracy: 0.9158\n",
      "Epoch 15/200\n",
      "6/6 [==============================] - 0s 4ms/step - loss: 0.2192 - accuracy: 0.9226 - val_loss: 0.2292 - val_accuracy: 0.9198\n",
      "Epoch 16/200\n",
      "6/6 [==============================] - 0s 4ms/step - loss: 0.2110 - accuracy: 0.9239 - val_loss: 0.2232 - val_accuracy: 0.9212\n",
      "Epoch 17/200\n",
      "6/6 [==============================] - 0s 4ms/step - loss: 0.2034 - accuracy: 0.9304 - val_loss: 0.2180 - val_accuracy: 0.9212\n",
      "Epoch 18/200\n",
      "6/6 [==============================] - 0s 4ms/step - loss: 0.1973 - accuracy: 0.9324 - val_loss: 0.2137 - val_accuracy: 0.9239\n",
      "Epoch 19/200\n",
      "6/6 [==============================] - 0s 4ms/step - loss: 0.1918 - accuracy: 0.9351 - val_loss: 0.2099 - val_accuracy: 0.9253\n",
      "Epoch 20/200\n",
      "6/6 [==============================] - 0s 8ms/step - loss: 0.1864 - accuracy: 0.9358 - val_loss: 0.2071 - val_accuracy: 0.9253\n",
      "Epoch 21/200\n",
      "6/6 [==============================] - 0s 5ms/step - loss: 0.1818 - accuracy: 0.9358 - val_loss: 0.2044 - val_accuracy: 0.9293\n",
      "Epoch 22/200\n",
      "6/6 [==============================] - 0s 4ms/step - loss: 0.1777 - accuracy: 0.9368 - val_loss: 0.2026 - val_accuracy: 0.9293\n",
      "Epoch 23/200\n",
      "6/6 [==============================] - 0s 4ms/step - loss: 0.1738 - accuracy: 0.9382 - val_loss: 0.2005 - val_accuracy: 0.9293\n",
      "Epoch 24/200\n",
      "6/6 [==============================] - 0s 4ms/step - loss: 0.1704 - accuracy: 0.9389 - val_loss: 0.1983 - val_accuracy: 0.9321\n",
      "Epoch 25/200\n",
      "6/6 [==============================] - 0s 4ms/step - loss: 0.1671 - accuracy: 0.9406 - val_loss: 0.1966 - val_accuracy: 0.9321\n",
      "Epoch 26/200\n",
      "6/6 [==============================] - 0s 4ms/step - loss: 0.1637 - accuracy: 0.9416 - val_loss: 0.1959 - val_accuracy: 0.9321\n",
      "Epoch 27/200\n",
      "6/6 [==============================] - 0s 4ms/step - loss: 0.1611 - accuracy: 0.9423 - val_loss: 0.1951 - val_accuracy: 0.9307\n",
      "Epoch 28/200\n",
      "6/6 [==============================] - 0s 4ms/step - loss: 0.1584 - accuracy: 0.9423 - val_loss: 0.1934 - val_accuracy: 0.9307\n",
      "Epoch 29/200\n",
      "6/6 [==============================] - 0s 4ms/step - loss: 0.1558 - accuracy: 0.9426 - val_loss: 0.1923 - val_accuracy: 0.9293\n",
      "Epoch 30/200\n",
      "6/6 [==============================] - 0s 4ms/step - loss: 0.1534 - accuracy: 0.9433 - val_loss: 0.1919 - val_accuracy: 0.9307\n",
      "Epoch 31/200\n",
      "6/6 [==============================] - 0s 4ms/step - loss: 0.1509 - accuracy: 0.9443 - val_loss: 0.1910 - val_accuracy: 0.9307\n",
      "Epoch 32/200\n",
      "6/6 [==============================] - 0s 4ms/step - loss: 0.1487 - accuracy: 0.9440 - val_loss: 0.1902 - val_accuracy: 0.9293\n",
      "Epoch 33/200\n",
      "6/6 [==============================] - 0s 4ms/step - loss: 0.1466 - accuracy: 0.9463 - val_loss: 0.1900 - val_accuracy: 0.9307\n",
      "Epoch 34/200\n",
      "6/6 [==============================] - 0s 4ms/step - loss: 0.1446 - accuracy: 0.9470 - val_loss: 0.1898 - val_accuracy: 0.9307\n",
      "Epoch 35/200\n",
      "6/6 [==============================] - 0s 4ms/step - loss: 0.1424 - accuracy: 0.9484 - val_loss: 0.1897 - val_accuracy: 0.9321\n",
      "Epoch 36/200\n",
      "6/6 [==============================] - 0s 4ms/step - loss: 0.1404 - accuracy: 0.9484 - val_loss: 0.1894 - val_accuracy: 0.9321\n",
      "Epoch 37/200\n",
      "6/6 [==============================] - 0s 4ms/step - loss: 0.1386 - accuracy: 0.9480 - val_loss: 0.1895 - val_accuracy: 0.9307\n",
      "Epoch 38/200\n",
      "6/6 [==============================] - 0s 4ms/step - loss: 0.1367 - accuracy: 0.9497 - val_loss: 0.1894 - val_accuracy: 0.9307\n",
      "Epoch 39/200\n",
      "6/6 [==============================] - 0s 4ms/step - loss: 0.1351 - accuracy: 0.9497 - val_loss: 0.1889 - val_accuracy: 0.9334\n",
      "Epoch 40/200\n",
      "6/6 [==============================] - 0s 4ms/step - loss: 0.1337 - accuracy: 0.9501 - val_loss: 0.1896 - val_accuracy: 0.9321\n",
      "Epoch 41/200\n",
      "6/6 [==============================] - 0s 4ms/step - loss: 0.1317 - accuracy: 0.9504 - val_loss: 0.1887 - val_accuracy: 0.9334\n",
      "Epoch 42/200\n",
      "6/6 [==============================] - 0s 4ms/step - loss: 0.1302 - accuracy: 0.9514 - val_loss: 0.1893 - val_accuracy: 0.9334\n",
      "Epoch 43/200\n",
      "6/6 [==============================] - 0s 4ms/step - loss: 0.1284 - accuracy: 0.9518 - val_loss: 0.1892 - val_accuracy: 0.9334\n",
      "Epoch 44/200\n",
      "6/6 [==============================] - 0s 4ms/step - loss: 0.1269 - accuracy: 0.9541 - val_loss: 0.1898 - val_accuracy: 0.9334\n",
      "Epoch 45/200\n",
      "6/6 [==============================] - 0s 4ms/step - loss: 0.1253 - accuracy: 0.9541 - val_loss: 0.1899 - val_accuracy: 0.9321\n",
      "Epoch 46/200\n",
      "6/6 [==============================] - 0s 4ms/step - loss: 0.1238 - accuracy: 0.9545 - val_loss: 0.1902 - val_accuracy: 0.9321\n",
      "Epoch 47/200\n",
      "6/6 [==============================] - 0s 4ms/step - loss: 0.1226 - accuracy: 0.9555 - val_loss: 0.1896 - val_accuracy: 0.9334\n",
      "Epoch 48/200\n",
      "6/6 [==============================] - 0s 4ms/step - loss: 0.1212 - accuracy: 0.9565 - val_loss: 0.1910 - val_accuracy: 0.9348\n",
      "Epoch 49/200\n",
      "6/6 [==============================] - 0s 4ms/step - loss: 0.1197 - accuracy: 0.9572 - val_loss: 0.1910 - val_accuracy: 0.9348\n",
      "Epoch 50/200\n",
      "6/6 [==============================] - 0s 8ms/step - loss: 0.1185 - accuracy: 0.9582 - val_loss: 0.1918 - val_accuracy: 0.9348\n",
      "Epoch 51/200\n",
      "6/6 [==============================] - 0s 4ms/step - loss: 0.1171 - accuracy: 0.9582 - val_loss: 0.1915 - val_accuracy: 0.9348\n",
      "Epoch 52/200\n",
      "6/6 [==============================] - 0s 4ms/step - loss: 0.1158 - accuracy: 0.9575 - val_loss: 0.1918 - val_accuracy: 0.9348\n",
      "Epoch 53/200\n",
      "6/6 [==============================] - 0s 4ms/step - loss: 0.1146 - accuracy: 0.9586 - val_loss: 0.1919 - val_accuracy: 0.9348\n",
      "Epoch 54/200\n",
      "6/6 [==============================] - 0s 4ms/step - loss: 0.1134 - accuracy: 0.9586 - val_loss: 0.1930 - val_accuracy: 0.9334\n",
      "Epoch 55/200\n",
      "6/6 [==============================] - 0s 4ms/step - loss: 0.1122 - accuracy: 0.9596 - val_loss: 0.1943 - val_accuracy: 0.9321\n",
      "Epoch 56/200\n",
      "6/6 [==============================] - 0s 4ms/step - loss: 0.1109 - accuracy: 0.9603 - val_loss: 0.1942 - val_accuracy: 0.9321\n",
      "Epoch 57/200\n",
      "6/6 [==============================] - 0s 4ms/step - loss: 0.1099 - accuracy: 0.9599 - val_loss: 0.1939 - val_accuracy: 0.9334\n",
      "Epoch 58/200\n",
      "6/6 [==============================] - 0s 4ms/step - loss: 0.1088 - accuracy: 0.9599 - val_loss: 0.1947 - val_accuracy: 0.9321\n",
      "Epoch 59/200\n",
      "6/6 [==============================] - 0s 4ms/step - loss: 0.1076 - accuracy: 0.9609 - val_loss: 0.1955 - val_accuracy: 0.9321\n",
      "Epoch 60/200\n",
      "6/6 [==============================] - 0s 4ms/step - loss: 0.1065 - accuracy: 0.9616 - val_loss: 0.1956 - val_accuracy: 0.9321\n",
      "Epoch 61/200\n",
      "6/6 [==============================] - 0s 4ms/step - loss: 0.1054 - accuracy: 0.9623 - val_loss: 0.1963 - val_accuracy: 0.9321\n",
      "Epoch 62/200\n",
      "6/6 [==============================] - 0s 4ms/step - loss: 0.1043 - accuracy: 0.9626 - val_loss: 0.1968 - val_accuracy: 0.9307\n",
      "Epoch 63/200\n",
      "6/6 [==============================] - 0s 4ms/step - loss: 0.1031 - accuracy: 0.9626 - val_loss: 0.1974 - val_accuracy: 0.9307\n",
      "Epoch 64/200\n",
      "6/6 [==============================] - 0s 4ms/step - loss: 0.1022 - accuracy: 0.9637 - val_loss: 0.1982 - val_accuracy: 0.9293\n",
      "Epoch 65/200\n",
      "6/6 [==============================] - 0s 4ms/step - loss: 0.1013 - accuracy: 0.9654 - val_loss: 0.1991 - val_accuracy: 0.9293\n",
      "Epoch 66/200\n",
      "6/6 [==============================] - 0s 4ms/step - loss: 0.1001 - accuracy: 0.9650 - val_loss: 0.1991 - val_accuracy: 0.9280\n",
      "Epoch 67/200\n",
      "6/6 [==============================] - 0s 4ms/step - loss: 0.0991 - accuracy: 0.9647 - val_loss: 0.2006 - val_accuracy: 0.9293\n",
      "Epoch 68/200\n",
      "6/6 [==============================] - 0s 4ms/step - loss: 0.0979 - accuracy: 0.9654 - val_loss: 0.2021 - val_accuracy: 0.9280\n",
      "Epoch 69/200\n",
      "6/6 [==============================] - 0s 4ms/step - loss: 0.0970 - accuracy: 0.9657 - val_loss: 0.2020 - val_accuracy: 0.9280\n",
      "Epoch 70/200\n",
      "6/6 [==============================] - 0s 4ms/step - loss: 0.0959 - accuracy: 0.9664 - val_loss: 0.2028 - val_accuracy: 0.9280\n",
      "Epoch 71/200\n",
      "6/6 [==============================] - 0s 4ms/step - loss: 0.0950 - accuracy: 0.9667 - val_loss: 0.2037 - val_accuracy: 0.9266\n",
      "Epoch 72/200\n",
      "6/6 [==============================] - 0s 4ms/step - loss: 0.0941 - accuracy: 0.9674 - val_loss: 0.2045 - val_accuracy: 0.9280\n",
      "Epoch 73/200\n",
      "6/6 [==============================] - 0s 4ms/step - loss: 0.0931 - accuracy: 0.9674 - val_loss: 0.2059 - val_accuracy: 0.9253\n",
      "Epoch 74/200\n",
      "6/6 [==============================] - 0s 4ms/step - loss: 0.0921 - accuracy: 0.9671 - val_loss: 0.2066 - val_accuracy: 0.9266\n",
      "Epoch 75/200\n",
      "6/6 [==============================] - 0s 4ms/step - loss: 0.0912 - accuracy: 0.9677 - val_loss: 0.2067 - val_accuracy: 0.9280\n",
      "Epoch 76/200\n",
      "6/6 [==============================] - 0s 8ms/step - loss: 0.0902 - accuracy: 0.9684 - val_loss: 0.2083 - val_accuracy: 0.9253\n",
      "Epoch 77/200\n",
      "6/6 [==============================] - 0s 5ms/step - loss: 0.0892 - accuracy: 0.9684 - val_loss: 0.2086 - val_accuracy: 0.9266\n",
      "Epoch 78/200\n",
      "6/6 [==============================] - 0s 4ms/step - loss: 0.0882 - accuracy: 0.9688 - val_loss: 0.2091 - val_accuracy: 0.9266\n",
      "Epoch 79/200\n",
      "6/6 [==============================] - 0s 4ms/step - loss: 0.0875 - accuracy: 0.9698 - val_loss: 0.2090 - val_accuracy: 0.9293\n",
      "Epoch 80/200\n",
      "6/6 [==============================] - 0s 4ms/step - loss: 0.0863 - accuracy: 0.9694 - val_loss: 0.2109 - val_accuracy: 0.9280\n",
      "Epoch 81/200\n",
      "6/6 [==============================] - 0s 4ms/step - loss: 0.0856 - accuracy: 0.9718 - val_loss: 0.2113 - val_accuracy: 0.9239\n",
      "Epoch 82/200\n",
      "6/6 [==============================] - 0s 4ms/step - loss: 0.0848 - accuracy: 0.9732 - val_loss: 0.2115 - val_accuracy: 0.9293\n",
      "Epoch 83/200\n",
      "6/6 [==============================] - 0s 4ms/step - loss: 0.0840 - accuracy: 0.9718 - val_loss: 0.2130 - val_accuracy: 0.9280\n",
      "Epoch 84/200\n",
      "6/6 [==============================] - 0s 4ms/step - loss: 0.0830 - accuracy: 0.9728 - val_loss: 0.2125 - val_accuracy: 0.9293\n",
      "Epoch 85/200\n",
      "6/6 [==============================] - 0s 4ms/step - loss: 0.0821 - accuracy: 0.9742 - val_loss: 0.2133 - val_accuracy: 0.9307\n",
      "Epoch 86/200\n",
      "6/6 [==============================] - 0s 4ms/step - loss: 0.0812 - accuracy: 0.9749 - val_loss: 0.2139 - val_accuracy: 0.9293\n",
      "Epoch 87/200\n",
      "6/6 [==============================] - 0s 4ms/step - loss: 0.0806 - accuracy: 0.9742 - val_loss: 0.2142 - val_accuracy: 0.9321\n",
      "Epoch 88/200\n",
      "6/6 [==============================] - 0s 4ms/step - loss: 0.0797 - accuracy: 0.9749 - val_loss: 0.2151 - val_accuracy: 0.9307\n",
      "Epoch 89/200\n",
      "6/6 [==============================] - 0s 4ms/step - loss: 0.0794 - accuracy: 0.9749 - val_loss: 0.2158 - val_accuracy: 0.9307\n",
      "Epoch 90/200\n",
      "6/6 [==============================] - 0s 4ms/step - loss: 0.0780 - accuracy: 0.9752 - val_loss: 0.2150 - val_accuracy: 0.9321\n",
      "Epoch 91/200\n",
      "6/6 [==============================] - 0s 4ms/step - loss: 0.0775 - accuracy: 0.9749 - val_loss: 0.2155 - val_accuracy: 0.9321\n",
      "Epoch 92/200\n",
      "6/6 [==============================] - 0s 4ms/step - loss: 0.0765 - accuracy: 0.9752 - val_loss: 0.2179 - val_accuracy: 0.9348\n",
      "Epoch 93/200\n",
      "6/6 [==============================] - 0s 4ms/step - loss: 0.0759 - accuracy: 0.9755 - val_loss: 0.2174 - val_accuracy: 0.9334\n",
      "Epoch 94/200\n",
      "6/6 [==============================] - 0s 4ms/step - loss: 0.0750 - accuracy: 0.9769 - val_loss: 0.2179 - val_accuracy: 0.9334\n",
      "Epoch 95/200\n",
      "6/6 [==============================] - 0s 4ms/step - loss: 0.0741 - accuracy: 0.9776 - val_loss: 0.2198 - val_accuracy: 0.9361\n",
      "Epoch 96/200\n",
      "6/6 [==============================] - 0s 4ms/step - loss: 0.0736 - accuracy: 0.9772 - val_loss: 0.2197 - val_accuracy: 0.9361\n",
      "Epoch 97/200\n",
      "6/6 [==============================] - 0s 4ms/step - loss: 0.0738 - accuracy: 0.9779 - val_loss: 0.2191 - val_accuracy: 0.9361\n",
      "Epoch 98/200\n",
      "6/6 [==============================] - 0s 4ms/step - loss: 0.0720 - accuracy: 0.9779 - val_loss: 0.2227 - val_accuracy: 0.9361\n",
      "Epoch 99/200\n",
      "6/6 [==============================] - 0s 4ms/step - loss: 0.0714 - accuracy: 0.9779 - val_loss: 0.2211 - val_accuracy: 0.9375\n",
      "Epoch 100/200\n",
      "6/6 [==============================] - 0s 4ms/step - loss: 0.0706 - accuracy: 0.9793 - val_loss: 0.2209 - val_accuracy: 0.9361\n",
      "Epoch 101/200\n",
      "6/6 [==============================] - 0s 4ms/step - loss: 0.0699 - accuracy: 0.9789 - val_loss: 0.2239 - val_accuracy: 0.9389\n",
      "Epoch 102/200\n",
      "6/6 [==============================] - 0s 4ms/step - loss: 0.0694 - accuracy: 0.9786 - val_loss: 0.2244 - val_accuracy: 0.9389\n",
      "Epoch 103/200\n",
      "6/6 [==============================] - 0s 4ms/step - loss: 0.0684 - accuracy: 0.9800 - val_loss: 0.2247 - val_accuracy: 0.9389\n",
      "Epoch 104/200\n",
      "6/6 [==============================] - 0s 8ms/step - loss: 0.0677 - accuracy: 0.9793 - val_loss: 0.2259 - val_accuracy: 0.9389\n",
      "Epoch 105/200\n",
      "6/6 [==============================] - 0s 4ms/step - loss: 0.0673 - accuracy: 0.9793 - val_loss: 0.2272 - val_accuracy: 0.9389\n",
      "Epoch 106/200\n",
      "6/6 [==============================] - 0s 4ms/step - loss: 0.0665 - accuracy: 0.9800 - val_loss: 0.2287 - val_accuracy: 0.9402\n",
      "Epoch 107/200\n",
      "6/6 [==============================] - 0s 4ms/step - loss: 0.0658 - accuracy: 0.9800 - val_loss: 0.2285 - val_accuracy: 0.9389\n",
      "Epoch 108/200\n",
      "6/6 [==============================] - 0s 4ms/step - loss: 0.0652 - accuracy: 0.9813 - val_loss: 0.2283 - val_accuracy: 0.9402\n",
      "Epoch 109/200\n",
      "6/6 [==============================] - 0s 4ms/step - loss: 0.0653 - accuracy: 0.9813 - val_loss: 0.2303 - val_accuracy: 0.9375\n",
      "Epoch 110/200\n",
      "6/6 [==============================] - 0s 4ms/step - loss: 0.0640 - accuracy: 0.9813 - val_loss: 0.2303 - val_accuracy: 0.9402\n",
      "Epoch 111/200\n",
      "6/6 [==============================] - 0s 4ms/step - loss: 0.0635 - accuracy: 0.9813 - val_loss: 0.2337 - val_accuracy: 0.9389\n",
      "Epoch 112/200\n",
      "6/6 [==============================] - 0s 4ms/step - loss: 0.0625 - accuracy: 0.9820 - val_loss: 0.2325 - val_accuracy: 0.9402\n",
      "Epoch 113/200\n",
      "6/6 [==============================] - 0s 4ms/step - loss: 0.0622 - accuracy: 0.9820 - val_loss: 0.2332 - val_accuracy: 0.9416\n",
      "Epoch 114/200\n",
      "6/6 [==============================] - 0s 4ms/step - loss: 0.0614 - accuracy: 0.9827 - val_loss: 0.2366 - val_accuracy: 0.9389\n",
      "Epoch 115/200\n",
      "6/6 [==============================] - 0s 4ms/step - loss: 0.0608 - accuracy: 0.9830 - val_loss: 0.2358 - val_accuracy: 0.9416\n",
      "Epoch 116/200\n",
      "6/6 [==============================] - 0s 4ms/step - loss: 0.0600 - accuracy: 0.9830 - val_loss: 0.2370 - val_accuracy: 0.9416\n",
      "Epoch 117/200\n",
      "6/6 [==============================] - 0s 4ms/step - loss: 0.0596 - accuracy: 0.9827 - val_loss: 0.2382 - val_accuracy: 0.9402\n",
      "Epoch 118/200\n",
      "6/6 [==============================] - 0s 4ms/step - loss: 0.0589 - accuracy: 0.9837 - val_loss: 0.2414 - val_accuracy: 0.9416\n",
      "Epoch 119/200\n",
      "6/6 [==============================] - 0s 4ms/step - loss: 0.0583 - accuracy: 0.9834 - val_loss: 0.2405 - val_accuracy: 0.9416\n",
      "Epoch 120/200\n",
      "6/6 [==============================] - 0s 4ms/step - loss: 0.0580 - accuracy: 0.9837 - val_loss: 0.2417 - val_accuracy: 0.9402\n",
      "Epoch 121/200\n",
      "6/6 [==============================] - 0s 4ms/step - loss: 0.0573 - accuracy: 0.9837 - val_loss: 0.2431 - val_accuracy: 0.9416\n",
      "Epoch 122/200\n",
      "6/6 [==============================] - 0s 4ms/step - loss: 0.0570 - accuracy: 0.9844 - val_loss: 0.2424 - val_accuracy: 0.9402\n",
      "Epoch 123/200\n",
      "6/6 [==============================] - 0s 8ms/step - loss: 0.0562 - accuracy: 0.9837 - val_loss: 0.2458 - val_accuracy: 0.9416\n",
      "Epoch 124/200\n",
      "6/6 [==============================] - 0s 5ms/step - loss: 0.0560 - accuracy: 0.9844 - val_loss: 0.2460 - val_accuracy: 0.9429\n",
      "Epoch 125/200\n",
      "6/6 [==============================] - 0s 4ms/step - loss: 0.0553 - accuracy: 0.9840 - val_loss: 0.2473 - val_accuracy: 0.9429\n",
      "Epoch 126/200\n",
      "6/6 [==============================] - 0s 4ms/step - loss: 0.0547 - accuracy: 0.9857 - val_loss: 0.2504 - val_accuracy: 0.9416\n",
      "Epoch 127/200\n",
      "6/6 [==============================] - 0s 4ms/step - loss: 0.0540 - accuracy: 0.9854 - val_loss: 0.2497 - val_accuracy: 0.9416\n",
      "Epoch 128/200\n",
      "6/6 [==============================] - 0s 4ms/step - loss: 0.0539 - accuracy: 0.9847 - val_loss: 0.2510 - val_accuracy: 0.9416\n",
      "Epoch 129/200\n",
      "6/6 [==============================] - 0s 4ms/step - loss: 0.0530 - accuracy: 0.9864 - val_loss: 0.2511 - val_accuracy: 0.9429\n",
      "Epoch 130/200\n",
      "6/6 [==============================] - 0s 4ms/step - loss: 0.0529 - accuracy: 0.9861 - val_loss: 0.2528 - val_accuracy: 0.9429\n",
      "Epoch 131/200\n",
      "6/6 [==============================] - 0s 4ms/step - loss: 0.0520 - accuracy: 0.9861 - val_loss: 0.2526 - val_accuracy: 0.9416\n",
      "Epoch 132/200\n",
      "6/6 [==============================] - 0s 4ms/step - loss: 0.0517 - accuracy: 0.9857 - val_loss: 0.2553 - val_accuracy: 0.9429\n",
      "Epoch 133/200\n",
      "6/6 [==============================] - 0s 4ms/step - loss: 0.0513 - accuracy: 0.9857 - val_loss: 0.2576 - val_accuracy: 0.9429\n",
      "Epoch 134/200\n",
      "6/6 [==============================] - 0s 4ms/step - loss: 0.0510 - accuracy: 0.9868 - val_loss: 0.2581 - val_accuracy: 0.9429\n",
      "Epoch 135/200\n",
      "6/6 [==============================] - 0s 4ms/step - loss: 0.0506 - accuracy: 0.9857 - val_loss: 0.2597 - val_accuracy: 0.9443\n",
      "Epoch 136/200\n",
      "6/6 [==============================] - 0s 4ms/step - loss: 0.0494 - accuracy: 0.9878 - val_loss: 0.2588 - val_accuracy: 0.9416\n",
      "Epoch 137/200\n",
      "6/6 [==============================] - 0s 4ms/step - loss: 0.0496 - accuracy: 0.9857 - val_loss: 0.2604 - val_accuracy: 0.9429\n",
      "Epoch 138/200\n",
      "6/6 [==============================] - 0s 4ms/step - loss: 0.0490 - accuracy: 0.9878 - val_loss: 0.2625 - val_accuracy: 0.9443\n",
      "Epoch 139/200\n",
      "6/6 [==============================] - 0s 4ms/step - loss: 0.0484 - accuracy: 0.9881 - val_loss: 0.2626 - val_accuracy: 0.9416\n",
      "Epoch 140/200\n",
      "6/6 [==============================] - 0s 4ms/step - loss: 0.0478 - accuracy: 0.9878 - val_loss: 0.2661 - val_accuracy: 0.9416\n",
      "Epoch 141/200\n",
      "6/6 [==============================] - 0s 4ms/step - loss: 0.0477 - accuracy: 0.9881 - val_loss: 0.2663 - val_accuracy: 0.9443\n",
      "Epoch 142/200\n",
      "6/6 [==============================] - 0s 4ms/step - loss: 0.0470 - accuracy: 0.9878 - val_loss: 0.2673 - val_accuracy: 0.9457\n",
      "Epoch 143/200\n",
      "6/6 [==============================] - 0s 4ms/step - loss: 0.0467 - accuracy: 0.9881 - val_loss: 0.2685 - val_accuracy: 0.9457\n",
      "Epoch 144/200\n",
      "6/6 [==============================] - 0s 4ms/step - loss: 0.0465 - accuracy: 0.9878 - val_loss: 0.2694 - val_accuracy: 0.9443\n",
      "Epoch 145/200\n",
      "6/6 [==============================] - 0s 4ms/step - loss: 0.0458 - accuracy: 0.9885 - val_loss: 0.2705 - val_accuracy: 0.9457\n",
      "Epoch 146/200\n",
      "6/6 [==============================] - 0s 4ms/step - loss: 0.0460 - accuracy: 0.9881 - val_loss: 0.2716 - val_accuracy: 0.9443\n",
      "Epoch 147/200\n",
      "6/6 [==============================] - 0s 8ms/step - loss: 0.0457 - accuracy: 0.9878 - val_loss: 0.2764 - val_accuracy: 0.9416\n",
      "Epoch 148/200\n",
      "6/6 [==============================] - 0s 4ms/step - loss: 0.0450 - accuracy: 0.9878 - val_loss: 0.2734 - val_accuracy: 0.9443\n",
      "Epoch 149/200\n",
      "6/6 [==============================] - 0s 4ms/step - loss: 0.0445 - accuracy: 0.9881 - val_loss: 0.2763 - val_accuracy: 0.9457\n",
      "Epoch 150/200\n",
      "6/6 [==============================] - 0s 4ms/step - loss: 0.0445 - accuracy: 0.9885 - val_loss: 0.2784 - val_accuracy: 0.9457\n",
      "Epoch 151/200\n",
      "6/6 [==============================] - 0s 4ms/step - loss: 0.0443 - accuracy: 0.9878 - val_loss: 0.2771 - val_accuracy: 0.9443\n",
      "Epoch 152/200\n",
      "6/6 [==============================] - 0s 4ms/step - loss: 0.0433 - accuracy: 0.9891 - val_loss: 0.2795 - val_accuracy: 0.9443\n",
      "Epoch 153/200\n",
      "6/6 [==============================] - 0s 4ms/step - loss: 0.0430 - accuracy: 0.9878 - val_loss: 0.2796 - val_accuracy: 0.9443\n",
      "Epoch 154/200\n",
      "6/6 [==============================] - 0s 4ms/step - loss: 0.0428 - accuracy: 0.9885 - val_loss: 0.2825 - val_accuracy: 0.9457\n",
      "Epoch 155/200\n",
      "6/6 [==============================] - 0s 4ms/step - loss: 0.0422 - accuracy: 0.9888 - val_loss: 0.2834 - val_accuracy: 0.9457\n",
      "Epoch 156/200\n",
      "6/6 [==============================] - 0s 4ms/step - loss: 0.0418 - accuracy: 0.9891 - val_loss: 0.2842 - val_accuracy: 0.9457\n",
      "Epoch 157/200\n",
      "6/6 [==============================] - 0s 4ms/step - loss: 0.0420 - accuracy: 0.9895 - val_loss: 0.2853 - val_accuracy: 0.9457\n",
      "Epoch 158/200\n",
      "6/6 [==============================] - 0s 4ms/step - loss: 0.0417 - accuracy: 0.9891 - val_loss: 0.2861 - val_accuracy: 0.9457\n",
      "Epoch 159/200\n",
      "6/6 [==============================] - 0s 4ms/step - loss: 0.0413 - accuracy: 0.9898 - val_loss: 0.2897 - val_accuracy: 0.9443\n",
      "Epoch 160/200\n",
      "6/6 [==============================] - 0s 4ms/step - loss: 0.0413 - accuracy: 0.9888 - val_loss: 0.2882 - val_accuracy: 0.9443\n",
      "Epoch 161/200\n",
      "6/6 [==============================] - 0s 4ms/step - loss: 0.0405 - accuracy: 0.9891 - val_loss: 0.2925 - val_accuracy: 0.9429\n",
      "Epoch 162/200\n",
      "6/6 [==============================] - 0s 4ms/step - loss: 0.0401 - accuracy: 0.9885 - val_loss: 0.2911 - val_accuracy: 0.9443\n",
      "Epoch 163/200\n",
      "6/6 [==============================] - 0s 4ms/step - loss: 0.0396 - accuracy: 0.9891 - val_loss: 0.2934 - val_accuracy: 0.9457\n",
      "Epoch 164/200\n",
      "6/6 [==============================] - 0s 4ms/step - loss: 0.0392 - accuracy: 0.9898 - val_loss: 0.2935 - val_accuracy: 0.9457\n",
      "Epoch 165/200\n",
      "6/6 [==============================] - 0s 4ms/step - loss: 0.0390 - accuracy: 0.9891 - val_loss: 0.2956 - val_accuracy: 0.9429\n",
      "Epoch 166/200\n",
      "6/6 [==============================] - 0s 4ms/step - loss: 0.0385 - accuracy: 0.9895 - val_loss: 0.2955 - val_accuracy: 0.9457\n",
      "Epoch 167/200\n",
      "6/6 [==============================] - 0s 4ms/step - loss: 0.0383 - accuracy: 0.9895 - val_loss: 0.2983 - val_accuracy: 0.9443\n",
      "Epoch 168/200\n",
      "6/6 [==============================] - 0s 4ms/step - loss: 0.0379 - accuracy: 0.9901 - val_loss: 0.2987 - val_accuracy: 0.9457\n",
      "Epoch 169/200\n",
      "6/6 [==============================] - 0s 4ms/step - loss: 0.0377 - accuracy: 0.9898 - val_loss: 0.2992 - val_accuracy: 0.9457\n",
      "Epoch 170/200\n",
      "6/6 [==============================] - 0s 8ms/step - loss: 0.0372 - accuracy: 0.9898 - val_loss: 0.3018 - val_accuracy: 0.9457\n",
      "Epoch 171/200\n",
      "6/6 [==============================] - 0s 4ms/step - loss: 0.0373 - accuracy: 0.9898 - val_loss: 0.3026 - val_accuracy: 0.9457\n",
      "Epoch 172/200\n",
      "6/6 [==============================] - 0s 4ms/step - loss: 0.0376 - accuracy: 0.9891 - val_loss: 0.3024 - val_accuracy: 0.9443\n",
      "Epoch 173/200\n",
      "6/6 [==============================] - 0s 4ms/step - loss: 0.0365 - accuracy: 0.9895 - val_loss: 0.3067 - val_accuracy: 0.9443\n",
      "Epoch 174/200\n",
      "6/6 [==============================] - 0s 4ms/step - loss: 0.0362 - accuracy: 0.9895 - val_loss: 0.3048 - val_accuracy: 0.9443\n",
      "Epoch 175/200\n",
      "6/6 [==============================] - 0s 4ms/step - loss: 0.0360 - accuracy: 0.9901 - val_loss: 0.3076 - val_accuracy: 0.9457\n",
      "Epoch 176/200\n",
      "6/6 [==============================] - 0s 4ms/step - loss: 0.0356 - accuracy: 0.9898 - val_loss: 0.3089 - val_accuracy: 0.9470\n",
      "Epoch 177/200\n",
      "6/6 [==============================] - 0s 4ms/step - loss: 0.0359 - accuracy: 0.9901 - val_loss: 0.3086 - val_accuracy: 0.9443\n",
      "Epoch 178/200\n",
      "6/6 [==============================] - 0s 4ms/step - loss: 0.0355 - accuracy: 0.9901 - val_loss: 0.3131 - val_accuracy: 0.9429\n",
      "Epoch 179/200\n",
      "6/6 [==============================] - 0s 4ms/step - loss: 0.0346 - accuracy: 0.9905 - val_loss: 0.3107 - val_accuracy: 0.9443\n",
      "Epoch 180/200\n",
      "6/6 [==============================] - 0s 4ms/step - loss: 0.0349 - accuracy: 0.9898 - val_loss: 0.3143 - val_accuracy: 0.9457\n",
      "Epoch 181/200\n",
      "6/6 [==============================] - 0s 4ms/step - loss: 0.0342 - accuracy: 0.9898 - val_loss: 0.3140 - val_accuracy: 0.9457\n",
      "Epoch 182/200\n",
      "6/6 [==============================] - 0s 4ms/step - loss: 0.0339 - accuracy: 0.9905 - val_loss: 0.3159 - val_accuracy: 0.9470\n",
      "Epoch 183/200\n",
      "6/6 [==============================] - 0s 4ms/step - loss: 0.0335 - accuracy: 0.9898 - val_loss: 0.3176 - val_accuracy: 0.9470\n",
      "Epoch 184/200\n",
      "6/6 [==============================] - 0s 4ms/step - loss: 0.0334 - accuracy: 0.9898 - val_loss: 0.3179 - val_accuracy: 0.9470\n",
      "Epoch 185/200\n",
      "6/6 [==============================] - 0s 4ms/step - loss: 0.0332 - accuracy: 0.9901 - val_loss: 0.3197 - val_accuracy: 0.9470\n",
      "Epoch 186/200\n",
      "6/6 [==============================] - 0s 4ms/step - loss: 0.0327 - accuracy: 0.9901 - val_loss: 0.3215 - val_accuracy: 0.9457\n",
      "Epoch 187/200\n",
      "6/6 [==============================] - 0s 4ms/step - loss: 0.0326 - accuracy: 0.9905 - val_loss: 0.3231 - val_accuracy: 0.9470\n",
      "Epoch 188/200\n",
      "6/6 [==============================] - 0s 4ms/step - loss: 0.0324 - accuracy: 0.9912 - val_loss: 0.3244 - val_accuracy: 0.9457\n",
      "Epoch 189/200\n",
      "6/6 [==============================] - 0s 4ms/step - loss: 0.0321 - accuracy: 0.9912 - val_loss: 0.3262 - val_accuracy: 0.9470\n",
      "Epoch 190/200\n",
      "6/6 [==============================] - 0s 4ms/step - loss: 0.0318 - accuracy: 0.9905 - val_loss: 0.3267 - val_accuracy: 0.9470\n",
      "Epoch 191/200\n",
      "6/6 [==============================] - 0s 4ms/step - loss: 0.0318 - accuracy: 0.9908 - val_loss: 0.3277 - val_accuracy: 0.9470\n",
      "Epoch 192/200\n",
      "6/6 [==============================] - 0s 8ms/step - loss: 0.0315 - accuracy: 0.9898 - val_loss: 0.3286 - val_accuracy: 0.9457\n",
      "Epoch 193/200\n",
      "6/6 [==============================] - 0s 5ms/step - loss: 0.0311 - accuracy: 0.9908 - val_loss: 0.3305 - val_accuracy: 0.9470\n",
      "Epoch 194/200\n",
      "6/6 [==============================] - 0s 4ms/step - loss: 0.0312 - accuracy: 0.9918 - val_loss: 0.3312 - val_accuracy: 0.9457\n",
      "Epoch 195/200\n",
      "6/6 [==============================] - 0s 4ms/step - loss: 0.0311 - accuracy: 0.9908 - val_loss: 0.3336 - val_accuracy: 0.9457\n",
      "Epoch 196/200\n",
      "6/6 [==============================] - 0s 4ms/step - loss: 0.0308 - accuracy: 0.9905 - val_loss: 0.3336 - val_accuracy: 0.9457\n",
      "Epoch 197/200\n",
      "6/6 [==============================] - 0s 4ms/step - loss: 0.0306 - accuracy: 0.9908 - val_loss: 0.3361 - val_accuracy: 0.9443\n",
      "Epoch 198/200\n",
      "6/6 [==============================] - 0s 4ms/step - loss: 0.0300 - accuracy: 0.9922 - val_loss: 0.3360 - val_accuracy: 0.9457\n",
      "Epoch 199/200\n",
      "6/6 [==============================] - 0s 4ms/step - loss: 0.0299 - accuracy: 0.9918 - val_loss: 0.3401 - val_accuracy: 0.9457\n",
      "Epoch 200/200\n",
      "6/6 [==============================] - 0s 4ms/step - loss: 0.0298 - accuracy: 0.9905 - val_loss: 0.3415 - val_accuracy: 0.9457\n"
     ]
    }
   ],
   "source": [
    "hist = model.fit(X_train_norm,\n",
    "                 y_train,\n",
    "                 batch_size      = 500,\n",
    "                 epochs          = 200,\n",
    "                 validation_data = (X_valid_norm, y_valid),\n",
    "                 verbose         = 1)"
   ]
  },
  {
   "cell_type": "code",
   "execution_count": 13,
   "id": "6862d338",
   "metadata": {},
   "outputs": [
    {
     "data": {
      "image/png": "[encoded data removed]",
      "text/plain": [
       "<Figure size 1000x700 with 1 Axes>"
      ]
     },
     "metadata": {},
     "output_type": "display_data"
    }
   ],
   "source": [
    "fig, ax = plt.subplots(figsize=(10, 7))\n",
    "ax.plot(hist.history['loss'], label='Train')\n",
    "ax.plot(hist.history['val_loss'], label='Validation')\n",
    "ax.set_xlabel('Epoque')\n",
    "ax.set_title('Entropie')\n",
    "ax.legend(loc='best')\n",
    "plt.show()"
   ]
  },
  {
   "cell_type": "code",
   "execution_count": 14,
   "id": "c1df3cf5",
   "metadata": {},
   "outputs": [
    {
     "data": {
      "image/png": "[encoded data removed]",
      "text/plain": [
       "<Figure size 1000x700 with 1 Axes>"
      ]
     },
     "metadata": {},
     "output_type": "display_data"
    }
   ],
   "source": [
    "fig, ax = plt.subplots(figsize=(10, 7))\n",
    "ax.plot(hist.history['accuracy'], label='Train')\n",
    "ax.plot(hist.history['val_accuracy'], label='Validation')\n",
    "ax.set_xlabel('Epoque')\n",
    "ax.set_title('Exactitude (accuracy)')\n",
    "ax.legend(loc='best')\n",
    "plt.show()"
   ]
  },
  {
   "cell_type": "markdown",
   "id": "xDVBc_8e2RMm",
   "metadata": {
    "id": "xDVBc_8e2RMm"
   },
   "source": [
    "### 2.4. Prévisions"
   ]
  },
  {
   "cell_type": "code",
   "execution_count": 15,
   "id": "a10dac17",
   "metadata": {},
   "outputs": [
    {
     "name": "stdout",
     "output_type": "stream",
     "text": [
      "29/29 [==============================] - 0s 495us/step\n"
     ]
    },
    {
     "data": {
      "text/plain": [
       "array([[3.0083235e-08],\n",
       "       [9.9999791e-01],\n",
       "       [8.3616003e-04],\n",
       "       [6.8414705e-03],\n",
       "       [1.5535491e-08]], dtype=float32)"
      ]
     },
     "execution_count": 15,
     "metadata": {},
     "output_type": "execute_result"
    }
   ],
   "source": [
    "y_test_pred = model.predict(X_test_norm)\n",
    "y_test_pred[0:5]"
   ]
  },
  {
   "cell_type": "code",
   "execution_count": 16,
   "id": "4541875f",
   "metadata": {},
   "outputs": [
    {
     "data": {
      "text/plain": [
       "array([[0],\n",
       "       [1],\n",
       "       [0],\n",
       "       [0],\n",
       "       [0]])"
      ]
     },
     "execution_count": 16,
     "metadata": {},
     "output_type": "execute_result"
    }
   ],
   "source": [
    "y_test_pred_classes = (y_test_pred > 0.5).astype(int)\n",
    "y_test_pred_classes[0:5]"
   ]
  },
  {
   "cell_type": "code",
   "execution_count": 17,
   "id": "KKPrPqs7vrle",
   "metadata": {
    "colab": {
     "base_uri": "https://localhost:8080/"
    },
    "executionInfo": {
     "elapsed": 227,
     "status": "ok",
     "timestamp": 1737481122942,
     "user": {
      "displayName": "Vincent Lefieux",
      "userId": "10319107985555801415"
     },
     "user_tz": -60
    },
    "id": "KKPrPqs7vrle",
    "outputId": "1dcc248f-4a85-4e7b-9f4a-b4b0c968ded4"
   },
   "outputs": [
    {
     "name": "stdout",
     "output_type": "stream",
     "text": [
      "Entropie test   : 0.3713\n",
      "Exactitude test : 0.9359\n"
     ]
    }
   ],
   "source": [
    "score_test = model.evaluate(X_test_norm, y_test, verbose=0)\n",
    "print(f'Entropie test   : {score_test[0]:4.4f}')\n",
    "print(f'Exactitude test : {score_test[1]:4.4f}')"
   ]
  }
 ],
 "metadata": {
  "colab": {
   "provenance": [
    {
     "file_id": "1ju9vnC9zihIkNoVWtuP8TIWd2_b0aR55",
     "timestamp": 1707309158183
    }
   ]
  },
  "kernelspec": {
   "display_name": "base",
   "language": "python",
   "name": "python3"
  },
  "language_info": {
   "codemirror_mode": {
    "name": "ipython",
    "version": 3
   },
   "file_extension": ".py",
   "mimetype": "text/x-python",
   "name": "python",
   "nbconvert_exporter": "python",
   "pygments_lexer": "ipython3",
   "version": "3.11.8"
  },
  "toc": {
   "base_numbering": 1,
   "nav_menu": {},
   "number_sections": true,
   "sideBar": true,
   "skip_h1_title": false,
   "title_cell": "Table des matières",
   "title_sidebar": "",
   "toc_cell": false,
   "toc_position": {},
   "toc_section_display": true,
   "toc_window_display": true
  }
 },
 "nbformat": 4,
 "nbformat_minor": 5
}
