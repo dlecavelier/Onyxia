{
 "cells": [
  {
   "cell_type": "markdown",
   "id": "sSlSNazw2RMj",
   "metadata": {
    "id": "sSlSNazw2RMj"
   },
   "source": [
    "---\n",
    "# DNN : `spam` (avec `Keras`, ajout d'un \"callback\")\n",
    "---"
   ]
  },
  {
   "cell_type": "markdown",
   "id": "OaeB8ZNu2RMk",
   "metadata": {
    "id": "OaeB8ZNu2RMk"
   },
   "source": [
    "## Packages"
   ]
  },
  {
   "cell_type": "code",
   "execution_count": 1,
   "id": "1b57f5db",
   "metadata": {
    "id": "1b57f5db"
   },
   "outputs": [],
   "source": [
    "import pandas as pd\n",
    "\n",
    "from sklearn.model_selection import train_test_split\n",
    "from sklearn.preprocessing import StandardScaler\n",
    "\n",
    "from keras import callbacks, layers, models"
   ]
  },
  {
   "cell_type": "markdown",
   "id": "iI8OC0OP2RMl",
   "metadata": {
    "id": "iI8OC0OP2RMl"
   },
   "source": [
    "---\n",
    "## 1. Données\n",
    "---"
   ]
  },
  {
   "cell_type": "markdown",
   "id": "jfTcXyEdZ8Yb",
   "metadata": {
    "id": "jfTcXyEdZ8Yb"
   },
   "source": [
    "### 1.1. Importation"
   ]
  },
  {
   "cell_type": "code",
   "execution_count": 2,
   "id": "03906f06",
   "metadata": {},
   "outputs": [],
   "source": [
    "# En local :\n",
    "directory = '/Users/vincentlefieux/Dropbox/Docs_ACADEMIQUE/Data/'\n",
    "\n",
    "# Sur Google collab ou Onyxia (sur un répertoire temporaire) :\n",
    "# directory = ''\n",
    "\n",
    "# Sur Google collab (sur le drive) :\n",
    "# from google.colab import drive\n",
    "# drive.mount('/content/drive')\n",
    "# directory = '/content/drive/MyDrive/Data/'"
   ]
  },
  {
   "cell_type": "code",
   "execution_count": 3,
   "id": "fd334c27",
   "metadata": {
    "colab": {
     "base_uri": "https://localhost:8080/"
    },
    "executionInfo": {
     "elapsed": 6,
     "status": "ok",
     "timestamp": 1737479555810,
     "user": {
      "displayName": "Vincent Lefieux",
      "userId": "10319107985555801415"
     },
     "user_tz": -60
    },
    "id": "fd334c27",
    "outputId": "100d6919-33b8-4e90-e068-a4abc4f25140"
   },
   "outputs": [],
   "source": [
    "data = pd.read_csv(directory + 'spam.csv',\n",
    "                   header    = 0,\n",
    "                   # index_col = 0,\n",
    "                   sep       = ',',\n",
    "                   decimal   = '.')"
   ]
  },
  {
   "cell_type": "code",
   "execution_count": 4,
   "id": "4256d757",
   "metadata": {},
   "outputs": [
    {
     "name": "stdout",
     "output_type": "stream",
     "text": [
      "<class 'pandas.core.frame.DataFrame'>\n",
      "RangeIndex: 4601 entries, 0 to 4600\n",
      "Data columns (total 58 columns):\n",
      " #   Column                      Non-Null Count  Dtype  \n",
      "---  ------                      --------------  -----  \n",
      " 0   word_freq_make              4601 non-null   float64\n",
      " 1   word_freq_address           4601 non-null   float64\n",
      " 2   word_freq_all               4601 non-null   float64\n",
      " 3   word_freq_3d                4601 non-null   float64\n",
      " 4   word_freq_our               4601 non-null   float64\n",
      " 5   word_freq_over              4601 non-null   float64\n",
      " 6   word_freq_remove            4601 non-null   float64\n",
      " 7   word_freq_internet          4601 non-null   float64\n",
      " 8   word_freq_order             4601 non-null   float64\n",
      " 9   word_freq_mail              4601 non-null   float64\n",
      " 10  word_freq_receive           4601 non-null   float64\n",
      " 11  word_freq_will              4601 non-null   float64\n",
      " 12  word_freq_people            4601 non-null   float64\n",
      " 13  word_freq_report            4601 non-null   float64\n",
      " 14  word_freq_addresses         4601 non-null   float64\n",
      " 15  word_freq_free              4601 non-null   float64\n",
      " 16  word_freq_business          4601 non-null   float64\n",
      " 17  word_freq_email             4601 non-null   float64\n",
      " 18  word_freq_you               4601 non-null   float64\n",
      " 19  word_freq_credit            4601 non-null   float64\n",
      " 20  word_freq_your              4601 non-null   float64\n",
      " 21  word_freq_font              4601 non-null   float64\n",
      " 22  word_freq_000               4601 non-null   float64\n",
      " 23  word_freq_money             4601 non-null   float64\n",
      " 24  word_freq_hp                4601 non-null   float64\n",
      " 25  word_freq_hpl               4601 non-null   float64\n",
      " 26  word_freq_george            4601 non-null   float64\n",
      " 27  word_freq_650               4601 non-null   float64\n",
      " 28  word_freq_lab               4601 non-null   float64\n",
      " 29  word_freq_labs              4601 non-null   float64\n",
      " 30  word_freq_telnet            4601 non-null   float64\n",
      " 31  word_freq_857               4601 non-null   float64\n",
      " 32  word_freq_data              4601 non-null   float64\n",
      " 33  word_freq_415               4601 non-null   float64\n",
      " 34  word_freq_85                4601 non-null   float64\n",
      " 35  word_freq_technology        4601 non-null   float64\n",
      " 36  word_freq_1999              4601 non-null   float64\n",
      " 37  word_freq_parts             4601 non-null   float64\n",
      " 38  word_freq_pm                4601 non-null   float64\n",
      " 39  word_freq_direct            4601 non-null   float64\n",
      " 40  word_freq_cs                4601 non-null   float64\n",
      " 41  word_freq_meeting           4601 non-null   float64\n",
      " 42  word_freq_original          4601 non-null   float64\n",
      " 43  word_freq_project           4601 non-null   float64\n",
      " 44  word_freq_re                4601 non-null   float64\n",
      " 45  word_freq_edu               4601 non-null   float64\n",
      " 46  word_freq_table             4601 non-null   float64\n",
      " 47  word_freq_conference        4601 non-null   float64\n",
      " 48  char_freq_semicolon         4601 non-null   float64\n",
      " 49  char_freq_leftbrac          4601 non-null   float64\n",
      " 50  char_freq_leftsquarebrac    4601 non-null   float64\n",
      " 51  char_freq_exclaim           4601 non-null   float64\n",
      " 52  char_freq_dollar            4601 non-null   float64\n",
      " 53  char_freq_pound             4601 non-null   float64\n",
      " 54  capital_run_length_average  4601 non-null   float64\n",
      " 55  capital_run_length_longest  4601 non-null   int64  \n",
      " 56  capital_run_length_total    4601 non-null   int64  \n",
      " 57  spam                        4601 non-null   int64  \n",
      "dtypes: float64(55), int64(3)\n",
      "memory usage: 2.0 MB\n"
     ]
    }
   ],
   "source": [
    "data.info()"
   ]
  },
  {
   "cell_type": "code",
   "execution_count": 5,
   "id": "7a35e511",
   "metadata": {},
   "outputs": [
    {
     "data": {
      "text/html": [
       "<div>\n",
       "<style scoped>\n",
       "    .dataframe tbody tr th:only-of-type {\n",
       "        vertical-align: middle;\n",
       "    }\n",
       "\n",
       "    .dataframe tbody tr th {\n",
       "        vertical-align: top;\n",
       "    }\n",
       "\n",
       "    .dataframe thead th {\n",
       "        text-align: right;\n",
       "    }\n",
       "</style>\n",
       "<table border=\"1\" class=\"dataframe\">\n",
       "  <thead>\n",
       "    <tr style=\"text-align: right;\">\n",
       "      <th></th>\n",
       "      <th>word_freq_make</th>\n",
       "      <th>word_freq_address</th>\n",
       "      <th>word_freq_all</th>\n",
       "      <th>word_freq_3d</th>\n",
       "      <th>word_freq_our</th>\n",
       "      <th>word_freq_over</th>\n",
       "      <th>word_freq_remove</th>\n",
       "      <th>word_freq_internet</th>\n",
       "      <th>word_freq_order</th>\n",
       "      <th>word_freq_mail</th>\n",
       "      <th>...</th>\n",
       "      <th>char_freq_semicolon</th>\n",
       "      <th>char_freq_leftbrac</th>\n",
       "      <th>char_freq_leftsquarebrac</th>\n",
       "      <th>char_freq_exclaim</th>\n",
       "      <th>char_freq_dollar</th>\n",
       "      <th>char_freq_pound</th>\n",
       "      <th>capital_run_length_average</th>\n",
       "      <th>capital_run_length_longest</th>\n",
       "      <th>capital_run_length_total</th>\n",
       "      <th>spam</th>\n",
       "    </tr>\n",
       "  </thead>\n",
       "  <tbody>\n",
       "    <tr>\n",
       "      <th>0</th>\n",
       "      <td>0.00</td>\n",
       "      <td>0.64</td>\n",
       "      <td>0.64</td>\n",
       "      <td>0.0</td>\n",
       "      <td>0.32</td>\n",
       "      <td>0.00</td>\n",
       "      <td>0.00</td>\n",
       "      <td>0.00</td>\n",
       "      <td>0.00</td>\n",
       "      <td>0.00</td>\n",
       "      <td>...</td>\n",
       "      <td>0.00</td>\n",
       "      <td>0.000</td>\n",
       "      <td>0.0</td>\n",
       "      <td>0.778</td>\n",
       "      <td>0.000</td>\n",
       "      <td>0.000</td>\n",
       "      <td>3.756</td>\n",
       "      <td>61</td>\n",
       "      <td>278</td>\n",
       "      <td>1</td>\n",
       "    </tr>\n",
       "    <tr>\n",
       "      <th>1</th>\n",
       "      <td>0.21</td>\n",
       "      <td>0.28</td>\n",
       "      <td>0.50</td>\n",
       "      <td>0.0</td>\n",
       "      <td>0.14</td>\n",
       "      <td>0.28</td>\n",
       "      <td>0.21</td>\n",
       "      <td>0.07</td>\n",
       "      <td>0.00</td>\n",
       "      <td>0.94</td>\n",
       "      <td>...</td>\n",
       "      <td>0.00</td>\n",
       "      <td>0.132</td>\n",
       "      <td>0.0</td>\n",
       "      <td>0.372</td>\n",
       "      <td>0.180</td>\n",
       "      <td>0.048</td>\n",
       "      <td>5.114</td>\n",
       "      <td>101</td>\n",
       "      <td>1028</td>\n",
       "      <td>1</td>\n",
       "    </tr>\n",
       "    <tr>\n",
       "      <th>2</th>\n",
       "      <td>0.06</td>\n",
       "      <td>0.00</td>\n",
       "      <td>0.71</td>\n",
       "      <td>0.0</td>\n",
       "      <td>1.23</td>\n",
       "      <td>0.19</td>\n",
       "      <td>0.19</td>\n",
       "      <td>0.12</td>\n",
       "      <td>0.64</td>\n",
       "      <td>0.25</td>\n",
       "      <td>...</td>\n",
       "      <td>0.01</td>\n",
       "      <td>0.143</td>\n",
       "      <td>0.0</td>\n",
       "      <td>0.276</td>\n",
       "      <td>0.184</td>\n",
       "      <td>0.010</td>\n",
       "      <td>9.821</td>\n",
       "      <td>485</td>\n",
       "      <td>2259</td>\n",
       "      <td>1</td>\n",
       "    </tr>\n",
       "    <tr>\n",
       "      <th>3</th>\n",
       "      <td>0.00</td>\n",
       "      <td>0.00</td>\n",
       "      <td>0.00</td>\n",
       "      <td>0.0</td>\n",
       "      <td>0.63</td>\n",
       "      <td>0.00</td>\n",
       "      <td>0.31</td>\n",
       "      <td>0.63</td>\n",
       "      <td>0.31</td>\n",
       "      <td>0.63</td>\n",
       "      <td>...</td>\n",
       "      <td>0.00</td>\n",
       "      <td>0.137</td>\n",
       "      <td>0.0</td>\n",
       "      <td>0.137</td>\n",
       "      <td>0.000</td>\n",
       "      <td>0.000</td>\n",
       "      <td>3.537</td>\n",
       "      <td>40</td>\n",
       "      <td>191</td>\n",
       "      <td>1</td>\n",
       "    </tr>\n",
       "    <tr>\n",
       "      <th>4</th>\n",
       "      <td>0.00</td>\n",
       "      <td>0.00</td>\n",
       "      <td>0.00</td>\n",
       "      <td>0.0</td>\n",
       "      <td>0.63</td>\n",
       "      <td>0.00</td>\n",
       "      <td>0.31</td>\n",
       "      <td>0.63</td>\n",
       "      <td>0.31</td>\n",
       "      <td>0.63</td>\n",
       "      <td>...</td>\n",
       "      <td>0.00</td>\n",
       "      <td>0.135</td>\n",
       "      <td>0.0</td>\n",
       "      <td>0.135</td>\n",
       "      <td>0.000</td>\n",
       "      <td>0.000</td>\n",
       "      <td>3.537</td>\n",
       "      <td>40</td>\n",
       "      <td>191</td>\n",
       "      <td>1</td>\n",
       "    </tr>\n",
       "  </tbody>\n",
       "</table>\n",
       "<p>5 rows × 58 columns</p>\n",
       "</div>"
      ],
      "text/plain": [
       "   word_freq_make  word_freq_address  word_freq_all  word_freq_3d  \\\n",
       "0            0.00               0.64           0.64           0.0   \n",
       "1            0.21               0.28           0.50           0.0   \n",
       "2            0.06               0.00           0.71           0.0   \n",
       "3            0.00               0.00           0.00           0.0   \n",
       "4            0.00               0.00           0.00           0.0   \n",
       "\n",
       "   word_freq_our  word_freq_over  word_freq_remove  word_freq_internet  \\\n",
       "0           0.32            0.00              0.00                0.00   \n",
       "1           0.14            0.28              0.21                0.07   \n",
       "2           1.23            0.19              0.19                0.12   \n",
       "3           0.63            0.00              0.31                0.63   \n",
       "4           0.63            0.00              0.31                0.63   \n",
       "\n",
       "   word_freq_order  word_freq_mail  ...  char_freq_semicolon  \\\n",
       "0             0.00            0.00  ...                 0.00   \n",
       "1             0.00            0.94  ...                 0.00   \n",
       "2             0.64            0.25  ...                 0.01   \n",
       "3             0.31            0.63  ...                 0.00   \n",
       "4             0.31            0.63  ...                 0.00   \n",
       "\n",
       "   char_freq_leftbrac  char_freq_leftsquarebrac  char_freq_exclaim  \\\n",
       "0               0.000                       0.0              0.778   \n",
       "1               0.132                       0.0              0.372   \n",
       "2               0.143                       0.0              0.276   \n",
       "3               0.137                       0.0              0.137   \n",
       "4               0.135                       0.0              0.135   \n",
       "\n",
       "   char_freq_dollar  char_freq_pound  capital_run_length_average  \\\n",
       "0             0.000            0.000                       3.756   \n",
       "1             0.180            0.048                       5.114   \n",
       "2             0.184            0.010                       9.821   \n",
       "3             0.000            0.000                       3.537   \n",
       "4             0.000            0.000                       3.537   \n",
       "\n",
       "   capital_run_length_longest  capital_run_length_total  spam  \n",
       "0                          61                       278     1  \n",
       "1                         101                      1028     1  \n",
       "2                         485                      2259     1  \n",
       "3                          40                       191     1  \n",
       "4                          40                       191     1  \n",
       "\n",
       "[5 rows x 58 columns]"
      ]
     },
     "execution_count": 5,
     "metadata": {},
     "output_type": "execute_result"
    }
   ],
   "source": [
    "data.head()"
   ]
  },
  {
   "cell_type": "markdown",
   "id": "10367693",
   "metadata": {},
   "source": [
    "### 1.2. Gestion des données manquantes"
   ]
  },
  {
   "cell_type": "code",
   "execution_count": 6,
   "id": "566707cd",
   "metadata": {},
   "outputs": [
    {
     "name": "stdout",
     "output_type": "stream",
     "text": [
      "MISSING VALUES :\n",
      "No\n"
     ]
    }
   ],
   "source": [
    "missing_percentage = data.isna().mean() * 100\n",
    "\n",
    "print('MISSING VALUES :')\n",
    "if missing_percentage[missing_percentage != 0].empty:\n",
    "    print('No')\n",
    "else:\n",
    "    print(missing_percentage[missing_percentage != 0].sort_values(ascending=False))"
   ]
  },
  {
   "cell_type": "markdown",
   "id": "efc3d8ff",
   "metadata": {},
   "source": [
    "### 1.3. Gestion des variables"
   ]
  },
  {
   "cell_type": "code",
   "execution_count": 7,
   "id": "d4163a9d",
   "metadata": {
    "id": "d4163a9d"
   },
   "outputs": [],
   "source": [
    "target = 'spam'\n",
    "\n",
    "y = data[target]\n",
    "X = data.drop(target, axis=1)"
   ]
  },
  {
   "cell_type": "markdown",
   "id": "35240a33",
   "metadata": {
    "id": "35240a33"
   },
   "source": [
    "### 1.4. Création des échantillons de validation et test"
   ]
  },
  {
   "cell_type": "code",
   "execution_count": 8,
   "id": "b0194c72",
   "metadata": {
    "id": "b0194c72"
   },
   "outputs": [
    {
     "name": "stdout",
     "output_type": "stream",
     "text": [
      "Dimensions de X_train : (2944, 57)\n",
      "Dimensions de X_valid : (736, 57)\n",
      "Dimensions de X_test  : (921, 57)\n",
      "Dimensions de y_train : (2944,)\n",
      "Dimensions de y_valid : (736,)\n",
      "Dimensions de y_test  : (921,)\n"
     ]
    }
   ],
   "source": [
    "test_portion  = 1/5\n",
    "valid_portion = 1/5\n",
    "\n",
    "X_train_valid, X_test, y_train_valid, y_test = train_test_split(X, y, test_size=test_portion)\n",
    "\n",
    "X_train, X_valid, y_train, y_valid = train_test_split(X_train_valid, y_train_valid, test_size=valid_portion)\n",
    "\n",
    "print('Dimensions de X_train :', X_train.shape)\n",
    "print('Dimensions de X_valid :', X_valid.shape)\n",
    "print('Dimensions de X_test  :', X_test.shape)\n",
    "\n",
    "print('Dimensions de y_train :', y_train.shape)\n",
    "print('Dimensions de y_valid :', y_valid.shape)\n",
    "print('Dimensions de y_test  :', y_test.shape)"
   ]
  },
  {
   "cell_type": "markdown",
   "id": "YShIFYql2RMl",
   "metadata": {
    "id": "YShIFYql2RMl"
   },
   "source": [
    "### 1.5. Normalisation des covariables"
   ]
  },
  {
   "cell_type": "markdown",
   "id": "b8d6947a",
   "metadata": {},
   "source": [
    "On normalise (centrage-réduction) les covariables :"
   ]
  },
  {
   "cell_type": "code",
   "execution_count": 9,
   "id": "abe535c6",
   "metadata": {
    "id": "abe535c6"
   },
   "outputs": [],
   "source": [
    "scaler = StandardScaler()\n",
    "scaler.fit(X_train)\n",
    "\n",
    "X_train_norm = scaler.transform(X_train)\n",
    "X_valid_norm = scaler.transform(X_valid)\n",
    "X_test_norm  = scaler.transform(X_test)"
   ]
  },
  {
   "cell_type": "markdown",
   "id": "3c417167",
   "metadata": {
    "id": "3c417167"
   },
   "source": [
    "---\n",
    "## 2. DNN\n",
    "---"
   ]
  },
  {
   "cell_type": "markdown",
   "id": "AsoKlq52aSgE",
   "metadata": {
    "id": "AsoKlq52aSgE"
   },
   "source": [
    "### 2.1. Architecture"
   ]
  },
  {
   "cell_type": "code",
   "execution_count": 10,
   "id": "NBXIT_t4zADS",
   "metadata": {
    "colab": {
     "base_uri": "https://localhost:8080/",
     "height": 298
    },
    "executionInfo": {
     "elapsed": 5,
     "status": "ok",
     "timestamp": 1737479556084,
     "user": {
      "displayName": "Vincent Lefieux",
      "userId": "10319107985555801415"
     },
     "user_tz": -60
    },
    "id": "NBXIT_t4zADS",
    "outputId": "05cafb14-237a-498a-adaa-0e39436b6705"
   },
   "outputs": [
    {
     "name": "stdout",
     "output_type": "stream",
     "text": [
      "Model: \"DNN\"\n",
      "_________________________________________________________________\n",
      " Layer (type)                Output Shape              Param #   \n",
      "=================================================================\n",
      " Hidden_layer_1 (Dense)      (None, 50)                2900      \n",
      "                                                                 \n",
      " Dropout_Hidden_layer_1 (Dr  (None, 50)                0         \n",
      " opout)                                                          \n",
      "                                                                 \n",
      " Hidden_layer_2 (Dense)      (None, 30)                1530      \n",
      "                                                                 \n",
      " Dropout_Hidden_layer_2 (Dr  (None, 30)                0         \n",
      " opout)                                                          \n",
      "                                                                 \n",
      " Output_layer (Dense)        (None, 1)                 31        \n",
      "                                                                 \n",
      "=================================================================\n",
      "Total params: 4461 (17.43 KB)\n",
      "Trainable params: 4461 (17.43 KB)\n",
      "Non-trainable params: 0 (0.00 Byte)\n",
      "_________________________________________________________________\n"
     ]
    }
   ],
   "source": [
    "dim_inputs  = (X_train_norm.shape[1],)\n",
    "dim_outputs = 1\n",
    "\n",
    "n_units_hl1 = 50\n",
    "n_units_hl2 = 30\n",
    "\n",
    "dropout_hl1 = 0.2\n",
    "dropout_hl2 = 0.2\n",
    "\n",
    "model = models.Sequential(name='DNN')\n",
    "\n",
    "model.add(layers.Input(shape=dim_inputs, name='Inputs'))\n",
    "\n",
    "model.add(layers.Dense(units=n_units_hl1, activation='relu', name='Hidden_layer_1'))\n",
    "model.add(layers.Dropout(rate=dropout_hl1, name='Dropout_Hidden_layer_1'))\n",
    "\n",
    "model.add(layers.Dense(units=n_units_hl2, activation='relu', name='Hidden_layer_2'))\n",
    "model.add(layers.Dropout(rate=dropout_hl2, name='Dropout_Hidden_layer_2'))\n",
    "\n",
    "model.add(layers.Dense(units=dim_outputs, activation='sigmoid', name='Output_layer'))\n",
    "\n",
    "model.summary()"
   ]
  },
  {
   "cell_type": "markdown",
   "id": "d5ca4833",
   "metadata": {},
   "source": [
    "### 2.2. Optimiseur"
   ]
  },
  {
   "cell_type": "code",
   "execution_count": 11,
   "id": "efc95eab",
   "metadata": {},
   "outputs": [],
   "source": [
    "model.compile(optimizer = 'adam',\n",
    "              loss      = 'binary_crossentropy',\n",
    "              metrics   = ['accuracy'])\n",
    "\n",
    "callback = callbacks.EarlyStopping(monitor              = 'val_loss',\n",
    "                                   mode                 = 'min',\n",
    "                                   patience             = 20,\n",
    "                                   restore_best_weights = True)"
   ]
  },
  {
   "cell_type": "markdown",
   "id": "esidJGKhzqOP",
   "metadata": {
    "id": "esidJGKhzqOP"
   },
   "source": [
    "### 2.3. Entraînement"
   ]
  },
  {
   "cell_type": "code",
   "execution_count": 12,
   "id": "5qGnUuF0zepn",
   "metadata": {
    "id": "5qGnUuF0zepn"
   },
   "outputs": [
    {
     "name": "stdout",
     "output_type": "stream",
     "text": [
      "Epoch 1/200\n",
      "6/6 [==============================] - 0s 23ms/step - loss: 0.6555 - accuracy: 0.6484 - val_loss: 0.5755 - val_accuracy: 0.7989\n",
      "Epoch 2/200\n",
      "6/6 [==============================] - 0s 5ms/step - loss: 0.5697 - accuracy: 0.7517 - val_loss: 0.5133 - val_accuracy: 0.8274\n",
      "Epoch 3/200\n",
      "6/6 [==============================] - 0s 5ms/step - loss: 0.5107 - accuracy: 0.8091 - val_loss: 0.4609 - val_accuracy: 0.8601\n",
      "Epoch 4/200\n",
      "6/6 [==============================] - 0s 4ms/step - loss: 0.4603 - accuracy: 0.8400 - val_loss: 0.4145 - val_accuracy: 0.8764\n",
      "Epoch 5/200\n",
      "6/6 [==============================] - 0s 4ms/step - loss: 0.4174 - accuracy: 0.8604 - val_loss: 0.3729 - val_accuracy: 0.8859\n",
      "Epoch 6/200\n",
      "6/6 [==============================] - 0s 4ms/step - loss: 0.3786 - accuracy: 0.8774 - val_loss: 0.3372 - val_accuracy: 0.8995\n",
      "Epoch 7/200\n",
      "6/6 [==============================] - 0s 4ms/step - loss: 0.3478 - accuracy: 0.8828 - val_loss: 0.3085 - val_accuracy: 0.9049\n",
      "Epoch 8/200\n",
      "6/6 [==============================] - 0s 4ms/step - loss: 0.3244 - accuracy: 0.8937 - val_loss: 0.2861 - val_accuracy: 0.9090\n",
      "Epoch 9/200\n",
      "6/6 [==============================] - 0s 4ms/step - loss: 0.3058 - accuracy: 0.8930 - val_loss: 0.2696 - val_accuracy: 0.9144\n",
      "Epoch 10/200\n",
      "6/6 [==============================] - 0s 4ms/step - loss: 0.2903 - accuracy: 0.8981 - val_loss: 0.2567 - val_accuracy: 0.9158\n",
      "Epoch 11/200\n",
      "6/6 [==============================] - 0s 4ms/step - loss: 0.2845 - accuracy: 0.9029 - val_loss: 0.2471 - val_accuracy: 0.9171\n",
      "Epoch 12/200\n",
      "6/6 [==============================] - 0s 5ms/step - loss: 0.2658 - accuracy: 0.9076 - val_loss: 0.2397 - val_accuracy: 0.9185\n",
      "Epoch 13/200\n",
      "6/6 [==============================] - 0s 4ms/step - loss: 0.2591 - accuracy: 0.9103 - val_loss: 0.2337 - val_accuracy: 0.9198\n",
      "Epoch 14/200\n",
      "6/6 [==============================] - 0s 4ms/step - loss: 0.2455 - accuracy: 0.9154 - val_loss: 0.2291 - val_accuracy: 0.9239\n",
      "Epoch 15/200\n",
      "6/6 [==============================] - 0s 4ms/step - loss: 0.2443 - accuracy: 0.9164 - val_loss: 0.2251 - val_accuracy: 0.9266\n",
      "Epoch 16/200\n",
      "6/6 [==============================] - 0s 5ms/step - loss: 0.2383 - accuracy: 0.9175 - val_loss: 0.2217 - val_accuracy: 0.9280\n",
      "Epoch 17/200\n",
      "6/6 [==============================] - 0s 4ms/step - loss: 0.2341 - accuracy: 0.9175 - val_loss: 0.2183 - val_accuracy: 0.9266\n",
      "Epoch 18/200\n",
      "6/6 [==============================] - 0s 4ms/step - loss: 0.2207 - accuracy: 0.9215 - val_loss: 0.2154 - val_accuracy: 0.9280\n",
      "Epoch 19/200\n",
      "6/6 [==============================] - 0s 4ms/step - loss: 0.2271 - accuracy: 0.9229 - val_loss: 0.2132 - val_accuracy: 0.9280\n",
      "Epoch 20/200\n",
      "6/6 [==============================] - 0s 4ms/step - loss: 0.2223 - accuracy: 0.9249 - val_loss: 0.2111 - val_accuracy: 0.9266\n",
      "Epoch 21/200\n",
      "6/6 [==============================] - 0s 4ms/step - loss: 0.2128 - accuracy: 0.9256 - val_loss: 0.2092 - val_accuracy: 0.9239\n",
      "Epoch 22/200\n",
      "6/6 [==============================] - 0s 4ms/step - loss: 0.2098 - accuracy: 0.9280 - val_loss: 0.2073 - val_accuracy: 0.9239\n",
      "Epoch 23/200\n",
      "6/6 [==============================] - 0s 4ms/step - loss: 0.2110 - accuracy: 0.9283 - val_loss: 0.2053 - val_accuracy: 0.9239\n",
      "Epoch 24/200\n",
      "6/6 [==============================] - 0s 4ms/step - loss: 0.2058 - accuracy: 0.9273 - val_loss: 0.2028 - val_accuracy: 0.9239\n",
      "Epoch 25/200\n",
      "6/6 [==============================] - 0s 4ms/step - loss: 0.2004 - accuracy: 0.9256 - val_loss: 0.2008 - val_accuracy: 0.9266\n",
      "Epoch 26/200\n",
      "6/6 [==============================] - 0s 4ms/step - loss: 0.2036 - accuracy: 0.9287 - val_loss: 0.1992 - val_accuracy: 0.9266\n",
      "Epoch 27/200\n",
      "6/6 [==============================] - 0s 5ms/step - loss: 0.1949 - accuracy: 0.9317 - val_loss: 0.1979 - val_accuracy: 0.9266\n",
      "Epoch 28/200\n",
      "6/6 [==============================] - 0s 5ms/step - loss: 0.2012 - accuracy: 0.9304 - val_loss: 0.1963 - val_accuracy: 0.9266\n",
      "Epoch 29/200\n",
      "6/6 [==============================] - 0s 8ms/step - loss: 0.1941 - accuracy: 0.9324 - val_loss: 0.1949 - val_accuracy: 0.9280\n",
      "Epoch 30/200\n",
      "6/6 [==============================] - 0s 5ms/step - loss: 0.1808 - accuracy: 0.9344 - val_loss: 0.1932 - val_accuracy: 0.9293\n",
      "Epoch 31/200\n",
      "6/6 [==============================] - 0s 5ms/step - loss: 0.1863 - accuracy: 0.9317 - val_loss: 0.1924 - val_accuracy: 0.9321\n",
      "Epoch 32/200\n",
      "6/6 [==============================] - 0s 5ms/step - loss: 0.1833 - accuracy: 0.9334 - val_loss: 0.1911 - val_accuracy: 0.9307\n",
      "Epoch 33/200\n",
      "6/6 [==============================] - 0s 4ms/step - loss: 0.1832 - accuracy: 0.9361 - val_loss: 0.1899 - val_accuracy: 0.9293\n",
      "Epoch 34/200\n",
      "6/6 [==============================] - 0s 4ms/step - loss: 0.1773 - accuracy: 0.9378 - val_loss: 0.1889 - val_accuracy: 0.9307\n",
      "Epoch 35/200\n",
      "6/6 [==============================] - 0s 4ms/step - loss: 0.1855 - accuracy: 0.9341 - val_loss: 0.1878 - val_accuracy: 0.9307\n",
      "Epoch 36/200\n",
      "6/6 [==============================] - 0s 5ms/step - loss: 0.1752 - accuracy: 0.9358 - val_loss: 0.1866 - val_accuracy: 0.9307\n",
      "Epoch 37/200\n",
      "6/6 [==============================] - 0s 4ms/step - loss: 0.1741 - accuracy: 0.9382 - val_loss: 0.1855 - val_accuracy: 0.9307\n",
      "Epoch 38/200\n",
      "6/6 [==============================] - 0s 4ms/step - loss: 0.1805 - accuracy: 0.9334 - val_loss: 0.1846 - val_accuracy: 0.9307\n",
      "Epoch 39/200\n",
      "6/6 [==============================] - 0s 5ms/step - loss: 0.1722 - accuracy: 0.9344 - val_loss: 0.1841 - val_accuracy: 0.9321\n",
      "Epoch 40/200\n",
      "6/6 [==============================] - 0s 4ms/step - loss: 0.1734 - accuracy: 0.9389 - val_loss: 0.1837 - val_accuracy: 0.9321\n",
      "Epoch 41/200\n",
      "6/6 [==============================] - 0s 4ms/step - loss: 0.1768 - accuracy: 0.9361 - val_loss: 0.1836 - val_accuracy: 0.9334\n",
      "Epoch 42/200\n",
      "6/6 [==============================] - 0s 4ms/step - loss: 0.1675 - accuracy: 0.9382 - val_loss: 0.1833 - val_accuracy: 0.9334\n",
      "Epoch 43/200\n",
      "6/6 [==============================] - 0s 5ms/step - loss: 0.1670 - accuracy: 0.9395 - val_loss: 0.1824 - val_accuracy: 0.9334\n",
      "Epoch 44/200\n",
      "6/6 [==============================] - 0s 4ms/step - loss: 0.1644 - accuracy: 0.9375 - val_loss: 0.1813 - val_accuracy: 0.9348\n",
      "Epoch 45/200\n",
      "6/6 [==============================] - 0s 4ms/step - loss: 0.1602 - accuracy: 0.9436 - val_loss: 0.1805 - val_accuracy: 0.9389\n",
      "Epoch 46/200\n",
      "6/6 [==============================] - 0s 4ms/step - loss: 0.1627 - accuracy: 0.9426 - val_loss: 0.1801 - val_accuracy: 0.9375\n",
      "Epoch 47/200\n",
      "6/6 [==============================] - 0s 4ms/step - loss: 0.1638 - accuracy: 0.9399 - val_loss: 0.1806 - val_accuracy: 0.9361\n",
      "Epoch 48/200\n",
      "6/6 [==============================] - 0s 4ms/step - loss: 0.1615 - accuracy: 0.9429 - val_loss: 0.1804 - val_accuracy: 0.9361\n",
      "Epoch 49/200\n",
      "6/6 [==============================] - 0s 5ms/step - loss: 0.1566 - accuracy: 0.9474 - val_loss: 0.1798 - val_accuracy: 0.9361\n",
      "Epoch 50/200\n",
      "6/6 [==============================] - 0s 4ms/step - loss: 0.1624 - accuracy: 0.9436 - val_loss: 0.1789 - val_accuracy: 0.9389\n",
      "Epoch 51/200\n",
      "6/6 [==============================] - 0s 4ms/step - loss: 0.1584 - accuracy: 0.9429 - val_loss: 0.1786 - val_accuracy: 0.9389\n",
      "Epoch 52/200\n",
      "6/6 [==============================] - 0s 4ms/step - loss: 0.1550 - accuracy: 0.9477 - val_loss: 0.1782 - val_accuracy: 0.9389\n",
      "Epoch 53/200\n",
      "6/6 [==============================] - 0s 4ms/step - loss: 0.1542 - accuracy: 0.9477 - val_loss: 0.1784 - val_accuracy: 0.9375\n",
      "Epoch 54/200\n",
      "6/6 [==============================] - 0s 4ms/step - loss: 0.1480 - accuracy: 0.9484 - val_loss: 0.1781 - val_accuracy: 0.9375\n",
      "Epoch 55/200\n",
      "6/6 [==============================] - 0s 4ms/step - loss: 0.1550 - accuracy: 0.9450 - val_loss: 0.1772 - val_accuracy: 0.9389\n",
      "Epoch 56/200\n",
      "6/6 [==============================] - 0s 9ms/step - loss: 0.1529 - accuracy: 0.9460 - val_loss: 0.1767 - val_accuracy: 0.9375\n",
      "Epoch 57/200\n",
      "6/6 [==============================] - 0s 5ms/step - loss: 0.1542 - accuracy: 0.9457 - val_loss: 0.1760 - val_accuracy: 0.9389\n",
      "Epoch 58/200\n",
      "6/6 [==============================] - 0s 4ms/step - loss: 0.1504 - accuracy: 0.9436 - val_loss: 0.1754 - val_accuracy: 0.9389\n",
      "Epoch 59/200\n",
      "6/6 [==============================] - 0s 4ms/step - loss: 0.1496 - accuracy: 0.9484 - val_loss: 0.1749 - val_accuracy: 0.9389\n",
      "Epoch 60/200\n",
      "6/6 [==============================] - 0s 4ms/step - loss: 0.1503 - accuracy: 0.9443 - val_loss: 0.1751 - val_accuracy: 0.9429\n",
      "Epoch 61/200\n",
      "6/6 [==============================] - 0s 4ms/step - loss: 0.1480 - accuracy: 0.9484 - val_loss: 0.1762 - val_accuracy: 0.9389\n",
      "Epoch 62/200\n",
      "6/6 [==============================] - 0s 4ms/step - loss: 0.1522 - accuracy: 0.9470 - val_loss: 0.1762 - val_accuracy: 0.9402\n",
      "Epoch 63/200\n",
      "6/6 [==============================] - 0s 4ms/step - loss: 0.1520 - accuracy: 0.9440 - val_loss: 0.1759 - val_accuracy: 0.9389\n",
      "Epoch 64/200\n",
      "6/6 [==============================] - 0s 4ms/step - loss: 0.1506 - accuracy: 0.9457 - val_loss: 0.1756 - val_accuracy: 0.9375\n",
      "Epoch 65/200\n",
      "6/6 [==============================] - 0s 4ms/step - loss: 0.1512 - accuracy: 0.9484 - val_loss: 0.1755 - val_accuracy: 0.9348\n",
      "Epoch 66/200\n",
      "6/6 [==============================] - 0s 4ms/step - loss: 0.1376 - accuracy: 0.9511 - val_loss: 0.1752 - val_accuracy: 0.9375\n",
      "Epoch 67/200\n",
      "6/6 [==============================] - 0s 4ms/step - loss: 0.1367 - accuracy: 0.9470 - val_loss: 0.1747 - val_accuracy: 0.9375\n",
      "Epoch 68/200\n",
      "6/6 [==============================] - 0s 4ms/step - loss: 0.1463 - accuracy: 0.9507 - val_loss: 0.1747 - val_accuracy: 0.9375\n",
      "Epoch 69/200\n",
      "6/6 [==============================] - 0s 4ms/step - loss: 0.1403 - accuracy: 0.9507 - val_loss: 0.1743 - val_accuracy: 0.9375\n",
      "Epoch 70/200\n",
      "6/6 [==============================] - 0s 4ms/step - loss: 0.1366 - accuracy: 0.9511 - val_loss: 0.1738 - val_accuracy: 0.9389\n",
      "Epoch 71/200\n",
      "6/6 [==============================] - 0s 4ms/step - loss: 0.1410 - accuracy: 0.9463 - val_loss: 0.1737 - val_accuracy: 0.9375\n",
      "Epoch 72/200\n",
      "6/6 [==============================] - 0s 4ms/step - loss: 0.1440 - accuracy: 0.9490 - val_loss: 0.1730 - val_accuracy: 0.9389\n",
      "Epoch 73/200\n",
      "6/6 [==============================] - 0s 4ms/step - loss: 0.1442 - accuracy: 0.9470 - val_loss: 0.1723 - val_accuracy: 0.9389\n",
      "Epoch 74/200\n",
      "6/6 [==============================] - 0s 4ms/step - loss: 0.1402 - accuracy: 0.9480 - val_loss: 0.1719 - val_accuracy: 0.9402\n",
      "Epoch 75/200\n",
      "6/6 [==============================] - 0s 4ms/step - loss: 0.1385 - accuracy: 0.9511 - val_loss: 0.1717 - val_accuracy: 0.9389\n",
      "Epoch 76/200\n",
      "6/6 [==============================] - 0s 4ms/step - loss: 0.1341 - accuracy: 0.9501 - val_loss: 0.1719 - val_accuracy: 0.9375\n",
      "Epoch 77/200\n",
      "6/6 [==============================] - 0s 4ms/step - loss: 0.1362 - accuracy: 0.9504 - val_loss: 0.1717 - val_accuracy: 0.9375\n",
      "Epoch 78/200\n",
      "6/6 [==============================] - 0s 4ms/step - loss: 0.1357 - accuracy: 0.9511 - val_loss: 0.1711 - val_accuracy: 0.9389\n",
      "Epoch 79/200\n",
      "6/6 [==============================] - 0s 4ms/step - loss: 0.1325 - accuracy: 0.9507 - val_loss: 0.1712 - val_accuracy: 0.9389\n",
      "Epoch 80/200\n",
      "6/6 [==============================] - 0s 4ms/step - loss: 0.1341 - accuracy: 0.9521 - val_loss: 0.1712 - val_accuracy: 0.9402\n",
      "Epoch 81/200\n",
      "6/6 [==============================] - 0s 4ms/step - loss: 0.1340 - accuracy: 0.9511 - val_loss: 0.1713 - val_accuracy: 0.9389\n",
      "Epoch 82/200\n",
      "6/6 [==============================] - 0s 4ms/step - loss: 0.1317 - accuracy: 0.9538 - val_loss: 0.1711 - val_accuracy: 0.9402\n",
      "Epoch 83/200\n",
      "6/6 [==============================] - 0s 4ms/step - loss: 0.1287 - accuracy: 0.9555 - val_loss: 0.1710 - val_accuracy: 0.9375\n",
      "Epoch 84/200\n",
      "6/6 [==============================] - 0s 4ms/step - loss: 0.1387 - accuracy: 0.9501 - val_loss: 0.1714 - val_accuracy: 0.9402\n",
      "Epoch 85/200\n",
      "6/6 [==============================] - 0s 4ms/step - loss: 0.1330 - accuracy: 0.9531 - val_loss: 0.1711 - val_accuracy: 0.9402\n",
      "Epoch 86/200\n",
      "6/6 [==============================] - 0s 4ms/step - loss: 0.1303 - accuracy: 0.9558 - val_loss: 0.1707 - val_accuracy: 0.9416\n",
      "Epoch 87/200\n",
      "6/6 [==============================] - 0s 4ms/step - loss: 0.1341 - accuracy: 0.9558 - val_loss: 0.1703 - val_accuracy: 0.9416\n",
      "Epoch 88/200\n",
      "6/6 [==============================] - 0s 4ms/step - loss: 0.1245 - accuracy: 0.9558 - val_loss: 0.1688 - val_accuracy: 0.9416\n",
      "Epoch 89/200\n",
      "6/6 [==============================] - 0s 4ms/step - loss: 0.1387 - accuracy: 0.9504 - val_loss: 0.1682 - val_accuracy: 0.9416\n",
      "Epoch 90/200\n",
      "6/6 [==============================] - 0s 4ms/step - loss: 0.1251 - accuracy: 0.9552 - val_loss: 0.1679 - val_accuracy: 0.9416\n",
      "Epoch 91/200\n",
      "6/6 [==============================] - 0s 4ms/step - loss: 0.1273 - accuracy: 0.9541 - val_loss: 0.1674 - val_accuracy: 0.9429\n",
      "Epoch 92/200\n",
      "6/6 [==============================] - 0s 4ms/step - loss: 0.1306 - accuracy: 0.9558 - val_loss: 0.1672 - val_accuracy: 0.9416\n",
      "Epoch 93/200\n",
      "6/6 [==============================] - 0s 4ms/step - loss: 0.1312 - accuracy: 0.9511 - val_loss: 0.1668 - val_accuracy: 0.9429\n",
      "Epoch 94/200\n",
      "6/6 [==============================] - 0s 8ms/step - loss: 0.1257 - accuracy: 0.9572 - val_loss: 0.1675 - val_accuracy: 0.9416\n",
      "Epoch 95/200\n",
      "6/6 [==============================] - 0s 5ms/step - loss: 0.1247 - accuracy: 0.9569 - val_loss: 0.1674 - val_accuracy: 0.9402\n",
      "Epoch 96/200\n",
      "6/6 [==============================] - 0s 4ms/step - loss: 0.1240 - accuracy: 0.9555 - val_loss: 0.1666 - val_accuracy: 0.9429\n",
      "Epoch 97/200\n",
      "6/6 [==============================] - 0s 4ms/step - loss: 0.1233 - accuracy: 0.9541 - val_loss: 0.1678 - val_accuracy: 0.9402\n",
      "Epoch 98/200\n",
      "6/6 [==============================] - 0s 4ms/step - loss: 0.1168 - accuracy: 0.9586 - val_loss: 0.1679 - val_accuracy: 0.9416\n",
      "Epoch 99/200\n",
      "6/6 [==============================] - 0s 4ms/step - loss: 0.1265 - accuracy: 0.9596 - val_loss: 0.1675 - val_accuracy: 0.9416\n",
      "Epoch 100/200\n",
      "6/6 [==============================] - 0s 4ms/step - loss: 0.1202 - accuracy: 0.9569 - val_loss: 0.1672 - val_accuracy: 0.9416\n",
      "Epoch 101/200\n",
      "6/6 [==============================] - 0s 4ms/step - loss: 0.1222 - accuracy: 0.9565 - val_loss: 0.1672 - val_accuracy: 0.9429\n",
      "Epoch 102/200\n",
      "6/6 [==============================] - 0s 4ms/step - loss: 0.1213 - accuracy: 0.9572 - val_loss: 0.1675 - val_accuracy: 0.9443\n",
      "Epoch 103/200\n",
      "6/6 [==============================] - 0s 4ms/step - loss: 0.1215 - accuracy: 0.9592 - val_loss: 0.1687 - val_accuracy: 0.9443\n",
      "Epoch 104/200\n",
      "6/6 [==============================] - 0s 4ms/step - loss: 0.1149 - accuracy: 0.9579 - val_loss: 0.1701 - val_accuracy: 0.9429\n",
      "Epoch 105/200\n",
      "6/6 [==============================] - 0s 4ms/step - loss: 0.1152 - accuracy: 0.9603 - val_loss: 0.1706 - val_accuracy: 0.9429\n",
      "Epoch 106/200\n",
      "6/6 [==============================] - 0s 4ms/step - loss: 0.1232 - accuracy: 0.9579 - val_loss: 0.1683 - val_accuracy: 0.9429\n",
      "Epoch 107/200\n",
      "6/6 [==============================] - 0s 4ms/step - loss: 0.1251 - accuracy: 0.9589 - val_loss: 0.1677 - val_accuracy: 0.9443\n",
      "Epoch 108/200\n",
      "6/6 [==============================] - 0s 4ms/step - loss: 0.1225 - accuracy: 0.9535 - val_loss: 0.1679 - val_accuracy: 0.9429\n",
      "Epoch 109/200\n",
      "6/6 [==============================] - 0s 4ms/step - loss: 0.1146 - accuracy: 0.9592 - val_loss: 0.1680 - val_accuracy: 0.9429\n",
      "Epoch 110/200\n",
      "6/6 [==============================] - 0s 4ms/step - loss: 0.1200 - accuracy: 0.9575 - val_loss: 0.1682 - val_accuracy: 0.9429\n",
      "Epoch 111/200\n",
      "6/6 [==============================] - 0s 4ms/step - loss: 0.1194 - accuracy: 0.9555 - val_loss: 0.1690 - val_accuracy: 0.9429\n",
      "Epoch 112/200\n",
      "6/6 [==============================] - 0s 4ms/step - loss: 0.1100 - accuracy: 0.9616 - val_loss: 0.1688 - val_accuracy: 0.9443\n",
      "Epoch 113/200\n",
      "6/6 [==============================] - 0s 4ms/step - loss: 0.1115 - accuracy: 0.9633 - val_loss: 0.1689 - val_accuracy: 0.9457\n",
      "Epoch 114/200\n",
      "6/6 [==============================] - 0s 4ms/step - loss: 0.1165 - accuracy: 0.9603 - val_loss: 0.1685 - val_accuracy: 0.9470\n",
      "Epoch 115/200\n",
      "6/6 [==============================] - 0s 4ms/step - loss: 0.1114 - accuracy: 0.9603 - val_loss: 0.1685 - val_accuracy: 0.9443\n",
      "Epoch 116/200\n",
      "6/6 [==============================] - 0s 5ms/step - loss: 0.1108 - accuracy: 0.9606 - val_loss: 0.1687 - val_accuracy: 0.9402\n"
     ]
    }
   ],
   "source": [
    "hist = model.fit(X_train_norm,\n",
    "                 y_train,\n",
    "                 batch_size      = 500,\n",
    "                 epochs          = 200,\n",
    "                 validation_data = (X_valid_norm, y_valid),\n",
    "                 callbacks       = [callback],\n",
    "                 verbose         = 1)"
   ]
  },
  {
   "cell_type": "markdown",
   "id": "xDVBc_8e2RMm",
   "metadata": {
    "id": "xDVBc_8e2RMm"
   },
   "source": [
    "### 2.4. Prévisions"
   ]
  },
  {
   "cell_type": "code",
   "execution_count": 13,
   "id": "KKPrPqs7vrle",
   "metadata": {
    "colab": {
     "base_uri": "https://localhost:8080/"
    },
    "executionInfo": {
     "elapsed": 145,
     "status": "ok",
     "timestamp": 1737479580147,
     "user": {
      "displayName": "Vincent Lefieux",
      "userId": "10319107985555801415"
     },
     "user_tz": -60
    },
    "id": "KKPrPqs7vrle",
    "outputId": "0827062b-7451-47f9-b63f-495dd2e761c0"
   },
   "outputs": [
    {
     "name": "stdout",
     "output_type": "stream",
     "text": [
      "29/29 [==============================] - 0s 500us/step\n"
     ]
    },
    {
     "data": {
      "text/plain": [
       "array([[1.1344596e-01],\n",
       "       [1.4620487e-08],\n",
       "       [9.9357945e-01],\n",
       "       [4.1138939e-18],\n",
       "       [4.9921930e-01]], dtype=float32)"
      ]
     },
     "execution_count": 13,
     "metadata": {},
     "output_type": "execute_result"
    }
   ],
   "source": [
    "y_test_pred = model.predict(X_test_norm)\n",
    "y_test_pred[0:5]"
   ]
  },
  {
   "cell_type": "code",
   "execution_count": 14,
   "id": "90b7ced3",
   "metadata": {},
   "outputs": [
    {
     "data": {
      "text/plain": [
       "array([[0],\n",
       "       [0],\n",
       "       [1],\n",
       "       [0],\n",
       "       [0]])"
      ]
     },
     "execution_count": 14,
     "metadata": {},
     "output_type": "execute_result"
    }
   ],
   "source": [
    "y_test_pred_classes = (y_test_pred > 0.5).astype(int)\n",
    "y_test_pred_classes[0:5]"
   ]
  },
  {
   "cell_type": "code",
   "execution_count": 15,
   "id": "07e48fda",
   "metadata": {},
   "outputs": [
    {
     "name": "stdout",
     "output_type": "stream",
     "text": [
      "Entropie test   : 0.1625\n",
      "Exactitude test : 0.9468\n"
     ]
    }
   ],
   "source": [
    "score_test = model.evaluate(X_test_norm, y_test, verbose=0)\n",
    "print(f'Entropie test   : {score_test[0]:4.4f}')\n",
    "print(f'Exactitude test : {score_test[1]:4.4f}')"
   ]
  }
 ],
 "metadata": {
  "colab": {
   "provenance": [
    {
     "file_id": "1ju9vnC9zihIkNoVWtuP8TIWd2_b0aR55",
     "timestamp": 1707309158183
    }
   ]
  },
  "kernelspec": {
   "display_name": "base",
   "language": "python",
   "name": "python3"
  },
  "language_info": {
   "codemirror_mode": {
    "name": "ipython",
    "version": 3
   },
   "file_extension": ".py",
   "mimetype": "text/x-python",
   "name": "python",
   "nbconvert_exporter": "python",
   "pygments_lexer": "ipython3",
   "version": "3.11.8"
  },
  "toc": {
   "base_numbering": 1,
   "nav_menu": {},
   "number_sections": true,
   "sideBar": true,
   "skip_h1_title": false,
   "title_cell": "Table des matières",
   "title_sidebar": "",
   "toc_cell": false,
   "toc_position": {},
   "toc_section_display": true,
   "toc_window_display": true
  }
 },
 "nbformat": 4,
 "nbformat_minor": 5
}
